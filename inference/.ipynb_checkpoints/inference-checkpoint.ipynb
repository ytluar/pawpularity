{
 "cells": [
  {
   "cell_type": "code",
   "execution_count": 1,
   "id": "a520925e",
   "metadata": {
    "_cell_guid": "b1076dfc-b9ad-4769-8c92-a6c4dae69d19",
    "_uuid": "8f2839f25d086af736a60e9eeb907d3b93b6e0e5",
    "execution": {
     "iopub.execute_input": "2022-01-14T04:31:40.516439Z",
     "iopub.status.busy": "2022-01-14T04:31:40.514927Z",
     "iopub.status.idle": "2022-01-14T04:32:44.148040Z",
     "shell.execute_reply": "2022-01-14T04:32:44.148569Z",
     "shell.execute_reply.started": "2022-01-13T20:36:47.968726Z"
    },
    "papermill": {
     "duration": 63.655187,
     "end_time": "2022-01-14T04:32:44.148901",
     "exception": false,
     "start_time": "2022-01-14T04:31:40.493714",
     "status": "completed"
    },
    "tags": []
   },
   "outputs": [
    {
     "name": "stdout",
     "output_type": "stream",
     "text": [
      "Processing /kaggle/input/pawpularset/Keras_Applications-1.0.8-py3-none-any.whl\r\n",
      "Requirement already satisfied: numpy>=1.9.1 in /opt/conda/lib/python3.7/site-packages (from Keras-Applications==1.0.8) (1.19.5)\r\n",
      "Requirement already satisfied: h5py in /opt/conda/lib/python3.7/site-packages (from Keras-Applications==1.0.8) (3.1.0)\r\n",
      "Requirement already satisfied: cached-property in /opt/conda/lib/python3.7/site-packages (from h5py->Keras-Applications==1.0.8) (1.5.2)\r\n",
      "Installing collected packages: Keras-Applications\r\n",
      "Successfully installed Keras-Applications-1.0.8\r\n",
      "\u001b[33mWARNING: Running pip as the 'root' user can result in broken permissions and conflicting behaviour with the system package manager. It is recommended to use a virtual environment instead: https://pip.pypa.io/warnings/venv\u001b[0m\r\n",
      "Processing /kaggle/input/pawpularset/efficientnet-1.1.1-py3-none-any.whl\r\n",
      "Requirement already satisfied: scikit-image in /opt/conda/lib/python3.7/site-packages (from efficientnet==1.1.1) (0.18.3)\r\n",
      "Requirement already satisfied: keras-applications<=1.0.8,>=1.0.7 in /opt/conda/lib/python3.7/site-packages (from efficientnet==1.1.1) (1.0.8)\r\n",
      "Requirement already satisfied: h5py in /opt/conda/lib/python3.7/site-packages (from keras-applications<=1.0.8,>=1.0.7->efficientnet==1.1.1) (3.1.0)\r\n",
      "Requirement already satisfied: numpy>=1.9.1 in /opt/conda/lib/python3.7/site-packages (from keras-applications<=1.0.8,>=1.0.7->efficientnet==1.1.1) (1.19.5)\r\n",
      "Requirement already satisfied: scipy>=1.0.1 in /opt/conda/lib/python3.7/site-packages (from scikit-image->efficientnet==1.1.1) (1.7.2)\r\n",
      "Requirement already satisfied: matplotlib!=3.0.0,>=2.0.0 in /opt/conda/lib/python3.7/site-packages (from scikit-image->efficientnet==1.1.1) (3.5.0)\r\n",
      "Requirement already satisfied: pillow!=7.1.0,!=7.1.1,>=4.3.0 in /opt/conda/lib/python3.7/site-packages (from scikit-image->efficientnet==1.1.1) (8.2.0)\r\n",
      "Requirement already satisfied: PyWavelets>=1.1.1 in /opt/conda/lib/python3.7/site-packages (from scikit-image->efficientnet==1.1.1) (1.2.0)\r\n",
      "Requirement already satisfied: tifffile>=2019.7.26 in /opt/conda/lib/python3.7/site-packages (from scikit-image->efficientnet==1.1.1) (2021.11.2)\r\n",
      "Requirement already satisfied: imageio>=2.3.0 in /opt/conda/lib/python3.7/site-packages (from scikit-image->efficientnet==1.1.1) (2.9.0)\r\n",
      "Requirement already satisfied: networkx>=2.0 in /opt/conda/lib/python3.7/site-packages (from scikit-image->efficientnet==1.1.1) (2.6.3)\r\n",
      "Requirement already satisfied: kiwisolver>=1.0.1 in /opt/conda/lib/python3.7/site-packages (from matplotlib!=3.0.0,>=2.0.0->scikit-image->efficientnet==1.1.1) (1.3.2)\r\n",
      "Requirement already satisfied: packaging>=20.0 in /opt/conda/lib/python3.7/site-packages (from matplotlib!=3.0.0,>=2.0.0->scikit-image->efficientnet==1.1.1) (21.0)\r\n",
      "Requirement already satisfied: setuptools-scm>=4 in /opt/conda/lib/python3.7/site-packages (from matplotlib!=3.0.0,>=2.0.0->scikit-image->efficientnet==1.1.1) (6.3.2)\r\n",
      "Requirement already satisfied: python-dateutil>=2.7 in /opt/conda/lib/python3.7/site-packages (from matplotlib!=3.0.0,>=2.0.0->scikit-image->efficientnet==1.1.1) (2.8.0)\r\n",
      "Requirement already satisfied: cycler>=0.10 in /opt/conda/lib/python3.7/site-packages (from matplotlib!=3.0.0,>=2.0.0->scikit-image->efficientnet==1.1.1) (0.11.0)\r\n",
      "Requirement already satisfied: fonttools>=4.22.0 in /opt/conda/lib/python3.7/site-packages (from matplotlib!=3.0.0,>=2.0.0->scikit-image->efficientnet==1.1.1) (4.28.2)\r\n",
      "Requirement already satisfied: pyparsing>=2.2.1 in /opt/conda/lib/python3.7/site-packages (from matplotlib!=3.0.0,>=2.0.0->scikit-image->efficientnet==1.1.1) (3.0.6)\r\n",
      "Requirement already satisfied: cached-property in /opt/conda/lib/python3.7/site-packages (from h5py->keras-applications<=1.0.8,>=1.0.7->efficientnet==1.1.1) (1.5.2)\r\n",
      "Requirement already satisfied: six>=1.5 in /opt/conda/lib/python3.7/site-packages (from python-dateutil>=2.7->matplotlib!=3.0.0,>=2.0.0->scikit-image->efficientnet==1.1.1) (1.16.0)\r\n",
      "Requirement already satisfied: tomli>=1.0.0 in /opt/conda/lib/python3.7/site-packages (from setuptools-scm>=4->matplotlib!=3.0.0,>=2.0.0->scikit-image->efficientnet==1.1.1) (1.2.2)\r\n",
      "Requirement already satisfied: setuptools in /opt/conda/lib/python3.7/site-packages (from setuptools-scm>=4->matplotlib!=3.0.0,>=2.0.0->scikit-image->efficientnet==1.1.1) (59.1.1)\r\n",
      "Installing collected packages: efficientnet\r\n",
      "Successfully installed efficientnet-1.1.1\r\n",
      "\u001b[33mWARNING: Running pip as the 'root' user can result in broken permissions and conflicting behaviour with the system package manager. It is recommended to use a virtual environment instead: https://pip.pypa.io/warnings/venv\u001b[0m\r\n"
     ]
    }
   ],
   "source": [
    "# This Python 3 environment comes with many helpful analytics libraries installed\n",
    "# It is defined by the kaggle/python Docker image: https://github.com/kaggle/docker-python\n",
    "# For example, here's several helpful packages to load\n",
    "\n",
    "import numpy as np # linear algebra\n",
    "import pandas as pd # data processing, CSV file I/O (e.g. pd.read_csv)\n",
    "import tensorflow as tf\n",
    "import tensorflow.keras.backend as K\n",
    "\n",
    "!pip install '../input/pawpularset/Keras_Applications-1.0.8-py3-none-any.whl'\n",
    "!pip install '../input/pawpularset/efficientnet-1.1.1-py3-none-any.whl'\n",
    "import efficientnet.tfkeras as efn\n",
    "# Input data files are available in the read-only \"../input/\" directory\n",
    "# For example, running this (by clicking run or pressing Shift+Enter) will list all files under the input directory\n",
    "\n",
    "import os\n",
    "\n",
    "import gc"
   ]
  },
  {
   "cell_type": "markdown",
   "id": "final-burke",
   "metadata": {},
   "source": [
    "# swin_384_large"
   ]
  },
  {
   "cell_type": "code",
   "execution_count": 2,
   "id": "5cf08332",
   "metadata": {
    "execution": {
     "iopub.execute_input": "2022-01-14T04:32:44.195652Z",
     "iopub.status.busy": "2022-01-14T04:32:44.195079Z",
     "iopub.status.idle": "2022-01-14T04:32:46.655633Z",
     "shell.execute_reply": "2022-01-14T04:32:46.654951Z",
     "shell.execute_reply.started": "2021-12-21T17:13:46.588222Z"
    },
    "papermill": {
     "duration": 2.487573,
     "end_time": "2022-01-14T04:32:46.655807",
     "exception": false,
     "start_time": "2022-01-14T04:32:44.168234",
     "status": "completed"
    },
    "tags": []
   },
   "outputs": [
    {
     "name": "stdout",
     "output_type": "stream",
     "text": [
      "['/kaggle/input/petfinder-pawpularity-score/test/c978013571258ed6d4637f6e8cc9d6a3.jpg', '/kaggle/input/petfinder-pawpularity-score/test/4e429cead1848a298432a0acad014c9d.jpg', '/kaggle/input/petfinder-pawpularity-score/test/43a2262d7738e3d420d453815151079e.jpg', '/kaggle/input/petfinder-pawpularity-score/test/8f49844c382931444e68dffbe20228f4.jpg', '/kaggle/input/petfinder-pawpularity-score/test/4128bae22183829d2b5fea10effdb0c3.jpg', '/kaggle/input/petfinder-pawpularity-score/test/80bc3ccafcc51b66303c2c263aa38486.jpg', '/kaggle/input/petfinder-pawpularity-score/test/e0de453c1bffc20c22b072b34b54e50f.jpg', '/kaggle/input/petfinder-pawpularity-score/test/b03f7041962238a7c9d6537e22f9b017.jpg']\n",
      "['/kaggle/input/petfinder-pawpularity-score/test/4128bae22183829d2b5fea10effdb0c3.jpg', '/kaggle/input/petfinder-pawpularity-score/test/43a2262d7738e3d420d453815151079e.jpg', '/kaggle/input/petfinder-pawpularity-score/test/4e429cead1848a298432a0acad014c9d.jpg', '/kaggle/input/petfinder-pawpularity-score/test/80bc3ccafcc51b66303c2c263aa38486.jpg', '/kaggle/input/petfinder-pawpularity-score/test/8f49844c382931444e68dffbe20228f4.jpg', '/kaggle/input/petfinder-pawpularity-score/test/b03f7041962238a7c9d6537e22f9b017.jpg', '/kaggle/input/petfinder-pawpularity-score/test/c978013571258ed6d4637f6e8cc9d6a3.jpg', '/kaggle/input/petfinder-pawpularity-score/test/e0de453c1bffc20c22b072b34b54e50f.jpg']\n"
     ]
    },
    {
     "name": "stderr",
     "output_type": "stream",
     "text": [
      "2022-01-14 04:32:44.255242: I tensorflow/stream_executor/cuda/cuda_gpu_executor.cc:937] successful NUMA node read from SysFS had negative value (-1), but there must be at least one NUMA node, so returning NUMA node zero\n",
      "2022-01-14 04:32:44.345078: I tensorflow/stream_executor/cuda/cuda_gpu_executor.cc:937] successful NUMA node read from SysFS had negative value (-1), but there must be at least one NUMA node, so returning NUMA node zero\n",
      "2022-01-14 04:32:44.345925: I tensorflow/stream_executor/cuda/cuda_gpu_executor.cc:937] successful NUMA node read from SysFS had negative value (-1), but there must be at least one NUMA node, so returning NUMA node zero\n",
      "2022-01-14 04:32:44.349755: I tensorflow/core/platform/cpu_feature_guard.cc:142] This TensorFlow binary is optimized with oneAPI Deep Neural Network Library (oneDNN) to use the following CPU instructions in performance-critical operations:  AVX2 AVX512F FMA\n",
      "To enable them in other operations, rebuild TensorFlow with the appropriate compiler flags.\n",
      "2022-01-14 04:32:44.350786: I tensorflow/stream_executor/cuda/cuda_gpu_executor.cc:937] successful NUMA node read from SysFS had negative value (-1), but there must be at least one NUMA node, so returning NUMA node zero\n",
      "2022-01-14 04:32:44.351808: I tensorflow/stream_executor/cuda/cuda_gpu_executor.cc:937] successful NUMA node read from SysFS had negative value (-1), but there must be at least one NUMA node, so returning NUMA node zero\n",
      "2022-01-14 04:32:44.352570: I tensorflow/stream_executor/cuda/cuda_gpu_executor.cc:937] successful NUMA node read from SysFS had negative value (-1), but there must be at least one NUMA node, so returning NUMA node zero\n",
      "2022-01-14 04:32:46.206107: I tensorflow/stream_executor/cuda/cuda_gpu_executor.cc:937] successful NUMA node read from SysFS had negative value (-1), but there must be at least one NUMA node, so returning NUMA node zero\n",
      "2022-01-14 04:32:46.206937: I tensorflow/stream_executor/cuda/cuda_gpu_executor.cc:937] successful NUMA node read from SysFS had negative value (-1), but there must be at least one NUMA node, so returning NUMA node zero\n",
      "2022-01-14 04:32:46.207720: I tensorflow/stream_executor/cuda/cuda_gpu_executor.cc:937] successful NUMA node read from SysFS had negative value (-1), but there must be at least one NUMA node, so returning NUMA node zero\n",
      "2022-01-14 04:32:46.208402: I tensorflow/core/common_runtime/gpu/gpu_device.cc:1510] Created device /job:localhost/replica:0/task:0/device:GPU:0 with 15403 MB memory:  -> device: 0, name: Tesla P100-PCIE-16GB, pci bus id: 0000:00:04.0, compute capability: 6.0\n"
     ]
    }
   ],
   "source": [
    "fold = 5\n",
    "IMG_SIZE = (384, 384)\n",
    "BATCH_SIZE = 64\n",
    "\n",
    "def preprocess_test(image_url):\n",
    "    image_string = tf.io.read_file(image_url)\n",
    "    image = tf.image.decode_jpeg(image_string, channels=3)\n",
    "#     image = tf.cast(image, tf.float32)\n",
    "    image = tf.keras.applications.imagenet_utils.preprocess_input(tf.cast(image, tf.float32), mode=\"torch\")\n",
    "    image = tf.image.central_crop(image, 1.0)\n",
    "    image = tf.image.resize(image, IMG_SIZE)\n",
    "    return image\n",
    "\n",
    "for _, _, id in os.walk('/kaggle/input/petfinder-pawpularity-score/test/'):\n",
    "    ids = id\n",
    "\n",
    "fileNames = ['/kaggle/input/petfinder-pawpularity-score/test/'+i for i in ids]\n",
    "print(fileNames)\n",
    "fileNames.sort()\n",
    "print(fileNames)\n",
    "test = tf.data.Dataset.from_tensor_slices(fileNames).map(preprocess_test).batch(BATCH_SIZE)"
   ]
  },
  {
   "cell_type": "code",
   "execution_count": 3,
   "id": "df78598f",
   "metadata": {
    "execution": {
     "iopub.execute_input": "2022-01-14T04:32:46.703850Z",
     "iopub.status.busy": "2022-01-14T04:32:46.702025Z",
     "iopub.status.idle": "2022-01-14T04:32:46.704522Z",
     "shell.execute_reply": "2022-01-14T04:32:46.704933Z"
    },
    "papermill": {
     "duration": 0.028733,
     "end_time": "2022-01-14T04:32:46.705055",
     "exception": false,
     "start_time": "2022-01-14T04:32:46.676322",
     "status": "completed"
    },
    "tags": []
   },
   "outputs": [],
   "source": [
    "def RMSE(y_true, y_pred, denormalize=True):\n",
    "    if denormalize:\n",
    "        # denormalizing\n",
    "        y_true = y_true*100.0\n",
    "        y_pred = y_pred*100.0\n",
    "    # rmse\n",
    "    loss = tf.math.sqrt(tf.math.reduce_mean(tf.math.square(tf.subtract(y_true, y_pred))))\n",
    "    return loss\n",
    "RMSE.__name__='rmse'\n",
    "\n",
    "rmse = RMSE\n",
    "\n",
    "dependencies = {\n",
    "    'rmse': rmse\n",
    "}"
   ]
  },
  {
   "cell_type": "code",
   "execution_count": 4,
   "id": "82fd2954",
   "metadata": {
    "execution": {
     "iopub.execute_input": "2022-01-14T04:32:46.748630Z",
     "iopub.status.busy": "2022-01-14T04:32:46.748033Z",
     "iopub.status.idle": "2022-01-14T04:32:46.751848Z",
     "shell.execute_reply": "2022-01-14T04:32:46.751383Z",
     "shell.execute_reply.started": "2022-01-13T20:38:15.47394Z"
    },
    "papermill": {
     "duration": 0.02749,
     "end_time": "2022-01-14T04:32:46.751962",
     "exception": false,
     "start_time": "2022-01-14T04:32:46.724472",
     "status": "completed"
    },
    "tags": []
   },
   "outputs": [],
   "source": [
    "predictions = []"
   ]
  },
  {
   "cell_type": "code",
   "execution_count": 5,
   "id": "1a21dee5",
   "metadata": {
    "execution": {
     "iopub.execute_input": "2022-01-14T04:32:46.799260Z",
     "iopub.status.busy": "2022-01-14T04:32:46.798425Z",
     "iopub.status.idle": "2022-01-14T04:38:07.058026Z",
     "shell.execute_reply": "2022-01-14T04:38:07.057282Z"
    },
    "papermill": {
     "duration": 320.286853,
     "end_time": "2022-01-14T04:38:07.058226",
     "exception": false,
     "start_time": "2022-01-14T04:32:46.771373",
     "status": "completed"
    },
    "tags": []
   },
   "outputs": [
    {
     "name": "stderr",
     "output_type": "stream",
     "text": [
      "2022-01-14 04:33:43.968947: I tensorflow/compiler/mlir/mlir_graph_optimization_pass.cc:185] None of the MLIR Optimization Passes are enabled (registered 2)\n",
      "2022-01-14 04:33:47.897095: I tensorflow/stream_executor/cuda/cuda_dnn.cc:369] Loaded cuDNN version 8005\n"
     ]
    },
    {
     "name": "stdout",
     "output_type": "stream",
     "text": [
      "fold 0 [43.703564 43.488922 44.00876  44.02567  43.287113 44.610767 44.187073\n",
      " 44.019142]\n",
      "fold 1 [49.346127 49.377827 49.675392 49.717033 49.306877 50.29886  49.242367\n",
      " 49.020985]\n",
      "fold 2 [51.057636 51.019264 51.166035 51.006664 51.68496  51.207264 51.06075\n",
      " 51.014664]\n",
      "fold 3 [46.649075 46.291492 46.981106 46.440414 46.397045 47.050858 46.525272\n",
      " 46.07341 ]\n",
      "fold 4 [49.275734 49.10474  49.714573 49.321575 49.508972 50.00996  49.97667\n",
      " 48.83054 ]\n"
     ]
    }
   ],
   "source": [
    "for i in range(fold):\n",
    "    K.clear_session()\n",
    "    model = tf.keras.models.load_model(f'../input/swin_384_large/model_fold{i}', custom_objects=dependencies)\n",
    "    pred = (model.predict(test) * 100.00).reshape(-1)\n",
    "    predictions.append(pred)\n",
    "    print(f'fold {i}', pred)\n",
    "    del model, pred\n",
    "    gc.collect()"
   ]
  },
  {
   "cell_type": "code",
   "execution_count": 9,
   "id": "e213a033",
   "metadata": {
    "execution": {
     "iopub.execute_input": "2022-01-14T04:38:07.290688Z",
     "iopub.status.busy": "2022-01-14T04:38:07.290041Z",
     "iopub.status.idle": "2022-01-14T04:38:07.296319Z",
     "shell.execute_reply": "2022-01-14T04:38:07.297017Z"
    },
    "papermill": {
     "duration": 0.037108,
     "end_time": "2022-01-14T04:38:07.297208",
     "exception": false,
     "start_time": "2022-01-14T04:38:07.260100",
     "status": "completed"
    },
    "tags": []
   },
   "outputs": [
    {
     "name": "stdout",
     "output_type": "stream",
     "text": [
      "[array([43.703564, 43.488922, 44.00876 , 44.02567 , 43.287113, 44.610767,\n",
      "       44.187073, 44.019142], dtype=float32), array([49.346127, 49.377827, 49.675392, 49.717033, 49.306877, 50.29886 ,\n",
      "       49.242367, 49.020985], dtype=float32), array([51.057636, 51.019264, 51.166035, 51.006664, 51.68496 , 51.207264,\n",
      "       51.06075 , 51.014664], dtype=float32), array([46.649075, 46.291492, 46.981106, 46.440414, 46.397045, 47.050858,\n",
      "       46.525272, 46.07341 ], dtype=float32), array([49.275734, 49.10474 , 49.714573, 49.321575, 49.508972, 50.00996 ,\n",
      "       49.97667 , 48.83054 ], dtype=float32)]\n"
     ]
    }
   ],
   "source": [
    "print(predictions)"
   ]
  },
  {
   "cell_type": "code",
   "execution_count": 10,
   "id": "98ced645",
   "metadata": {
    "execution": {
     "iopub.execute_input": "2022-01-14T04:38:07.352731Z",
     "iopub.status.busy": "2022-01-14T04:38:07.352053Z",
     "iopub.status.idle": "2022-01-14T04:38:10.015300Z",
     "shell.execute_reply": "2022-01-14T04:38:10.014769Z"
    },
    "papermill": {
     "duration": 2.691814,
     "end_time": "2022-01-14T04:38:10.015476",
     "exception": false,
     "start_time": "2022-01-14T04:38:07.323662",
     "status": "completed"
    },
    "tags": []
   },
   "outputs": [
    {
     "name": "stdout",
     "output_type": "stream",
     "text": [
      "Initial GPU Usage\n",
      "| ID | GPU | MEM |\n",
      "------------------\n",
      "|  0 |  0% | 98% |\n",
      "GPU Usage after emptying the cache\n",
      "| ID | GPU  | MEM |\n",
      "-------------------\n",
      "|  0 | 100% |  2% |\n"
     ]
    }
   ],
   "source": [
    "# !pip install GPUtil\n",
    "import sys\n",
    "sys.path.append('../input/gputil/GPUtil')\n",
    "import torch\n",
    "from GPUtil import showUtilization as gpu_usage\n",
    "from numba import cuda\n",
    "\n",
    "def free_gpu_cache():\n",
    "    print(\"Initial GPU Usage\")\n",
    "    gpu_usage()                             \n",
    "\n",
    "    torch.cuda.empty_cache()\n",
    "\n",
    "    cuda.select_device(0)\n",
    "    cuda.close()\n",
    "    cuda.select_device(0)\n",
    "\n",
    "    print(\"GPU Usage after emptying the cache\")\n",
    "    gpu_usage()\n",
    "\n",
    "free_gpu_cache()  "
   ]
  },
  {
   "cell_type": "code",
   "execution_count": 11,
   "id": "b8a571c4",
   "metadata": {
    "execution": {
     "iopub.execute_input": "2022-01-14T04:38:10.072497Z",
     "iopub.status.busy": "2022-01-14T04:38:10.071439Z",
     "iopub.status.idle": "2022-01-14T04:38:10.075494Z",
     "shell.execute_reply": "2022-01-14T04:38:10.076157Z"
    },
    "papermill": {
     "duration": 0.035966,
     "end_time": "2022-01-14T04:38:10.076328",
     "exception": false,
     "start_time": "2022-01-14T04:38:10.040362",
     "status": "completed"
    },
    "tags": []
   },
   "outputs": [
    {
     "name": "stdout",
     "output_type": "stream",
     "text": [
      "[array([43.703564, 43.488922, 44.00876 , 44.02567 , 43.287113, 44.610767,\n",
      "       44.187073, 44.019142], dtype=float32), array([49.346127, 49.377827, 49.675392, 49.717033, 49.306877, 50.29886 ,\n",
      "       49.242367, 49.020985], dtype=float32), array([51.057636, 51.019264, 51.166035, 51.006664, 51.68496 , 51.207264,\n",
      "       51.06075 , 51.014664], dtype=float32), array([46.649075, 46.291492, 46.981106, 46.440414, 46.397045, 47.050858,\n",
      "       46.525272, 46.07341 ], dtype=float32), array([49.275734, 49.10474 , 49.714573, 49.321575, 49.508972, 50.00996 ,\n",
      "       49.97667 , 48.83054 ], dtype=float32)]\n"
     ]
    }
   ],
   "source": [
    "print(predictions)"
   ]
  },
  {
   "cell_type": "code",
   "execution_count": 12,
   "id": "ba0bc613",
   "metadata": {
    "execution": {
     "iopub.execute_input": "2022-01-14T04:38:10.134812Z",
     "iopub.status.busy": "2022-01-14T04:38:10.133980Z",
     "iopub.status.idle": "2022-01-14T04:38:15.405377Z",
     "shell.execute_reply": "2022-01-14T04:38:15.404839Z",
     "shell.execute_reply.started": "2022-01-13T20:38:07.945785Z"
    },
    "papermill": {
     "duration": 5.301989,
     "end_time": "2022-01-14T04:38:15.405552",
     "exception": false,
     "start_time": "2022-01-14T04:38:10.103563",
     "status": "completed"
    },
    "tags": []
   },
   "outputs": [],
   "source": [
    "from fastai.vision.all import *\n",
    "import sys\n",
    "sys.path.append('../input/timm-pytorch-image-models/pytorch-image-models-master')\n",
    "from timm import create_model\n",
    "\n",
    "def petfinder_rmse(input,target):\n",
    "    return 100*torch.sqrt(F.mse_loss(F.sigmoid(input.flatten()), target))\n"
   ]
  },
  {
   "cell_type": "code",
   "execution_count": 13,
   "id": "8b9e1686",
   "metadata": {
    "execution": {
     "iopub.execute_input": "2022-01-14T04:38:15.464687Z",
     "iopub.status.busy": "2022-01-14T04:38:15.463921Z",
     "iopub.status.idle": "2022-01-14T04:38:15.513827Z",
     "shell.execute_reply": "2022-01-14T04:38:15.513174Z",
     "shell.execute_reply.started": "2022-01-13T20:38:46.361549Z"
    },
    "papermill": {
     "duration": 0.083406,
     "end_time": "2022-01-14T04:38:15.513975",
     "exception": false,
     "start_time": "2022-01-14T04:38:15.430569",
     "status": "completed"
    },
    "tags": []
   },
   "outputs": [
    {
     "data": {
      "text/html": [
       "<div>\n",
       "<style scoped>\n",
       "    .dataframe tbody tr th:only-of-type {\n",
       "        vertical-align: middle;\n",
       "    }\n",
       "\n",
       "    .dataframe tbody tr th {\n",
       "        vertical-align: top;\n",
       "    }\n",
       "\n",
       "    .dataframe thead th {\n",
       "        text-align: right;\n",
       "    }\n",
       "</style>\n",
       "<table border=\"1\" class=\"dataframe\">\n",
       "  <thead>\n",
       "    <tr style=\"text-align: right;\">\n",
       "      <th></th>\n",
       "      <th>Subject Focus</th>\n",
       "      <th>Eyes</th>\n",
       "      <th>Face</th>\n",
       "      <th>Near</th>\n",
       "      <th>Action</th>\n",
       "      <th>Accessory</th>\n",
       "      <th>Group</th>\n",
       "      <th>Collage</th>\n",
       "      <th>Human</th>\n",
       "      <th>Occlusion</th>\n",
       "      <th>Info</th>\n",
       "      <th>Blur</th>\n",
       "      <th>img_path</th>\n",
       "    </tr>\n",
       "  </thead>\n",
       "  <tbody>\n",
       "    <tr>\n",
       "      <th>0</th>\n",
       "      <td>1</td>\n",
       "      <td>0</td>\n",
       "      <td>1</td>\n",
       "      <td>0</td>\n",
       "      <td>0</td>\n",
       "      <td>1</td>\n",
       "      <td>1</td>\n",
       "      <td>0</td>\n",
       "      <td>0</td>\n",
       "      <td>1</td>\n",
       "      <td>0</td>\n",
       "      <td>1</td>\n",
       "      <td>../input/petfinder-pawpularity-score/test/4128bae22183829d2b5fea10effdb0c3.jpg</td>\n",
       "    </tr>\n",
       "    <tr>\n",
       "      <th>1</th>\n",
       "      <td>0</td>\n",
       "      <td>1</td>\n",
       "      <td>0</td>\n",
       "      <td>0</td>\n",
       "      <td>0</td>\n",
       "      <td>0</td>\n",
       "      <td>1</td>\n",
       "      <td>1</td>\n",
       "      <td>0</td>\n",
       "      <td>0</td>\n",
       "      <td>0</td>\n",
       "      <td>0</td>\n",
       "      <td>../input/petfinder-pawpularity-score/test/43a2262d7738e3d420d453815151079e.jpg</td>\n",
       "    </tr>\n",
       "    <tr>\n",
       "      <th>2</th>\n",
       "      <td>0</td>\n",
       "      <td>0</td>\n",
       "      <td>0</td>\n",
       "      <td>1</td>\n",
       "      <td>0</td>\n",
       "      <td>1</td>\n",
       "      <td>1</td>\n",
       "      <td>1</td>\n",
       "      <td>0</td>\n",
       "      <td>1</td>\n",
       "      <td>1</td>\n",
       "      <td>1</td>\n",
       "      <td>../input/petfinder-pawpularity-score/test/4e429cead1848a298432a0acad014c9d.jpg</td>\n",
       "    </tr>\n",
       "    <tr>\n",
       "      <th>3</th>\n",
       "      <td>1</td>\n",
       "      <td>0</td>\n",
       "      <td>1</td>\n",
       "      <td>0</td>\n",
       "      <td>0</td>\n",
       "      <td>0</td>\n",
       "      <td>0</td>\n",
       "      <td>0</td>\n",
       "      <td>0</td>\n",
       "      <td>0</td>\n",
       "      <td>1</td>\n",
       "      <td>0</td>\n",
       "      <td>../input/petfinder-pawpularity-score/test/80bc3ccafcc51b66303c2c263aa38486.jpg</td>\n",
       "    </tr>\n",
       "    <tr>\n",
       "      <th>4</th>\n",
       "      <td>1</td>\n",
       "      <td>1</td>\n",
       "      <td>1</td>\n",
       "      <td>0</td>\n",
       "      <td>1</td>\n",
       "      <td>1</td>\n",
       "      <td>0</td>\n",
       "      <td>1</td>\n",
       "      <td>0</td>\n",
       "      <td>1</td>\n",
       "      <td>1</td>\n",
       "      <td>0</td>\n",
       "      <td>../input/petfinder-pawpularity-score/test/8f49844c382931444e68dffbe20228f4.jpg</td>\n",
       "    </tr>\n",
       "    <tr>\n",
       "      <th>5</th>\n",
       "      <td>0</td>\n",
       "      <td>0</td>\n",
       "      <td>1</td>\n",
       "      <td>1</td>\n",
       "      <td>1</td>\n",
       "      <td>1</td>\n",
       "      <td>1</td>\n",
       "      <td>1</td>\n",
       "      <td>1</td>\n",
       "      <td>0</td>\n",
       "      <td>1</td>\n",
       "      <td>0</td>\n",
       "      <td>../input/petfinder-pawpularity-score/test/b03f7041962238a7c9d6537e22f9b017.jpg</td>\n",
       "    </tr>\n",
       "    <tr>\n",
       "      <th>6</th>\n",
       "      <td>1</td>\n",
       "      <td>0</td>\n",
       "      <td>0</td>\n",
       "      <td>0</td>\n",
       "      <td>1</td>\n",
       "      <td>1</td>\n",
       "      <td>0</td>\n",
       "      <td>1</td>\n",
       "      <td>0</td>\n",
       "      <td>1</td>\n",
       "      <td>1</td>\n",
       "      <td>1</td>\n",
       "      <td>../input/petfinder-pawpularity-score/test/c978013571258ed6d4637f6e8cc9d6a3.jpg</td>\n",
       "    </tr>\n",
       "    <tr>\n",
       "      <th>7</th>\n",
       "      <td>1</td>\n",
       "      <td>0</td>\n",
       "      <td>1</td>\n",
       "      <td>0</td>\n",
       "      <td>0</td>\n",
       "      <td>0</td>\n",
       "      <td>0</td>\n",
       "      <td>0</td>\n",
       "      <td>1</td>\n",
       "      <td>0</td>\n",
       "      <td>0</td>\n",
       "      <td>1</td>\n",
       "      <td>../input/petfinder-pawpularity-score/test/e0de453c1bffc20c22b072b34b54e50f.jpg</td>\n",
       "    </tr>\n",
       "  </tbody>\n",
       "</table>\n",
       "</div>"
      ],
      "text/plain": [
       "   Subject Focus  Eyes  Face  Near  Action  Accessory  Group  Collage  Human  \\\n",
       "0              1     0     1     0       0          1      1        0      0   \n",
       "1              0     1     0     0       0          0      1        1      0   \n",
       "2              0     0     0     1       0          1      1        1      0   \n",
       "3              1     0     1     0       0          0      0        0      0   \n",
       "4              1     1     1     0       1          1      0        1      0   \n",
       "5              0     0     1     1       1          1      1        1      1   \n",
       "6              1     0     0     0       1          1      0        1      0   \n",
       "7              1     0     1     0       0          0      0        0      1   \n",
       "\n",
       "   Occlusion  Info  Blur  \\\n",
       "0          1     0     1   \n",
       "1          0     0     0   \n",
       "2          1     1     1   \n",
       "3          0     1     0   \n",
       "4          1     1     0   \n",
       "5          0     1     0   \n",
       "6          1     1     1   \n",
       "7          0     0     1   \n",
       "\n",
       "                                                                         img_path  \n",
       "0  ../input/petfinder-pawpularity-score/test/4128bae22183829d2b5fea10effdb0c3.jpg  \n",
       "1  ../input/petfinder-pawpularity-score/test/43a2262d7738e3d420d453815151079e.jpg  \n",
       "2  ../input/petfinder-pawpularity-score/test/4e429cead1848a298432a0acad014c9d.jpg  \n",
       "3  ../input/petfinder-pawpularity-score/test/80bc3ccafcc51b66303c2c263aa38486.jpg  \n",
       "4  ../input/petfinder-pawpularity-score/test/8f49844c382931444e68dffbe20228f4.jpg  \n",
       "5  ../input/petfinder-pawpularity-score/test/b03f7041962238a7c9d6537e22f9b017.jpg  \n",
       "6  ../input/petfinder-pawpularity-score/test/c978013571258ed6d4637f6e8cc9d6a3.jpg  \n",
       "7  ../input/petfinder-pawpularity-score/test/e0de453c1bffc20c22b072b34b54e50f.jpg  "
      ]
     },
     "metadata": {},
     "output_type": "display_data"
    }
   ],
   "source": [
    "dataset_path = Path('../input/petfinder-pawpularity-score/')\n",
    "test = pd.read_csv(dataset_path/'test.csv')\n",
    "test.head()\n",
    "\n",
    "test['img_path'] = test['Id'].map(lambda x:str(dataset_path/'test'/x)+'.jpg')\n",
    "test = test.drop(columns=['Id'])\n",
    "display(test)"
   ]
  },
  {
   "cell_type": "markdown",
   "id": "alone-arrival",
   "metadata": {},
   "source": [
    "# Swin_224_tiny"
   ]
  },
  {
   "cell_type": "code",
   "execution_count": 14,
   "id": "f21f8e8b",
   "metadata": {
    "execution": {
     "iopub.execute_input": "2022-01-14T04:38:15.574029Z",
     "iopub.status.busy": "2022-01-14T04:38:15.573436Z",
     "iopub.status.idle": "2022-01-14T04:39:30.420424Z",
     "shell.execute_reply": "2022-01-14T04:39:30.421064Z"
    },
    "papermill": {
     "duration": 74.882727,
     "end_time": "2022-01-14T04:39:30.421276",
     "exception": false,
     "start_time": "2022-01-14T04:38:15.538549",
     "status": "completed"
    },
    "tags": []
   },
   "outputs": [
    {
     "data": {
      "text/html": [
       "\n",
       "    <div>\n",
       "        <style>\n",
       "            /* Turns off some styling */\n",
       "            progress {\n",
       "                /* gets rid of default border in Firefox and Opera. */\n",
       "                border: none;\n",
       "                /* Needs to be in here for Safari polyfill so background images work as expected. */\n",
       "                background-size: auto;\n",
       "            }\n",
       "            .progress-bar-interrupted, .progress-bar-interrupted::-webkit-progress-bar {\n",
       "                background: #F44336;\n",
       "            }\n",
       "        </style>\n",
       "      <progress value='0' class='' max='5' style='width:300px; height:20px; vertical-align: middle;'></progress>\n",
       "      \n",
       "    </div>\n",
       "    \n"
      ],
      "text/plain": [
       "<IPython.core.display.HTML object>"
      ]
     },
     "metadata": {},
     "output_type": "display_data"
    },
    {
     "data": {
      "text/html": [],
      "text/plain": [
       "<IPython.core.display.HTML object>"
      ]
     },
     "metadata": {},
     "output_type": "display_data"
    },
    {
     "name": "stdout",
     "output_type": "stream",
     "text": [
      "[46.827118 46.98925  45.524567 46.804474 48.1477   47.946404 45.94206\n",
      " 46.97348 ]\n"
     ]
    },
    {
     "data": {
      "text/html": [
       "\n",
       "    <div>\n",
       "        <style>\n",
       "            /* Turns off some styling */\n",
       "            progress {\n",
       "                /* gets rid of default border in Firefox and Opera. */\n",
       "                border: none;\n",
       "                /* Needs to be in here for Safari polyfill so background images work as expected. */\n",
       "                background-size: auto;\n",
       "            }\n",
       "            .progress-bar-interrupted, .progress-bar-interrupted::-webkit-progress-bar {\n",
       "                background: #F44336;\n",
       "            }\n",
       "        </style>\n",
       "      <progress value='0' class='' max='5' style='width:300px; height:20px; vertical-align: middle;'></progress>\n",
       "      \n",
       "    </div>\n",
       "    \n"
      ],
      "text/plain": [
       "<IPython.core.display.HTML object>"
      ]
     },
     "metadata": {},
     "output_type": "display_data"
    },
    {
     "data": {
      "text/html": [],
      "text/plain": [
       "<IPython.core.display.HTML object>"
      ]
     },
     "metadata": {},
     "output_type": "display_data"
    },
    {
     "name": "stdout",
     "output_type": "stream",
     "text": [
      "[39.711697 40.503143 40.39892  41.2124   39.40241  39.856747 39.948643\n",
      " 40.646393]\n"
     ]
    },
    {
     "data": {
      "text/html": [
       "\n",
       "    <div>\n",
       "        <style>\n",
       "            /* Turns off some styling */\n",
       "            progress {\n",
       "                /* gets rid of default border in Firefox and Opera. */\n",
       "                border: none;\n",
       "                /* Needs to be in here for Safari polyfill so background images work as expected. */\n",
       "                background-size: auto;\n",
       "            }\n",
       "            .progress-bar-interrupted, .progress-bar-interrupted::-webkit-progress-bar {\n",
       "                background: #F44336;\n",
       "            }\n",
       "        </style>\n",
       "      <progress value='0' class='' max='5' style='width:300px; height:20px; vertical-align: middle;'></progress>\n",
       "      \n",
       "    </div>\n",
       "    \n"
      ],
      "text/plain": [
       "<IPython.core.display.HTML object>"
      ]
     },
     "metadata": {},
     "output_type": "display_data"
    },
    {
     "data": {
      "text/html": [],
      "text/plain": [
       "<IPython.core.display.HTML object>"
      ]
     },
     "metadata": {},
     "output_type": "display_data"
    },
    {
     "name": "stdout",
     "output_type": "stream",
     "text": [
      "[37.14271  39.22143  37.119125 38.512592 36.974335 37.534542 37.55258\n",
      " 37.743423]\n"
     ]
    },
    {
     "data": {
      "text/html": [
       "\n",
       "    <div>\n",
       "        <style>\n",
       "            /* Turns off some styling */\n",
       "            progress {\n",
       "                /* gets rid of default border in Firefox and Opera. */\n",
       "                border: none;\n",
       "                /* Needs to be in here for Safari polyfill so background images work as expected. */\n",
       "                background-size: auto;\n",
       "            }\n",
       "            .progress-bar-interrupted, .progress-bar-interrupted::-webkit-progress-bar {\n",
       "                background: #F44336;\n",
       "            }\n",
       "        </style>\n",
       "      <progress value='0' class='' max='5' style='width:300px; height:20px; vertical-align: middle;'></progress>\n",
       "      \n",
       "    </div>\n",
       "    \n"
      ],
      "text/plain": [
       "<IPython.core.display.HTML object>"
      ]
     },
     "metadata": {},
     "output_type": "display_data"
    },
    {
     "data": {
      "text/html": [],
      "text/plain": [
       "<IPython.core.display.HTML object>"
      ]
     },
     "metadata": {},
     "output_type": "display_data"
    },
    {
     "name": "stdout",
     "output_type": "stream",
     "text": [
      "[43.97905  44.66018  44.54196  45.412476 43.44824  44.197887 44.012325\n",
      " 44.988052]\n"
     ]
    },
    {
     "data": {
      "text/html": [
       "\n",
       "    <div>\n",
       "        <style>\n",
       "            /* Turns off some styling */\n",
       "            progress {\n",
       "                /* gets rid of default border in Firefox and Opera. */\n",
       "                border: none;\n",
       "                /* Needs to be in here for Safari polyfill so background images work as expected. */\n",
       "                background-size: auto;\n",
       "            }\n",
       "            .progress-bar-interrupted, .progress-bar-interrupted::-webkit-progress-bar {\n",
       "                background: #F44336;\n",
       "            }\n",
       "        </style>\n",
       "      <progress value='0' class='' max='5' style='width:300px; height:20px; vertical-align: middle;'></progress>\n",
       "      \n",
       "    </div>\n",
       "    \n"
      ],
      "text/plain": [
       "<IPython.core.display.HTML object>"
      ]
     },
     "metadata": {},
     "output_type": "display_data"
    },
    {
     "data": {
      "text/html": [],
      "text/plain": [
       "<IPython.core.display.HTML object>"
      ]
     },
     "metadata": {},
     "output_type": "display_data"
    },
    {
     "name": "stdout",
     "output_type": "stream",
     "text": [
      "[36.536194 38.899467 37.66621  38.41041  38.15698  38.469822 37.18508\n",
      " 37.4702  ]\n"
     ]
    }
   ],
   "source": [
    "for i in range(5):\n",
    "    learn = load_learner(Path(f'../input/swin_224_tiny/model_fold_{i}.pkl'), cpu=False)\n",
    "    train_df = pd.read_csv(f'../input/data-split-pawpularity/skf_split_train_5cv_fold{i}.csv')\n",
    "    val_df = pd.read_csv(f'../input/data-split-pawpularity/skf_split_val_5cv_fold{i}.csv')\n",
    "    train_df = train_df.append(val_df)\n",
    "    train_df['Id'] = train_df['img_path'].apply(lambda x: x.split('.')[-2].split('/')[-1])\n",
    "    train_df['img_path'] = train_df['Id'].map(lambda x:str(dataset_path/'train'/x)+'.jpg')\n",
    "    \n",
    "    bs = 8\n",
    "    dls = ImageDataLoaders.from_df(train_df, #pass in train DataFrame\n",
    "                               valid_pct=0.2, #80-20 train-validation random split\n",
    "                               seed=999, #seed\n",
    "                               fn_col='img_path', #filename/path is in the second column of the DataFrame\n",
    "                               label_col='Pawpularity', #label is in the first column of the DataFrame\n",
    "                               y_block=RegressionBlock, #The type of target\n",
    "                               bs=bs, #pass in batch size\n",
    "                               num_workers=8,\n",
    "                               item_tfms=Resize(224), #pass in item_tfms\n",
    "                               batch_tfms=setup_aug_tfms([Brightness(), Contrast(), Hue(), Saturation()])) \n",
    "    \n",
    "    \n",
    "    \n",
    "    test_dl = dls.test_dl(test)\n",
    "    test_pred, _ = learn.tta(dl=test_dl, n=5, beta=0)\n",
    "    \n",
    "    test_pred = np.array(test_pred).flatten()*100\n",
    "    predictions.append(test_pred)\n",
    "    print(test_pred)\n",
    "    del learn, test_pred\n",
    "    \n",
    "    torch.cuda.empty_cache()\n",
    "    gc.collect()"
   ]
  },
  {
   "cell_type": "markdown",
   "id": "talented-certificate",
   "metadata": {},
   "source": [
    "# Swin_224_tiny_mixup+cutmix"
   ]
  },
  {
   "cell_type": "code",
   "execution_count": 16,
   "id": "c3664cdb",
   "metadata": {
    "execution": {
     "iopub.execute_input": "2022-01-14T04:39:30.573249Z",
     "iopub.status.busy": "2022-01-14T04:39:30.572495Z",
     "iopub.status.idle": "2022-01-14T04:40:41.713819Z",
     "shell.execute_reply": "2022-01-14T04:40:41.714443Z"
    },
    "papermill": {
     "duration": 71.185887,
     "end_time": "2022-01-14T04:40:41.714667",
     "exception": false,
     "start_time": "2022-01-14T04:39:30.528780",
     "status": "completed"
    },
    "tags": []
   },
   "outputs": [
    {
     "data": {
      "text/html": [
       "\n",
       "    <div>\n",
       "        <style>\n",
       "            /* Turns off some styling */\n",
       "            progress {\n",
       "                /* gets rid of default border in Firefox and Opera. */\n",
       "                border: none;\n",
       "                /* Needs to be in here for Safari polyfill so background images work as expected. */\n",
       "                background-size: auto;\n",
       "            }\n",
       "            .progress-bar-interrupted, .progress-bar-interrupted::-webkit-progress-bar {\n",
       "                background: #F44336;\n",
       "            }\n",
       "        </style>\n",
       "      <progress value='0' class='' max='10' style='width:300px; height:20px; vertical-align: middle;'></progress>\n",
       "      \n",
       "    </div>\n",
       "    \n"
      ],
      "text/plain": [
       "<IPython.core.display.HTML object>"
      ]
     },
     "metadata": {},
     "output_type": "display_data"
    },
    {
     "data": {
      "text/html": [],
      "text/plain": [
       "<IPython.core.display.HTML object>"
      ]
     },
     "metadata": {},
     "output_type": "display_data"
    },
    {
     "name": "stdout",
     "output_type": "stream",
     "text": [
      "[41.138435 41.457    40.9715   41.609936 40.26677  41.294434 41.56476\n",
      " 41.311684]\n"
     ]
    },
    {
     "data": {
      "text/html": [
       "\n",
       "    <div>\n",
       "        <style>\n",
       "            /* Turns off some styling */\n",
       "            progress {\n",
       "                /* gets rid of default border in Firefox and Opera. */\n",
       "                border: none;\n",
       "                /* Needs to be in here for Safari polyfill so background images work as expected. */\n",
       "                background-size: auto;\n",
       "            }\n",
       "            .progress-bar-interrupted, .progress-bar-interrupted::-webkit-progress-bar {\n",
       "                background: #F44336;\n",
       "            }\n",
       "        </style>\n",
       "      <progress value='0' class='' max='10' style='width:300px; height:20px; vertical-align: middle;'></progress>\n",
       "      \n",
       "    </div>\n",
       "    \n"
      ],
      "text/plain": [
       "<IPython.core.display.HTML object>"
      ]
     },
     "metadata": {},
     "output_type": "display_data"
    },
    {
     "data": {
      "text/html": [],
      "text/plain": [
       "<IPython.core.display.HTML object>"
      ]
     },
     "metadata": {},
     "output_type": "display_data"
    },
    {
     "name": "stdout",
     "output_type": "stream",
     "text": [
      "[40.55054  41.50381  40.60796  41.27863  41.049854 41.30037  41.272743\n",
      " 40.47362 ]\n"
     ]
    },
    {
     "data": {
      "text/html": [
       "\n",
       "    <div>\n",
       "        <style>\n",
       "            /* Turns off some styling */\n",
       "            progress {\n",
       "                /* gets rid of default border in Firefox and Opera. */\n",
       "                border: none;\n",
       "                /* Needs to be in here for Safari polyfill so background images work as expected. */\n",
       "                background-size: auto;\n",
       "            }\n",
       "            .progress-bar-interrupted, .progress-bar-interrupted::-webkit-progress-bar {\n",
       "                background: #F44336;\n",
       "            }\n",
       "        </style>\n",
       "      <progress value='0' class='' max='10' style='width:300px; height:20px; vertical-align: middle;'></progress>\n",
       "      \n",
       "    </div>\n",
       "    \n"
      ],
      "text/plain": [
       "<IPython.core.display.HTML object>"
      ]
     },
     "metadata": {},
     "output_type": "display_data"
    },
    {
     "data": {
      "text/html": [],
      "text/plain": [
       "<IPython.core.display.HTML object>"
      ]
     },
     "metadata": {},
     "output_type": "display_data"
    },
    {
     "name": "stdout",
     "output_type": "stream",
     "text": [
      "[39.27494  39.91006  39.48814  40.36663  39.3317   39.648037 39.77595\n",
      " 39.71178 ]\n"
     ]
    },
    {
     "data": {
      "text/html": [
       "\n",
       "    <div>\n",
       "        <style>\n",
       "            /* Turns off some styling */\n",
       "            progress {\n",
       "                /* gets rid of default border in Firefox and Opera. */\n",
       "                border: none;\n",
       "                /* Needs to be in here for Safari polyfill so background images work as expected. */\n",
       "                background-size: auto;\n",
       "            }\n",
       "            .progress-bar-interrupted, .progress-bar-interrupted::-webkit-progress-bar {\n",
       "                background: #F44336;\n",
       "            }\n",
       "        </style>\n",
       "      <progress value='0' class='' max='10' style='width:300px; height:20px; vertical-align: middle;'></progress>\n",
       "      \n",
       "    </div>\n",
       "    \n"
      ],
      "text/plain": [
       "<IPython.core.display.HTML object>"
      ]
     },
     "metadata": {},
     "output_type": "display_data"
    },
    {
     "data": {
      "text/html": [],
      "text/plain": [
       "<IPython.core.display.HTML object>"
      ]
     },
     "metadata": {},
     "output_type": "display_data"
    },
    {
     "name": "stdout",
     "output_type": "stream",
     "text": [
      "[41.00786  41.499973 40.79469  41.430122 40.822746 41.105293 41.54163\n",
      " 40.479446]\n"
     ]
    },
    {
     "data": {
      "text/html": [
       "\n",
       "    <div>\n",
       "        <style>\n",
       "            /* Turns off some styling */\n",
       "            progress {\n",
       "                /* gets rid of default border in Firefox and Opera. */\n",
       "                border: none;\n",
       "                /* Needs to be in here for Safari polyfill so background images work as expected. */\n",
       "                background-size: auto;\n",
       "            }\n",
       "            .progress-bar-interrupted, .progress-bar-interrupted::-webkit-progress-bar {\n",
       "                background: #F44336;\n",
       "            }\n",
       "        </style>\n",
       "      <progress value='0' class='' max='10' style='width:300px; height:20px; vertical-align: middle;'></progress>\n",
       "      \n",
       "    </div>\n",
       "    \n"
      ],
      "text/plain": [
       "<IPython.core.display.HTML object>"
      ]
     },
     "metadata": {},
     "output_type": "display_data"
    },
    {
     "data": {
      "text/html": [],
      "text/plain": [
       "<IPython.core.display.HTML object>"
      ]
     },
     "metadata": {},
     "output_type": "display_data"
    },
    {
     "name": "stdout",
     "output_type": "stream",
     "text": [
      "[38.267044 39.10796  38.59973  39.902496 38.196827 38.58312  37.72171\n",
      " 39.436558]\n"
     ]
    }
   ],
   "source": [
    "for i in range(5):\n",
    "    learn = load_learner(Path(f'../input/swin_224_tiny_mixup+cutmix/model_fold_{i}.pkl'), cpu=False)\n",
    "    train_df = pd.read_csv(f'../input/data-split-pawpularity/skf_split_train_5cv_fold{i}.csv')\n",
    "    val_df = pd.read_csv(f'../input/data-split-pawpularity/skf_split_val_5cv_fold{i}.csv')\n",
    "    train_df = train_df.append(val_df)\n",
    "    train_df['Id'] = train_df['img_path'].apply(lambda x: x.split('.')[-2].split('/')[-1])\n",
    "    train_df['img_path'] = train_df['Id'].map(lambda x:str(dataset_path/'train'/x)+'.jpg')\n",
    "    \n",
    "    bs = 8\n",
    "    dls = ImageDataLoaders.from_df(train_df, #pass in train DataFrame\n",
    "                               valid_pct=0.2, #80-20 train-validation random split\n",
    "                               seed=999, #seed\n",
    "                               fn_col='img_path', #filename/path is in the second column of the DataFrame\n",
    "                               label_col='Pawpularity', #label is in the first column of the DataFrame\n",
    "                               y_block=RegressionBlock, #The type of target\n",
    "                               bs=bs, #pass in batch size\n",
    "                               num_workers=8,\n",
    "                               item_tfms=Resize(224), #pass in item_tfms\n",
    "                               batch_tfms=setup_aug_tfms([Brightness(), Contrast(), Hue(), Saturation()])) \n",
    "    \n",
    "    \n",
    "    \n",
    "    test_dl = dls.test_dl(test)\n",
    "    test_pred, _ = learn.tta(dl=test_dl, n=5, beta=0)\n",
    "    \n",
    "    test_pred = np.array(test_pred).flatten()*100\n",
    "    predictions.append(test_pred)\n",
    "    print(test_pred)\n",
    "    del learn, test_pred\n",
    "    \n",
    "    torch.cuda.empty_cache()\n",
    "    gc.collect()\n",
    "    "
   ]
  },
  {
   "cell_type": "markdown",
   "id": "retained-professional",
   "metadata": {},
   "source": [
    "# Swin_384_base"
   ]
  },
  {
   "cell_type": "code",
   "execution_count": 17,
   "id": "8a1613b8",
   "metadata": {
    "execution": {
     "iopub.execute_input": "2022-01-14T04:40:41.800038Z",
     "iopub.status.busy": "2022-01-14T04:40:41.799415Z",
     "iopub.status.idle": "2022-01-14T04:41:39.311799Z",
     "shell.execute_reply": "2022-01-14T04:41:39.312477Z",
     "shell.execute_reply.started": "2022-01-03T02:43:08.683968Z"
    },
    "papermill": {
     "duration": 57.560741,
     "end_time": "2022-01-14T04:41:39.312686",
     "exception": false,
     "start_time": "2022-01-14T04:40:41.751945",
     "status": "completed"
    },
    "tags": []
   },
   "outputs": [
    {
     "data": {
      "text/html": [
       "\n",
       "    <div>\n",
       "        <style>\n",
       "            /* Turns off some styling */\n",
       "            progress {\n",
       "                /* gets rid of default border in Firefox and Opera. */\n",
       "                border: none;\n",
       "                /* Needs to be in here for Safari polyfill so background images work as expected. */\n",
       "                background-size: auto;\n",
       "            }\n",
       "            .progress-bar-interrupted, .progress-bar-interrupted::-webkit-progress-bar {\n",
       "                background: #F44336;\n",
       "            }\n",
       "        </style>\n",
       "      <progress value='0' class='' max='10' style='width:300px; height:20px; vertical-align: middle;'></progress>\n",
       "      \n",
       "    </div>\n",
       "    \n"
      ],
      "text/plain": [
       "<IPython.core.display.HTML object>"
      ]
     },
     "metadata": {},
     "output_type": "display_data"
    },
    {
     "data": {
      "text/html": [],
      "text/plain": [
       "<IPython.core.display.HTML object>"
      ]
     },
     "metadata": {},
     "output_type": "display_data"
    },
    {
     "name": "stdout",
     "output_type": "stream",
     "text": [
      "[46.953693 47.662678 48.323284 48.513714 47.875656 47.939934 47.75433\n",
      " 47.859825]\n"
     ]
    },
    {
     "data": {
      "text/html": [
       "\n",
       "    <div>\n",
       "        <style>\n",
       "            /* Turns off some styling */\n",
       "            progress {\n",
       "                /* gets rid of default border in Firefox and Opera. */\n",
       "                border: none;\n",
       "                /* Needs to be in here for Safari polyfill so background images work as expected. */\n",
       "                background-size: auto;\n",
       "            }\n",
       "            .progress-bar-interrupted, .progress-bar-interrupted::-webkit-progress-bar {\n",
       "                background: #F44336;\n",
       "            }\n",
       "        </style>\n",
       "      <progress value='0' class='' max='10' style='width:300px; height:20px; vertical-align: middle;'></progress>\n",
       "      \n",
       "    </div>\n",
       "    \n"
      ],
      "text/plain": [
       "<IPython.core.display.HTML object>"
      ]
     },
     "metadata": {},
     "output_type": "display_data"
    },
    {
     "data": {
      "text/html": [],
      "text/plain": [
       "<IPython.core.display.HTML object>"
      ]
     },
     "metadata": {},
     "output_type": "display_data"
    },
    {
     "name": "stdout",
     "output_type": "stream",
     "text": [
      "[55.503815 56.192398 55.269558 55.413567 56.4222   55.063152 56.9192\n",
      " 55.34606 ]\n"
     ]
    },
    {
     "data": {
      "text/html": [
       "\n",
       "    <div>\n",
       "        <style>\n",
       "            /* Turns off some styling */\n",
       "            progress {\n",
       "                /* gets rid of default border in Firefox and Opera. */\n",
       "                border: none;\n",
       "                /* Needs to be in here for Safari polyfill so background images work as expected. */\n",
       "                background-size: auto;\n",
       "            }\n",
       "            .progress-bar-interrupted, .progress-bar-interrupted::-webkit-progress-bar {\n",
       "                background: #F44336;\n",
       "            }\n",
       "        </style>\n",
       "      <progress value='0' class='' max='10' style='width:300px; height:20px; vertical-align: middle;'></progress>\n",
       "      \n",
       "    </div>\n",
       "    \n"
      ],
      "text/plain": [
       "<IPython.core.display.HTML object>"
      ]
     },
     "metadata": {},
     "output_type": "display_data"
    },
    {
     "data": {
      "text/html": [],
      "text/plain": [
       "<IPython.core.display.HTML object>"
      ]
     },
     "metadata": {},
     "output_type": "display_data"
    },
    {
     "name": "stdout",
     "output_type": "stream",
     "text": [
      "[59.011806 59.556408 58.52896  58.664238 59.74118  58.161522 60.321976\n",
      " 58.545006]\n"
     ]
    },
    {
     "data": {
      "text/html": [
       "\n",
       "    <div>\n",
       "        <style>\n",
       "            /* Turns off some styling */\n",
       "            progress {\n",
       "                /* gets rid of default border in Firefox and Opera. */\n",
       "                border: none;\n",
       "                /* Needs to be in here for Safari polyfill so background images work as expected. */\n",
       "                background-size: auto;\n",
       "            }\n",
       "            .progress-bar-interrupted, .progress-bar-interrupted::-webkit-progress-bar {\n",
       "                background: #F44336;\n",
       "            }\n",
       "        </style>\n",
       "      <progress value='0' class='' max='10' style='width:300px; height:20px; vertical-align: middle;'></progress>\n",
       "      \n",
       "    </div>\n",
       "    \n"
      ],
      "text/plain": [
       "<IPython.core.display.HTML object>"
      ]
     },
     "metadata": {},
     "output_type": "display_data"
    },
    {
     "data": {
      "text/html": [],
      "text/plain": [
       "<IPython.core.display.HTML object>"
      ]
     },
     "metadata": {},
     "output_type": "display_data"
    },
    {
     "name": "stdout",
     "output_type": "stream",
     "text": [
      "[58.088894 58.699165 57.217377 58.19805  58.31693  57.229317 59.0146\n",
      " 57.624798]\n"
     ]
    },
    {
     "data": {
      "text/html": [
       "\n",
       "    <div>\n",
       "        <style>\n",
       "            /* Turns off some styling */\n",
       "            progress {\n",
       "                /* gets rid of default border in Firefox and Opera. */\n",
       "                border: none;\n",
       "                /* Needs to be in here for Safari polyfill so background images work as expected. */\n",
       "                background-size: auto;\n",
       "            }\n",
       "            .progress-bar-interrupted, .progress-bar-interrupted::-webkit-progress-bar {\n",
       "                background: #F44336;\n",
       "            }\n",
       "        </style>\n",
       "      <progress value='0' class='' max='10' style='width:300px; height:20px; vertical-align: middle;'></progress>\n",
       "      \n",
       "    </div>\n",
       "    \n"
      ],
      "text/plain": [
       "<IPython.core.display.HTML object>"
      ]
     },
     "metadata": {},
     "output_type": "display_data"
    },
    {
     "data": {
      "text/html": [],
      "text/plain": [
       "<IPython.core.display.HTML object>"
      ]
     },
     "metadata": {},
     "output_type": "display_data"
    },
    {
     "name": "stdout",
     "output_type": "stream",
     "text": [
      "[54.041718 54.594154 53.544556 54.065903 54.454052 53.328533 55.434757\n",
      " 53.577187]\n"
     ]
    }
   ],
   "source": [
    "for i in range(5):\n",
    "    learn = load_learner(Path(f'../input/swin_384_base/model_fold_{i}.pkl'), cpu=False)\n",
    "    train_df = pd.read_csv(f'../input/data-split-pawpularity/skf_split_train_5cv_fold{i}.csv')\n",
    "    val_df = pd.read_csv(f'../input/data-split-pawpularity/skf_split_val_5cv_fold{i}.csv')\n",
    "    train_df = train_df.append(val_df)\n",
    "    train_df['Id'] = train_df['img_path'].apply(lambda x: x.split('.')[-2].split('/')[-1])\n",
    "    train_df['img_path'] = train_df['Id'].map(lambda x:str(dataset_path/'train'/x)+'.jpg')\n",
    "    \n",
    "    bs = 8\n",
    "    dls = ImageDataLoaders.from_df(train_df, #pass in train DataFrame\n",
    "                               valid_pct=0.2, #80-20 train-validation random split\n",
    "                               seed=999, #seed\n",
    "                               fn_col='img_path', #filename/path is in the second column of the DataFrame\n",
    "                               label_col='Pawpularity', #label is in the first column of the DataFrame\n",
    "                               y_block=RegressionBlock, #The type of target\n",
    "                               bs=bs, #pass in batch size\n",
    "                               num_workers=8,\n",
    "                               item_tfms=Resize(384), #pass in item_tfms\n",
    "                               batch_tfms=setup_aug_tfms([Brightness(), Contrast(), Hue(), Saturation()])) \n",
    "    \n",
    "    \n",
    "    \n",
    "    test_dl = dls.test_dl(test)\n",
    "    test_pred, _ = learn.tta(dl=test_dl, n=5, beta=0)\n",
    "    \n",
    "    test_pred = np.array(test_pred).flatten()*100\n",
    "    predictions.append(test_pred)\n",
    "    print(test_pred)\n",
    "    del learn, test_pred\n",
    "    \n",
    "    torch.cuda.empty_cache()\n",
    "    gc.collect()"
   ]
  },
  {
   "cell_type": "markdown",
   "id": "functional-pound",
   "metadata": {},
   "source": [
    "# Swin_224_tiny_custom_head"
   ]
  },
  {
   "cell_type": "code",
   "execution_count": 18,
   "id": "9cef8772",
   "metadata": {
    "execution": {
     "iopub.execute_input": "2022-01-14T04:41:39.417002Z",
     "iopub.status.busy": "2022-01-14T04:41:39.416207Z",
     "iopub.status.idle": "2022-01-14T04:42:50.068026Z",
     "shell.execute_reply": "2022-01-14T04:42:50.068473Z"
    },
    "papermill": {
     "duration": 70.70997,
     "end_time": "2022-01-14T04:42:50.068648",
     "exception": false,
     "start_time": "2022-01-14T04:41:39.358678",
     "status": "completed"
    },
    "tags": []
   },
   "outputs": [
    {
     "data": {
      "text/html": [
       "\n",
       "    <div>\n",
       "        <style>\n",
       "            /* Turns off some styling */\n",
       "            progress {\n",
       "                /* gets rid of default border in Firefox and Opera. */\n",
       "                border: none;\n",
       "                /* Needs to be in here for Safari polyfill so background images work as expected. */\n",
       "                background-size: auto;\n",
       "            }\n",
       "            .progress-bar-interrupted, .progress-bar-interrupted::-webkit-progress-bar {\n",
       "                background: #F44336;\n",
       "            }\n",
       "        </style>\n",
       "      <progress value='0' class='' max='10' style='width:300px; height:20px; vertical-align: middle;'></progress>\n",
       "      \n",
       "    </div>\n",
       "    \n"
      ],
      "text/plain": [
       "<IPython.core.display.HTML object>"
      ]
     },
     "metadata": {},
     "output_type": "display_data"
    },
    {
     "data": {
      "text/html": [],
      "text/plain": [
       "<IPython.core.display.HTML object>"
      ]
     },
     "metadata": {},
     "output_type": "display_data"
    },
    {
     "name": "stdout",
     "output_type": "stream",
     "text": [
      "[41.396694 41.72131  41.268627 41.444458 41.31607  41.18292  41.761765\n",
      " 41.724873]\n"
     ]
    },
    {
     "data": {
      "text/html": [
       "\n",
       "    <div>\n",
       "        <style>\n",
       "            /* Turns off some styling */\n",
       "            progress {\n",
       "                /* gets rid of default border in Firefox and Opera. */\n",
       "                border: none;\n",
       "                /* Needs to be in here for Safari polyfill so background images work as expected. */\n",
       "                background-size: auto;\n",
       "            }\n",
       "            .progress-bar-interrupted, .progress-bar-interrupted::-webkit-progress-bar {\n",
       "                background: #F44336;\n",
       "            }\n",
       "        </style>\n",
       "      <progress value='0' class='' max='10' style='width:300px; height:20px; vertical-align: middle;'></progress>\n",
       "      \n",
       "    </div>\n",
       "    \n"
      ],
      "text/plain": [
       "<IPython.core.display.HTML object>"
      ]
     },
     "metadata": {},
     "output_type": "display_data"
    },
    {
     "data": {
      "text/html": [],
      "text/plain": [
       "<IPython.core.display.HTML object>"
      ]
     },
     "metadata": {},
     "output_type": "display_data"
    },
    {
     "name": "stdout",
     "output_type": "stream",
     "text": [
      "[33.95652  33.879185 33.294773 33.898228 33.58506  33.92275  34.46208\n",
      " 33.797703]\n"
     ]
    },
    {
     "data": {
      "text/html": [
       "\n",
       "    <div>\n",
       "        <style>\n",
       "            /* Turns off some styling */\n",
       "            progress {\n",
       "                /* gets rid of default border in Firefox and Opera. */\n",
       "                border: none;\n",
       "                /* Needs to be in here for Safari polyfill so background images work as expected. */\n",
       "                background-size: auto;\n",
       "            }\n",
       "            .progress-bar-interrupted, .progress-bar-interrupted::-webkit-progress-bar {\n",
       "                background: #F44336;\n",
       "            }\n",
       "        </style>\n",
       "      <progress value='0' class='' max='10' style='width:300px; height:20px; vertical-align: middle;'></progress>\n",
       "      \n",
       "    </div>\n",
       "    \n"
      ],
      "text/plain": [
       "<IPython.core.display.HTML object>"
      ]
     },
     "metadata": {},
     "output_type": "display_data"
    },
    {
     "data": {
      "text/html": [],
      "text/plain": [
       "<IPython.core.display.HTML object>"
      ]
     },
     "metadata": {},
     "output_type": "display_data"
    },
    {
     "name": "stdout",
     "output_type": "stream",
     "text": [
      "[41.124397 41.041122 41.2436   41.362152 40.889946 41.140945 41.245384\n",
      " 40.862186]\n"
     ]
    },
    {
     "data": {
      "text/html": [
       "\n",
       "    <div>\n",
       "        <style>\n",
       "            /* Turns off some styling */\n",
       "            progress {\n",
       "                /* gets rid of default border in Firefox and Opera. */\n",
       "                border: none;\n",
       "                /* Needs to be in here for Safari polyfill so background images work as expected. */\n",
       "                background-size: auto;\n",
       "            }\n",
       "            .progress-bar-interrupted, .progress-bar-interrupted::-webkit-progress-bar {\n",
       "                background: #F44336;\n",
       "            }\n",
       "        </style>\n",
       "      <progress value='0' class='' max='10' style='width:300px; height:20px; vertical-align: middle;'></progress>\n",
       "      \n",
       "    </div>\n",
       "    \n"
      ],
      "text/plain": [
       "<IPython.core.display.HTML object>"
      ]
     },
     "metadata": {},
     "output_type": "display_data"
    },
    {
     "data": {
      "text/html": [],
      "text/plain": [
       "<IPython.core.display.HTML object>"
      ]
     },
     "metadata": {},
     "output_type": "display_data"
    },
    {
     "name": "stdout",
     "output_type": "stream",
     "text": [
      "[41.719025 42.085545 41.68005  41.734535 41.99169  41.037674 41.634487\n",
      " 42.370914]\n"
     ]
    },
    {
     "data": {
      "text/html": [
       "\n",
       "    <div>\n",
       "        <style>\n",
       "            /* Turns off some styling */\n",
       "            progress {\n",
       "                /* gets rid of default border in Firefox and Opera. */\n",
       "                border: none;\n",
       "                /* Needs to be in here for Safari polyfill so background images work as expected. */\n",
       "                background-size: auto;\n",
       "            }\n",
       "            .progress-bar-interrupted, .progress-bar-interrupted::-webkit-progress-bar {\n",
       "                background: #F44336;\n",
       "            }\n",
       "        </style>\n",
       "      <progress value='0' class='' max='10' style='width:300px; height:20px; vertical-align: middle;'></progress>\n",
       "      \n",
       "    </div>\n",
       "    \n"
      ],
      "text/plain": [
       "<IPython.core.display.HTML object>"
      ]
     },
     "metadata": {},
     "output_type": "display_data"
    },
    {
     "data": {
      "text/html": [],
      "text/plain": [
       "<IPython.core.display.HTML object>"
      ]
     },
     "metadata": {},
     "output_type": "display_data"
    },
    {
     "name": "stdout",
     "output_type": "stream",
     "text": [
      "[38.216312 39.38766  37.817554 37.965065 38.508423 37.97428  39.82637\n",
      " 38.490593]\n"
     ]
    }
   ],
   "source": [
    "class cust_fastai_model(nn.Module):      \n",
    "    def __init__(self, model_name='swin_large_patch4_window7_224'):\n",
    "        super().__init__()\n",
    "        self.swin = create_model(model_name, \n",
    "                           pretrained=True, num_classes=0)\n",
    "        self.custom_head = nn.Linear(1536, 256)\n",
    "        self.relu1 = nn.ReLU()\n",
    "        self.dropout1 = nn.Dropout(0.2)\n",
    "        \n",
    "        self.custom_head3 = nn.Linear(256, 128)\n",
    "        \n",
    "        self.custom_head4 = nn.Linear(128, 64)\n",
    "        \n",
    "        self.custom_head5 = nn.Linear(64, 1)\n",
    "        self.sigmoid = nn.Sigmoid()\n",
    "\n",
    "    def forward(self, image):\n",
    "        emb = self.swin(image).squeeze(-1).squeeze(-1)\n",
    "        x = self.custom_head(emb)\n",
    "        x = self.relu1(x)\n",
    "        x = self.dropout1(x)\n",
    "        \n",
    "        x = self.custom_head3(x)\n",
    "        x = self.relu1(x)\n",
    "        x = self.dropout1(x)\n",
    "        \n",
    "        x = self.custom_head4(x)\n",
    "        x = self.relu1(x)\n",
    "        x = self.dropout1(x)\n",
    "        \n",
    "        out = self.custom_head5(x)\n",
    "        return out\n",
    "\n",
    "for i in range(5):\n",
    "    learn = load_learner(Path(f'../input/swin_tiny_224_custom_head/model_fold_{i}.pkl'), cpu=False)\n",
    "    train_df = pd.read_csv(f'../input/data-split-pawpularity/skf_split_train_5cv_fold{i}.csv')\n",
    "    val_df = pd.read_csv(f'../input/data-split-pawpularity/skf_split_val_5cv_fold{i}.csv')\n",
    "    train_df = train_df.append(val_df)\n",
    "    train_df['Id'] = train_df['img_path'].apply(lambda x: x.split('.')[-2].split('/')[-1])\n",
    "    train_df['img_path'] = train_df['Id'].map(lambda x:str(dataset_path/'train'/x)+'.jpg')\n",
    "    \n",
    "    bs = 8\n",
    "    dls = ImageDataLoaders.from_df(train_df, #pass in train DataFrame\n",
    "                               valid_pct=0.2, #80-20 train-validation random split\n",
    "                               seed=999, #seed\n",
    "                               fn_col='img_path', #filename/path is in the second column of the DataFrame\n",
    "                               label_col='Pawpularity', #label is in the first column of the DataFrame\n",
    "                               y_block=RegressionBlock, #The type of target\n",
    "                               bs=bs, #pass in batch size\n",
    "                               num_workers=8,\n",
    "                               item_tfms=Resize(224), #pass in item_tfms\n",
    "                               batch_tfms=setup_aug_tfms([Brightness(), Contrast(), Hue(), Saturation()])) \n",
    "    \n",
    "    \n",
    "    \n",
    "    test_dl = dls.test_dl(test)\n",
    "    test_pred, _ = learn.tta(dl=test_dl, n=5, beta=0)\n",
    "    \n",
    "    test_pred = np.array(test_pred).flatten()*100\n",
    "    predictions.append(test_pred)\n",
    "    print(test_pred)\n",
    "    del learn, test_pred\n",
    "    \n",
    "    torch.cuda.empty_cache()\n",
    "    gc.collect()\n",
    "    "
   ]
  },
  {
   "cell_type": "code",
   "execution_count": 19,
   "id": "72bc4fb6",
   "metadata": {
    "execution": {
     "iopub.execute_input": "2022-01-14T04:42:50.172816Z",
     "iopub.status.busy": "2022-01-14T04:42:50.172214Z",
     "iopub.status.idle": "2022-01-14T04:42:50.253125Z",
     "shell.execute_reply": "2022-01-14T04:42:50.252651Z",
     "shell.execute_reply.started": "2022-01-13T20:37:49.411246Z"
    },
    "papermill": {
     "duration": 0.138022,
     "end_time": "2022-01-14T04:42:50.253260",
     "exception": false,
     "start_time": "2022-01-14T04:42:50.115238",
     "status": "completed"
    },
    "tags": []
   },
   "outputs": [],
   "source": [
    "import sys\n",
    "sys.path.append('../input/timm-pytorch-image-models/pytorch-image-models-master')\n",
    "sys.path.append('../input/convnext-models-code/code')\n",
    "import timm\n",
    "import models.convnext\n",
    "import models.convnext_isotropic\n",
    "import utils\n",
    "import torch\n",
    "from torch import nn\n",
    "\n",
    "class ImgClassifier(nn.Module):\n",
    "    def __init__(self, model_arch, n_class=1, in_channels=3,pretrained_path=''):\n",
    "        super().__init__()\n",
    "        self.model = timm.create_model(model_arch,in_chans=in_channels, pretrained=False)\n",
    "        self.model=self.load_pretrain(self.model,pretrained_path)\n",
    "        num_ftrs = self.model.head.in_features\n",
    "        self.model.head = nn.Linear(num_ftrs, n_class)\n",
    "    def load_pretrain(self,model,pretrained_path):\n",
    "        checkpoint = torch.load(pretrained_path, map_location='cpu')\n",
    "        print(\"Load ckpt from %s\" % pretrained_path)\n",
    "        checkpoint_model = checkpoint['model']\n",
    "        state_dict = model.state_dict()\n",
    "        for k in ['head.weight', 'head.bias']:\n",
    "            if k in checkpoint_model and checkpoint_model[k].shape != state_dict[k].shape:\n",
    "                print(f\"Removing key {k} from pretrained checkpoint\")\n",
    "                del checkpoint_model[k]\n",
    "        utils.load_state_dict(model, checkpoint_model, prefix='')\n",
    "        return model\n",
    "    def forward(self, x):\n",
    "        x = self.model(x)\n",
    "        x=x.flatten()\n",
    "        return x"
   ]
  },
  {
   "cell_type": "markdown",
   "id": "rural-electronics",
   "metadata": {},
   "source": [
    "# ConvNeXt"
   ]
  },
  {
   "cell_type": "code",
   "execution_count": 20,
   "id": "120b87de",
   "metadata": {
    "execution": {
     "iopub.execute_input": "2022-01-14T04:42:50.356278Z",
     "iopub.status.busy": "2022-01-14T04:42:50.355651Z",
     "iopub.status.idle": "2022-01-14T04:44:25.777511Z",
     "shell.execute_reply": "2022-01-14T04:44:25.778220Z",
     "shell.execute_reply.started": "2022-01-13T20:38:53.190138Z"
    },
    "papermill": {
     "duration": 95.478852,
     "end_time": "2022-01-14T04:44:25.778441",
     "exception": false,
     "start_time": "2022-01-14T04:42:50.299589",
     "status": "completed"
    },
    "tags": []
   },
   "outputs": [
    {
     "data": {
      "text/html": [
       "\n",
       "    <div>\n",
       "        <style>\n",
       "            /* Turns off some styling */\n",
       "            progress {\n",
       "                /* gets rid of default border in Firefox and Opera. */\n",
       "                border: none;\n",
       "                /* Needs to be in here for Safari polyfill so background images work as expected. */\n",
       "                background-size: auto;\n",
       "            }\n",
       "            .progress-bar-interrupted, .progress-bar-interrupted::-webkit-progress-bar {\n",
       "                background: #F44336;\n",
       "            }\n",
       "        </style>\n",
       "      <progress value='0' class='' max='3' style='width:300px; height:20px; vertical-align: middle;'></progress>\n",
       "      \n",
       "    </div>\n",
       "    \n"
      ],
      "text/plain": [
       "<IPython.core.display.HTML object>"
      ]
     },
     "metadata": {},
     "output_type": "display_data"
    },
    {
     "data": {
      "text/html": [],
      "text/plain": [
       "<IPython.core.display.HTML object>"
      ]
     },
     "metadata": {},
     "output_type": "display_data"
    },
    {
     "name": "stdout",
     "output_type": "stream",
     "text": [
      "[45.96282  44.428753 45.752636 45.00659  45.613678 44.754154 45.747734\n",
      " 44.813347]\n"
     ]
    },
    {
     "data": {
      "text/html": [
       "\n",
       "    <div>\n",
       "        <style>\n",
       "            /* Turns off some styling */\n",
       "            progress {\n",
       "                /* gets rid of default border in Firefox and Opera. */\n",
       "                border: none;\n",
       "                /* Needs to be in here for Safari polyfill so background images work as expected. */\n",
       "                background-size: auto;\n",
       "            }\n",
       "            .progress-bar-interrupted, .progress-bar-interrupted::-webkit-progress-bar {\n",
       "                background: #F44336;\n",
       "            }\n",
       "        </style>\n",
       "      <progress value='0' class='' max='5' style='width:300px; height:20px; vertical-align: middle;'></progress>\n",
       "      \n",
       "    </div>\n",
       "    \n"
      ],
      "text/plain": [
       "<IPython.core.display.HTML object>"
      ]
     },
     "metadata": {},
     "output_type": "display_data"
    },
    {
     "data": {
      "text/html": [],
      "text/plain": [
       "<IPython.core.display.HTML object>"
      ]
     },
     "metadata": {},
     "output_type": "display_data"
    },
    {
     "name": "stdout",
     "output_type": "stream",
     "text": [
      "[43.309196 43.49926  43.84173  42.959667 43.13377  43.2173   42.208336\n",
      " 43.14538 ]\n"
     ]
    },
    {
     "data": {
      "text/html": [
       "\n",
       "    <div>\n",
       "        <style>\n",
       "            /* Turns off some styling */\n",
       "            progress {\n",
       "                /* gets rid of default border in Firefox and Opera. */\n",
       "                border: none;\n",
       "                /* Needs to be in here for Safari polyfill so background images work as expected. */\n",
       "                background-size: auto;\n",
       "            }\n",
       "            .progress-bar-interrupted, .progress-bar-interrupted::-webkit-progress-bar {\n",
       "                background: #F44336;\n",
       "            }\n",
       "        </style>\n",
       "      <progress value='0' class='' max='3' style='width:300px; height:20px; vertical-align: middle;'></progress>\n",
       "      \n",
       "    </div>\n",
       "    \n"
      ],
      "text/plain": [
       "<IPython.core.display.HTML object>"
      ]
     },
     "metadata": {},
     "output_type": "display_data"
    },
    {
     "data": {
      "text/html": [],
      "text/plain": [
       "<IPython.core.display.HTML object>"
      ]
     },
     "metadata": {},
     "output_type": "display_data"
    },
    {
     "name": "stdout",
     "output_type": "stream",
     "text": [
      "[42.26237  41.53347  41.845196 42.229134 42.356674 39.93939  42.862556\n",
      " 41.93105 ]\n"
     ]
    },
    {
     "data": {
      "text/html": [
       "\n",
       "    <div>\n",
       "        <style>\n",
       "            /* Turns off some styling */\n",
       "            progress {\n",
       "                /* gets rid of default border in Firefox and Opera. */\n",
       "                border: none;\n",
       "                /* Needs to be in here for Safari polyfill so background images work as expected. */\n",
       "                background-size: auto;\n",
       "            }\n",
       "            .progress-bar-interrupted, .progress-bar-interrupted::-webkit-progress-bar {\n",
       "                background: #F44336;\n",
       "            }\n",
       "        </style>\n",
       "      <progress value='0' class='' max='5' style='width:300px; height:20px; vertical-align: middle;'></progress>\n",
       "      \n",
       "    </div>\n",
       "    \n"
      ],
      "text/plain": [
       "<IPython.core.display.HTML object>"
      ]
     },
     "metadata": {},
     "output_type": "display_data"
    },
    {
     "data": {
      "text/html": [],
      "text/plain": [
       "<IPython.core.display.HTML object>"
      ]
     },
     "metadata": {},
     "output_type": "display_data"
    },
    {
     "name": "stdout",
     "output_type": "stream",
     "text": [
      "[47.541557 47.5873   48.093025 48.18253  47.886166 47.79717  48.08041\n",
      " 48.218094]\n"
     ]
    },
    {
     "data": {
      "text/html": [
       "\n",
       "    <div>\n",
       "        <style>\n",
       "            /* Turns off some styling */\n",
       "            progress {\n",
       "                /* gets rid of default border in Firefox and Opera. */\n",
       "                border: none;\n",
       "                /* Needs to be in here for Safari polyfill so background images work as expected. */\n",
       "                background-size: auto;\n",
       "            }\n",
       "            .progress-bar-interrupted, .progress-bar-interrupted::-webkit-progress-bar {\n",
       "                background: #F44336;\n",
       "            }\n",
       "        </style>\n",
       "      <progress value='0' class='' max='5' style='width:300px; height:20px; vertical-align: middle;'></progress>\n",
       "      \n",
       "    </div>\n",
       "    \n"
      ],
      "text/plain": [
       "<IPython.core.display.HTML object>"
      ]
     },
     "metadata": {},
     "output_type": "display_data"
    },
    {
     "data": {
      "text/html": [],
      "text/plain": [
       "<IPython.core.display.HTML object>"
      ]
     },
     "metadata": {},
     "output_type": "display_data"
    },
    {
     "name": "stdout",
     "output_type": "stream",
     "text": [
      "[41.801796 40.61291  41.345768 41.221825 40.590954 41.307213 42.82793\n",
      " 41.92241 ]\n"
     ]
    }
   ],
   "source": [
    "for i in range(5):\n",
    "#     if i ==2:\n",
    "#         continue\n",
    "    learn = load_learner(Path(f'../input/convnext/model_fold_{i}.pkl'), cpu=False)\n",
    "    train_df = pd.read_csv(f'../input/data-split-pawpularity/skf_split_train_5cv_fold{i}.csv')\n",
    "    val_df = pd.read_csv(f'../input/data-split-pawpularity/skf_split_val_5cv_fold{i}.csv')\n",
    "    train_df = train_df.append(val_df)\n",
    "    train_df['Id'] = train_df['img_path'].apply(lambda x: x.split('.')[-2].split('/')[-1])\n",
    "    train_df['img_path'] = train_df['Id'].map(lambda x:str(dataset_path/'train'/x)+'.jpg')\n",
    "    \n",
    "    bs = 8\n",
    "    dls = ImageDataLoaders.from_df(train_df, #pass in train DataFrame\n",
    "                               valid_pct=0.2, #80-20 train-validation random split\n",
    "                               seed=999, #seed\n",
    "                               fn_col='img_path', #filename/path is in the second column of the DataFrame\n",
    "                               label_col='Pawpularity', #label is in the first column of the DataFrame\n",
    "                               y_block=RegressionBlock, #The type of target\n",
    "                               bs=bs, #pass in batch size\n",
    "                               num_workers=8,\n",
    "                               item_tfms=Resize(224), #pass in item_tfms\n",
    "                               batch_tfms=setup_aug_tfms([Brightness(), Contrast(), Hue(), Saturation()])) \n",
    "    \n",
    "    \n",
    "    \n",
    "    test_dl = dls.test_dl(test)\n",
    "    test_pred, _ = learn.tta(dl=test_dl, n=5, beta=0)\n",
    "    \n",
    "    test_pred = np.array(test_pred).flatten()*100\n",
    "    predictions.append(test_pred)\n",
    "    print(test_pred)\n",
    "    del learn, test_pred\n",
    "    \n",
    "    torch.cuda.empty_cache()\n",
    "    gc.collect()\n",
    "    "
   ]
  },
  {
   "cell_type": "code",
   "execution_count": 21,
   "id": "7b9b85da",
   "metadata": {
    "execution": {
     "iopub.execute_input": "2022-01-14T04:44:25.902789Z",
     "iopub.status.busy": "2022-01-14T04:44:25.901919Z",
     "iopub.status.idle": "2022-01-14T04:44:25.907482Z",
     "shell.execute_reply": "2022-01-14T04:44:25.908573Z"
    },
    "papermill": {
     "duration": 0.075834,
     "end_time": "2022-01-14T04:44:25.908780",
     "exception": false,
     "start_time": "2022-01-14T04:44:25.832946",
     "status": "completed"
    },
    "tags": []
   },
   "outputs": [
    {
     "name": "stdout",
     "output_type": "stream",
     "text": [
      "[array([43.703564, 43.488922, 44.00876 , 44.02567 , 43.287113, 44.610767,\n",
      "       44.187073, 44.019142], dtype=float32), array([49.346127, 49.377827, 49.675392, 49.717033, 49.306877, 50.29886 ,\n",
      "       49.242367, 49.020985], dtype=float32), array([51.057636, 51.019264, 51.166035, 51.006664, 51.68496 , 51.207264,\n",
      "       51.06075 , 51.014664], dtype=float32), array([46.649075, 46.291492, 46.981106, 46.440414, 46.397045, 47.050858,\n",
      "       46.525272, 46.07341 ], dtype=float32), array([49.275734, 49.10474 , 49.714573, 49.321575, 49.508972, 50.00996 ,\n",
      "       49.97667 , 48.83054 ], dtype=float32), array([46.827118, 46.98925 , 45.524567, 46.804474, 48.1477  , 47.946404,\n",
      "       45.94206 , 46.97348 ], dtype=float32), array([39.711697, 40.503143, 40.39892 , 41.2124  , 39.40241 , 39.856747,\n",
      "       39.948643, 40.646393], dtype=float32), array([37.14271 , 39.22143 , 37.119125, 38.512592, 36.974335, 37.534542,\n",
      "       37.55258 , 37.743423], dtype=float32), array([43.97905 , 44.66018 , 44.54196 , 45.412476, 43.44824 , 44.197887,\n",
      "       44.012325, 44.988052], dtype=float32), array([36.536194, 38.899467, 37.66621 , 38.41041 , 38.15698 , 38.469822,\n",
      "       37.18508 , 37.4702  ], dtype=float32), array([41.138435, 41.457   , 40.9715  , 41.609936, 40.26677 , 41.294434,\n",
      "       41.56476 , 41.311684], dtype=float32), array([40.55054 , 41.50381 , 40.60796 , 41.27863 , 41.049854, 41.30037 ,\n",
      "       41.272743, 40.47362 ], dtype=float32), array([39.27494 , 39.91006 , 39.48814 , 40.36663 , 39.3317  , 39.648037,\n",
      "       39.77595 , 39.71178 ], dtype=float32), array([41.00786 , 41.499973, 40.79469 , 41.430122, 40.822746, 41.105293,\n",
      "       41.54163 , 40.479446], dtype=float32), array([38.267044, 39.10796 , 38.59973 , 39.902496, 38.196827, 38.58312 ,\n",
      "       37.72171 , 39.436558], dtype=float32), array([46.953693, 47.662678, 48.323284, 48.513714, 47.875656, 47.939934,\n",
      "       47.75433 , 47.859825], dtype=float32), array([55.503815, 56.192398, 55.269558, 55.413567, 56.4222  , 55.063152,\n",
      "       56.9192  , 55.34606 ], dtype=float32), array([59.011806, 59.556408, 58.52896 , 58.664238, 59.74118 , 58.161522,\n",
      "       60.321976, 58.545006], dtype=float32), array([58.088894, 58.699165, 57.217377, 58.19805 , 58.31693 , 57.229317,\n",
      "       59.0146  , 57.624798], dtype=float32), array([54.041718, 54.594154, 53.544556, 54.065903, 54.454052, 53.328533,\n",
      "       55.434757, 53.577187], dtype=float32), array([41.396694, 41.72131 , 41.268627, 41.444458, 41.31607 , 41.18292 ,\n",
      "       41.761765, 41.724873], dtype=float32), array([33.95652 , 33.879185, 33.294773, 33.898228, 33.58506 , 33.92275 ,\n",
      "       34.46208 , 33.797703], dtype=float32), array([41.124397, 41.041122, 41.2436  , 41.362152, 40.889946, 41.140945,\n",
      "       41.245384, 40.862186], dtype=float32), array([41.719025, 42.085545, 41.68005 , 41.734535, 41.99169 , 41.037674,\n",
      "       41.634487, 42.370914], dtype=float32), array([38.216312, 39.38766 , 37.817554, 37.965065, 38.508423, 37.97428 ,\n",
      "       39.82637 , 38.490593], dtype=float32), array([45.96282 , 44.428753, 45.752636, 45.00659 , 45.613678, 44.754154,\n",
      "       45.747734, 44.813347], dtype=float32), array([43.309196, 43.49926 , 43.84173 , 42.959667, 43.13377 , 43.2173  ,\n",
      "       42.208336, 43.14538 ], dtype=float32), array([42.26237 , 41.53347 , 41.845196, 42.229134, 42.356674, 39.93939 ,\n",
      "       42.862556, 41.93105 ], dtype=float32), array([47.541557, 47.5873  , 48.093025, 48.18253 , 47.886166, 47.79717 ,\n",
      "       48.08041 , 48.218094], dtype=float32), array([41.801796, 40.61291 , 41.345768, 41.221825, 40.590954, 41.307213,\n",
      "       42.82793 , 41.92241 ], dtype=float32)]\n",
      "[44.51193618774414, 44.850528717041016, 44.54418182373047, 44.87704086303711, 44.62216567993164, 44.570350646972656, 44.920387268066406, 44.61409378051758]\n"
     ]
    }
   ],
   "source": [
    "print(predictions)\n",
    "average_predictions = list(pd.DataFrame(predictions).T.mean(axis = 1))\n",
    "print(average_predictions)"
   ]
  },
  {
   "cell_type": "code",
   "execution_count": 22,
   "id": "2948452f",
   "metadata": {
    "execution": {
     "iopub.execute_input": "2022-01-14T04:44:26.032120Z",
     "iopub.status.busy": "2022-01-14T04:44:26.031267Z",
     "iopub.status.idle": "2022-01-14T04:44:26.073525Z",
     "shell.execute_reply": "2022-01-14T04:44:26.072985Z"
    },
    "papermill": {
     "duration": 0.104398,
     "end_time": "2022-01-14T04:44:26.073695",
     "exception": false,
     "start_time": "2022-01-14T04:44:25.969297",
     "status": "completed"
    },
    "tags": []
   },
   "outputs": [
    {
     "data": {
      "text/html": [
       "<div>\n",
       "<style scoped>\n",
       "    .dataframe tbody tr th:only-of-type {\n",
       "        vertical-align: middle;\n",
       "    }\n",
       "\n",
       "    .dataframe tbody tr th {\n",
       "        vertical-align: top;\n",
       "    }\n",
       "\n",
       "    .dataframe thead th {\n",
       "        text-align: right;\n",
       "    }\n",
       "</style>\n",
       "<table border=\"1\" class=\"dataframe\">\n",
       "  <thead>\n",
       "    <tr style=\"text-align: right;\">\n",
       "      <th></th>\n",
       "      <th>Id</th>\n",
       "      <th>Pawpularity</th>\n",
       "    </tr>\n",
       "  </thead>\n",
       "  <tbody>\n",
       "    <tr>\n",
       "      <th>0</th>\n",
       "      <td>4128bae22183829d2b5fea10effdb0c3</td>\n",
       "      <td>44.511936</td>\n",
       "    </tr>\n",
       "    <tr>\n",
       "      <th>1</th>\n",
       "      <td>43a2262d7738e3d420d453815151079e</td>\n",
       "      <td>44.850529</td>\n",
       "    </tr>\n",
       "    <tr>\n",
       "      <th>2</th>\n",
       "      <td>4e429cead1848a298432a0acad014c9d</td>\n",
       "      <td>44.544182</td>\n",
       "    </tr>\n",
       "    <tr>\n",
       "      <th>3</th>\n",
       "      <td>80bc3ccafcc51b66303c2c263aa38486</td>\n",
       "      <td>44.877041</td>\n",
       "    </tr>\n",
       "    <tr>\n",
       "      <th>4</th>\n",
       "      <td>8f49844c382931444e68dffbe20228f4</td>\n",
       "      <td>44.622166</td>\n",
       "    </tr>\n",
       "    <tr>\n",
       "      <th>5</th>\n",
       "      <td>b03f7041962238a7c9d6537e22f9b017</td>\n",
       "      <td>44.570351</td>\n",
       "    </tr>\n",
       "    <tr>\n",
       "      <th>6</th>\n",
       "      <td>c978013571258ed6d4637f6e8cc9d6a3</td>\n",
       "      <td>44.920387</td>\n",
       "    </tr>\n",
       "    <tr>\n",
       "      <th>7</th>\n",
       "      <td>e0de453c1bffc20c22b072b34b54e50f</td>\n",
       "      <td>44.614094</td>\n",
       "    </tr>\n",
       "  </tbody>\n",
       "</table>\n",
       "</div>"
      ],
      "text/plain": [
       "                                 Id  Pawpularity\n",
       "0  4128bae22183829d2b5fea10effdb0c3    44.511936\n",
       "1  43a2262d7738e3d420d453815151079e    44.850529\n",
       "2  4e429cead1848a298432a0acad014c9d    44.544182\n",
       "3  80bc3ccafcc51b66303c2c263aa38486    44.877041\n",
       "4  8f49844c382931444e68dffbe20228f4    44.622166\n",
       "5  b03f7041962238a7c9d6537e22f9b017    44.570351\n",
       "6  c978013571258ed6d4637f6e8cc9d6a3    44.920387\n",
       "7  e0de453c1bffc20c22b072b34b54e50f    44.614094"
      ]
     },
     "metadata": {},
     "output_type": "display_data"
    },
    {
     "data": {
      "text/html": [
       "<div>\n",
       "<style scoped>\n",
       "    .dataframe tbody tr th:only-of-type {\n",
       "        vertical-align: middle;\n",
       "    }\n",
       "\n",
       "    .dataframe tbody tr th {\n",
       "        vertical-align: top;\n",
       "    }\n",
       "\n",
       "    .dataframe thead th {\n",
       "        text-align: right;\n",
       "    }\n",
       "</style>\n",
       "<table border=\"1\" class=\"dataframe\">\n",
       "  <thead>\n",
       "    <tr style=\"text-align: right;\">\n",
       "      <th></th>\n",
       "      <th>Id</th>\n",
       "      <th>Pawpularity</th>\n",
       "    </tr>\n",
       "  </thead>\n",
       "  <tbody>\n",
       "    <tr>\n",
       "      <th>0</th>\n",
       "      <td>4128bae22183829d2b5fea10effdb0c3</td>\n",
       "      <td>44.511936</td>\n",
       "    </tr>\n",
       "    <tr>\n",
       "      <th>1</th>\n",
       "      <td>43a2262d7738e3d420d453815151079e</td>\n",
       "      <td>44.850529</td>\n",
       "    </tr>\n",
       "  </tbody>\n",
       "</table>\n",
       "</div>"
      ],
      "text/plain": [
       "                                 Id  Pawpularity\n",
       "0  4128bae22183829d2b5fea10effdb0c3    44.511936\n",
       "1  43a2262d7738e3d420d453815151079e    44.850529"
      ]
     },
     "execution_count": 22,
     "metadata": {},
     "output_type": "execute_result"
    }
   ],
   "source": [
    "ids = [i.split('.')[0] for i in ids]\n",
    "ids.sort()\n",
    "pred_df = pd.DataFrame({'Id':ids,\n",
    "                        'Pawpularity':average_predictions})\n",
    "sub_df = pd.read_csv('/kaggle/input/petfinder-pawpularity-score/sample_submission.csv')\n",
    "del sub_df['Pawpularity']\n",
    "sub_df = sub_df.merge(pred_df, on='Id', how='left')\n",
    "# sub_df['Pawpularity'] = np.round(sub_df['Pawpularity'].values)\n",
    "display(sub_df)\n",
    "sub_df.to_csv('submission.csv',index=False)\n",
    "sub_df.head(2)"
   ]
  }
 ],
 "metadata": {
  "kernelspec": {
   "display_name": "Python 3",
   "language": "python",
   "name": "python3"
  },
  "language_info": {
   "codemirror_mode": {
    "name": "ipython",
    "version": 3
   },
   "file_extension": ".py",
   "mimetype": "text/x-python",
   "name": "python",
   "nbconvert_exporter": "python",
   "pygments_lexer": "ipython3",
   "version": "3.9.2"
  },
  "papermill": {
   "default_parameters": {},
   "duration": 777.844821,
   "end_time": "2022-01-14T04:44:29.567557",
   "environment_variables": {},
   "exception": null,
   "input_path": "__notebook__.ipynb",
   "output_path": "__notebook__.ipynb",
   "parameters": {},
   "start_time": "2022-01-14T04:31:31.722736",
   "version": "2.3.3"
  }
 },
 "nbformat": 4,
 "nbformat_minor": 5
}
