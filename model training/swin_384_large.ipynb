{
 "cells": [
  {
   "cell_type": "code",
   "execution_count": 1,
   "id": "91d4847a",
   "metadata": {
    "_cell_guid": "b1076dfc-b9ad-4769-8c92-a6c4dae69d19",
    "_uuid": "8f2839f25d086af736a60e9eeb907d3b93b6e0e5",
    "execution": {
     "iopub.execute_input": "2021-10-30T10:35:13.801188Z",
     "iopub.status.busy": "2021-10-30T10:35:13.798922Z",
     "iopub.status.idle": "2021-10-30T10:35:19.853914Z",
     "shell.execute_reply": "2021-10-30T10:35:19.852846Z",
     "shell.execute_reply.started": "2021-10-30T02:17:31.935283Z"
    },
    "papermill": {
     "duration": 6.085195,
     "end_time": "2021-10-30T10:35:19.854159",
     "exception": false,
     "start_time": "2021-10-30T10:35:13.768964",
     "status": "completed"
    },
    "tags": []
   },
   "outputs": [
    {
     "name": "stderr",
     "output_type": "stream",
     "text": [
      "2021-10-30 10:35:15.336526: I tensorflow/stream_executor/platform/default/dso_loader.cc:49] Successfully opened dynamic library libcudart.so.11.0\n"
     ]
    }
   ],
   "source": [
    "# This Python 3 environment comes with many helpful analytics libraries installed\n",
    "# It is defined by the kaggle/python Docker image: https://github.com/kaggle/docker-python\n",
    "# For example, here's several helpful packages to load\n",
    "\n",
    "import numpy as np # linear algebra\n",
    "import pandas as pd # data processing, CSV file I/O (e.g. pd.read_csv)\n",
    "import matplotlib.pyplot as plt\n",
    "import os\n",
    "from sklearn.model_selection import GroupKFold\n",
    "from sklearn.model_selection import train_test_split\n",
    "\n",
    "# from swintransformer import SwinTransformer\n",
    "import tensorflow as tf\n",
    "from tensorflow.keras import callbacks\n",
    "import tensorflow.keras.layers as tfl\n",
    "from tensorflow.keras.preprocessing import image_dataset_from_directory\n",
    "from tensorflow.keras.layers.experimental.preprocessing import RandomFlip, RandomRotation, RandomZoom, RandomTranslation\n",
    "import tensorflow.keras.backend as K\n",
    "\n",
    "import cv2\n",
    "\n",
    "# Input data files are available in the read-only \"../input/\" directory\n",
    "# For example, running this (by clicking run or pressing Shift+Enter) will list all files under the input directory\n",
    "\n",
    "import os\n",
    "# for dirname, _, filenames in os.walk('/kaggle/input'):\n",
    "#     for filename in filenames:\n",
    "#         print(os.path.join(dirname, filename))\n",
    "\n",
    "# You can write up to 20GB to the current directory (/kaggle/working/) that gets preserved as output when you create a version using \"Save & Run All\" \n",
    "# You can also write temporary files to /kaggle/temp/, but they won't be saved outside of the current session"
   ]
  },
  {
   "cell_type": "code",
   "execution_count": 2,
   "id": "a59de8f0",
   "metadata": {
    "execution": {
     "iopub.execute_input": "2021-10-30T10:35:19.907749Z",
     "iopub.status.busy": "2021-10-30T10:35:19.907057Z",
     "iopub.status.idle": "2021-10-30T10:35:19.945682Z",
     "shell.execute_reply": "2021-10-30T10:35:19.945088Z",
     "shell.execute_reply.started": "2021-10-30T02:17:37.124171Z"
    },
    "papermill": {
     "duration": 0.066146,
     "end_time": "2021-10-30T10:35:19.945824",
     "exception": false,
     "start_time": "2021-10-30T10:35:19.879678",
     "status": "completed"
    },
    "tags": []
   },
   "outputs": [],
   "source": [
    "import sys\n",
    "sys.path.append('../input/swintransformertf')\n",
    "from swintransformer import SwinTransformer"
   ]
  },
  {
   "cell_type": "code",
   "execution_count": 3,
   "id": "85040d4b",
   "metadata": {
    "execution": {
     "iopub.execute_input": "2021-10-30T10:35:19.997021Z",
     "iopub.status.busy": "2021-10-30T10:35:19.995474Z",
     "iopub.status.idle": "2021-10-30T10:35:20.044822Z",
     "shell.execute_reply": "2021-10-30T10:35:20.045333Z",
     "shell.execute_reply.started": "2021-10-30T02:17:37.15724Z"
    },
    "papermill": {
     "duration": 0.075948,
     "end_time": "2021-10-30T10:35:20.045539",
     "exception": false,
     "start_time": "2021-10-30T10:35:19.969591",
     "status": "completed"
    },
    "tags": []
   },
   "outputs": [],
   "source": [
    "train_df = pd.read_csv('/kaggle/input/petfinder-pawpularity-score/train.csv')"
   ]
  },
  {
   "cell_type": "code",
   "execution_count": 4,
   "id": "212756a9",
   "metadata": {
    "execution": {
     "iopub.execute_input": "2021-10-30T10:35:20.097778Z",
     "iopub.status.busy": "2021-10-30T10:35:20.096813Z",
     "iopub.status.idle": "2021-10-30T10:35:20.100161Z",
     "shell.execute_reply": "2021-10-30T10:35:20.099611Z",
     "shell.execute_reply.started": "2021-10-30T02:20:20.670839Z"
    },
    "papermill": {
     "duration": 0.031348,
     "end_time": "2021-10-30T10:35:20.100289",
     "exception": false,
     "start_time": "2021-10-30T10:35:20.068941",
     "status": "completed"
    },
    "tags": []
   },
   "outputs": [],
   "source": [
    "BATCH_SIZE = 64\n",
    "IMG_SIZE = (384, 384)\n",
    "directory = '/kaggle/input/petfinder-pawpularity-score/train/'\n",
    "seed = 1022\n",
    "fold = 3\n",
    "epochs = 10\n",
    "learning_rate = 0.001\n",
    "splitted_directory = '/kaggle/input/data-split-pawpularity/'"
   ]
  },
  {
   "cell_type": "code",
   "execution_count": 7,
   "id": "dce8db5d",
   "metadata": {
    "execution": {
     "iopub.execute_input": "2021-10-30T10:35:20.267813Z",
     "iopub.status.busy": "2021-10-30T10:35:20.266747Z",
     "iopub.status.idle": "2021-10-30T10:35:20.270110Z",
     "shell.execute_reply": "2021-10-30T10:35:20.269471Z",
     "shell.execute_reply.started": "2021-10-30T02:17:37.222763Z"
    },
    "papermill": {
     "duration": 0.037525,
     "end_time": "2021-10-30T10:35:20.270241",
     "exception": false,
     "start_time": "2021-10-30T10:35:20.232716",
     "status": "completed"
    },
    "tags": []
   },
   "outputs": [],
   "source": [
    "def preprocess_dataset(train_df, val_df, img_size=IMG_SIZE, batch_size= BATCH_SIZE, seed=seed, buffer_size = tf.data.experimental.AUTOTUNE):\n",
    "    X_train = tf.constant(train_df['img_path'])\n",
    "    y_train = tf.constant(train_df['Pawpularity'])\n",
    "    X_val = tf.constant(val_df['img_path'])\n",
    "    y_val = tf.constant(val_df['Pawpularity'])\n",
    "    \n",
    "    print('Training Set = ', X_train.shape)\n",
    "    print('Validation Set = ', X_val.shape)\n",
    "    \n",
    "    def preprocess(image_url, label):\n",
    "        image_string = tf.io.read_file(image_url)\n",
    "        image = tf.image.decode_jpeg(image_string, channels=3)\n",
    "        image = tf.keras.applications.imagenet_utils.preprocess_input(tf.cast(image, tf.float32), mode=\"torch\")\n",
    "        image = tf.image.central_crop(image, 1.0)\n",
    "        image = tf.image.resize(image, img_size)\n",
    "        return image, label\n",
    "    \n",
    "    training_data = tf.data.Dataset.from_tensor_slices((X_train, y_train)).map(preprocess).batch(batch_size).prefetch(buffer_size=buffer_size)\n",
    "    val_data = tf.data.Dataset.from_tensor_slices((X_val, y_val)).map(preprocess).batch(batch_size).prefetch(buffer_size=buffer_size)\n",
    "    \n",
    "    return training_data, val_data"
   ]
  },
  {
   "cell_type": "code",
   "execution_count": 8,
   "id": "49dfc013",
   "metadata": {
    "execution": {
     "iopub.execute_input": "2021-10-30T10:35:20.320137Z",
     "iopub.status.busy": "2021-10-30T10:35:20.319291Z",
     "iopub.status.idle": "2021-10-30T10:35:20.322858Z",
     "shell.execute_reply": "2021-10-30T10:35:20.322311Z",
     "shell.execute_reply.started": "2021-10-30T02:17:37.235975Z"
    },
    "papermill": {
     "duration": 0.029715,
     "end_time": "2021-10-30T10:35:20.322981",
     "exception": false,
     "start_time": "2021-10-30T10:35:20.293266",
     "status": "completed"
    },
    "tags": []
   },
   "outputs": [],
   "source": [
    "def data_augmenter():\n",
    "    data_augmentation = tf.keras.Sequential()\n",
    "    data_augmentation.add(RandomFlip('horizontal'))\n",
    "    data_augmentation.add(RandomRotation(0.2))\n",
    "    \n",
    "    return data_augmentation"
   ]
  },
  {
   "cell_type": "code",
   "execution_count": 9,
   "id": "b89cb992",
   "metadata": {
    "execution": {
     "iopub.execute_input": "2021-10-30T10:35:20.379086Z",
     "iopub.status.busy": "2021-10-30T10:35:20.377966Z",
     "iopub.status.idle": "2021-10-30T10:35:22.717068Z",
     "shell.execute_reply": "2021-10-30T10:35:22.716325Z",
     "shell.execute_reply.started": "2021-10-30T02:20:08.953224Z"
    },
    "papermill": {
     "duration": 2.371633,
     "end_time": "2021-10-30T10:35:22.717227",
     "exception": false,
     "start_time": "2021-10-30T10:35:20.345594",
     "status": "completed"
    },
    "tags": []
   },
   "outputs": [
    {
     "name": "stderr",
     "output_type": "stream",
     "text": [
      "2021-10-30 10:35:20.389147: I tensorflow/compiler/jit/xla_cpu_device.cc:41] Not creating XLA devices, tf_xla_enable_xla_devices not set\n",
      "2021-10-30 10:35:20.392993: I tensorflow/stream_executor/platform/default/dso_loader.cc:49] Successfully opened dynamic library libcuda.so.1\n",
      "2021-10-30 10:35:20.434558: I tensorflow/stream_executor/cuda/cuda_gpu_executor.cc:941] successful NUMA node read from SysFS had negative value (-1), but there must be at least one NUMA node, so returning NUMA node zero\n",
      "2021-10-30 10:35:20.435703: I tensorflow/core/common_runtime/gpu/gpu_device.cc:1720] Found device 0 with properties: \n",
      "pciBusID: 0000:00:04.0 name: Tesla P100-PCIE-16GB computeCapability: 6.0\n",
      "coreClock: 1.3285GHz coreCount: 56 deviceMemorySize: 15.90GiB deviceMemoryBandwidth: 681.88GiB/s\n",
      "2021-10-30 10:35:20.435759: I tensorflow/stream_executor/platform/default/dso_loader.cc:49] Successfully opened dynamic library libcudart.so.11.0\n",
      "2021-10-30 10:35:20.466385: I tensorflow/stream_executor/platform/default/dso_loader.cc:49] Successfully opened dynamic library libcublas.so.11\n",
      "2021-10-30 10:35:20.466498: I tensorflow/stream_executor/platform/default/dso_loader.cc:49] Successfully opened dynamic library libcublasLt.so.11\n",
      "2021-10-30 10:35:20.486079: I tensorflow/stream_executor/platform/default/dso_loader.cc:49] Successfully opened dynamic library libcufft.so.10\n",
      "2021-10-30 10:35:20.495721: I tensorflow/stream_executor/platform/default/dso_loader.cc:49] Successfully opened dynamic library libcurand.so.10\n",
      "2021-10-30 10:35:20.524514: I tensorflow/stream_executor/platform/default/dso_loader.cc:49] Successfully opened dynamic library libcusolver.so.10\n",
      "2021-10-30 10:35:20.532175: I tensorflow/stream_executor/platform/default/dso_loader.cc:49] Successfully opened dynamic library libcusparse.so.11\n",
      "2021-10-30 10:35:20.536475: I tensorflow/stream_executor/platform/default/dso_loader.cc:49] Successfully opened dynamic library libcudnn.so.8\n",
      "2021-10-30 10:35:20.536679: I tensorflow/stream_executor/cuda/cuda_gpu_executor.cc:941] successful NUMA node read from SysFS had negative value (-1), but there must be at least one NUMA node, so returning NUMA node zero\n",
      "2021-10-30 10:35:20.537783: I tensorflow/stream_executor/cuda/cuda_gpu_executor.cc:941] successful NUMA node read from SysFS had negative value (-1), but there must be at least one NUMA node, so returning NUMA node zero\n",
      "2021-10-30 10:35:20.539948: I tensorflow/core/common_runtime/gpu/gpu_device.cc:1862] Adding visible gpu devices: 0\n",
      "2021-10-30 10:35:20.541045: I tensorflow/core/platform/cpu_feature_guard.cc:142] This TensorFlow binary is optimized with oneAPI Deep Neural Network Library (oneDNN) to use the following CPU instructions in performance-critical operations:  AVX2 FMA\n",
      "To enable them in other operations, rebuild TensorFlow with the appropriate compiler flags.\n",
      "2021-10-30 10:35:20.541310: I tensorflow/compiler/jit/xla_gpu_device.cc:99] Not creating XLA devices, tf_xla_enable_xla_devices not set\n",
      "2021-10-30 10:35:20.541505: I tensorflow/stream_executor/cuda/cuda_gpu_executor.cc:941] successful NUMA node read from SysFS had negative value (-1), but there must be at least one NUMA node, so returning NUMA node zero\n",
      "2021-10-30 10:35:20.542458: I tensorflow/core/common_runtime/gpu/gpu_device.cc:1720] Found device 0 with properties: \n",
      "pciBusID: 0000:00:04.0 name: Tesla P100-PCIE-16GB computeCapability: 6.0\n",
      "coreClock: 1.3285GHz coreCount: 56 deviceMemorySize: 15.90GiB deviceMemoryBandwidth: 681.88GiB/s\n",
      "2021-10-30 10:35:20.542519: I tensorflow/stream_executor/platform/default/dso_loader.cc:49] Successfully opened dynamic library libcudart.so.11.0\n",
      "2021-10-30 10:35:20.542568: I tensorflow/stream_executor/platform/default/dso_loader.cc:49] Successfully opened dynamic library libcublas.so.11\n",
      "2021-10-30 10:35:20.542614: I tensorflow/stream_executor/platform/default/dso_loader.cc:49] Successfully opened dynamic library libcublasLt.so.11\n",
      "2021-10-30 10:35:20.542659: I tensorflow/stream_executor/platform/default/dso_loader.cc:49] Successfully opened dynamic library libcufft.so.10\n",
      "2021-10-30 10:35:20.542703: I tensorflow/stream_executor/platform/default/dso_loader.cc:49] Successfully opened dynamic library libcurand.so.10\n",
      "2021-10-30 10:35:20.542747: I tensorflow/stream_executor/platform/default/dso_loader.cc:49] Successfully opened dynamic library libcusolver.so.10\n",
      "2021-10-30 10:35:20.542794: I tensorflow/stream_executor/platform/default/dso_loader.cc:49] Successfully opened dynamic library libcusparse.so.11\n",
      "2021-10-30 10:35:20.542839: I tensorflow/stream_executor/platform/default/dso_loader.cc:49] Successfully opened dynamic library libcudnn.so.8\n",
      "2021-10-30 10:35:20.542946: I tensorflow/stream_executor/cuda/cuda_gpu_executor.cc:941] successful NUMA node read from SysFS had negative value (-1), but there must be at least one NUMA node, so returning NUMA node zero\n",
      "2021-10-30 10:35:20.543967: I tensorflow/stream_executor/cuda/cuda_gpu_executor.cc:941] successful NUMA node read from SysFS had negative value (-1), but there must be at least one NUMA node, so returning NUMA node zero\n",
      "2021-10-30 10:35:20.544919: I tensorflow/core/common_runtime/gpu/gpu_device.cc:1862] Adding visible gpu devices: 0\n",
      "2021-10-30 10:35:20.546178: I tensorflow/stream_executor/platform/default/dso_loader.cc:49] Successfully opened dynamic library libcudart.so.11.0\n",
      "2021-10-30 10:35:22.353485: I tensorflow/core/common_runtime/gpu/gpu_device.cc:1261] Device interconnect StreamExecutor with strength 1 edge matrix:\n",
      "2021-10-30 10:35:22.353543: I tensorflow/core/common_runtime/gpu/gpu_device.cc:1267]      0 \n",
      "2021-10-30 10:35:22.353557: I tensorflow/core/common_runtime/gpu/gpu_device.cc:1280] 0:   N \n",
      "2021-10-30 10:35:22.356486: I tensorflow/stream_executor/cuda/cuda_gpu_executor.cc:941] successful NUMA node read from SysFS had negative value (-1), but there must be at least one NUMA node, so returning NUMA node zero\n",
      "2021-10-30 10:35:22.357561: I tensorflow/stream_executor/cuda/cuda_gpu_executor.cc:941] successful NUMA node read from SysFS had negative value (-1), but there must be at least one NUMA node, so returning NUMA node zero\n",
      "2021-10-30 10:35:22.358506: I tensorflow/stream_executor/cuda/cuda_gpu_executor.cc:941] successful NUMA node read from SysFS had negative value (-1), but there must be at least one NUMA node, so returning NUMA node zero\n",
      "2021-10-30 10:35:22.359461: I tensorflow/core/common_runtime/gpu/gpu_device.cc:1406] Created TensorFlow device (/job:localhost/replica:0/task:0/device:GPU:0 with 14957 MB memory) -> physical GPU (device: 0, name: Tesla P100-PCIE-16GB, pci bus id: 0000:00:04.0, compute capability: 6.0)\n"
     ]
    }
   ],
   "source": [
    "def build_model(image_size = IMG_SIZE, data_augmentation = data_augmenter()):\n",
    "\n",
    "    input_shape = IMG_SIZE + (3,)\n",
    "    base_model = SwinTransformer('swin_large_384', include_top=False, pretrained=True)\n",
    "    base_model.trainable = False\n",
    "\n",
    "    inputs = tf.keras.Input(shape=input_shape) \n",
    "    x = data_augmentation(inputs)\n",
    "    x = base_model(x, training=False)\n",
    "    x = tfl.Dropout(0.5)(x)\n",
    "\n",
    "    x = tfl.Dense(512, kernel_regularizer=tf.keras.regularizers.l2(0.001))(x)\n",
    "    x = tfl.BatchNormalization()(x)\n",
    "    x = tfl.LeakyReLU()(x)\n",
    "    x = tfl.Dropout(0.5)(x)\n",
    "    \n",
    "    x = tfl.Dense(64, kernel_regularizer=tf.keras.regularizers.l2(0.001))(x)\n",
    "    x = tfl.BatchNormalization()(x)\n",
    "    x = tfl.LeakyReLU()(x)\n",
    "    x = tfl.Dropout(0.5)(x)\n",
    "    \n",
    "    outputs = tfl.Dense(1, activation = 'sigmoid')(x)\n",
    "    \n",
    "    model = tf.keras.Model(inputs, outputs)\n",
    "    return model"
   ]
  },
  {
   "cell_type": "code",
   "execution_count": 10,
   "id": "303da462",
   "metadata": {
    "execution": {
     "iopub.execute_input": "2021-10-30T10:35:22.769583Z",
     "iopub.status.busy": "2021-10-30T10:35:22.768539Z",
     "iopub.status.idle": "2021-10-30T10:35:22.775224Z",
     "shell.execute_reply": "2021-10-30T10:35:22.775798Z",
     "shell.execute_reply.started": "2021-10-30T02:20:28.292693Z"
    },
    "papermill": {
     "duration": 0.03415,
     "end_time": "2021-10-30T10:35:22.775963",
     "exception": false,
     "start_time": "2021-10-30T10:35:22.741813",
     "status": "completed"
    },
    "tags": []
   },
   "outputs": [],
   "source": [
    "def RMSE(y_true, y_pred, denormalize=True):\n",
    "    if denormalize:\n",
    "        # denormalizing\n",
    "        y_true = y_true*100.0\n",
    "        y_pred = y_pred*100.0\n",
    "    # rmse\n",
    "    loss = tf.math.sqrt(tf.math.reduce_mean(tf.math.square(tf.subtract(y_true, y_pred))))\n",
    "    return loss\n",
    "RMSE.__name__='rmse'\n",
    "\n",
    "rmse = RMSE"
   ]
  },
  {
   "cell_type": "code",
   "execution_count": 12,
   "id": "2cc9953c",
   "metadata": {
    "execution": {
     "iopub.execute_input": "2021-10-30T10:35:22.880886Z",
     "iopub.status.busy": "2021-10-30T10:35:22.879777Z",
     "iopub.status.idle": "2021-10-30T10:35:22.884814Z",
     "shell.execute_reply": "2021-10-30T10:35:22.884203Z",
     "shell.execute_reply.started": "2021-10-30T02:20:30.583279Z"
    },
    "papermill": {
     "duration": 0.032447,
     "end_time": "2021-10-30T10:35:22.884975",
     "exception": false,
     "start_time": "2021-10-30T10:35:22.852528",
     "status": "completed"
    },
    "tags": []
   },
   "outputs": [],
   "source": [
    "history_folds = []"
   ]
  },
  {
   "cell_type": "code",
   "execution_count": 13,
   "id": "a634e78f",
   "metadata": {
    "execution": {
     "iopub.execute_input": "2021-10-30T10:35:22.935486Z",
     "iopub.status.busy": "2021-10-30T10:35:22.934372Z",
     "iopub.status.idle": "2021-10-30T10:35:22.940413Z",
     "shell.execute_reply": "2021-10-30T10:35:22.941097Z",
     "shell.execute_reply.started": "2021-10-30T02:20:30.753641Z"
    },
    "papermill": {
     "duration": 0.033119,
     "end_time": "2021-10-30T10:35:22.941234",
     "exception": false,
     "start_time": "2021-10-30T10:35:22.908115",
     "status": "completed"
    },
    "tags": []
   },
   "outputs": [],
   "source": [
    "def scheduler(epoch, lr):\n",
    "    if epoch < 5:\n",
    "        return lr\n",
    "    else:\n",
    "        return lr * tf.math.exp(-0.1)\n",
    "    \n",
    "callback = tf.keras.callbacks.LearningRateScheduler(scheduler)"
   ]
  },
  {
   "cell_type": "code",
   "execution_count": 14,
   "id": "e553d3af",
   "metadata": {
    "execution": {
     "iopub.execute_input": "2021-10-30T10:35:22.994091Z",
     "iopub.status.busy": "2021-10-30T10:35:22.990992Z",
     "iopub.status.idle": "2021-10-30T10:35:22.996906Z",
     "shell.execute_reply": "2021-10-30T10:35:22.997376Z",
     "shell.execute_reply.started": "2021-10-30T02:20:31.103228Z"
    },
    "papermill": {
     "duration": 0.032096,
     "end_time": "2021-10-30T10:35:22.997547",
     "exception": false,
     "start_time": "2021-10-30T10:35:22.965451",
     "status": "completed"
    },
    "tags": []
   },
   "outputs": [],
   "source": [
    "rlr = callbacks.ReduceLROnPlateau(monitor=\"val_rmse\",factor=0.3, patience=3)\n",
    "es = tf.keras.callbacks.EarlyStopping(monitor='val_rmse', patience=3, restore_best_weights=True)"
   ]
  },
  {
   "cell_type": "code",
   "execution_count": 15,
   "id": "de89ef89",
   "metadata": {
    "execution": {
     "iopub.execute_input": "2021-10-30T10:35:23.057128Z",
     "iopub.status.busy": "2021-10-30T10:35:23.056433Z"
    },
    "papermill": {
     "duration": null,
     "end_time": null,
     "exception": false,
     "start_time": "2021-10-30T10:35:23.020949",
     "status": "running"
    },
    "tags": []
   },
   "outputs": [
    {
     "name": "stdout",
     "output_type": "stream",
     "text": [
      "Training Set =  (7929,)\n",
      "Validation Set =  (1983,)\n",
      "Downloading data from https://github.com/rishigami/Swin-Transformer-TF/releases/download/v0.1-tf-swin-weights/swin_large_384.tgz\n",
      "723476480/723475820 [==============================] - 10s 0us/step\n",
      "Model: \"model\"\n",
      "_________________________________________________________________\n",
      "Layer (type)                 Output Shape              Param #   \n",
      "=================================================================\n",
      "input_2 (InputLayer)         [(None, 384, 384, 3)]     0         \n",
      "_________________________________________________________________\n",
      "sequential (Sequential)      (None, 384, 384, 3)       0         \n",
      "_________________________________________________________________\n",
      "swin_large_384 (SwinTransfor (None, 1536)              198101556 \n",
      "_________________________________________________________________\n",
      "dropout_73 (Dropout)         (None, 1536)              0         \n",
      "_________________________________________________________________\n",
      "dense (Dense)                (None, 512)               786944    \n",
      "_________________________________________________________________\n",
      "batch_normalization (BatchNo (None, 512)               2048      \n",
      "_________________________________________________________________\n",
      "leaky_re_lu (LeakyReLU)      (None, 512)               0         \n",
      "_________________________________________________________________\n",
      "dropout_74 (Dropout)         (None, 512)               0         \n",
      "_________________________________________________________________\n",
      "dense_1 (Dense)              (None, 64)                32832     \n",
      "_________________________________________________________________\n",
      "batch_normalization_1 (Batch (None, 64)                256       \n",
      "_________________________________________________________________\n",
      "leaky_re_lu_1 (LeakyReLU)    (None, 64)                0         \n",
      "_________________________________________________________________\n",
      "dropout_75 (Dropout)         (None, 64)                0         \n",
      "_________________________________________________________________\n",
      "dense_2 (Dense)              (None, 1)                 65        \n",
      "=================================================================\n",
      "Total params: 198,923,701\n",
      "Trainable params: 820,993\n",
      "Non-trainable params: 198,102,708\n",
      "_________________________________________________________________\n",
      "Epoch 1/10\n"
     ]
    },
    {
     "name": "stderr",
     "output_type": "stream",
     "text": [
      "2021-10-30 10:36:02.129144: I tensorflow/compiler/mlir/mlir_graph_optimization_pass.cc:116] None of the MLIR optimization passes are enabled (registered 2)\n",
      "2021-10-30 10:36:02.132702: I tensorflow/core/platform/profile_utils/cpu_utils.cc:112] CPU Frequency: 2199995000 Hz\n",
      "2021-10-30 10:36:36.042881: I tensorflow/stream_executor/platform/default/dso_loader.cc:49] Successfully opened dynamic library libcublas.so.11\n",
      "2021-10-30 10:36:37.058875: I tensorflow/stream_executor/platform/default/dso_loader.cc:49] Successfully opened dynamic library libcublasLt.so.11\n",
      "2021-10-30 10:36:38.388909: I tensorflow/stream_executor/platform/default/dso_loader.cc:49] Successfully opened dynamic library libcudnn.so.8\n"
     ]
    },
    {
     "name": "stdout",
     "output_type": "stream",
     "text": [
      "124/124 [==============================] - 665s 5s/step - loss: 1.7151 - rmse: 32.7903 - val_loss: 1.3839 - val_rmse: 19.4891\n",
      "Epoch 2/10\n",
      "124/124 [==============================] - 618s 5s/step - loss: 1.3892 - rmse: 24.8163 - val_loss: 1.1732 - val_rmse: 18.3886\n",
      "Epoch 3/10\n",
      "124/124 [==============================] - 617s 5s/step - loss: 1.1630 - rmse: 22.3042 - val_loss: 1.0007 - val_rmse: 18.1999\n",
      "Epoch 4/10\n",
      "124/124 [==============================] - 617s 5s/step - loss: 0.9841 - rmse: 20.4964 - val_loss: 0.8770 - val_rmse: 18.2366\n",
      "Epoch 5/10\n",
      "124/124 [==============================] - 617s 5s/step - loss: 0.8642 - rmse: 19.6959 - val_loss: 0.7950 - val_rmse: 18.1725\n",
      "Epoch 6/10\n",
      "124/124 [==============================] - 617s 5s/step - loss: 0.7889 - rmse: 19.4013 - val_loss: 0.7448 - val_rmse: 18.1432\n",
      "Epoch 7/10\n",
      "124/124 [==============================] - 617s 5s/step - loss: 0.7401 - rmse: 18.8606 - val_loss: 0.7159 - val_rmse: 18.1689\n",
      "Epoch 8/10\n",
      "124/124 [==============================] - 617s 5s/step - loss: 0.7143 - rmse: 18.8452 - val_loss: 0.6988 - val_rmse: 18.1117\n",
      "Epoch 9/10\n",
      "124/124 [==============================] - 616s 5s/step - loss: 0.7001 - rmse: 18.8743 - val_loss: 0.6885 - val_rmse: 18.1046\n",
      "Epoch 10/10\n",
      "124/124 [==============================] - 618s 5s/step - loss: 0.6898 - rmse: 18.7492 - val_loss: 0.6810 - val_rmse: 18.0160\n",
      "True\n",
      "Model: \"model\"\n",
      "_________________________________________________________________\n",
      "Layer (type)                 Output Shape              Param #   \n",
      "=================================================================\n",
      "input_2 (InputLayer)         [(None, 384, 384, 3)]     0         \n",
      "_________________________________________________________________\n",
      "sequential (Sequential)      (None, 384, 384, 3)       0         \n",
      "_________________________________________________________________\n",
      "swin_large_384 (SwinTransfor (None, 1536)              198101556 \n",
      "_________________________________________________________________\n",
      "dropout_73 (Dropout)         (None, 1536)              0         \n",
      "_________________________________________________________________\n",
      "dense (Dense)                (None, 512)               786944    \n",
      "_________________________________________________________________\n",
      "batch_normalization (BatchNo (None, 512)               2048      \n",
      "_________________________________________________________________\n",
      "leaky_re_lu (LeakyReLU)      (None, 512)               0         \n",
      "_________________________________________________________________\n",
      "dropout_74 (Dropout)         (None, 512)               0         \n",
      "_________________________________________________________________\n",
      "dense_1 (Dense)              (None, 64)                32832     \n",
      "_________________________________________________________________\n",
      "batch_normalization_1 (Batch (None, 64)                256       \n",
      "_________________________________________________________________\n",
      "leaky_re_lu_1 (LeakyReLU)    (None, 64)                0         \n",
      "_________________________________________________________________\n",
      "dropout_75 (Dropout)         (None, 64)                0         \n",
      "_________________________________________________________________\n",
      "dense_2 (Dense)              (None, 1)                 65        \n",
      "=================================================================\n",
      "Total params: 198,923,701\n",
      "Trainable params: 57,537,889\n",
      "Non-trainable params: 141,385,812\n",
      "_________________________________________________________________\n",
      "Epoch 10/20\n",
      "124/124 [==============================] - 699s 5s/step - loss: 0.6835 - rmse: 18.6268 - val_loss: 0.6789 - val_rmse: 17.8308\n",
      "Epoch 11/20\n",
      "124/124 [==============================] - 660s 5s/step - loss: 0.6797 - rmse: 18.2387 - val_loss: 0.6775 - val_rmse: 17.7481\n",
      "Epoch 12/20\n",
      "124/124 [==============================] - 660s 5s/step - loss: 0.6780 - rmse: 18.1170 - val_loss: 0.6764 - val_rmse: 17.6900\n",
      "Epoch 13/20\n",
      "124/124 [==============================] - 660s 5s/step - loss: 0.6756 - rmse: 17.8894 - val_loss: 0.6756 - val_rmse: 17.6831\n",
      "Epoch 14/20\n",
      "124/124 [==============================] - 660s 5s/step - loss: 0.6735 - rmse: 17.7106 - val_loss: 0.6747 - val_rmse: 17.6507\n",
      "Epoch 15/20\n",
      "124/124 [==============================] - 661s 5s/step - loss: 0.6726 - rmse: 17.6593 - val_loss: 0.6740 - val_rmse: 17.6507\n",
      "Epoch 16/20\n",
      "124/124 [==============================] - 661s 5s/step - loss: 0.6707 - rmse: 17.4839 - val_loss: 0.6733 - val_rmse: 17.6395\n",
      "Epoch 17/20\n",
      "124/124 [==============================] - 662s 5s/step - loss: 0.6696 - rmse: 17.4198 - val_loss: 0.6726 - val_rmse: 17.6243\n",
      "Epoch 18/20\n",
      "124/124 [==============================] - 661s 5s/step - loss: 0.6672 - rmse: 17.1984 - val_loss: 0.6722 - val_rmse: 17.6475\n",
      "Epoch 19/20\n",
      "124/124 [==============================] - 661s 5s/step - loss: 0.6660 - rmse: 17.0967 - val_loss: 0.6717 - val_rmse: 17.6685\n",
      "Epoch 20/20\n",
      "124/124 [==============================] - 660s 5s/step - loss: 0.6647 - rmse: 16.9825 - val_loss: 0.6714 - val_rmse: 17.6949\n"
     ]
    },
    {
     "name": "stderr",
     "output_type": "stream",
     "text": [
      "2021-10-30 14:22:18.539096: W tensorflow/python/util/util.cc:348] Sets are not currently considered sequences, but this may change in the future, so consider avoiding using them.\n"
     ]
    },
    {
     "name": "stdout",
     "output_type": "stream",
     "text": [
      "Training Set =  (7929,)\n",
      "Validation Set =  (1983,)\n",
      "Model: \"model\"\n",
      "_________________________________________________________________\n",
      "Layer (type)                 Output Shape              Param #   \n",
      "=================================================================\n",
      "input_2 (InputLayer)         [(None, 384, 384, 3)]     0         \n",
      "_________________________________________________________________\n",
      "sequential (Sequential)      (None, 384, 384, 3)       0         \n",
      "_________________________________________________________________\n",
      "swin_large_384 (SwinTransfor (None, 1536)              198101556 \n",
      "_________________________________________________________________\n",
      "dropout_73 (Dropout)         (None, 1536)              0         \n",
      "_________________________________________________________________\n",
      "dense (Dense)                (None, 512)               786944    \n",
      "_________________________________________________________________\n",
      "batch_normalization (BatchNo (None, 512)               2048      \n",
      "_________________________________________________________________\n",
      "leaky_re_lu (LeakyReLU)      (None, 512)               0         \n",
      "_________________________________________________________________\n",
      "dropout_74 (Dropout)         (None, 512)               0         \n",
      "_________________________________________________________________\n",
      "dense_1 (Dense)              (None, 64)                32832     \n",
      "_________________________________________________________________\n",
      "batch_normalization_1 (Batch (None, 64)                256       \n",
      "_________________________________________________________________\n",
      "leaky_re_lu_1 (LeakyReLU)    (None, 64)                0         \n",
      "_________________________________________________________________\n",
      "dropout_75 (Dropout)         (None, 64)                0         \n",
      "_________________________________________________________________\n",
      "dense_2 (Dense)              (None, 1)                 65        \n",
      "=================================================================\n",
      "Total params: 198,923,701\n",
      "Trainable params: 820,993\n",
      "Non-trainable params: 198,102,708\n",
      "_________________________________________________________________\n",
      "Epoch 1/10\n",
      "124/124 [==============================] - 656s 5s/step - loss: 1.6294 - rmse: 28.6877 - val_loss: 1.3387 - val_rmse: 18.7740\n",
      "Epoch 2/10\n",
      "124/124 [==============================] - 619s 5s/step - loss: 1.3281 - rmse: 23.4968 - val_loss: 1.1127 - val_rmse: 18.3606\n",
      "Epoch 3/10\n",
      "124/124 [==============================] - 618s 5s/step - loss: 1.0891 - rmse: 21.2212 - val_loss: 0.9410 - val_rmse: 18.4623\n",
      "Epoch 4/10\n",
      "124/124 [==============================] - 619s 5s/step - loss: 0.9196 - rmse: 19.9327 - val_loss: 0.8274 - val_rmse: 18.3467\n",
      "Epoch 5/10\n",
      "124/124 [==============================] - 619s 5s/step - loss: 0.8120 - rmse: 19.0319 - val_loss: 0.7602 - val_rmse: 18.3037\n",
      "Epoch 6/10\n",
      "124/124 [==============================] - 618s 5s/step - loss: 0.7513 - rmse: 18.7807 - val_loss: 0.7238 - val_rmse: 18.3257\n",
      "Epoch 7/10\n",
      "124/124 [==============================] - 618s 5s/step - loss: 0.7186 - rmse: 18.6528 - val_loss: 0.7033 - val_rmse: 18.2731\n",
      "Epoch 8/10\n",
      "124/124 [==============================] - 619s 5s/step - loss: 0.6998 - rmse: 18.4673 - val_loss: 0.6917 - val_rmse: 18.1385\n",
      "Epoch 9/10\n",
      "124/124 [==============================] - 619s 5s/step - loss: 0.6906 - rmse: 18.5264 - val_loss: 0.6847 - val_rmse: 18.2003\n",
      "Epoch 10/10\n",
      "124/124 [==============================] - 620s 5s/step - loss: 0.6841 - rmse: 18.5865 - val_loss: 0.6801 - val_rmse: 18.1384\n",
      "True\n",
      "Model: \"model\"\n",
      "_________________________________________________________________\n",
      "Layer (type)                 Output Shape              Param #   \n",
      "=================================================================\n",
      "input_2 (InputLayer)         [(None, 384, 384, 3)]     0         \n",
      "_________________________________________________________________\n",
      "sequential (Sequential)      (None, 384, 384, 3)       0         \n",
      "_________________________________________________________________\n",
      "swin_large_384 (SwinTransfor (None, 1536)              198101556 \n",
      "_________________________________________________________________\n",
      "dropout_73 (Dropout)         (None, 1536)              0         \n",
      "_________________________________________________________________\n",
      "dense (Dense)                (None, 512)               786944    \n",
      "_________________________________________________________________\n",
      "batch_normalization (BatchNo (None, 512)               2048      \n",
      "_________________________________________________________________\n",
      "leaky_re_lu (LeakyReLU)      (None, 512)               0         \n",
      "_________________________________________________________________\n",
      "dropout_74 (Dropout)         (None, 512)               0         \n",
      "_________________________________________________________________\n",
      "dense_1 (Dense)              (None, 64)                32832     \n",
      "_________________________________________________________________\n",
      "batch_normalization_1 (Batch (None, 64)                256       \n",
      "_________________________________________________________________\n",
      "leaky_re_lu_1 (LeakyReLU)    (None, 64)                0         \n",
      "_________________________________________________________________\n",
      "dropout_75 (Dropout)         (None, 64)                0         \n",
      "_________________________________________________________________\n",
      "dense_2 (Dense)              (None, 1)                 65        \n",
      "=================================================================\n",
      "Total params: 198,923,701\n",
      "Trainable params: 57,537,889\n",
      "Non-trainable params: 141,385,812\n",
      "_________________________________________________________________\n",
      "Epoch 10/20\n",
      "124/124 [==============================] - 706s 5s/step - loss: 0.6810 - rmse: 18.5308 - val_loss: 0.6778 - val_rmse: 17.9345\n",
      "Epoch 11/20\n",
      "124/124 [==============================] - 662s 5s/step - loss: 0.6762 - rmse: 18.0060 - val_loss: 0.6764 - val_rmse: 17.8371\n",
      "Epoch 12/20\n",
      "124/124 [==============================] - 662s 5s/step - loss: 0.6747 - rmse: 17.9007 - val_loss: 0.6757 - val_rmse: 17.8230\n",
      "Epoch 13/20\n",
      "124/124 [==============================] - 662s 5s/step - loss: 0.6737 - rmse: 17.8616 - val_loss: 0.6747 - val_rmse: 17.7864\n",
      "Epoch 14/20\n",
      "124/124 [==============================] - 662s 5s/step - loss: 0.6728 - rmse: 17.8156 - val_loss: 0.6736 - val_rmse: 17.7497\n",
      "Epoch 15/20\n",
      "124/124 [==============================] - 662s 5s/step - loss: 0.6701 - rmse: 17.5455 - val_loss: 0.6728 - val_rmse: 17.7243\n",
      "Epoch 16/20\n",
      "124/124 [==============================] - 663s 5s/step - loss: 0.6672 - rmse: 17.2557 - val_loss: 0.6722 - val_rmse: 17.7224\n",
      "Epoch 17/20\n",
      "124/124 [==============================] - 664s 5s/step - loss: 0.6679 - rmse: 17.4611 - val_loss: 0.6717 - val_rmse: 17.7328\n",
      "Epoch 18/20\n",
      "124/124 [==============================] - 664s 5s/step - loss: 0.6648 - rmse: 17.1013 - val_loss: 0.6712 - val_rmse: 17.7383\n",
      "Epoch 19/20\n",
      "124/124 [==============================] - 664s 5s/step - loss: 0.6641 - rmse: 17.0697 - val_loss: 0.6706 - val_rmse: 17.7269\n",
      "Training Set =  (7930,)\n",
      "Validation Set =  (1982,)\n",
      "Model: \"model\"\n",
      "_________________________________________________________________\n",
      "Layer (type)                 Output Shape              Param #   \n",
      "=================================================================\n",
      "input_2 (InputLayer)         [(None, 384, 384, 3)]     0         \n",
      "_________________________________________________________________\n",
      "sequential (Sequential)      (None, 384, 384, 3)       0         \n",
      "_________________________________________________________________\n",
      "swin_large_384 (SwinTransfor (None, 1536)              198101556 \n",
      "_________________________________________________________________\n",
      "dropout_73 (Dropout)         (None, 1536)              0         \n",
      "_________________________________________________________________\n",
      "dense (Dense)                (None, 512)               786944    \n",
      "_________________________________________________________________\n",
      "batch_normalization (BatchNo (None, 512)               2048      \n",
      "_________________________________________________________________\n",
      "leaky_re_lu (LeakyReLU)      (None, 512)               0         \n",
      "_________________________________________________________________\n",
      "dropout_74 (Dropout)         (None, 512)               0         \n",
      "_________________________________________________________________\n",
      "dense_1 (Dense)              (None, 64)                32832     \n",
      "_________________________________________________________________\n",
      "batch_normalization_1 (Batch (None, 64)                256       \n",
      "_________________________________________________________________\n",
      "leaky_re_lu_1 (LeakyReLU)    (None, 64)                0         \n",
      "_________________________________________________________________\n",
      "dropout_75 (Dropout)         (None, 64)                0         \n",
      "_________________________________________________________________\n",
      "dense_2 (Dense)              (None, 1)                 65        \n",
      "=================================================================\n",
      "Total params: 198,923,701\n",
      "Trainable params: 820,993\n",
      "Non-trainable params: 198,102,708\n",
      "_________________________________________________________________\n",
      "Epoch 1/10\n"
     ]
    },
    {
     "name": "stdout",
     "output_type": "stream",
     "text": [
      "124/124 [==============================] - 661s 5s/step - loss: 1.6732 - rmse: 30.7656 - val_loss: 1.3623 - val_rmse: 18.3611\n",
      "Epoch 2/10\n",
      "124/124 [==============================] - 618s 5s/step - loss: 1.3694 - rmse: 24.2048 - val_loss: 1.1498 - val_rmse: 18.1587\n",
      "Epoch 3/10\n",
      "124/124 [==============================] - 618s 5s/step - loss: 1.1333 - rmse: 21.5852 - val_loss: 0.9778 - val_rmse: 18.3188\n",
      "Epoch 4/10\n",
      "124/124 [==============================] - 619s 5s/step - loss: 0.9594 - rmse: 20.1816 - val_loss: 0.8557 - val_rmse: 18.2170\n",
      "Epoch 5/10\n",
      "124/124 [==============================] - 620s 5s/step - loss: 0.8432 - rmse: 19.3961 - val_loss: 0.7794 - val_rmse: 18.1810\n",
      "True\n",
      "Model: \"model\"\n",
      "_________________________________________________________________\n",
      "Layer (type)                 Output Shape              Param #   \n",
      "=================================================================\n",
      "input_2 (InputLayer)         [(None, 384, 384, 3)]     0         \n",
      "_________________________________________________________________\n",
      "sequential (Sequential)      (None, 384, 384, 3)       0         \n",
      "_________________________________________________________________\n",
      "swin_large_384 (SwinTransfor (None, 1536)              198101556 \n",
      "_________________________________________________________________\n",
      "dropout_73 (Dropout)         (None, 1536)              0         \n",
      "_________________________________________________________________\n",
      "dense (Dense)                (None, 512)               786944    \n",
      "_________________________________________________________________\n",
      "batch_normalization (BatchNo (None, 512)               2048      \n",
      "_________________________________________________________________\n",
      "leaky_re_lu (LeakyReLU)      (None, 512)               0         \n",
      "_________________________________________________________________\n",
      "dropout_74 (Dropout)         (None, 512)               0         \n",
      "_________________________________________________________________\n",
      "dense_1 (Dense)              (None, 64)                32832     \n",
      "_________________________________________________________________\n",
      "batch_normalization_1 (Batch (None, 64)                256       \n",
      "_________________________________________________________________\n",
      "leaky_re_lu_1 (LeakyReLU)    (None, 64)                0         \n",
      "_________________________________________________________________\n",
      "dropout_75 (Dropout)         (None, 64)                0         \n",
      "_________________________________________________________________\n",
      "dense_2 (Dense)              (None, 1)                 65        \n",
      "=================================================================\n",
      "Total params: 198,923,701\n",
      "Trainable params: 57,537,889\n",
      "Non-trainable params: 141,385,812\n",
      "_________________________________________________________________\n",
      "Epoch 5/20\n",
      "124/124 [==============================] - 704s 5s/step - loss: 1.1850 - rmse: 22.0920 - val_loss: 1.1436 - val_rmse: 17.9557\n",
      "Epoch 6/20\n",
      "124/124 [==============================] - 662s 5s/step - loss: 1.1763 - rmse: 21.7123 - val_loss: 1.1386 - val_rmse: 17.8963\n",
      "Epoch 7/20\n",
      "124/124 [==============================] - 662s 5s/step - loss: 1.1688 - rmse: 21.3720 - val_loss: 1.1335 - val_rmse: 17.8291\n",
      "Epoch 8/20\n",
      " 87/124 [====================>.........] - ETA: 2:44 - loss: 1.1666 - rmse: 21.5324"
     ]
    }
   ],
   "source": [
    "for i in range(fold):\n",
    "    train_df = pd.read_csv(splitted_directory + f'skf_split_train_5cv_fold{i}.csv')\n",
    "    valid_df = pd.read_csv(splitted_directory + f'skf_split_val_5cv_fold{i}.csv')\n",
    "    \n",
    "    train, val = preprocess_dataset(train_df, valid_df)\n",
    "    \n",
    "    K.clear_session()\n",
    "    model = build_model(data_augmentation= data_augmenter())\n",
    "    model.compile(optimizer=tf.keras.optimizers.Adam(lr=learning_rate),\n",
    "          loss=tf.keras.losses.BinaryCrossentropy(label_smoothing=0.01),\n",
    "          metrics=[rmse])\n",
    "    model.summary()\n",
    "    history = model.fit(train, validation_data=val, epochs=epochs, callbacks=[rlr, es])\n",
    "    \n",
    "    model.layers[2].trainable = True\n",
    "    for j in model.layers[2].layers[2].layers[:3]:\n",
    "        j.trainable = False\n",
    "    model.layers[2].layers[2].layers[3].trainable = True\n",
    "    print(model.layers[2].layers[2].layers[3].trainable)\n",
    "    model.layers[2].layers[0].trainable = False\n",
    "    model.layers[2].layers[1].trainable = False\n",
    "    model.compile(optimizer=tf.keras.optimizers.Adam(lr=learning_rate/100),\n",
    "          loss=tf.keras.losses.BinaryCrossentropy(label_smoothing=0.01),\n",
    "          metrics=[rmse])\n",
    "    model.summary()\n",
    "    history_finetuned = model.fit(train, validation_data=val, initial_epoch=history.epoch[-1], epochs=epochs*2, callbacks=[rlr, es])\n",
    "    \n",
    "    model.save(f'model_fold{i}')\n",
    "    \n",
    "    history_folds.append(history_finetuned.history)"
   ]
  },
  {
   "cell_type": "code",
   "execution_count": null,
   "id": "60b24d11",
   "metadata": {
    "execution": {
     "iopub.status.busy": "2021-10-26T02:43:39.991708Z",
     "iopub.status.idle": "2021-10-26T02:43:39.992452Z",
     "shell.execute_reply": "2021-10-26T02:43:39.992152Z",
     "shell.execute_reply.started": "2021-10-26T02:43:39.992123Z"
    },
    "papermill": {
     "duration": null,
     "end_time": null,
     "exception": null,
     "start_time": null,
     "status": "pending"
    },
    "tags": []
   },
   "outputs": [],
   "source": [
    "plt.figure(figsize=(25, 25))\n",
    "\n",
    "for idx, hist in enumerate(history_folds):\n",
    "    rmse = [0.] + hist['rmse']\n",
    "    val_rmse = [0.] + hist['val_rmse']\n",
    "    \n",
    "    loss = hist['loss']\n",
    "    val_loss = hist['val_loss']\n",
    "    \n",
    "    plt.subplot(5, 2, idx*2+1)\n",
    "    plt.plot(rmse, label='Training RMSE')\n",
    "    plt.plot(val_rmse, label='Validation RMSE')\n",
    "    plt.legend(loc='lower right')\n",
    "    plt.ylabel('RMSE')\n",
    "    # plt.ylim([min(plt.ylim()),1])\n",
    "    plt.title(f'Fold-{idx} Training and Validation RMSE')\n",
    "    \n",
    "    plt.subplot(5, 2, idx*2+2)\n",
    "    plt.plot(loss, label='Training Loss')\n",
    "    plt.plot(val_loss, label='Validation Loss')\n",
    "    plt.legend(loc='upper right')\n",
    "    plt.ylabel('Cross Entropy')\n",
    "    # plt.ylim([0,1.0])\n",
    "    plt.title(f'Fold-{idx} Training and Validation Loss')\n",
    "    plt.xlabel('epoch')"
   ]
  },
  {
   "cell_type": "code",
   "execution_count": null,
   "id": "890e631c",
   "metadata": {
    "execution": {
     "iopub.status.busy": "2021-10-25T09:53:44.2861Z",
     "iopub.status.idle": "2021-10-25T09:53:44.287005Z",
     "shell.execute_reply": "2021-10-25T09:53:44.286756Z",
     "shell.execute_reply.started": "2021-10-25T09:53:44.286734Z"
    },
    "papermill": {
     "duration": null,
     "end_time": null,
     "exception": null,
     "start_time": null,
     "status": "pending"
    },
    "tags": []
   },
   "outputs": [],
   "source": [
    "print('### CV scores by fold ###')\n",
    "for i in range(fold):\n",
    "    hist = history_folds[i]\n",
    "    print(f'fold {i+1}: {hist[\"val_rmse\"][-1]}')\n",
    "print('CV mean score: {0:.4f}, std: {1:.4f}.'\\\n",
    "      .format(np.mean([i['val_rmse'][-1] for i in history_folds]), np.std([i['val_rmse'][-1] for i in history_folds])))"
   ]
  },
  {
   "cell_type": "code",
   "execution_count": null,
   "id": "7b4ece30",
   "metadata": {
    "execution": {
     "iopub.execute_input": "2021-10-07T16:11:57.330118Z",
     "iopub.status.busy": "2021-10-07T16:11:57.329849Z",
     "iopub.status.idle": "2021-10-07T16:11:57.336396Z",
     "shell.execute_reply": "2021-10-07T16:11:57.335187Z",
     "shell.execute_reply.started": "2021-10-07T16:11:57.330087Z"
    },
    "papermill": {
     "duration": null,
     "end_time": null,
     "exception": null,
     "start_time": null,
     "status": "pending"
    },
    "tags": []
   },
   "outputs": [],
   "source": [
    "def preprocess_test(image_url):\n",
    "    image_string = tf.io.read_file(image_url)\n",
    "    image = tf.image.decode_jpeg(image_string, channels=3)\n",
    "#     image = tf.cast(image, tf.float32)\n",
    "    image = tf.keras.applications.imagenet_utils.preprocess_input(tf.cast(image, tf.float32), mode=\"torch\")\n",
    "    image = tf.image.central_crop(image, 1.0)\n",
    "    image = tf.image.resize(image, IMG_SIZE)\n",
    "    return image"
   ]
  },
  {
   "cell_type": "code",
   "execution_count": null,
   "id": "a241bc98",
   "metadata": {
    "execution": {
     "iopub.execute_input": "2021-10-07T16:11:57.600864Z",
     "iopub.status.busy": "2021-10-07T16:11:57.600348Z",
     "iopub.status.idle": "2021-10-07T16:11:57.686902Z",
     "shell.execute_reply": "2021-10-07T16:11:57.686259Z",
     "shell.execute_reply.started": "2021-10-07T16:11:57.600835Z"
    },
    "papermill": {
     "duration": null,
     "end_time": null,
     "exception": null,
     "start_time": null,
     "status": "pending"
    },
    "tags": []
   },
   "outputs": [],
   "source": [
    "for _, _, id in os.walk('/kaggle/input/petfinder-pawpularity-score/test/'):\n",
    "    ids = id\n",
    "\n",
    "fileNames = ['/kaggle/input/petfinder-pawpularity-score/test/'+i for i in ids]\n",
    "test = tf.data.Dataset.from_tensor_slices(fileNames).map(preprocess_test).batch(BATCH_SIZE)"
   ]
  },
  {
   "cell_type": "code",
   "execution_count": null,
   "id": "c55b4ab3",
   "metadata": {
    "execution": {
     "iopub.execute_input": "2021-10-07T16:11:57.974531Z",
     "iopub.status.busy": "2021-10-07T16:11:57.973946Z",
     "iopub.status.idle": "2021-10-07T16:11:57.979618Z",
     "shell.execute_reply": "2021-10-07T16:11:57.978139Z",
     "shell.execute_reply.started": "2021-10-07T16:11:57.9745Z"
    },
    "papermill": {
     "duration": null,
     "end_time": null,
     "exception": null,
     "start_time": null,
     "status": "pending"
    },
    "tags": []
   },
   "outputs": [],
   "source": [
    "dependencies = {\n",
    "    'rmse': rmse\n",
    "}"
   ]
  },
  {
   "cell_type": "code",
   "execution_count": null,
   "id": "ff307859",
   "metadata": {
    "execution": {
     "iopub.execute_input": "2021-10-07T16:11:58.831211Z",
     "iopub.status.busy": "2021-10-07T16:11:58.830966Z",
     "iopub.status.idle": "2021-10-07T16:12:44.725659Z",
     "shell.execute_reply": "2021-10-07T16:12:44.723973Z",
     "shell.execute_reply.started": "2021-10-07T16:11:58.831185Z"
    },
    "papermill": {
     "duration": null,
     "end_time": null,
     "exception": null,
     "start_time": null,
     "status": "pending"
    },
    "tags": []
   },
   "outputs": [],
   "source": [
    "predictions = []\n",
    "for i in range(fold):\n",
    "    K.clear_session()\n",
    "    model = tf.keras.models.load_model(f'./model_fold{i}', custom_objects=dependencies)\n",
    "    pred = (model.predict(test) * 100.00).reshape(-1)\n",
    "    predictions.append(pred)\n",
    "    print(f'fold {i}', pred)"
   ]
  },
  {
   "cell_type": "code",
   "execution_count": null,
   "id": "3e313588",
   "metadata": {
    "execution": {
     "iopub.execute_input": "2021-10-06T07:22:42.875682Z",
     "iopub.status.busy": "2021-10-06T07:22:42.874992Z",
     "iopub.status.idle": "2021-10-06T07:22:42.882643Z",
     "shell.execute_reply": "2021-10-06T07:22:42.881579Z",
     "shell.execute_reply.started": "2021-10-06T07:22:42.87565Z"
    },
    "papermill": {
     "duration": null,
     "end_time": null,
     "exception": null,
     "start_time": null,
     "status": "pending"
    },
    "tags": []
   },
   "outputs": [],
   "source": [
    "average_predictions = list(pd.DataFrame(predictions).T.mean(axis = 1))\n",
    "print(average_predictions)"
   ]
  },
  {
   "cell_type": "code",
   "execution_count": null,
   "id": "fbe763c2",
   "metadata": {
    "execution": {
     "iopub.execute_input": "2021-10-06T07:23:09.143836Z",
     "iopub.status.busy": "2021-10-06T07:23:09.143578Z",
     "iopub.status.idle": "2021-10-06T07:23:09.1815Z",
     "shell.execute_reply": "2021-10-06T07:23:09.180661Z",
     "shell.execute_reply.started": "2021-10-06T07:23:09.143808Z"
    },
    "papermill": {
     "duration": null,
     "end_time": null,
     "exception": null,
     "start_time": null,
     "status": "pending"
    },
    "tags": []
   },
   "outputs": [],
   "source": [
    "ids = [i.split('.')[0] for i in ids]\n",
    "pred_df = pd.DataFrame({'Id':ids,\n",
    "                        'Pawpularity':average_predictions})\n",
    "sub_df = pd.read_csv('/kaggle/input/petfinder-pawpularity-score/sample_submission.csv')\n",
    "del sub_df['Pawpularity']\n",
    "sub_df = sub_df.merge(pred_df, on='Id', how='left')\n",
    "display(sub_df)\n",
    "sub_df.to_csv('submission.csv',index=False)\n",
    "sub_df.head(2)"
   ]
  }
 ],
 "metadata": {
  "kernelspec": {
   "display_name": "Python 3",
   "language": "python",
   "name": "python3"
  },
  "language_info": {
   "codemirror_mode": {
    "name": "ipython",
    "version": 3
   },
   "file_extension": ".py",
   "mimetype": "text/x-python",
   "name": "python",
   "nbconvert_exporter": "python",
   "pygments_lexer": "ipython3",
   "version": "3.9.2"
  },
  "papermill": {
   "default_parameters": {},
   "duration": null,
   "end_time": null,
   "environment_variables": {},
   "exception": null,
   "input_path": "__notebook__.ipynb",
   "output_path": "__notebook__.ipynb",
   "parameters": {},
   "start_time": "2021-10-30T10:35:05.909493",
   "version": "2.3.3"
  }
 },
 "nbformat": 4,
 "nbformat_minor": 5
}
