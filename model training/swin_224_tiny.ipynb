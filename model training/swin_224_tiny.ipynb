{
 "cells": [
  {
   "cell_type": "code",
   "execution_count": 2,
   "id": "defb1d5f",
   "metadata": {
    "execution": {
     "iopub.execute_input": "2021-12-24T13:50:54.051738Z",
     "iopub.status.busy": "2021-12-24T13:50:54.051188Z",
     "iopub.status.idle": "2021-12-24T13:50:57.510253Z",
     "shell.execute_reply": "2021-12-24T13:50:57.510664Z",
     "shell.execute_reply.started": "2021-12-21T02:59:42.701688Z"
    },
    "papermill": {
     "duration": 3.491758,
     "end_time": "2021-12-24T13:50:57.510854",
     "exception": false,
     "start_time": "2021-12-24T13:50:54.019096",
     "status": "completed"
    },
    "tags": []
   },
   "outputs": [],
   "source": [
    "import sys\n",
    "sys.path.append('../input/timm-pytorch-image-models/pytorch-image-models-master')\n",
    "from timm import create_model\n",
    "import pandas as pd\n",
    "import numpy as np"
   ]
  },
  {
   "cell_type": "code",
   "execution_count": 3,
   "id": "7dd2d19d",
   "metadata": {
    "execution": {
     "iopub.execute_input": "2021-12-24T13:50:57.562192Z",
     "iopub.status.busy": "2021-12-24T13:50:57.561512Z",
     "iopub.status.idle": "2021-12-24T13:50:57.569789Z",
     "shell.execute_reply": "2021-12-24T13:50:57.570201Z",
     "shell.execute_reply.started": "2021-12-21T02:59:46.275098Z"
    },
    "papermill": {
     "duration": 0.035929,
     "end_time": "2021-12-24T13:50:57.570316",
     "exception": false,
     "start_time": "2021-12-24T13:50:57.534387",
     "status": "completed"
    },
    "tags": []
   },
   "outputs": [
    {
     "data": {
      "text/plain": [
       "'2.5.3'"
      ]
     },
     "execution_count": 3,
     "metadata": {},
     "output_type": "execute_result"
    }
   ],
   "source": [
    "import fastai\n",
    "fastai.__version__"
   ]
  },
  {
   "cell_type": "code",
   "execution_count": 4,
   "id": "1f48d760",
   "metadata": {
    "execution": {
     "iopub.execute_input": "2021-12-24T13:50:57.622443Z",
     "iopub.status.busy": "2021-12-24T13:50:57.621824Z",
     "iopub.status.idle": "2021-12-24T13:50:57.624406Z",
     "shell.execute_reply": "2021-12-24T13:50:57.624962Z",
     "shell.execute_reply.started": "2021-12-21T02:59:46.290225Z"
    },
    "papermill": {
     "duration": 0.030939,
     "end_time": "2021-12-24T13:50:57.625093",
     "exception": false,
     "start_time": "2021-12-24T13:50:57.594154",
     "status": "completed"
    },
    "tags": []
   },
   "outputs": [
    {
     "data": {
      "text/plain": [
       "'1.9.1'"
      ]
     },
     "execution_count": 4,
     "metadata": {},
     "output_type": "execute_result"
    }
   ],
   "source": [
    "import torch\n",
    "torch.__version__"
   ]
  },
  {
   "cell_type": "code",
   "execution_count": 5,
   "id": "79dab66c",
   "metadata": {
    "execution": {
     "iopub.execute_input": "2021-12-24T13:50:57.676045Z",
     "iopub.status.busy": "2021-12-24T13:50:57.675358Z",
     "iopub.status.idle": "2021-12-24T13:50:58.580597Z",
     "shell.execute_reply": "2021-12-24T13:50:58.580133Z",
     "shell.execute_reply.started": "2021-12-20T18:55:04.159219Z"
    },
    "papermill": {
     "duration": 0.932177,
     "end_time": "2021-12-24T13:50:58.580744",
     "exception": false,
     "start_time": "2021-12-24T13:50:57.648567",
     "status": "completed"
    },
    "tags": []
   },
   "outputs": [],
   "source": [
    "from fastai.vision.all import *"
   ]
  },
  {
   "cell_type": "code",
   "execution_count": 6,
   "id": "1841c684",
   "metadata": {
    "execution": {
     "iopub.execute_input": "2021-12-24T13:50:58.636109Z",
     "iopub.status.busy": "2021-12-24T13:50:58.635248Z",
     "iopub.status.idle": "2021-12-24T13:50:58.637114Z",
     "shell.execute_reply": "2021-12-24T13:50:58.637504Z",
     "shell.execute_reply.started": "2021-12-20T18:55:05.076366Z"
    },
    "papermill": {
     "duration": 0.031378,
     "end_time": "2021-12-24T13:50:58.637623",
     "exception": false,
     "start_time": "2021-12-24T13:50:58.606245",
     "status": "completed"
    },
    "tags": []
   },
   "outputs": [],
   "source": [
    "set_seed(999, reproducible=True)\n",
    "BATCH_SIZE = 8                       #was 32"
   ]
  },
  {
   "cell_type": "code",
   "execution_count": 7,
   "id": "44e0bd16",
   "metadata": {
    "execution": {
     "iopub.execute_input": "2021-12-24T13:50:58.688436Z",
     "iopub.status.busy": "2021-12-24T13:50:58.687942Z",
     "iopub.status.idle": "2021-12-24T13:50:58.693172Z",
     "shell.execute_reply": "2021-12-24T13:50:58.693546Z",
     "shell.execute_reply.started": "2021-12-20T18:55:05.085443Z"
    },
    "papermill": {
     "duration": 0.032399,
     "end_time": "2021-12-24T13:50:58.693663",
     "exception": false,
     "start_time": "2021-12-24T13:50:58.661264",
     "status": "completed"
    },
    "tags": []
   },
   "outputs": [
    {
     "data": {
      "text/plain": [
       "(#5) [Path('../input/petfinder-pawpularity-score/sample_submission.csv'),Path('../input/petfinder-pawpularity-score/train.csv'),Path('../input/petfinder-pawpularity-score/test.csv'),Path('../input/petfinder-pawpularity-score/test'),Path('../input/petfinder-pawpularity-score/train')]"
      ]
     },
     "execution_count": 7,
     "metadata": {},
     "output_type": "execute_result"
    }
   ],
   "source": [
    "dataset_path = Path('../input/petfinder-pawpularity-score/')\n",
    "dataset_path.ls()"
   ]
  },
  {
   "cell_type": "code",
   "execution_count": 8,
   "id": "60238004",
   "metadata": {
    "execution": {
     "iopub.execute_input": "2021-12-24T13:50:58.746660Z",
     "iopub.status.busy": "2021-12-24T13:50:58.746042Z",
     "iopub.status.idle": "2021-12-24T13:50:58.790366Z",
     "shell.execute_reply": "2021-12-24T13:50:58.789926Z",
     "shell.execute_reply.started": "2021-12-20T18:55:05.097674Z"
    },
    "papermill": {
     "duration": 0.072505,
     "end_time": "2021-12-24T13:50:58.790541",
     "exception": false,
     "start_time": "2021-12-24T13:50:58.718036",
     "status": "completed"
    },
    "tags": []
   },
   "outputs": [
    {
     "data": {
      "text/html": [
       "<div>\n",
       "<style scoped>\n",
       "    .dataframe tbody tr th:only-of-type {\n",
       "        vertical-align: middle;\n",
       "    }\n",
       "\n",
       "    .dataframe tbody tr th {\n",
       "        vertical-align: top;\n",
       "    }\n",
       "\n",
       "    .dataframe thead th {\n",
       "        text-align: right;\n",
       "    }\n",
       "</style>\n",
       "<table border=\"1\" class=\"dataframe\">\n",
       "  <thead>\n",
       "    <tr style=\"text-align: right;\">\n",
       "      <th></th>\n",
       "      <th>Id</th>\n",
       "      <th>Subject Focus</th>\n",
       "      <th>Eyes</th>\n",
       "      <th>Face</th>\n",
       "      <th>Near</th>\n",
       "      <th>Action</th>\n",
       "      <th>Accessory</th>\n",
       "      <th>Group</th>\n",
       "      <th>Collage</th>\n",
       "      <th>Human</th>\n",
       "      <th>Occlusion</th>\n",
       "      <th>Info</th>\n",
       "      <th>Blur</th>\n",
       "      <th>Pawpularity</th>\n",
       "    </tr>\n",
       "  </thead>\n",
       "  <tbody>\n",
       "    <tr>\n",
       "      <th>0</th>\n",
       "      <td>0007de18844b0dbbb5e1f607da0606e0</td>\n",
       "      <td>0</td>\n",
       "      <td>1</td>\n",
       "      <td>1</td>\n",
       "      <td>1</td>\n",
       "      <td>0</td>\n",
       "      <td>0</td>\n",
       "      <td>1</td>\n",
       "      <td>0</td>\n",
       "      <td>0</td>\n",
       "      <td>0</td>\n",
       "      <td>0</td>\n",
       "      <td>0</td>\n",
       "      <td>63</td>\n",
       "    </tr>\n",
       "    <tr>\n",
       "      <th>1</th>\n",
       "      <td>0009c66b9439883ba2750fb825e1d7db</td>\n",
       "      <td>0</td>\n",
       "      <td>1</td>\n",
       "      <td>1</td>\n",
       "      <td>0</td>\n",
       "      <td>0</td>\n",
       "      <td>0</td>\n",
       "      <td>0</td>\n",
       "      <td>0</td>\n",
       "      <td>0</td>\n",
       "      <td>0</td>\n",
       "      <td>0</td>\n",
       "      <td>0</td>\n",
       "      <td>42</td>\n",
       "    </tr>\n",
       "    <tr>\n",
       "      <th>2</th>\n",
       "      <td>0013fd999caf9a3efe1352ca1b0d937e</td>\n",
       "      <td>0</td>\n",
       "      <td>1</td>\n",
       "      <td>1</td>\n",
       "      <td>1</td>\n",
       "      <td>0</td>\n",
       "      <td>0</td>\n",
       "      <td>0</td>\n",
       "      <td>0</td>\n",
       "      <td>1</td>\n",
       "      <td>1</td>\n",
       "      <td>0</td>\n",
       "      <td>0</td>\n",
       "      <td>28</td>\n",
       "    </tr>\n",
       "    <tr>\n",
       "      <th>3</th>\n",
       "      <td>0018df346ac9c1d8413cfcc888ca8246</td>\n",
       "      <td>0</td>\n",
       "      <td>1</td>\n",
       "      <td>1</td>\n",
       "      <td>1</td>\n",
       "      <td>0</td>\n",
       "      <td>0</td>\n",
       "      <td>0</td>\n",
       "      <td>0</td>\n",
       "      <td>0</td>\n",
       "      <td>0</td>\n",
       "      <td>0</td>\n",
       "      <td>0</td>\n",
       "      <td>15</td>\n",
       "    </tr>\n",
       "    <tr>\n",
       "      <th>4</th>\n",
       "      <td>001dc955e10590d3ca4673f034feeef2</td>\n",
       "      <td>0</td>\n",
       "      <td>0</td>\n",
       "      <td>0</td>\n",
       "      <td>1</td>\n",
       "      <td>0</td>\n",
       "      <td>0</td>\n",
       "      <td>1</td>\n",
       "      <td>0</td>\n",
       "      <td>0</td>\n",
       "      <td>0</td>\n",
       "      <td>0</td>\n",
       "      <td>0</td>\n",
       "      <td>72</td>\n",
       "    </tr>\n",
       "  </tbody>\n",
       "</table>\n",
       "</div>"
      ],
      "text/plain": [
       "                                 Id  Subject Focus  Eyes  Face  Near  Action  \\\n",
       "0  0007de18844b0dbbb5e1f607da0606e0              0     1     1     1       0   \n",
       "1  0009c66b9439883ba2750fb825e1d7db              0     1     1     0       0   \n",
       "2  0013fd999caf9a3efe1352ca1b0d937e              0     1     1     1       0   \n",
       "3  0018df346ac9c1d8413cfcc888ca8246              0     1     1     1       0   \n",
       "4  001dc955e10590d3ca4673f034feeef2              0     0     0     1       0   \n",
       "\n",
       "   Accessory  Group  Collage  Human  Occlusion  Info  Blur  Pawpularity  \n",
       "0          0      1        0      0          0     0     0           63  \n",
       "1          0      0        0      0          0     0     0           42  \n",
       "2          0      0        0      1          1     0     0           28  \n",
       "3          0      0        0      0          0     0     0           15  \n",
       "4          0      1        0      0          0     0     0           72  "
      ]
     },
     "execution_count": 8,
     "metadata": {},
     "output_type": "execute_result"
    }
   ],
   "source": [
    "train_df = pd.read_csv(dataset_path/'train.csv')\n",
    "train_df.head()"
   ]
  },
  {
   "cell_type": "code",
   "execution_count": 9,
   "id": "30f85aec",
   "metadata": {
    "execution": {
     "iopub.execute_input": "2021-12-24T13:50:58.847892Z",
     "iopub.status.busy": "2021-12-24T13:50:58.847120Z",
     "iopub.status.idle": "2021-12-24T13:50:58.977573Z",
     "shell.execute_reply": "2021-12-24T13:50:58.978025Z",
     "shell.execute_reply.started": "2021-12-20T18:55:05.145921Z"
    },
    "papermill": {
     "duration": 0.161917,
     "end_time": "2021-12-24T13:50:58.978182",
     "exception": false,
     "start_time": "2021-12-24T13:50:58.816265",
     "status": "completed"
    },
    "tags": []
   },
   "outputs": [
    {
     "data": {
      "text/html": [
       "<div>\n",
       "<style scoped>\n",
       "    .dataframe tbody tr th:only-of-type {\n",
       "        vertical-align: middle;\n",
       "    }\n",
       "\n",
       "    .dataframe tbody tr th {\n",
       "        vertical-align: top;\n",
       "    }\n",
       "\n",
       "    .dataframe thead th {\n",
       "        text-align: right;\n",
       "    }\n",
       "</style>\n",
       "<table border=\"1\" class=\"dataframe\">\n",
       "  <thead>\n",
       "    <tr style=\"text-align: right;\">\n",
       "      <th></th>\n",
       "      <th>Subject Focus</th>\n",
       "      <th>Eyes</th>\n",
       "      <th>Face</th>\n",
       "      <th>Near</th>\n",
       "      <th>Action</th>\n",
       "      <th>Accessory</th>\n",
       "      <th>Group</th>\n",
       "      <th>Collage</th>\n",
       "      <th>Human</th>\n",
       "      <th>Occlusion</th>\n",
       "      <th>Info</th>\n",
       "      <th>Blur</th>\n",
       "      <th>Pawpularity</th>\n",
       "      <th>path</th>\n",
       "    </tr>\n",
       "  </thead>\n",
       "  <tbody>\n",
       "    <tr>\n",
       "      <th>0</th>\n",
       "      <td>0</td>\n",
       "      <td>0</td>\n",
       "      <td>1</td>\n",
       "      <td>1</td>\n",
       "      <td>0</td>\n",
       "      <td>0</td>\n",
       "      <td>0</td>\n",
       "      <td>0</td>\n",
       "      <td>0</td>\n",
       "      <td>0</td>\n",
       "      <td>0</td>\n",
       "      <td>1</td>\n",
       "      <td>50</td>\n",
       "      <td>../input/petfinder-pawpularity-score/train/ebaaa8e384b3d2f0a56c7ff7675c154c.jpg</td>\n",
       "    </tr>\n",
       "    <tr>\n",
       "      <th>1</th>\n",
       "      <td>0</td>\n",
       "      <td>1</td>\n",
       "      <td>1</td>\n",
       "      <td>1</td>\n",
       "      <td>0</td>\n",
       "      <td>1</td>\n",
       "      <td>0</td>\n",
       "      <td>1</td>\n",
       "      <td>0</td>\n",
       "      <td>0</td>\n",
       "      <td>1</td>\n",
       "      <td>0</td>\n",
       "      <td>25</td>\n",
       "      <td>../input/petfinder-pawpularity-score/train/25e3bf4267c2dc3f579b779418221bb7.jpg</td>\n",
       "    </tr>\n",
       "    <tr>\n",
       "      <th>2</th>\n",
       "      <td>0</td>\n",
       "      <td>0</td>\n",
       "      <td>1</td>\n",
       "      <td>1</td>\n",
       "      <td>0</td>\n",
       "      <td>1</td>\n",
       "      <td>0</td>\n",
       "      <td>0</td>\n",
       "      <td>0</td>\n",
       "      <td>0</td>\n",
       "      <td>0</td>\n",
       "      <td>0</td>\n",
       "      <td>27</td>\n",
       "      <td>../input/petfinder-pawpularity-score/train/6548166fb3fda22b67881176397f0223.jpg</td>\n",
       "    </tr>\n",
       "    <tr>\n",
       "      <th>3</th>\n",
       "      <td>0</td>\n",
       "      <td>1</td>\n",
       "      <td>1</td>\n",
       "      <td>1</td>\n",
       "      <td>0</td>\n",
       "      <td>0</td>\n",
       "      <td>0</td>\n",
       "      <td>0</td>\n",
       "      <td>1</td>\n",
       "      <td>1</td>\n",
       "      <td>0</td>\n",
       "      <td>0</td>\n",
       "      <td>19</td>\n",
       "      <td>../input/petfinder-pawpularity-score/train/472c40116e1833555715e4774445ae5b.jpg</td>\n",
       "    </tr>\n",
       "    <tr>\n",
       "      <th>4</th>\n",
       "      <td>0</td>\n",
       "      <td>1</td>\n",
       "      <td>1</td>\n",
       "      <td>1</td>\n",
       "      <td>0</td>\n",
       "      <td>0</td>\n",
       "      <td>0</td>\n",
       "      <td>1</td>\n",
       "      <td>0</td>\n",
       "      <td>0</td>\n",
       "      <td>0</td>\n",
       "      <td>0</td>\n",
       "      <td>27</td>\n",
       "      <td>../input/petfinder-pawpularity-score/train/7b77e1a6d93667b575d57db83facd860.jpg</td>\n",
       "    </tr>\n",
       "  </tbody>\n",
       "</table>\n",
       "</div>"
      ],
      "text/plain": [
       "   Subject Focus  Eyes  Face  Near  Action  Accessory  Group  Collage  Human  \\\n",
       "0              0     0     1     1       0          0      0        0      0   \n",
       "1              0     1     1     1       0          1      0        1      0   \n",
       "2              0     0     1     1       0          1      0        0      0   \n",
       "3              0     1     1     1       0          0      0        0      1   \n",
       "4              0     1     1     1       0          0      0        1      0   \n",
       "\n",
       "   Occlusion  Info  Blur  Pawpularity  \\\n",
       "0          0     0     1           50   \n",
       "1          0     1     0           25   \n",
       "2          0     0     0           27   \n",
       "3          1     0     0           19   \n",
       "4          0     0     0           27   \n",
       "\n",
       "                                                                              path  \n",
       "0  ../input/petfinder-pawpularity-score/train/ebaaa8e384b3d2f0a56c7ff7675c154c.jpg  \n",
       "1  ../input/petfinder-pawpularity-score/train/25e3bf4267c2dc3f579b779418221bb7.jpg  \n",
       "2  ../input/petfinder-pawpularity-score/train/6548166fb3fda22b67881176397f0223.jpg  \n",
       "3  ../input/petfinder-pawpularity-score/train/472c40116e1833555715e4774445ae5b.jpg  \n",
       "4  ../input/petfinder-pawpularity-score/train/7b77e1a6d93667b575d57db83facd860.jpg  "
      ]
     },
     "execution_count": 9,
     "metadata": {},
     "output_type": "execute_result"
    }
   ],
   "source": [
    "train_df['path'] = train_df['Id'].map(lambda x:str(dataset_path/'train'/x)+'.jpg')\n",
    "train_df = train_df.drop(columns=['Id'])\n",
    "train_df = train_df.sample(frac=1).reset_index(drop=True) #shuffle dataframe\n",
    "train_df.head()"
   ]
  },
  {
   "cell_type": "code",
   "execution_count": 12,
   "id": "a80819d7",
   "metadata": {
    "execution": {
     "iopub.execute_input": "2021-12-24T13:50:59.447813Z",
     "iopub.status.busy": "2021-12-24T13:50:59.447012Z",
     "iopub.status.idle": "2021-12-24T13:51:09.405650Z",
     "shell.execute_reply": "2021-12-24T13:51:09.405124Z",
     "shell.execute_reply.started": "2021-12-20T18:55:05.517665Z"
    },
    "papermill": {
     "duration": 9.98909,
     "end_time": "2021-12-24T13:51:09.405828",
     "exception": false,
     "start_time": "2021-12-24T13:50:59.416738",
     "status": "completed"
    },
    "tags": []
   },
   "outputs": [],
   "source": [
    "if not os.path.exists('/root/.cache/torch/hub/checkpoints/'):\n",
    "    os.makedirs('/root/.cache/torch/hub/checkpoints/')\n",
    "!cp '../input/swin-transformer/swin_large_patch4_window7_224_22kto1k.pth' '/root/.cache/torch/hub/checkpoints/swin_large_patch4_window7_224_22kto1k.pth'\n"
   ]
  },
  {
   "cell_type": "code",
   "execution_count": 13,
   "id": "330b6ba3",
   "metadata": {
    "execution": {
     "iopub.execute_input": "2021-12-24T13:51:09.466439Z",
     "iopub.status.busy": "2021-12-24T13:51:09.465460Z",
     "iopub.status.idle": "2021-12-24T13:51:09.467272Z",
     "shell.execute_reply": "2021-12-24T13:51:09.467798Z",
     "shell.execute_reply.started": "2021-12-20T18:55:14.671099Z"
    },
    "papermill": {
     "duration": 0.035056,
     "end_time": "2021-12-24T13:51:09.467934",
     "exception": false,
     "start_time": "2021-12-24T13:51:09.432878",
     "status": "completed"
    },
    "tags": []
   },
   "outputs": [],
   "source": [
    "seed=999\n",
    "set_seed(seed, reproducible=True)\n",
    "torch.manual_seed(seed)\n",
    "torch.cuda.manual_seed(seed)\n",
    "torch.backends.cudnn.deterministic = True\n",
    "torch.use_deterministic_algorithms = True"
   ]
  },
  {
   "cell_type": "code",
   "execution_count": 18,
   "id": "341cd265",
   "metadata": {
    "execution": {
     "iopub.execute_input": "2021-12-24T13:51:09.760789Z",
     "iopub.status.busy": "2021-12-24T13:51:09.759920Z",
     "iopub.status.idle": "2021-12-24T13:51:09.762360Z",
     "shell.execute_reply": "2021-12-24T13:51:09.761967Z",
     "shell.execute_reply.started": "2021-12-20T18:55:14.714217Z"
    },
    "papermill": {
     "duration": 0.033138,
     "end_time": "2021-12-24T13:51:09.762477",
     "exception": false,
     "start_time": "2021-12-24T13:51:09.729339",
     "status": "completed"
    },
    "tags": []
   },
   "outputs": [],
   "source": [
    "def petfinder_rmse(input,target):\n",
    "    return 100*torch.sqrt(F.mse_loss(F.sigmoid(input.flatten()), target))"
   ]
  },
  {
   "cell_type": "code",
   "execution_count": 19,
   "id": "53c6bed6",
   "metadata": {
    "execution": {
     "iopub.execute_input": "2021-12-24T13:51:09.825020Z",
     "iopub.status.busy": "2021-12-24T13:51:09.824240Z",
     "iopub.status.idle": "2021-12-24T13:51:09.826365Z",
     "shell.execute_reply": "2021-12-24T13:51:09.826771Z",
     "shell.execute_reply.started": "2021-12-20T18:55:14.722649Z"
    },
    "papermill": {
     "duration": 0.038032,
     "end_time": "2021-12-24T13:51:09.826899",
     "exception": false,
     "start_time": "2021-12-24T13:51:09.788867",
     "status": "completed"
    },
    "tags": []
   },
   "outputs": [],
   "source": [
    "def get_data(fold):\n",
    "    train_df_f = pd.read_csv(f'../input/data-split-pawpularity/skf_split_train_5cv_fold{fold}.csv')\n",
    "    train_df_f['is_valid'] = False\n",
    "    valid_df_f = pd.read_csv(f'../input/data-split-pawpularity/skf_split_val_5cv_fold{fold}.csv')\n",
    "    valid_df_f['is_valid'] = True\n",
    "    \n",
    "    train_df_f = train_df_f.append(valid_df_f)\n",
    "    train_df_f['Id'] = train_df_f['img_path'].apply(lambda x: x.split('.')[-2].split('/')[-1])\n",
    "    train_df_f['img_path'] = train_df_f['Id'].map(lambda x:str(dataset_path/'train'/x)+'.jpg')\n",
    "    \n",
    "    dls = ImageDataLoaders.from_df(train_df_f, #pass in train DataFrame\n",
    "                               valid_col='is_valid', #\n",
    "                               seed=999, #seed\n",
    "                               fn_col='img_path',\n",
    "                               label_col='Pawpularity',\n",
    "                               y_block=RegressionBlock, #The type of target\n",
    "                               bs=BATCH_SIZE, #pass in batch size\n",
    "                               num_workers=8,\n",
    "                               item_tfms=Resize(224), #pass in item_tfms\n",
    "                               batch_tfms=setup_aug_tfms([Brightness(), Contrast(), Hue(), Saturation()])) #pass in batch_tfms\n",
    "    return dls\n"
   ]
  },
  {
   "cell_type": "code",
   "execution_count": 20,
   "id": "a9171bd4",
   "metadata": {
    "execution": {
     "iopub.execute_input": "2021-12-24T13:51:09.884071Z",
     "iopub.status.busy": "2021-12-24T13:51:09.883540Z",
     "iopub.status.idle": "2021-12-24T13:51:13.209264Z",
     "shell.execute_reply": "2021-12-24T13:51:13.208792Z",
     "shell.execute_reply.started": "2021-12-20T18:55:14.734524Z"
    },
    "papermill": {
     "duration": 3.356031,
     "end_time": "2021-12-24T13:51:13.209405",
     "exception": false,
     "start_time": "2021-12-24T13:51:09.853374",
     "status": "completed"
    },
    "tags": []
   },
   "outputs": [],
   "source": [
    "#Valid Kfolder size\n",
    "the_data = get_data(0)\n",
    "assert (len(the_data.train) + len(the_data.valid)) == (len(train_df)//BATCH_SIZE)"
   ]
  },
  {
   "cell_type": "code",
   "execution_count": 21,
   "id": "56f96743",
   "metadata": {
    "execution": {
     "iopub.execute_input": "2021-12-24T13:51:13.274173Z",
     "iopub.status.busy": "2021-12-24T13:51:13.273339Z",
     "iopub.status.idle": "2021-12-24T13:51:14.002715Z",
     "shell.execute_reply": "2021-12-24T13:51:14.002222Z",
     "shell.execute_reply.started": "2021-12-20T18:55:18.018587Z"
    },
    "papermill": {
     "duration": 0.765221,
     "end_time": "2021-12-24T13:51:14.002849",
     "exception": false,
     "start_time": "2021-12-24T13:51:13.237628",
     "status": "completed"
    },
    "tags": []
   },
   "outputs": [
    {
     "name": "stdout",
     "output_type": "stream",
     "text": [
      "__notebook__.ipynb\r\n"
     ]
    }
   ],
   "source": [
    "!ls"
   ]
  },
  {
   "cell_type": "code",
   "execution_count": 22,
   "id": "56049e31",
   "metadata": {
    "execution": {
     "iopub.execute_input": "2021-12-24T13:51:14.065534Z",
     "iopub.status.busy": "2021-12-24T13:51:14.064601Z",
     "iopub.status.idle": "2021-12-24T13:51:14.067333Z",
     "shell.execute_reply": "2021-12-24T13:51:14.066894Z",
     "shell.execute_reply.started": "2021-12-20T18:55:18.703491Z"
    },
    "papermill": {
     "duration": 0.036566,
     "end_time": "2021-12-24T13:51:14.067453",
     "exception": false,
     "start_time": "2021-12-24T13:51:14.030887",
     "status": "completed"
    },
    "tags": []
   },
   "outputs": [],
   "source": [
    "def get_learner(fold_num):\n",
    "    data = get_data(fold_num)\n",
    "    \n",
    "    model = create_model('swin_large_patch4_window7_224', pretrained=True, num_classes=data.c)\n",
    "\n",
    "    learn = Learner(data, model, loss_func=BCEWithLogitsLossFlat(), metrics=AccumMetric(func=petfinder_rmse)).to_fp16()\n",
    "    \n",
    "    return learn"
   ]
  },
  {
   "cell_type": "code",
   "execution_count": 23,
   "id": "12ed8ebd",
   "metadata": {
    "execution": {
     "iopub.execute_input": "2021-12-24T13:51:14.147010Z",
     "iopub.status.busy": "2021-12-24T13:51:14.146347Z",
     "iopub.status.idle": "2021-12-24T13:51:14.166746Z",
     "shell.execute_reply": "2021-12-24T13:51:14.166223Z",
     "shell.execute_reply.started": "2021-12-20T18:55:18.712051Z"
    },
    "papermill": {
     "duration": 0.053636,
     "end_time": "2021-12-24T13:51:14.166867",
     "exception": false,
     "start_time": "2021-12-24T13:51:14.113231",
     "status": "completed"
    },
    "tags": []
   },
   "outputs": [
    {
     "data": {
      "text/html": [
       "<div>\n",
       "<style scoped>\n",
       "    .dataframe tbody tr th:only-of-type {\n",
       "        vertical-align: middle;\n",
       "    }\n",
       "\n",
       "    .dataframe tbody tr th {\n",
       "        vertical-align: top;\n",
       "    }\n",
       "\n",
       "    .dataframe thead th {\n",
       "        text-align: right;\n",
       "    }\n",
       "</style>\n",
       "<table border=\"1\" class=\"dataframe\">\n",
       "  <thead>\n",
       "    <tr style=\"text-align: right;\">\n",
       "      <th></th>\n",
       "      <th>Id</th>\n",
       "      <th>Subject Focus</th>\n",
       "      <th>Eyes</th>\n",
       "      <th>Face</th>\n",
       "      <th>Near</th>\n",
       "      <th>Action</th>\n",
       "      <th>Accessory</th>\n",
       "      <th>Group</th>\n",
       "      <th>Collage</th>\n",
       "      <th>Human</th>\n",
       "      <th>Occlusion</th>\n",
       "      <th>Info</th>\n",
       "      <th>Blur</th>\n",
       "    </tr>\n",
       "  </thead>\n",
       "  <tbody>\n",
       "    <tr>\n",
       "      <th>0</th>\n",
       "      <td>4128bae22183829d2b5fea10effdb0c3</td>\n",
       "      <td>1</td>\n",
       "      <td>0</td>\n",
       "      <td>1</td>\n",
       "      <td>0</td>\n",
       "      <td>0</td>\n",
       "      <td>1</td>\n",
       "      <td>1</td>\n",
       "      <td>0</td>\n",
       "      <td>0</td>\n",
       "      <td>1</td>\n",
       "      <td>0</td>\n",
       "      <td>1</td>\n",
       "    </tr>\n",
       "    <tr>\n",
       "      <th>1</th>\n",
       "      <td>43a2262d7738e3d420d453815151079e</td>\n",
       "      <td>0</td>\n",
       "      <td>1</td>\n",
       "      <td>0</td>\n",
       "      <td>0</td>\n",
       "      <td>0</td>\n",
       "      <td>0</td>\n",
       "      <td>1</td>\n",
       "      <td>1</td>\n",
       "      <td>0</td>\n",
       "      <td>0</td>\n",
       "      <td>0</td>\n",
       "      <td>0</td>\n",
       "    </tr>\n",
       "    <tr>\n",
       "      <th>2</th>\n",
       "      <td>4e429cead1848a298432a0acad014c9d</td>\n",
       "      <td>0</td>\n",
       "      <td>0</td>\n",
       "      <td>0</td>\n",
       "      <td>1</td>\n",
       "      <td>0</td>\n",
       "      <td>1</td>\n",
       "      <td>1</td>\n",
       "      <td>1</td>\n",
       "      <td>0</td>\n",
       "      <td>1</td>\n",
       "      <td>1</td>\n",
       "      <td>1</td>\n",
       "    </tr>\n",
       "    <tr>\n",
       "      <th>3</th>\n",
       "      <td>80bc3ccafcc51b66303c2c263aa38486</td>\n",
       "      <td>1</td>\n",
       "      <td>0</td>\n",
       "      <td>1</td>\n",
       "      <td>0</td>\n",
       "      <td>0</td>\n",
       "      <td>0</td>\n",
       "      <td>0</td>\n",
       "      <td>0</td>\n",
       "      <td>0</td>\n",
       "      <td>0</td>\n",
       "      <td>1</td>\n",
       "      <td>0</td>\n",
       "    </tr>\n",
       "    <tr>\n",
       "      <th>4</th>\n",
       "      <td>8f49844c382931444e68dffbe20228f4</td>\n",
       "      <td>1</td>\n",
       "      <td>1</td>\n",
       "      <td>1</td>\n",
       "      <td>0</td>\n",
       "      <td>1</td>\n",
       "      <td>1</td>\n",
       "      <td>0</td>\n",
       "      <td>1</td>\n",
       "      <td>0</td>\n",
       "      <td>1</td>\n",
       "      <td>1</td>\n",
       "      <td>0</td>\n",
       "    </tr>\n",
       "  </tbody>\n",
       "</table>\n",
       "</div>"
      ],
      "text/plain": [
       "                                 Id  Subject Focus  Eyes  Face  Near  Action  \\\n",
       "0  4128bae22183829d2b5fea10effdb0c3              1     0     1     0       0   \n",
       "1  43a2262d7738e3d420d453815151079e              0     1     0     0       0   \n",
       "2  4e429cead1848a298432a0acad014c9d              0     0     0     1       0   \n",
       "3  80bc3ccafcc51b66303c2c263aa38486              1     0     1     0       0   \n",
       "4  8f49844c382931444e68dffbe20228f4              1     1     1     0       1   \n",
       "\n",
       "   Accessory  Group  Collage  Human  Occlusion  Info  Blur  \n",
       "0          1      1        0      0          1     0     1  \n",
       "1          0      1        1      0          0     0     0  \n",
       "2          1      1        1      0          1     1     1  \n",
       "3          0      0        0      0          0     1     0  \n",
       "4          1      0        1      0          1     1     0  "
      ]
     },
     "execution_count": 23,
     "metadata": {},
     "output_type": "execute_result"
    }
   ],
   "source": [
    "test_df = pd.read_csv(dataset_path/'test.csv')\n",
    "test_df.head()"
   ]
  },
  {
   "cell_type": "code",
   "execution_count": 24,
   "id": "a1a1ac8f",
   "metadata": {
    "execution": {
     "iopub.execute_input": "2021-12-24T13:51:14.244791Z",
     "iopub.status.busy": "2021-12-24T13:51:14.243242Z",
     "iopub.status.idle": "2021-12-24T13:51:14.249356Z",
     "shell.execute_reply": "2021-12-24T13:51:14.249785Z",
     "shell.execute_reply.started": "2021-12-20T18:55:18.735407Z"
    },
    "papermill": {
     "duration": 0.044328,
     "end_time": "2021-12-24T13:51:14.249956",
     "exception": false,
     "start_time": "2021-12-24T13:51:14.205628",
     "status": "completed"
    },
    "tags": []
   },
   "outputs": [],
   "source": [
    "test_df['Pawpularity'] = [1]*len(test_df)\n",
    "test_df['path'] = test_df['Id'].map(lambda x:str(dataset_path/'test'/x)+'.jpg')\n",
    "test_df = test_df.drop(columns=['Id'])\n",
    "train_df['norm_score'] = train_df['Pawpularity']/100"
   ]
  },
  {
   "cell_type": "code",
   "execution_count": 25,
   "id": "a8b6008d",
   "metadata": {
    "execution": {
     "iopub.execute_input": "2021-12-24T13:51:14.319261Z",
     "iopub.status.busy": "2021-12-24T13:51:14.318582Z",
     "iopub.status.idle": "2021-12-24T13:52:14.832033Z",
     "shell.execute_reply": "2021-12-24T13:52:14.832504Z",
     "shell.execute_reply.started": "2021-12-20T14:25:55.161658Z"
    },
    "papermill": {
     "duration": 60.55318,
     "end_time": "2021-12-24T13:52:14.832676",
     "exception": false,
     "start_time": "2021-12-24T13:51:14.279496",
     "status": "completed"
    },
    "tags": []
   },
   "outputs": [
    {
     "data": {
      "text/html": [],
      "text/plain": [
       "<IPython.core.display.HTML object>"
      ]
     },
     "metadata": {},
     "output_type": "display_data"
    },
    {
     "data": {
      "text/plain": [
       "SuggestedLRs(valley=7.996027125045657e-05)"
      ]
     },
     "execution_count": 25,
     "metadata": {},
     "output_type": "execute_result"
    },
    {
     "data": {
      "image/png": "[encoded data removed]",
      "text/plain": [
       "<Figure size 432x288 with 1 Axes>"
      ]
     },
     "metadata": {
      "needs_background": "light"
     },
     "output_type": "display_data"
    }
   ],
   "source": [
    "get_learner(fold_num=0).lr_find(end_lr=3e-2)             #was-2"
   ]
  },
  {
   "cell_type": "code",
   "execution_count": 26,
   "id": "3be948f7",
   "metadata": {
    "execution": {
     "iopub.execute_input": "2021-12-24T13:52:14.895730Z",
     "iopub.status.busy": "2021-12-24T13:52:14.895005Z",
     "iopub.status.idle": "2021-12-24T13:52:14.897486Z",
     "shell.execute_reply": "2021-12-24T13:52:14.897071Z",
     "shell.execute_reply.started": "2021-12-20T18:55:18.74658Z"
    },
    "papermill": {
     "duration": 0.034514,
     "end_time": "2021-12-24T13:52:14.897592",
     "exception": false,
     "start_time": "2021-12-24T13:52:14.863078",
     "status": "completed"
    },
    "tags": []
   },
   "outputs": [],
   "source": [
    "import gc"
   ]
  },
  {
   "cell_type": "code",
   "execution_count": 28,
   "id": "b90d6aaf",
   "metadata": {
    "execution": {
     "iopub.execute_input": "2021-12-24T13:52:15.028192Z",
     "iopub.status.busy": "2021-12-24T13:52:15.027357Z",
     "iopub.status.idle": "2021-12-24T16:59:47.566524Z",
     "shell.execute_reply": "2021-12-24T16:59:47.566962Z",
     "shell.execute_reply.started": "2021-12-18T17:35:38.090491Z"
    },
    "papermill": {
     "duration": 11252.576124,
     "end_time": "2021-12-24T16:59:47.567124",
     "exception": false,
     "start_time": "2021-12-24T13:52:14.991000",
     "status": "completed"
    },
    "tags": []
   },
   "outputs": [
    {
     "name": "stdout",
     "output_type": "stream",
     "text": [
      "Fold 0 results\n"
     ]
    },
    {
     "data": {
      "text/html": [
       "<table border=\"1\" class=\"dataframe\">\n",
       "  <thead>\n",
       "    <tr style=\"text-align: left;\">\n",
       "      <th>epoch</th>\n",
       "      <th>train_loss</th>\n",
       "      <th>valid_loss</th>\n",
       "      <th>petfinder_rmse</th>\n",
       "      <th>time</th>\n",
       "    </tr>\n",
       "  </thead>\n",
       "  <tbody>\n",
       "    <tr>\n",
       "      <td>0</td>\n",
       "      <td>0.641614</td>\n",
       "      <td>0.647692</td>\n",
       "      <td>18.570923</td>\n",
       "      <td>08:06</td>\n",
       "    </tr>\n",
       "    <tr>\n",
       "      <td>1</td>\n",
       "      <td>0.642868</td>\n",
       "      <td>0.643753</td>\n",
       "      <td>18.095228</td>\n",
       "      <td>08:05</td>\n",
       "    </tr>\n",
       "    <tr>\n",
       "      <td>2</td>\n",
       "      <td>0.629891</td>\n",
       "      <td>0.641504</td>\n",
       "      <td>17.795574</td>\n",
       "      <td>08:04</td>\n",
       "    </tr>\n",
       "    <tr>\n",
       "      <td>3</td>\n",
       "      <td>0.616690</td>\n",
       "      <td>0.645635</td>\n",
       "      <td>18.220360</td>\n",
       "      <td>08:05</td>\n",
       "    </tr>\n",
       "    <tr>\n",
       "      <td>4</td>\n",
       "      <td>0.613158</td>\n",
       "      <td>0.646311</td>\n",
       "      <td>18.291687</td>\n",
       "      <td>08:05</td>\n",
       "    </tr>\n",
       "  </tbody>\n",
       "</table>"
      ],
      "text/plain": [
       "<IPython.core.display.HTML object>"
      ]
     },
     "metadata": {},
     "output_type": "display_data"
    },
    {
     "name": "stderr",
     "output_type": "stream",
     "text": [
      "/opt/conda/lib/python3.7/site-packages/torch/nn/functional.py:1805: UserWarning: nn.functional.sigmoid is deprecated. Use torch.sigmoid instead.\n",
      "  warnings.warn(\"nn.functional.sigmoid is deprecated. Use torch.sigmoid instead.\")\n"
     ]
    },
    {
     "name": "stdout",
     "output_type": "stream",
     "text": [
      "Better model found at epoch 0 with petfinder_rmse value: 18.5709228515625.\n",
      "Better model found at epoch 1 with petfinder_rmse value: 18.09522819519043.\n",
      "Better model found at epoch 2 with petfinder_rmse value: 17.795574188232422.\n",
      "No improvement since epoch 2: early stopping\n"
     ]
    },
    {
     "data": {
      "text/html": [
       "\n",
       "    <div>\n",
       "        <style>\n",
       "            /* Turns off some styling */\n",
       "            progress {\n",
       "                /* gets rid of default border in Firefox and Opera. */\n",
       "                border: none;\n",
       "                /* Needs to be in here for Safari polyfill so background images work as expected. */\n",
       "                background-size: auto;\n",
       "            }\n",
       "            .progress-bar-interrupted, .progress-bar-interrupted::-webkit-progress-bar {\n",
       "                background: #F44336;\n",
       "            }\n",
       "        </style>\n",
       "      <progress value='0' class='' max='5' style='width:300px; height:20px; vertical-align: middle;'></progress>\n",
       "      \n",
       "    </div>\n",
       "    \n"
      ],
      "text/plain": [
       "<IPython.core.display.HTML object>"
      ]
     },
     "metadata": {},
     "output_type": "display_data"
    },
    {
     "data": {
      "text/html": [],
      "text/plain": [
       "<IPython.core.display.HTML object>"
      ]
     },
     "metadata": {},
     "output_type": "display_data"
    },
    {
     "name": "stdout",
     "output_type": "stream",
     "text": [
      "Fold 1 results\n"
     ]
    },
    {
     "data": {
      "text/html": [
       "<table border=\"1\" class=\"dataframe\">\n",
       "  <thead>\n",
       "    <tr style=\"text-align: left;\">\n",
       "      <th>epoch</th>\n",
       "      <th>train_loss</th>\n",
       "      <th>valid_loss</th>\n",
       "      <th>petfinder_rmse</th>\n",
       "      <th>time</th>\n",
       "    </tr>\n",
       "  </thead>\n",
       "  <tbody>\n",
       "    <tr>\n",
       "      <td>0</td>\n",
       "      <td>0.653374</td>\n",
       "      <td>0.654549</td>\n",
       "      <td>19.372021</td>\n",
       "      <td>08:05</td>\n",
       "    </tr>\n",
       "    <tr>\n",
       "      <td>1</td>\n",
       "      <td>0.641815</td>\n",
       "      <td>0.648898</td>\n",
       "      <td>18.674456</td>\n",
       "      <td>08:05</td>\n",
       "    </tr>\n",
       "    <tr>\n",
       "      <td>2</td>\n",
       "      <td>0.637613</td>\n",
       "      <td>0.643160</td>\n",
       "      <td>17.933424</td>\n",
       "      <td>08:04</td>\n",
       "    </tr>\n",
       "    <tr>\n",
       "      <td>3</td>\n",
       "      <td>0.614960</td>\n",
       "      <td>0.647777</td>\n",
       "      <td>18.418182</td>\n",
       "      <td>08:04</td>\n",
       "    </tr>\n",
       "    <tr>\n",
       "      <td>4</td>\n",
       "      <td>0.618477</td>\n",
       "      <td>0.648998</td>\n",
       "      <td>18.523390</td>\n",
       "      <td>08:05</td>\n",
       "    </tr>\n",
       "  </tbody>\n",
       "</table>"
      ],
      "text/plain": [
       "<IPython.core.display.HTML object>"
      ]
     },
     "metadata": {},
     "output_type": "display_data"
    },
    {
     "name": "stderr",
     "output_type": "stream",
     "text": [
      "/opt/conda/lib/python3.7/site-packages/torch/nn/functional.py:1805: UserWarning: nn.functional.sigmoid is deprecated. Use torch.sigmoid instead.\n",
      "  warnings.warn(\"nn.functional.sigmoid is deprecated. Use torch.sigmoid instead.\")\n"
     ]
    },
    {
     "name": "stdout",
     "output_type": "stream",
     "text": [
      "Better model found at epoch 0 with petfinder_rmse value: 19.372020721435547.\n",
      "Better model found at epoch 1 with petfinder_rmse value: 18.674455642700195.\n",
      "Better model found at epoch 2 with petfinder_rmse value: 17.93342399597168.\n",
      "No improvement since epoch 2: early stopping\n"
     ]
    },
    {
     "data": {
      "text/html": [
       "\n",
       "    <div>\n",
       "        <style>\n",
       "            /* Turns off some styling */\n",
       "            progress {\n",
       "                /* gets rid of default border in Firefox and Opera. */\n",
       "                border: none;\n",
       "                /* Needs to be in here for Safari polyfill so background images work as expected. */\n",
       "                background-size: auto;\n",
       "            }\n",
       "            .progress-bar-interrupted, .progress-bar-interrupted::-webkit-progress-bar {\n",
       "                background: #F44336;\n",
       "            }\n",
       "        </style>\n",
       "      <progress value='0' class='' max='5' style='width:300px; height:20px; vertical-align: middle;'></progress>\n",
       "      \n",
       "    </div>\n",
       "    \n"
      ],
      "text/plain": [
       "<IPython.core.display.HTML object>"
      ]
     },
     "metadata": {},
     "output_type": "display_data"
    },
    {
     "data": {
      "text/html": [],
      "text/plain": [
       "<IPython.core.display.HTML object>"
      ]
     },
     "metadata": {},
     "output_type": "display_data"
    },
    {
     "name": "stdout",
     "output_type": "stream",
     "text": [
      "Fold 2 results\n"
     ]
    },
    {
     "data": {
      "text/html": [
       "<table border=\"1\" class=\"dataframe\">\n",
       "  <thead>\n",
       "    <tr style=\"text-align: left;\">\n",
       "      <th>epoch</th>\n",
       "      <th>train_loss</th>\n",
       "      <th>valid_loss</th>\n",
       "      <th>petfinder_rmse</th>\n",
       "      <th>time</th>\n",
       "    </tr>\n",
       "  </thead>\n",
       "  <tbody>\n",
       "    <tr>\n",
       "      <td>0</td>\n",
       "      <td>0.647639</td>\n",
       "      <td>0.646220</td>\n",
       "      <td>18.392246</td>\n",
       "      <td>08:04</td>\n",
       "    </tr>\n",
       "    <tr>\n",
       "      <td>1</td>\n",
       "      <td>0.641676</td>\n",
       "      <td>0.640551</td>\n",
       "      <td>17.674877</td>\n",
       "      <td>08:05</td>\n",
       "    </tr>\n",
       "    <tr>\n",
       "      <td>2</td>\n",
       "      <td>0.630877</td>\n",
       "      <td>0.641109</td>\n",
       "      <td>17.703306</td>\n",
       "      <td>08:06</td>\n",
       "    </tr>\n",
       "    <tr>\n",
       "      <td>3</td>\n",
       "      <td>0.619714</td>\n",
       "      <td>0.644157</td>\n",
       "      <td>17.991604</td>\n",
       "      <td>08:06</td>\n",
       "    </tr>\n",
       "  </tbody>\n",
       "</table>"
      ],
      "text/plain": [
       "<IPython.core.display.HTML object>"
      ]
     },
     "metadata": {},
     "output_type": "display_data"
    },
    {
     "name": "stderr",
     "output_type": "stream",
     "text": [
      "/opt/conda/lib/python3.7/site-packages/torch/nn/functional.py:1805: UserWarning: nn.functional.sigmoid is deprecated. Use torch.sigmoid instead.\n",
      "  warnings.warn(\"nn.functional.sigmoid is deprecated. Use torch.sigmoid instead.\")\n"
     ]
    },
    {
     "name": "stdout",
     "output_type": "stream",
     "text": [
      "Better model found at epoch 0 with petfinder_rmse value: 18.39224624633789.\n",
      "Better model found at epoch 1 with petfinder_rmse value: 17.674877166748047.\n",
      "No improvement since epoch 1: early stopping\n"
     ]
    },
    {
     "data": {
      "text/html": [
       "\n",
       "    <div>\n",
       "        <style>\n",
       "            /* Turns off some styling */\n",
       "            progress {\n",
       "                /* gets rid of default border in Firefox and Opera. */\n",
       "                border: none;\n",
       "                /* Needs to be in here for Safari polyfill so background images work as expected. */\n",
       "                background-size: auto;\n",
       "            }\n",
       "            .progress-bar-interrupted, .progress-bar-interrupted::-webkit-progress-bar {\n",
       "                background: #F44336;\n",
       "            }\n",
       "        </style>\n",
       "      <progress value='0' class='' max='5' style='width:300px; height:20px; vertical-align: middle;'></progress>\n",
       "      \n",
       "    </div>\n",
       "    \n"
      ],
      "text/plain": [
       "<IPython.core.display.HTML object>"
      ]
     },
     "metadata": {},
     "output_type": "display_data"
    },
    {
     "data": {
      "text/html": [],
      "text/plain": [
       "<IPython.core.display.HTML object>"
      ]
     },
     "metadata": {},
     "output_type": "display_data"
    },
    {
     "name": "stdout",
     "output_type": "stream",
     "text": [
      "Fold 3 results\n"
     ]
    },
    {
     "data": {
      "text/html": [
       "<table border=\"1\" class=\"dataframe\">\n",
       "  <thead>\n",
       "    <tr style=\"text-align: left;\">\n",
       "      <th>epoch</th>\n",
       "      <th>train_loss</th>\n",
       "      <th>valid_loss</th>\n",
       "      <th>petfinder_rmse</th>\n",
       "      <th>time</th>\n",
       "    </tr>\n",
       "  </thead>\n",
       "  <tbody>\n",
       "    <tr>\n",
       "      <td>0</td>\n",
       "      <td>0.649800</td>\n",
       "      <td>0.643892</td>\n",
       "      <td>18.060379</td>\n",
       "      <td>08:05</td>\n",
       "    </tr>\n",
       "    <tr>\n",
       "      <td>1</td>\n",
       "      <td>0.643905</td>\n",
       "      <td>0.639977</td>\n",
       "      <td>17.534370</td>\n",
       "      <td>08:04</td>\n",
       "    </tr>\n",
       "    <tr>\n",
       "      <td>2</td>\n",
       "      <td>0.627191</td>\n",
       "      <td>0.640989</td>\n",
       "      <td>17.579153</td>\n",
       "      <td>08:04</td>\n",
       "    </tr>\n",
       "    <tr>\n",
       "      <td>3</td>\n",
       "      <td>0.625261</td>\n",
       "      <td>0.641233</td>\n",
       "      <td>17.612881</td>\n",
       "      <td>08:04</td>\n",
       "    </tr>\n",
       "  </tbody>\n",
       "</table>"
      ],
      "text/plain": [
       "<IPython.core.display.HTML object>"
      ]
     },
     "metadata": {},
     "output_type": "display_data"
    },
    {
     "name": "stderr",
     "output_type": "stream",
     "text": [
      "/opt/conda/lib/python3.7/site-packages/torch/nn/functional.py:1805: UserWarning: nn.functional.sigmoid is deprecated. Use torch.sigmoid instead.\n",
      "  warnings.warn(\"nn.functional.sigmoid is deprecated. Use torch.sigmoid instead.\")\n"
     ]
    },
    {
     "name": "stdout",
     "output_type": "stream",
     "text": [
      "Better model found at epoch 0 with petfinder_rmse value: 18.060379028320312.\n",
      "Better model found at epoch 1 with petfinder_rmse value: 17.53437042236328.\n",
      "No improvement since epoch 1: early stopping\n"
     ]
    },
    {
     "data": {
      "text/html": [
       "\n",
       "    <div>\n",
       "        <style>\n",
       "            /* Turns off some styling */\n",
       "            progress {\n",
       "                /* gets rid of default border in Firefox and Opera. */\n",
       "                border: none;\n",
       "                /* Needs to be in here for Safari polyfill so background images work as expected. */\n",
       "                background-size: auto;\n",
       "            }\n",
       "            .progress-bar-interrupted, .progress-bar-interrupted::-webkit-progress-bar {\n",
       "                background: #F44336;\n",
       "            }\n",
       "        </style>\n",
       "      <progress value='0' class='' max='5' style='width:300px; height:20px; vertical-align: middle;'></progress>\n",
       "      \n",
       "    </div>\n",
       "    \n"
      ],
      "text/plain": [
       "<IPython.core.display.HTML object>"
      ]
     },
     "metadata": {},
     "output_type": "display_data"
    },
    {
     "data": {
      "text/html": [],
      "text/plain": [
       "<IPython.core.display.HTML object>"
      ]
     },
     "metadata": {},
     "output_type": "display_data"
    },
    {
     "name": "stdout",
     "output_type": "stream",
     "text": [
      "Fold 4 results\n"
     ]
    },
    {
     "data": {
      "text/html": [
       "<table border=\"1\" class=\"dataframe\">\n",
       "  <thead>\n",
       "    <tr style=\"text-align: left;\">\n",
       "      <th>epoch</th>\n",
       "      <th>train_loss</th>\n",
       "      <th>valid_loss</th>\n",
       "      <th>petfinder_rmse</th>\n",
       "      <th>time</th>\n",
       "    </tr>\n",
       "  </thead>\n",
       "  <tbody>\n",
       "    <tr>\n",
       "      <td>0</td>\n",
       "      <td>0.645690</td>\n",
       "      <td>0.645357</td>\n",
       "      <td>18.283289</td>\n",
       "      <td>08:06</td>\n",
       "    </tr>\n",
       "    <tr>\n",
       "      <td>1</td>\n",
       "      <td>0.650903</td>\n",
       "      <td>0.648679</td>\n",
       "      <td>18.713345</td>\n",
       "      <td>08:04</td>\n",
       "    </tr>\n",
       "    <tr>\n",
       "      <td>2</td>\n",
       "      <td>0.637163</td>\n",
       "      <td>0.641884</td>\n",
       "      <td>17.813353</td>\n",
       "      <td>08:04</td>\n",
       "    </tr>\n",
       "    <tr>\n",
       "      <td>3</td>\n",
       "      <td>0.622343</td>\n",
       "      <td>0.641625</td>\n",
       "      <td>17.781044</td>\n",
       "      <td>08:06</td>\n",
       "    </tr>\n",
       "    <tr>\n",
       "      <td>4</td>\n",
       "      <td>0.620531</td>\n",
       "      <td>0.643562</td>\n",
       "      <td>17.998331</td>\n",
       "      <td>08:04</td>\n",
       "    </tr>\n",
       "  </tbody>\n",
       "</table>"
      ],
      "text/plain": [
       "<IPython.core.display.HTML object>"
      ]
     },
     "metadata": {},
     "output_type": "display_data"
    },
    {
     "name": "stderr",
     "output_type": "stream",
     "text": [
      "/opt/conda/lib/python3.7/site-packages/torch/nn/functional.py:1805: UserWarning: nn.functional.sigmoid is deprecated. Use torch.sigmoid instead.\n",
      "  warnings.warn(\"nn.functional.sigmoid is deprecated. Use torch.sigmoid instead.\")\n"
     ]
    },
    {
     "name": "stdout",
     "output_type": "stream",
     "text": [
      "Better model found at epoch 0 with petfinder_rmse value: 18.283288955688477.\n",
      "Better model found at epoch 2 with petfinder_rmse value: 17.813352584838867.\n",
      "Better model found at epoch 3 with petfinder_rmse value: 17.781044006347656.\n"
     ]
    },
    {
     "data": {
      "text/html": [
       "\n",
       "    <div>\n",
       "        <style>\n",
       "            /* Turns off some styling */\n",
       "            progress {\n",
       "                /* gets rid of default border in Firefox and Opera. */\n",
       "                border: none;\n",
       "                /* Needs to be in here for Safari polyfill so background images work as expected. */\n",
       "                background-size: auto;\n",
       "            }\n",
       "            .progress-bar-interrupted, .progress-bar-interrupted::-webkit-progress-bar {\n",
       "                background: #F44336;\n",
       "            }\n",
       "        </style>\n",
       "      <progress value='0' class='' max='5' style='width:300px; height:20px; vertical-align: middle;'></progress>\n",
       "      \n",
       "    </div>\n",
       "    \n"
      ],
      "text/plain": [
       "<IPython.core.display.HTML object>"
      ]
     },
     "metadata": {},
     "output_type": "display_data"
    },
    {
     "data": {
      "text/html": [],
      "text/plain": [
       "<IPython.core.display.HTML object>"
      ]
     },
     "metadata": {},
     "output_type": "display_data"
    },
    {
     "data": {
      "image/png": "[encoded data removed]",
      "text/plain": [
       "<Figure size 432x288 with 1 Axes>"
      ]
     },
     "metadata": {
      "needs_background": "light"
     },
     "output_type": "display_data"
    }
   ],
   "source": [
    "all_preds = []\n",
    "\n",
    "for i in range(5):\n",
    "\n",
    "    print(f'Fold {i} results')\n",
    "    \n",
    "    learn = get_learner(fold_num=i)\n",
    "\n",
    "    learn.fit_one_cycle(5, 2e-5, cbs=[SaveModelCallback('petfinder_rmse', comp=np.less), EarlyStoppingCallback(monitor='petfinder_rmse', comp=np.less, patience=2)]) \n",
    "    \n",
    "    learn.recorder.plot_loss()\n",
    "\n",
    "    learn = learn.to_fp32()\n",
    "    \n",
    "    learn.export(f'model_fold_{i}.pkl')\n",
    "    #learn.save(f'model_fold_{i}.pkl')\n",
    "    \n",
    "    dls = ImageDataLoaders.from_df(train_df, #pass in train DataFrame\n",
    "                               valid_pct=0.2, #80-20 train-validation random split\n",
    "                               seed=999, #seed\n",
    "                               fn_col='path', #filename/path is in the second column of the DataFrame\n",
    "                               label_col='norm_score', #label is in the first column of the DataFrame\n",
    "                               y_block=RegressionBlock, #The type of target\n",
    "                               bs=BATCH_SIZE, #pass in batch size\n",
    "                               num_workers=8,\n",
    "                               item_tfms=Resize(224), #pass in item_tfms\n",
    "                               batch_tfms=setup_aug_tfms([Brightness(), Contrast(), Hue(), Saturation()])) \n",
    "    \n",
    "    test_dl = dls.test_dl(test_df)\n",
    "    \n",
    "    preds, _ = learn.tta(dl=test_dl, n=5, beta=0)\n",
    "    \n",
    "    all_preds.append(preds)\n",
    "    \n",
    "    del learn\n",
    "\n",
    "    torch.cuda.empty_cache()\n",
    "\n",
    "    gc.collect()"
   ]
  },
  {
   "cell_type": "code",
   "execution_count": 29,
   "id": "73b6d146",
   "metadata": {
    "execution": {
     "iopub.execute_input": "2021-12-24T16:59:50.545313Z",
     "iopub.status.busy": "2021-12-24T16:59:50.544567Z",
     "iopub.status.idle": "2021-12-24T16:59:51.309580Z",
     "shell.execute_reply": "2021-12-24T16:59:51.308581Z",
     "shell.execute_reply.started": "2021-12-17T17:06:14.875864Z"
    },
    "papermill": {
     "duration": 3.697978,
     "end_time": "2021-12-24T16:59:51.309754",
     "exception": false,
     "start_time": "2021-12-24T16:59:47.611776",
     "status": "completed"
    },
    "tags": []
   },
   "outputs": [
    {
     "name": "stdout",
     "output_type": "stream",
     "text": [
      "input  lib  src  working\r\n"
     ]
    }
   ],
   "source": [
    "!ls .."
   ]
  },
  {
   "cell_type": "code",
   "execution_count": 30,
   "id": "2c83feb3",
   "metadata": {
    "execution": {
     "iopub.execute_input": "2021-12-24T16:59:51.404052Z",
     "iopub.status.busy": "2021-12-24T16:59:51.403367Z",
     "iopub.status.idle": "2021-12-24T16:59:51.418424Z",
     "shell.execute_reply": "2021-12-24T16:59:51.418023Z"
    },
    "papermill": {
     "duration": 0.064744,
     "end_time": "2021-12-24T16:59:51.418537",
     "exception": false,
     "start_time": "2021-12-24T16:59:51.353793",
     "status": "completed"
    },
    "tags": []
   },
   "outputs": [
    {
     "data": {
      "text/plain": [
       "[tensor([[0.4683],\n",
       "         [0.4699],\n",
       "         [0.4552],\n",
       "         [0.4680],\n",
       "         [0.4815],\n",
       "         [0.4795],\n",
       "         [0.4594],\n",
       "         [0.4697]]),\n",
       " tensor([[0.3971],\n",
       "         [0.4050],\n",
       "         [0.4040],\n",
       "         [0.4121],\n",
       "         [0.3940],\n",
       "         [0.3986],\n",
       "         [0.3995],\n",
       "         [0.4065]]),\n",
       " tensor([[0.3714],\n",
       "         [0.3922],\n",
       "         [0.3712],\n",
       "         [0.3851],\n",
       "         [0.3697],\n",
       "         [0.3753],\n",
       "         [0.3755],\n",
       "         [0.3774]]),\n",
       " tensor([[0.4398],\n",
       "         [0.4466],\n",
       "         [0.4454],\n",
       "         [0.4541],\n",
       "         [0.4345],\n",
       "         [0.4420],\n",
       "         [0.4401],\n",
       "         [0.4499]]),\n",
       " tensor([[0.3654],\n",
       "         [0.3890],\n",
       "         [0.3767],\n",
       "         [0.3841],\n",
       "         [0.3816],\n",
       "         [0.3847],\n",
       "         [0.3719],\n",
       "         [0.3747]])]"
      ]
     },
     "execution_count": 30,
     "metadata": {},
     "output_type": "execute_result"
    }
   ],
   "source": [
    "all_preds"
   ]
  },
  {
   "cell_type": "code",
   "execution_count": 31,
   "id": "c734e78a",
   "metadata": {
    "execution": {
     "iopub.execute_input": "2021-12-24T16:59:51.512062Z",
     "iopub.status.busy": "2021-12-24T16:59:51.511542Z",
     "iopub.status.idle": "2021-12-24T16:59:51.531760Z",
     "shell.execute_reply": "2021-12-24T16:59:51.531267Z"
    },
    "papermill": {
     "duration": 0.068846,
     "end_time": "2021-12-24T16:59:51.531871",
     "exception": false,
     "start_time": "2021-12-24T16:59:51.463025",
     "status": "completed"
    },
    "tags": []
   },
   "outputs": [],
   "source": [
    "sample_df = pd.read_csv(dataset_path/'sample_submission.csv')\n",
    "preds = np.mean(np.stack(all_preds), axis=0)\n",
    "sample_df['Pawpularity'] = preds*100\n",
    "sample_df.to_csv('submission.csv',index=False)"
   ]
  },
  {
   "cell_type": "code",
   "execution_count": 32,
   "id": "e2bed1fa",
   "metadata": {
    "execution": {
     "iopub.execute_input": "2021-12-24T16:59:51.628106Z",
     "iopub.status.busy": "2021-12-24T16:59:51.627342Z",
     "iopub.status.idle": "2021-12-24T16:59:51.637639Z",
     "shell.execute_reply": "2021-12-24T16:59:51.637161Z"
    },
    "papermill": {
     "duration": 0.058835,
     "end_time": "2021-12-24T16:59:51.637769",
     "exception": false,
     "start_time": "2021-12-24T16:59:51.578934",
     "status": "completed"
    },
    "tags": []
   },
   "outputs": [
    {
     "data": {
      "text/html": [
       "<div>\n",
       "<style scoped>\n",
       "    .dataframe tbody tr th:only-of-type {\n",
       "        vertical-align: middle;\n",
       "    }\n",
       "\n",
       "    .dataframe tbody tr th {\n",
       "        vertical-align: top;\n",
       "    }\n",
       "\n",
       "    .dataframe thead th {\n",
       "        text-align: right;\n",
       "    }\n",
       "</style>\n",
       "<table border=\"1\" class=\"dataframe\">\n",
       "  <thead>\n",
       "    <tr style=\"text-align: right;\">\n",
       "      <th></th>\n",
       "      <th>Id</th>\n",
       "      <th>Pawpularity</th>\n",
       "    </tr>\n",
       "  </thead>\n",
       "  <tbody>\n",
       "    <tr>\n",
       "      <th>0</th>\n",
       "      <td>4128bae22183829d2b5fea10effdb0c3</td>\n",
       "      <td>40.839350</td>\n",
       "    </tr>\n",
       "    <tr>\n",
       "      <th>1</th>\n",
       "      <td>43a2262d7738e3d420d453815151079e</td>\n",
       "      <td>42.054695</td>\n",
       "    </tr>\n",
       "    <tr>\n",
       "      <th>2</th>\n",
       "      <td>4e429cead1848a298432a0acad014c9d</td>\n",
       "      <td>41.050156</td>\n",
       "    </tr>\n",
       "    <tr>\n",
       "      <th>3</th>\n",
       "      <td>80bc3ccafcc51b66303c2c263aa38486</td>\n",
       "      <td>42.070470</td>\n",
       "    </tr>\n",
       "    <tr>\n",
       "      <th>4</th>\n",
       "      <td>8f49844c382931444e68dffbe20228f4</td>\n",
       "      <td>41.225933</td>\n",
       "    </tr>\n",
       "  </tbody>\n",
       "</table>\n",
       "</div>"
      ],
      "text/plain": [
       "                                 Id  Pawpularity\n",
       "0  4128bae22183829d2b5fea10effdb0c3    40.839350\n",
       "1  43a2262d7738e3d420d453815151079e    42.054695\n",
       "2  4e429cead1848a298432a0acad014c9d    41.050156\n",
       "3  80bc3ccafcc51b66303c2c263aa38486    42.070470\n",
       "4  8f49844c382931444e68dffbe20228f4    41.225933"
      ]
     },
     "execution_count": 32,
     "metadata": {},
     "output_type": "execute_result"
    }
   ],
   "source": [
    "pd.read_csv('submission.csv').head()"
   ]
  },
  {
   "cell_type": "code",
   "execution_count": null,
   "id": "4e803f84",
   "metadata": {
    "papermill": {
     "duration": 0.044901,
     "end_time": "2021-12-24T16:59:51.728136",
     "exception": false,
     "start_time": "2021-12-24T16:59:51.683235",
     "status": "completed"
    },
    "tags": []
   },
   "outputs": [],
   "source": []
  },
  {
   "cell_type": "code",
   "execution_count": null,
   "id": "d0f292ab",
   "metadata": {
    "papermill": {
     "duration": 0.044185,
     "end_time": "2021-12-24T16:59:51.816683",
     "exception": false,
     "start_time": "2021-12-24T16:59:51.772498",
     "status": "completed"
    },
    "tags": []
   },
   "outputs": [],
   "source": []
  }
 ],
 "metadata": {
  "kernelspec": {
   "display_name": "Python 3",
   "language": "python",
   "name": "python3"
  },
  "language_info": {
   "codemirror_mode": {
    "name": "ipython",
    "version": 3
   },
   "file_extension": ".py",
   "mimetype": "text/x-python",
   "name": "python",
   "nbconvert_exporter": "python",
   "pygments_lexer": "ipython3",
   "version": "3.9.2"
  },
  "papermill": {
   "default_parameters": {},
   "duration": 11349.48149,
   "end_time": "2021-12-24T16:59:54.732288",
   "environment_variables": {},
   "exception": null,
   "input_path": "__notebook__.ipynb",
   "output_path": "__notebook__.ipynb",
   "parameters": {},
   "start_time": "2021-12-24T13:50:45.250798",
   "version": "2.3.3"
  }
 },
 "nbformat": 4,
 "nbformat_minor": 5
}
