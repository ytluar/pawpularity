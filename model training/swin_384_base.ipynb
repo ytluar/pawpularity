{
 "cells": [
  {
   "cell_type": "code",
   "execution_count": 2,
   "id": "88ad51b8",
   "metadata": {
    "execution": {
     "iopub.execute_input": "2022-01-02T09:56:11.876411Z",
     "iopub.status.busy": "2022-01-02T09:56:11.875655Z",
     "iopub.status.idle": "2022-01-02T09:56:15.579805Z",
     "shell.execute_reply": "2022-01-02T09:56:15.580242Z",
     "shell.execute_reply.started": "2021-12-29T10:28:26.933524Z"
    },
    "papermill": {
     "duration": 3.730664,
     "end_time": "2022-01-02T09:56:15.580418",
     "exception": false,
     "start_time": "2022-01-02T09:56:11.849754",
     "status": "completed"
    },
    "tags": []
   },
   "outputs": [],
   "source": [
    "import sys\n",
    "sys.path.append('../input/timm-pytorch-image-models/pytorch-image-models-master')\n",
    "# sys.path.append(\"../input/timmmaster/\")\n",
    "from timm import create_model\n",
    "import pandas as pd\n",
    "import numpy as np"
   ]
  },
  {
   "cell_type": "code",
   "execution_count": 3,
   "id": "174e8ba7",
   "metadata": {
    "execution": {
     "iopub.execute_input": "2022-01-02T09:56:15.632267Z",
     "iopub.status.busy": "2022-01-02T09:56:15.631574Z",
     "iopub.status.idle": "2022-01-02T09:56:15.639713Z",
     "shell.execute_reply": "2022-01-02T09:56:15.640127Z",
     "shell.execute_reply.started": "2021-12-29T10:28:30.782397Z"
    },
    "papermill": {
     "duration": 0.035828,
     "end_time": "2022-01-02T09:56:15.640260",
     "exception": false,
     "start_time": "2022-01-02T09:56:15.604432",
     "status": "completed"
    },
    "tags": []
   },
   "outputs": [
    {
     "data": {
      "text/plain": [
       "'2.5.3'"
      ]
     },
     "execution_count": 3,
     "metadata": {},
     "output_type": "execute_result"
    }
   ],
   "source": [
    "import fastai\n",
    "fastai.__version__"
   ]
  },
  {
   "cell_type": "code",
   "execution_count": 4,
   "id": "9dcba0ae",
   "metadata": {
    "execution": {
     "iopub.execute_input": "2022-01-02T09:56:15.691779Z",
     "iopub.status.busy": "2022-01-02T09:56:15.691039Z",
     "iopub.status.idle": "2022-01-02T09:56:15.693906Z",
     "shell.execute_reply": "2022-01-02T09:56:15.694354Z",
     "shell.execute_reply.started": "2021-12-29T10:28:30.795948Z"
    },
    "papermill": {
     "duration": 0.030234,
     "end_time": "2022-01-02T09:56:15.694475",
     "exception": false,
     "start_time": "2022-01-02T09:56:15.664241",
     "status": "completed"
    },
    "tags": []
   },
   "outputs": [
    {
     "data": {
      "text/plain": [
       "'1.9.1'"
      ]
     },
     "execution_count": 4,
     "metadata": {},
     "output_type": "execute_result"
    }
   ],
   "source": [
    "import torch\n",
    "torch.__version__"
   ]
  },
  {
   "cell_type": "code",
   "execution_count": 5,
   "id": "b5f20ffd",
   "metadata": {
    "execution": {
     "iopub.execute_input": "2022-01-02T09:56:15.746417Z",
     "iopub.status.busy": "2022-01-02T09:56:15.745779Z",
     "iopub.status.idle": "2022-01-02T09:56:16.736294Z",
     "shell.execute_reply": "2022-01-02T09:56:16.735805Z",
     "shell.execute_reply.started": "2021-12-29T10:28:30.803296Z"
    },
    "papermill": {
     "duration": 1.017578,
     "end_time": "2022-01-02T09:56:16.736434",
     "exception": false,
     "start_time": "2022-01-02T09:56:15.718856",
     "status": "completed"
    },
    "tags": []
   },
   "outputs": [],
   "source": [
    "from fastai.vision.all import *"
   ]
  },
  {
   "cell_type": "code",
   "execution_count": 6,
   "id": "4c6f1f65",
   "metadata": {
    "execution": {
     "iopub.execute_input": "2022-01-02T09:56:16.791045Z",
     "iopub.status.busy": "2022-01-02T09:56:16.790269Z",
     "iopub.status.idle": "2022-01-02T09:56:16.792721Z",
     "shell.execute_reply": "2022-01-02T09:56:16.792320Z",
     "shell.execute_reply.started": "2021-12-29T10:28:31.779873Z"
    },
    "papermill": {
     "duration": 0.032077,
     "end_time": "2022-01-02T09:56:16.792830",
     "exception": false,
     "start_time": "2022-01-02T09:56:16.760753",
     "status": "completed"
    },
    "tags": []
   },
   "outputs": [],
   "source": [
    "set_seed(999, reproducible=True)\n",
    "BATCH_SIZE = 8                      #was 32"
   ]
  },
  {
   "cell_type": "code",
   "execution_count": 7,
   "id": "7fcc8f12",
   "metadata": {
    "execution": {
     "iopub.execute_input": "2022-01-02T09:56:16.846811Z",
     "iopub.status.busy": "2022-01-02T09:56:16.846008Z",
     "iopub.status.idle": "2022-01-02T09:56:16.851822Z",
     "shell.execute_reply": "2022-01-02T09:56:16.851404Z",
     "shell.execute_reply.started": "2021-12-29T10:28:31.785919Z"
    },
    "papermill": {
     "duration": 0.033492,
     "end_time": "2022-01-02T09:56:16.851952",
     "exception": false,
     "start_time": "2022-01-02T09:56:16.818460",
     "status": "completed"
    },
    "tags": []
   },
   "outputs": [
    {
     "data": {
      "text/plain": [
       "(#5) [Path('../input/petfinder-pawpularity-score/sample_submission.csv'),Path('../input/petfinder-pawpularity-score/train.csv'),Path('../input/petfinder-pawpularity-score/test.csv'),Path('../input/petfinder-pawpularity-score/test'),Path('../input/petfinder-pawpularity-score/train')]"
      ]
     },
     "execution_count": 7,
     "metadata": {},
     "output_type": "execute_result"
    }
   ],
   "source": [
    "dataset_path = Path('../input/petfinder-pawpularity-score/')\n",
    "dataset_path.ls()"
   ]
  },
  {
   "cell_type": "code",
   "execution_count": 8,
   "id": "6f81d813",
   "metadata": {
    "execution": {
     "iopub.execute_input": "2022-01-02T09:56:16.905175Z",
     "iopub.status.busy": "2022-01-02T09:56:16.904637Z",
     "iopub.status.idle": "2022-01-02T09:56:16.950621Z",
     "shell.execute_reply": "2022-01-02T09:56:16.951058Z",
     "shell.execute_reply.started": "2021-12-29T10:28:31.798187Z"
    },
    "papermill": {
     "duration": 0.074877,
     "end_time": "2022-01-02T09:56:16.951202",
     "exception": false,
     "start_time": "2022-01-02T09:56:16.876325",
     "status": "completed"
    },
    "tags": []
   },
   "outputs": [
    {
     "data": {
      "text/html": [
       "<div>\n",
       "<style scoped>\n",
       "    .dataframe tbody tr th:only-of-type {\n",
       "        vertical-align: middle;\n",
       "    }\n",
       "\n",
       "    .dataframe tbody tr th {\n",
       "        vertical-align: top;\n",
       "    }\n",
       "\n",
       "    .dataframe thead th {\n",
       "        text-align: right;\n",
       "    }\n",
       "</style>\n",
       "<table border=\"1\" class=\"dataframe\">\n",
       "  <thead>\n",
       "    <tr style=\"text-align: right;\">\n",
       "      <th></th>\n",
       "      <th>Id</th>\n",
       "      <th>Subject Focus</th>\n",
       "      <th>Eyes</th>\n",
       "      <th>Face</th>\n",
       "      <th>Near</th>\n",
       "      <th>Action</th>\n",
       "      <th>Accessory</th>\n",
       "      <th>Group</th>\n",
       "      <th>Collage</th>\n",
       "      <th>Human</th>\n",
       "      <th>Occlusion</th>\n",
       "      <th>Info</th>\n",
       "      <th>Blur</th>\n",
       "      <th>Pawpularity</th>\n",
       "    </tr>\n",
       "  </thead>\n",
       "  <tbody>\n",
       "    <tr>\n",
       "      <th>0</th>\n",
       "      <td>0007de18844b0dbbb5e1f607da0606e0</td>\n",
       "      <td>0</td>\n",
       "      <td>1</td>\n",
       "      <td>1</td>\n",
       "      <td>1</td>\n",
       "      <td>0</td>\n",
       "      <td>0</td>\n",
       "      <td>1</td>\n",
       "      <td>0</td>\n",
       "      <td>0</td>\n",
       "      <td>0</td>\n",
       "      <td>0</td>\n",
       "      <td>0</td>\n",
       "      <td>63</td>\n",
       "    </tr>\n",
       "    <tr>\n",
       "      <th>1</th>\n",
       "      <td>0009c66b9439883ba2750fb825e1d7db</td>\n",
       "      <td>0</td>\n",
       "      <td>1</td>\n",
       "      <td>1</td>\n",
       "      <td>0</td>\n",
       "      <td>0</td>\n",
       "      <td>0</td>\n",
       "      <td>0</td>\n",
       "      <td>0</td>\n",
       "      <td>0</td>\n",
       "      <td>0</td>\n",
       "      <td>0</td>\n",
       "      <td>0</td>\n",
       "      <td>42</td>\n",
       "    </tr>\n",
       "    <tr>\n",
       "      <th>2</th>\n",
       "      <td>0013fd999caf9a3efe1352ca1b0d937e</td>\n",
       "      <td>0</td>\n",
       "      <td>1</td>\n",
       "      <td>1</td>\n",
       "      <td>1</td>\n",
       "      <td>0</td>\n",
       "      <td>0</td>\n",
       "      <td>0</td>\n",
       "      <td>0</td>\n",
       "      <td>1</td>\n",
       "      <td>1</td>\n",
       "      <td>0</td>\n",
       "      <td>0</td>\n",
       "      <td>28</td>\n",
       "    </tr>\n",
       "    <tr>\n",
       "      <th>3</th>\n",
       "      <td>0018df346ac9c1d8413cfcc888ca8246</td>\n",
       "      <td>0</td>\n",
       "      <td>1</td>\n",
       "      <td>1</td>\n",
       "      <td>1</td>\n",
       "      <td>0</td>\n",
       "      <td>0</td>\n",
       "      <td>0</td>\n",
       "      <td>0</td>\n",
       "      <td>0</td>\n",
       "      <td>0</td>\n",
       "      <td>0</td>\n",
       "      <td>0</td>\n",
       "      <td>15</td>\n",
       "    </tr>\n",
       "    <tr>\n",
       "      <th>4</th>\n",
       "      <td>001dc955e10590d3ca4673f034feeef2</td>\n",
       "      <td>0</td>\n",
       "      <td>0</td>\n",
       "      <td>0</td>\n",
       "      <td>1</td>\n",
       "      <td>0</td>\n",
       "      <td>0</td>\n",
       "      <td>1</td>\n",
       "      <td>0</td>\n",
       "      <td>0</td>\n",
       "      <td>0</td>\n",
       "      <td>0</td>\n",
       "      <td>0</td>\n",
       "      <td>72</td>\n",
       "    </tr>\n",
       "  </tbody>\n",
       "</table>\n",
       "</div>"
      ],
      "text/plain": [
       "                                 Id  Subject Focus  Eyes  Face  Near  Action  \\\n",
       "0  0007de18844b0dbbb5e1f607da0606e0              0     1     1     1       0   \n",
       "1  0009c66b9439883ba2750fb825e1d7db              0     1     1     0       0   \n",
       "2  0013fd999caf9a3efe1352ca1b0d937e              0     1     1     1       0   \n",
       "3  0018df346ac9c1d8413cfcc888ca8246              0     1     1     1       0   \n",
       "4  001dc955e10590d3ca4673f034feeef2              0     0     0     1       0   \n",
       "\n",
       "   Accessory  Group  Collage  Human  Occlusion  Info  Blur  Pawpularity  \n",
       "0          0      1        0      0          0     0     0           63  \n",
       "1          0      0        0      0          0     0     0           42  \n",
       "2          0      0        0      1          1     0     0           28  \n",
       "3          0      0        0      0          0     0     0           15  \n",
       "4          0      1        0      0          0     0     0           72  "
      ]
     },
     "execution_count": 8,
     "metadata": {},
     "output_type": "execute_result"
    }
   ],
   "source": [
    "train_df = pd.read_csv(dataset_path/'train.csv')\n",
    "train_df.head()"
   ]
  },
  {
   "cell_type": "code",
   "execution_count": 9,
   "id": "817d4995",
   "metadata": {
    "execution": {
     "iopub.execute_input": "2022-01-02T09:56:17.007855Z",
     "iopub.status.busy": "2022-01-02T09:56:17.004823Z",
     "iopub.status.idle": "2022-01-02T09:56:17.135799Z",
     "shell.execute_reply": "2022-01-02T09:56:17.136248Z",
     "shell.execute_reply.started": "2021-12-29T10:28:31.846332Z"
    },
    "papermill": {
     "duration": 0.160394,
     "end_time": "2022-01-02T09:56:17.136413",
     "exception": false,
     "start_time": "2022-01-02T09:56:16.976019",
     "status": "completed"
    },
    "tags": []
   },
   "outputs": [
    {
     "data": {
      "text/html": [
       "<div>\n",
       "<style scoped>\n",
       "    .dataframe tbody tr th:only-of-type {\n",
       "        vertical-align: middle;\n",
       "    }\n",
       "\n",
       "    .dataframe tbody tr th {\n",
       "        vertical-align: top;\n",
       "    }\n",
       "\n",
       "    .dataframe thead th {\n",
       "        text-align: right;\n",
       "    }\n",
       "</style>\n",
       "<table border=\"1\" class=\"dataframe\">\n",
       "  <thead>\n",
       "    <tr style=\"text-align: right;\">\n",
       "      <th></th>\n",
       "      <th>Subject Focus</th>\n",
       "      <th>Eyes</th>\n",
       "      <th>Face</th>\n",
       "      <th>Near</th>\n",
       "      <th>Action</th>\n",
       "      <th>Accessory</th>\n",
       "      <th>Group</th>\n",
       "      <th>Collage</th>\n",
       "      <th>Human</th>\n",
       "      <th>Occlusion</th>\n",
       "      <th>Info</th>\n",
       "      <th>Blur</th>\n",
       "      <th>Pawpularity</th>\n",
       "      <th>path</th>\n",
       "    </tr>\n",
       "  </thead>\n",
       "  <tbody>\n",
       "    <tr>\n",
       "      <th>0</th>\n",
       "      <td>0</td>\n",
       "      <td>0</td>\n",
       "      <td>1</td>\n",
       "      <td>1</td>\n",
       "      <td>0</td>\n",
       "      <td>0</td>\n",
       "      <td>0</td>\n",
       "      <td>0</td>\n",
       "      <td>0</td>\n",
       "      <td>0</td>\n",
       "      <td>0</td>\n",
       "      <td>1</td>\n",
       "      <td>50</td>\n",
       "      <td>../input/petfinder-pawpularity-score/train/ebaaa8e384b3d2f0a56c7ff7675c154c.jpg</td>\n",
       "    </tr>\n",
       "    <tr>\n",
       "      <th>1</th>\n",
       "      <td>0</td>\n",
       "      <td>1</td>\n",
       "      <td>1</td>\n",
       "      <td>1</td>\n",
       "      <td>0</td>\n",
       "      <td>1</td>\n",
       "      <td>0</td>\n",
       "      <td>1</td>\n",
       "      <td>0</td>\n",
       "      <td>0</td>\n",
       "      <td>1</td>\n",
       "      <td>0</td>\n",
       "      <td>25</td>\n",
       "      <td>../input/petfinder-pawpularity-score/train/25e3bf4267c2dc3f579b779418221bb7.jpg</td>\n",
       "    </tr>\n",
       "    <tr>\n",
       "      <th>2</th>\n",
       "      <td>0</td>\n",
       "      <td>0</td>\n",
       "      <td>1</td>\n",
       "      <td>1</td>\n",
       "      <td>0</td>\n",
       "      <td>1</td>\n",
       "      <td>0</td>\n",
       "      <td>0</td>\n",
       "      <td>0</td>\n",
       "      <td>0</td>\n",
       "      <td>0</td>\n",
       "      <td>0</td>\n",
       "      <td>27</td>\n",
       "      <td>../input/petfinder-pawpularity-score/train/6548166fb3fda22b67881176397f0223.jpg</td>\n",
       "    </tr>\n",
       "    <tr>\n",
       "      <th>3</th>\n",
       "      <td>0</td>\n",
       "      <td>1</td>\n",
       "      <td>1</td>\n",
       "      <td>1</td>\n",
       "      <td>0</td>\n",
       "      <td>0</td>\n",
       "      <td>0</td>\n",
       "      <td>0</td>\n",
       "      <td>1</td>\n",
       "      <td>1</td>\n",
       "      <td>0</td>\n",
       "      <td>0</td>\n",
       "      <td>19</td>\n",
       "      <td>../input/petfinder-pawpularity-score/train/472c40116e1833555715e4774445ae5b.jpg</td>\n",
       "    </tr>\n",
       "    <tr>\n",
       "      <th>4</th>\n",
       "      <td>0</td>\n",
       "      <td>1</td>\n",
       "      <td>1</td>\n",
       "      <td>1</td>\n",
       "      <td>0</td>\n",
       "      <td>0</td>\n",
       "      <td>0</td>\n",
       "      <td>1</td>\n",
       "      <td>0</td>\n",
       "      <td>0</td>\n",
       "      <td>0</td>\n",
       "      <td>0</td>\n",
       "      <td>27</td>\n",
       "      <td>../input/petfinder-pawpularity-score/train/7b77e1a6d93667b575d57db83facd860.jpg</td>\n",
       "    </tr>\n",
       "  </tbody>\n",
       "</table>\n",
       "</div>"
      ],
      "text/plain": [
       "   Subject Focus  Eyes  Face  Near  Action  Accessory  Group  Collage  Human  \\\n",
       "0              0     0     1     1       0          0      0        0      0   \n",
       "1              0     1     1     1       0          1      0        1      0   \n",
       "2              0     0     1     1       0          1      0        0      0   \n",
       "3              0     1     1     1       0          0      0        0      1   \n",
       "4              0     1     1     1       0          0      0        1      0   \n",
       "\n",
       "   Occlusion  Info  Blur  Pawpularity  \\\n",
       "0          0     0     1           50   \n",
       "1          0     1     0           25   \n",
       "2          0     0     0           27   \n",
       "3          1     0     0           19   \n",
       "4          0     0     0           27   \n",
       "\n",
       "                                                                              path  \n",
       "0  ../input/petfinder-pawpularity-score/train/ebaaa8e384b3d2f0a56c7ff7675c154c.jpg  \n",
       "1  ../input/petfinder-pawpularity-score/train/25e3bf4267c2dc3f579b779418221bb7.jpg  \n",
       "2  ../input/petfinder-pawpularity-score/train/6548166fb3fda22b67881176397f0223.jpg  \n",
       "3  ../input/petfinder-pawpularity-score/train/472c40116e1833555715e4774445ae5b.jpg  \n",
       "4  ../input/petfinder-pawpularity-score/train/7b77e1a6d93667b575d57db83facd860.jpg  "
      ]
     },
     "execution_count": 9,
     "metadata": {},
     "output_type": "execute_result"
    }
   ],
   "source": [
    "train_df['path'] = train_df['Id'].map(lambda x:str(dataset_path/'train'/x)+'.jpg')\n",
    "train_df = train_df.drop(columns=['Id'])\n",
    "train_df = train_df.sample(frac=1).reset_index(drop=True) #shuffle dataframe\n",
    "train_df.head()"
   ]
  },
  {
   "cell_type": "code",
   "execution_count": 12,
   "id": "f64806e6",
   "metadata": {
    "execution": {
     "iopub.execute_input": "2022-01-02T09:56:17.601184Z",
     "iopub.status.busy": "2022-01-02T09:56:17.600358Z",
     "iopub.status.idle": "2022-01-02T09:56:26.891040Z",
     "shell.execute_reply": "2022-01-02T09:56:26.890556Z",
     "shell.execute_reply.started": "2021-12-29T10:28:32.244442Z"
    },
    "papermill": {
     "duration": 9.321591,
     "end_time": "2022-01-02T09:56:26.891158",
     "exception": false,
     "start_time": "2022-01-02T09:56:17.569567",
     "status": "completed"
    },
    "tags": []
   },
   "outputs": [],
   "source": [
    "if not os.path.exists('/root/.cache/torch/hub/checkpoints/'):\n",
    "    os.makedirs('/root/.cache/torch/hub/checkpoints/')\n",
    "!cp '../input/swin-transformer/swin_large_patch4_window7_224_22kto1k.pth' '/root/.cache/torch/hub/checkpoints/swin_large_patch4_window7_224_22kto1k.pth'\n"
   ]
  },
  {
   "cell_type": "code",
   "execution_count": 13,
   "id": "3a1d0bbf",
   "metadata": {
    "execution": {
     "iopub.execute_input": "2022-01-02T09:56:26.958127Z",
     "iopub.status.busy": "2022-01-02T09:56:26.957229Z",
     "iopub.status.idle": "2022-01-02T09:56:26.959160Z",
     "shell.execute_reply": "2022-01-02T09:56:26.959697Z",
     "shell.execute_reply.started": "2021-12-29T10:28:41.809645Z"
    },
    "papermill": {
     "duration": 0.039516,
     "end_time": "2022-01-02T09:56:26.959839",
     "exception": false,
     "start_time": "2022-01-02T09:56:26.920323",
     "status": "completed"
    },
    "tags": []
   },
   "outputs": [],
   "source": [
    "seed=999\n",
    "set_seed(seed, reproducible=True)\n",
    "torch.manual_seed(seed)\n",
    "torch.cuda.manual_seed(seed)\n",
    "torch.backends.cudnn.deterministic = True\n",
    "torch.use_deterministic_algorithms = True"
   ]
  },
  {
   "cell_type": "code",
   "execution_count": 18,
   "id": "b52e0053",
   "metadata": {
    "execution": {
     "iopub.execute_input": "2022-01-02T09:56:27.294158Z",
     "iopub.status.busy": "2022-01-02T09:56:27.293289Z",
     "iopub.status.idle": "2022-01-02T09:56:27.295227Z",
     "shell.execute_reply": "2022-01-02T09:56:27.295711Z",
     "shell.execute_reply.started": "2021-12-29T10:28:41.855284Z"
    },
    "papermill": {
     "duration": 0.037502,
     "end_time": "2022-01-02T09:56:27.295841",
     "exception": false,
     "start_time": "2022-01-02T09:56:27.258339",
     "status": "completed"
    },
    "tags": []
   },
   "outputs": [],
   "source": [
    "def petfinder_rmse(input,target):\n",
    "    return 100*torch.sqrt(F.mse_loss(F.sigmoid(input.flatten()), target))"
   ]
  },
  {
   "cell_type": "code",
   "execution_count": 19,
   "id": "e29bbfa2",
   "metadata": {
    "execution": {
     "iopub.execute_input": "2022-01-02T09:56:27.361769Z",
     "iopub.status.busy": "2022-01-02T09:56:27.360916Z",
     "iopub.status.idle": "2022-01-02T09:56:27.365259Z",
     "shell.execute_reply": "2022-01-02T09:56:27.364764Z",
     "shell.execute_reply.started": "2021-12-29T10:28:41.864543Z"
    },
    "papermill": {
     "duration": 0.04093,
     "end_time": "2022-01-02T09:56:27.365388",
     "exception": false,
     "start_time": "2022-01-02T09:56:27.324458",
     "status": "completed"
    },
    "tags": []
   },
   "outputs": [],
   "source": [
    "def get_data(fold):\n",
    "    train_df_f = pd.read_csv(f'../input/data-split-pawpularity/skf_split_train_5cv_fold{fold}.csv')\n",
    "    train_df_f['is_valid'] = False\n",
    "    valid_df_f = pd.read_csv(f'../input/data-split-pawpularity/skf_split_val_5cv_fold{fold}.csv')\n",
    "    valid_df_f['is_valid'] = True\n",
    "    \n",
    "    train_df_f = train_df_f.append(valid_df_f)\n",
    "    train_df_f['Id'] = train_df_f['img_path'].apply(lambda x: x.split('.')[-2].split('/')[-1])\n",
    "    train_df_f['img_path'] = train_df_f['Id'].map(lambda x:str(dataset_path/'train'/x)+'.jpg')\n",
    "    \n",
    "    dls = ImageDataLoaders.from_df(train_df_f, #pass in train DataFrame\n",
    "                               valid_col='is_valid', #\n",
    "                               seed=999, #seed\n",
    "                               fn_col='img_path', #filename/path is in the second column of the DataFrame\n",
    "                               label_col='Pawpularity', #label is in the first column of the DataFrame\n",
    "                               y_block=RegressionBlock, #The type of target\n",
    "                               bs=BATCH_SIZE, #pass in batch size\n",
    "                               num_workers=8,\n",
    "                               item_tfms=Resize(384), #pass in item_tfms\n",
    "                               batch_tfms=setup_aug_tfms([Brightness(), Contrast(), Hue(), Saturation()])) #pass in batch_tfms\n",
    "    return dls\n"
   ]
  },
  {
   "cell_type": "code",
   "execution_count": 20,
   "id": "f8096e43",
   "metadata": {
    "execution": {
     "iopub.execute_input": "2022-01-02T09:56:27.426734Z",
     "iopub.status.busy": "2022-01-02T09:56:27.426105Z",
     "iopub.status.idle": "2022-01-02T09:56:31.053896Z",
     "shell.execute_reply": "2022-01-02T09:56:31.053416Z",
     "shell.execute_reply.started": "2021-12-29T10:28:41.87696Z"
    },
    "papermill": {
     "duration": 3.660507,
     "end_time": "2022-01-02T09:56:31.054057",
     "exception": false,
     "start_time": "2022-01-02T09:56:27.393550",
     "status": "completed"
    },
    "tags": []
   },
   "outputs": [],
   "source": [
    "#Valid Kfolder size\n",
    "the_data = get_data(0)\n",
    "assert (len(the_data.train) + len(the_data.valid)) == (len(train_df)//BATCH_SIZE)"
   ]
  },
  {
   "cell_type": "code",
   "execution_count": 21,
   "id": "064a2472",
   "metadata": {
    "execution": {
     "iopub.execute_input": "2022-01-02T09:56:31.117385Z",
     "iopub.status.busy": "2022-01-02T09:56:31.116618Z",
     "iopub.status.idle": "2022-01-02T09:56:31.823987Z",
     "shell.execute_reply": "2022-01-02T09:56:31.824479Z",
     "shell.execute_reply.started": "2021-12-29T10:28:45.060864Z"
    },
    "papermill": {
     "duration": 0.741572,
     "end_time": "2022-01-02T09:56:31.824646",
     "exception": false,
     "start_time": "2022-01-02T09:56:31.083074",
     "status": "completed"
    },
    "tags": []
   },
   "outputs": [
    {
     "name": "stdout",
     "output_type": "stream",
     "text": [
      "__notebook__.ipynb\r\n"
     ]
    }
   ],
   "source": [
    "!ls"
   ]
  },
  {
   "cell_type": "code",
   "execution_count": 22,
   "id": "e8fffb6f",
   "metadata": {
    "execution": {
     "iopub.execute_input": "2022-01-02T09:56:31.889288Z",
     "iopub.status.busy": "2022-01-02T09:56:31.888532Z",
     "iopub.status.idle": "2022-01-02T09:56:31.891368Z",
     "shell.execute_reply": "2022-01-02T09:56:31.890848Z",
     "shell.execute_reply.started": "2021-12-29T10:28:45.791306Z"
    },
    "papermill": {
     "duration": 0.037637,
     "end_time": "2022-01-02T09:56:31.891501",
     "exception": false,
     "start_time": "2022-01-02T09:56:31.853864",
     "status": "completed"
    },
    "tags": []
   },
   "outputs": [],
   "source": [
    "def get_learner(fold_num):\n",
    "    data = get_data(fold_num)\n",
    "    \n",
    "#     model = create_model('swin_large_patch4_window7_224', pretrained=True, num_classes=data.c)\n",
    "    model = create_model('swin_base_patch4_window12_384', pretrained=True, num_classes=data.c)\n",
    "    learn = Learner(data, model, loss_func=BCEWithLogitsLossFlat(), metrics=AccumMetric(func=petfinder_rmse)).to_fp16()\n",
    "    \n",
    "    return learn"
   ]
  },
  {
   "cell_type": "code",
   "execution_count": 23,
   "id": "f85c59ba",
   "metadata": {
    "execution": {
     "iopub.execute_input": "2022-01-02T09:56:31.949938Z",
     "iopub.status.busy": "2022-01-02T09:56:31.948831Z",
     "iopub.status.idle": "2022-01-02T09:56:31.965238Z",
     "shell.execute_reply": "2022-01-02T09:56:31.965647Z",
     "shell.execute_reply.started": "2021-12-29T10:28:45.799695Z"
    },
    "papermill": {
     "duration": 0.047565,
     "end_time": "2022-01-02T09:56:31.965771",
     "exception": false,
     "start_time": "2022-01-02T09:56:31.918206",
     "status": "completed"
    },
    "tags": []
   },
   "outputs": [
    {
     "data": {
      "text/html": [
       "<div>\n",
       "<style scoped>\n",
       "    .dataframe tbody tr th:only-of-type {\n",
       "        vertical-align: middle;\n",
       "    }\n",
       "\n",
       "    .dataframe tbody tr th {\n",
       "        vertical-align: top;\n",
       "    }\n",
       "\n",
       "    .dataframe thead th {\n",
       "        text-align: right;\n",
       "    }\n",
       "</style>\n",
       "<table border=\"1\" class=\"dataframe\">\n",
       "  <thead>\n",
       "    <tr style=\"text-align: right;\">\n",
       "      <th></th>\n",
       "      <th>Id</th>\n",
       "      <th>Subject Focus</th>\n",
       "      <th>Eyes</th>\n",
       "      <th>Face</th>\n",
       "      <th>Near</th>\n",
       "      <th>Action</th>\n",
       "      <th>Accessory</th>\n",
       "      <th>Group</th>\n",
       "      <th>Collage</th>\n",
       "      <th>Human</th>\n",
       "      <th>Occlusion</th>\n",
       "      <th>Info</th>\n",
       "      <th>Blur</th>\n",
       "    </tr>\n",
       "  </thead>\n",
       "  <tbody>\n",
       "    <tr>\n",
       "      <th>0</th>\n",
       "      <td>4128bae22183829d2b5fea10effdb0c3</td>\n",
       "      <td>1</td>\n",
       "      <td>0</td>\n",
       "      <td>1</td>\n",
       "      <td>0</td>\n",
       "      <td>0</td>\n",
       "      <td>1</td>\n",
       "      <td>1</td>\n",
       "      <td>0</td>\n",
       "      <td>0</td>\n",
       "      <td>1</td>\n",
       "      <td>0</td>\n",
       "      <td>1</td>\n",
       "    </tr>\n",
       "    <tr>\n",
       "      <th>1</th>\n",
       "      <td>43a2262d7738e3d420d453815151079e</td>\n",
       "      <td>0</td>\n",
       "      <td>1</td>\n",
       "      <td>0</td>\n",
       "      <td>0</td>\n",
       "      <td>0</td>\n",
       "      <td>0</td>\n",
       "      <td>1</td>\n",
       "      <td>1</td>\n",
       "      <td>0</td>\n",
       "      <td>0</td>\n",
       "      <td>0</td>\n",
       "      <td>0</td>\n",
       "    </tr>\n",
       "    <tr>\n",
       "      <th>2</th>\n",
       "      <td>4e429cead1848a298432a0acad014c9d</td>\n",
       "      <td>0</td>\n",
       "      <td>0</td>\n",
       "      <td>0</td>\n",
       "      <td>1</td>\n",
       "      <td>0</td>\n",
       "      <td>1</td>\n",
       "      <td>1</td>\n",
       "      <td>1</td>\n",
       "      <td>0</td>\n",
       "      <td>1</td>\n",
       "      <td>1</td>\n",
       "      <td>1</td>\n",
       "    </tr>\n",
       "    <tr>\n",
       "      <th>3</th>\n",
       "      <td>80bc3ccafcc51b66303c2c263aa38486</td>\n",
       "      <td>1</td>\n",
       "      <td>0</td>\n",
       "      <td>1</td>\n",
       "      <td>0</td>\n",
       "      <td>0</td>\n",
       "      <td>0</td>\n",
       "      <td>0</td>\n",
       "      <td>0</td>\n",
       "      <td>0</td>\n",
       "      <td>0</td>\n",
       "      <td>1</td>\n",
       "      <td>0</td>\n",
       "    </tr>\n",
       "    <tr>\n",
       "      <th>4</th>\n",
       "      <td>8f49844c382931444e68dffbe20228f4</td>\n",
       "      <td>1</td>\n",
       "      <td>1</td>\n",
       "      <td>1</td>\n",
       "      <td>0</td>\n",
       "      <td>1</td>\n",
       "      <td>1</td>\n",
       "      <td>0</td>\n",
       "      <td>1</td>\n",
       "      <td>0</td>\n",
       "      <td>1</td>\n",
       "      <td>1</td>\n",
       "      <td>0</td>\n",
       "    </tr>\n",
       "  </tbody>\n",
       "</table>\n",
       "</div>"
      ],
      "text/plain": [
       "                                 Id  Subject Focus  Eyes  Face  Near  Action  \\\n",
       "0  4128bae22183829d2b5fea10effdb0c3              1     0     1     0       0   \n",
       "1  43a2262d7738e3d420d453815151079e              0     1     0     0       0   \n",
       "2  4e429cead1848a298432a0acad014c9d              0     0     0     1       0   \n",
       "3  80bc3ccafcc51b66303c2c263aa38486              1     0     1     0       0   \n",
       "4  8f49844c382931444e68dffbe20228f4              1     1     1     0       1   \n",
       "\n",
       "   Accessory  Group  Collage  Human  Occlusion  Info  Blur  \n",
       "0          1      1        0      0          1     0     1  \n",
       "1          0      1        1      0          0     0     0  \n",
       "2          1      1        1      0          1     1     1  \n",
       "3          0      0        0      0          0     1     0  \n",
       "4          1      0        1      0          1     1     0  "
      ]
     },
     "execution_count": 23,
     "metadata": {},
     "output_type": "execute_result"
    }
   ],
   "source": [
    "test_df = pd.read_csv(dataset_path/'test.csv')\n",
    "test_df.head()"
   ]
  },
  {
   "cell_type": "code",
   "execution_count": 24,
   "id": "1ae80ae1",
   "metadata": {
    "execution": {
     "iopub.execute_input": "2022-01-02T09:56:32.026290Z",
     "iopub.status.busy": "2022-01-02T09:56:32.025517Z",
     "iopub.status.idle": "2022-01-02T09:56:32.031189Z",
     "shell.execute_reply": "2022-01-02T09:56:32.031582Z",
     "shell.execute_reply.started": "2021-12-29T10:28:45.827242Z"
    },
    "papermill": {
     "duration": 0.038526,
     "end_time": "2022-01-02T09:56:32.031703",
     "exception": false,
     "start_time": "2022-01-02T09:56:31.993177",
     "status": "completed"
    },
    "tags": []
   },
   "outputs": [],
   "source": [
    "test_df['Pawpularity'] = [1]*len(test_df)\n",
    "test_df['path'] = test_df['Id'].map(lambda x:str(dataset_path/'test'/x)+'.jpg')\n",
    "test_df = test_df.drop(columns=['Id'])\n",
    "train_df['norm_score'] = train_df['Pawpularity']/100"
   ]
  },
  {
   "cell_type": "code",
   "execution_count": 25,
   "id": "77a2df90",
   "metadata": {
    "execution": {
     "iopub.execute_input": "2022-01-02T09:56:32.089108Z",
     "iopub.status.busy": "2022-01-02T09:56:32.088372Z",
     "iopub.status.idle": "2022-01-02T09:56:32.090344Z",
     "shell.execute_reply": "2022-01-02T09:56:32.090697Z",
     "shell.execute_reply.started": "2021-12-29T10:28:45.840339Z"
    },
    "papermill": {
     "duration": 0.032301,
     "end_time": "2022-01-02T09:56:32.090818",
     "exception": false,
     "start_time": "2022-01-02T09:56:32.058517",
     "status": "completed"
    },
    "tags": []
   },
   "outputs": [],
   "source": [
    "import gc"
   ]
  },
  {
   "cell_type": "code",
   "execution_count": 26,
   "id": "a85ed256",
   "metadata": {
    "execution": {
     "iopub.execute_input": "2022-01-02T09:56:32.156563Z",
     "iopub.status.busy": "2022-01-02T09:56:32.155746Z",
     "iopub.status.idle": "2022-01-02T09:58:08.609498Z",
     "shell.execute_reply": "2022-01-02T09:58:08.609876Z",
     "shell.execute_reply.started": "2021-12-29T10:28:45.846812Z"
    },
    "papermill": {
     "duration": 96.492478,
     "end_time": "2022-01-02T09:58:08.610079",
     "exception": false,
     "start_time": "2022-01-02T09:56:32.117601",
     "status": "completed"
    },
    "tags": []
   },
   "outputs": [
    {
     "name": "stderr",
     "output_type": "stream",
     "text": [
      "Downloading: \"https://github.com/SwinTransformer/storage/releases/download/v1.0.0/swin_base_patch4_window12_384_22kto1k.pth\" to /root/.cache/torch/hub/checkpoints/swin_base_patch4_window12_384_22kto1k.pth\n"
     ]
    },
    {
     "data": {
      "text/html": [],
      "text/plain": [
       "<IPython.core.display.HTML object>"
      ]
     },
     "metadata": {},
     "output_type": "display_data"
    },
    {
     "data": {
      "text/plain": [
       "SuggestedLRs(valley=4.828246164834127e-05)"
      ]
     },
     "execution_count": 26,
     "metadata": {},
     "output_type": "execute_result"
    },
    {
     "data": {
      "image/png": "[encoded data removed]",
      "text/plain": [
       "<Figure size 432x288 with 1 Axes>"
      ]
     },
     "metadata": {
      "needs_background": "light"
     },
     "output_type": "display_data"
    }
   ],
   "source": [
    "a = get_learner(fold_num=0)\n",
    "a.lr_find(end_lr=3e-2)             #was-2"
   ]
  },
  {
   "cell_type": "code",
   "execution_count": 28,
   "id": "dde58bf3",
   "metadata": {
    "execution": {
     "iopub.execute_input": "2022-01-02T09:58:08.742815Z",
     "iopub.status.busy": "2022-01-02T09:58:08.742209Z",
     "iopub.status.idle": "2022-01-02T18:36:44.361851Z",
     "shell.execute_reply": "2022-01-02T18:36:44.362668Z",
     "shell.execute_reply.started": "2021-12-29T10:30:39.055467Z"
    },
    "papermill": {
     "duration": 31115.658397,
     "end_time": "2022-01-02T18:36:44.362833",
     "exception": false,
     "start_time": "2022-01-02T09:58:08.704436",
     "status": "completed"
    },
    "tags": []
   },
   "outputs": [
    {
     "name": "stdout",
     "output_type": "stream",
     "text": [
      "Fold 0 results\n"
     ]
    },
    {
     "data": {
      "text/html": [
       "<table border=\"1\" class=\"dataframe\">\n",
       "  <thead>\n",
       "    <tr style=\"text-align: left;\">\n",
       "      <th>epoch</th>\n",
       "      <th>train_loss</th>\n",
       "      <th>valid_loss</th>\n",
       "      <th>petfinder_rmse</th>\n",
       "      <th>time</th>\n",
       "    </tr>\n",
       "  </thead>\n",
       "  <tbody>\n",
       "    <tr>\n",
       "      <td>0</td>\n",
       "      <td>0.658818</td>\n",
       "      <td>0.658248</td>\n",
       "      <td>19.916420</td>\n",
       "      <td>12:54</td>\n",
       "    </tr>\n",
       "    <tr>\n",
       "      <td>1</td>\n",
       "      <td>0.650348</td>\n",
       "      <td>0.645130</td>\n",
       "      <td>18.285734</td>\n",
       "      <td>12:54</td>\n",
       "    </tr>\n",
       "    <tr>\n",
       "      <td>2</td>\n",
       "      <td>0.643148</td>\n",
       "      <td>0.642044</td>\n",
       "      <td>17.884480</td>\n",
       "      <td>12:55</td>\n",
       "    </tr>\n",
       "    <tr>\n",
       "      <td>3</td>\n",
       "      <td>0.636048</td>\n",
       "      <td>0.641611</td>\n",
       "      <td>17.811274</td>\n",
       "      <td>12:54</td>\n",
       "    </tr>\n",
       "    <tr>\n",
       "      <td>4</td>\n",
       "      <td>0.635696</td>\n",
       "      <td>0.643308</td>\n",
       "      <td>18.009605</td>\n",
       "      <td>12:55</td>\n",
       "    </tr>\n",
       "    <tr>\n",
       "      <td>5</td>\n",
       "      <td>0.634298</td>\n",
       "      <td>0.640937</td>\n",
       "      <td>17.719769</td>\n",
       "      <td>12:55</td>\n",
       "    </tr>\n",
       "    <tr>\n",
       "      <td>6</td>\n",
       "      <td>0.636522</td>\n",
       "      <td>0.640785</td>\n",
       "      <td>17.694738</td>\n",
       "      <td>12:54</td>\n",
       "    </tr>\n",
       "    <tr>\n",
       "      <td>7</td>\n",
       "      <td>0.625179</td>\n",
       "      <td>0.641201</td>\n",
       "      <td>17.742331</td>\n",
       "      <td>12:55</td>\n",
       "    </tr>\n",
       "    <tr>\n",
       "      <td>8</td>\n",
       "      <td>0.631048</td>\n",
       "      <td>0.641523</td>\n",
       "      <td>17.775259</td>\n",
       "      <td>12:55</td>\n",
       "    </tr>\n",
       "  </tbody>\n",
       "</table>"
      ],
      "text/plain": [
       "<IPython.core.display.HTML object>"
      ]
     },
     "metadata": {},
     "output_type": "display_data"
    },
    {
     "name": "stderr",
     "output_type": "stream",
     "text": [
      "/opt/conda/lib/python3.7/site-packages/torch/nn/functional.py:1805: UserWarning: nn.functional.sigmoid is deprecated. Use torch.sigmoid instead.\n",
      "  warnings.warn(\"nn.functional.sigmoid is deprecated. Use torch.sigmoid instead.\")\n"
     ]
    },
    {
     "name": "stdout",
     "output_type": "stream",
     "text": [
      "Better model found at epoch 0 with petfinder_rmse value: 19.916419982910156.\n",
      "Better model found at epoch 1 with petfinder_rmse value: 18.285734176635742.\n",
      "Better model found at epoch 2 with petfinder_rmse value: 17.884479522705078.\n",
      "Better model found at epoch 3 with petfinder_rmse value: 17.8112735748291.\n",
      "Better model found at epoch 5 with petfinder_rmse value: 17.719768524169922.\n",
      "Better model found at epoch 6 with petfinder_rmse value: 17.694738388061523.\n",
      "No improvement since epoch 6: early stopping\n"
     ]
    },
    {
     "data": {
      "text/html": [
       "\n",
       "    <div>\n",
       "        <style>\n",
       "            /* Turns off some styling */\n",
       "            progress {\n",
       "                /* gets rid of default border in Firefox and Opera. */\n",
       "                border: none;\n",
       "                /* Needs to be in here for Safari polyfill so background images work as expected. */\n",
       "                background-size: auto;\n",
       "            }\n",
       "            .progress-bar-interrupted, .progress-bar-interrupted::-webkit-progress-bar {\n",
       "                background: #F44336;\n",
       "            }\n",
       "        </style>\n",
       "      <progress value='0' class='' max='10' style='width:300px; height:20px; vertical-align: middle;'></progress>\n",
       "      \n",
       "    </div>\n",
       "    \n"
      ],
      "text/plain": [
       "<IPython.core.display.HTML object>"
      ]
     },
     "metadata": {},
     "output_type": "display_data"
    },
    {
     "data": {
      "text/html": [],
      "text/plain": [
       "<IPython.core.display.HTML object>"
      ]
     },
     "metadata": {},
     "output_type": "display_data"
    },
    {
     "name": "stdout",
     "output_type": "stream",
     "text": [
      "Fold 1 results\n"
     ]
    },
    {
     "data": {
      "text/html": [
       "<table border=\"1\" class=\"dataframe\">\n",
       "  <thead>\n",
       "    <tr style=\"text-align: left;\">\n",
       "      <th>epoch</th>\n",
       "      <th>train_loss</th>\n",
       "      <th>valid_loss</th>\n",
       "      <th>petfinder_rmse</th>\n",
       "      <th>time</th>\n",
       "    </tr>\n",
       "  </thead>\n",
       "  <tbody>\n",
       "    <tr>\n",
       "      <td>0</td>\n",
       "      <td>0.658059</td>\n",
       "      <td>0.658197</td>\n",
       "      <td>19.836851</td>\n",
       "      <td>12:55</td>\n",
       "    </tr>\n",
       "    <tr>\n",
       "      <td>1</td>\n",
       "      <td>0.641944</td>\n",
       "      <td>0.646659</td>\n",
       "      <td>18.383554</td>\n",
       "      <td>12:56</td>\n",
       "    </tr>\n",
       "    <tr>\n",
       "      <td>2</td>\n",
       "      <td>0.641072</td>\n",
       "      <td>0.643489</td>\n",
       "      <td>17.985027</td>\n",
       "      <td>12:55</td>\n",
       "    </tr>\n",
       "    <tr>\n",
       "      <td>3</td>\n",
       "      <td>0.632735</td>\n",
       "      <td>0.643363</td>\n",
       "      <td>17.961002</td>\n",
       "      <td>12:56</td>\n",
       "    </tr>\n",
       "    <tr>\n",
       "      <td>4</td>\n",
       "      <td>0.634911</td>\n",
       "      <td>0.644304</td>\n",
       "      <td>18.080620</td>\n",
       "      <td>12:55</td>\n",
       "    </tr>\n",
       "    <tr>\n",
       "      <td>5</td>\n",
       "      <td>0.635500</td>\n",
       "      <td>0.644182</td>\n",
       "      <td>18.065815</td>\n",
       "      <td>12:54</td>\n",
       "    </tr>\n",
       "  </tbody>\n",
       "</table>"
      ],
      "text/plain": [
       "<IPython.core.display.HTML object>"
      ]
     },
     "metadata": {},
     "output_type": "display_data"
    },
    {
     "name": "stderr",
     "output_type": "stream",
     "text": [
      "/opt/conda/lib/python3.7/site-packages/torch/nn/functional.py:1805: UserWarning: nn.functional.sigmoid is deprecated. Use torch.sigmoid instead.\n",
      "  warnings.warn(\"nn.functional.sigmoid is deprecated. Use torch.sigmoid instead.\")\n"
     ]
    },
    {
     "name": "stdout",
     "output_type": "stream",
     "text": [
      "Better model found at epoch 0 with petfinder_rmse value: 19.836851119995117.\n",
      "Better model found at epoch 1 with petfinder_rmse value: 18.383554458618164.\n",
      "Better model found at epoch 2 with petfinder_rmse value: 17.985027313232422.\n",
      "Better model found at epoch 3 with petfinder_rmse value: 17.961002349853516.\n",
      "No improvement since epoch 3: early stopping\n"
     ]
    },
    {
     "data": {
      "text/html": [
       "\n",
       "    <div>\n",
       "        <style>\n",
       "            /* Turns off some styling */\n",
       "            progress {\n",
       "                /* gets rid of default border in Firefox and Opera. */\n",
       "                border: none;\n",
       "                /* Needs to be in here for Safari polyfill so background images work as expected. */\n",
       "                background-size: auto;\n",
       "            }\n",
       "            .progress-bar-interrupted, .progress-bar-interrupted::-webkit-progress-bar {\n",
       "                background: #F44336;\n",
       "            }\n",
       "        </style>\n",
       "      <progress value='0' class='' max='10' style='width:300px; height:20px; vertical-align: middle;'></progress>\n",
       "      \n",
       "    </div>\n",
       "    \n"
      ],
      "text/plain": [
       "<IPython.core.display.HTML object>"
      ]
     },
     "metadata": {},
     "output_type": "display_data"
    },
    {
     "data": {
      "text/html": [],
      "text/plain": [
       "<IPython.core.display.HTML object>"
      ]
     },
     "metadata": {},
     "output_type": "display_data"
    },
    {
     "name": "stdout",
     "output_type": "stream",
     "text": [
      "Fold 2 results\n"
     ]
    },
    {
     "data": {
      "text/html": [
       "<table border=\"1\" class=\"dataframe\">\n",
       "  <thead>\n",
       "    <tr style=\"text-align: left;\">\n",
       "      <th>epoch</th>\n",
       "      <th>train_loss</th>\n",
       "      <th>valid_loss</th>\n",
       "      <th>petfinder_rmse</th>\n",
       "      <th>time</th>\n",
       "    </tr>\n",
       "  </thead>\n",
       "  <tbody>\n",
       "    <tr>\n",
       "      <td>0</td>\n",
       "      <td>0.653839</td>\n",
       "      <td>0.657435</td>\n",
       "      <td>19.827852</td>\n",
       "      <td>12:55</td>\n",
       "    </tr>\n",
       "    <tr>\n",
       "      <td>1</td>\n",
       "      <td>0.643271</td>\n",
       "      <td>0.648331</td>\n",
       "      <td>18.659090</td>\n",
       "      <td>12:55</td>\n",
       "    </tr>\n",
       "    <tr>\n",
       "      <td>2</td>\n",
       "      <td>0.644579</td>\n",
       "      <td>0.644411</td>\n",
       "      <td>18.191483</td>\n",
       "      <td>12:55</td>\n",
       "    </tr>\n",
       "    <tr>\n",
       "      <td>3</td>\n",
       "      <td>0.639549</td>\n",
       "      <td>0.640568</td>\n",
       "      <td>17.677271</td>\n",
       "      <td>12:55</td>\n",
       "    </tr>\n",
       "    <tr>\n",
       "      <td>4</td>\n",
       "      <td>0.633930</td>\n",
       "      <td>0.640369</td>\n",
       "      <td>17.624279</td>\n",
       "      <td>12:56</td>\n",
       "    </tr>\n",
       "    <tr>\n",
       "      <td>5</td>\n",
       "      <td>0.631554</td>\n",
       "      <td>0.641360</td>\n",
       "      <td>17.735014</td>\n",
       "      <td>12:57</td>\n",
       "    </tr>\n",
       "    <tr>\n",
       "      <td>6</td>\n",
       "      <td>0.630598</td>\n",
       "      <td>0.639844</td>\n",
       "      <td>17.560684</td>\n",
       "      <td>12:55</td>\n",
       "    </tr>\n",
       "    <tr>\n",
       "      <td>7</td>\n",
       "      <td>0.627265</td>\n",
       "      <td>0.639862</td>\n",
       "      <td>17.552462</td>\n",
       "      <td>12:55</td>\n",
       "    </tr>\n",
       "    <tr>\n",
       "      <td>8</td>\n",
       "      <td>0.622346</td>\n",
       "      <td>0.640129</td>\n",
       "      <td>17.584898</td>\n",
       "      <td>12:55</td>\n",
       "    </tr>\n",
       "    <tr>\n",
       "      <td>9</td>\n",
       "      <td>0.628144</td>\n",
       "      <td>0.640273</td>\n",
       "      <td>17.602091</td>\n",
       "      <td>12:56</td>\n",
       "    </tr>\n",
       "  </tbody>\n",
       "</table>"
      ],
      "text/plain": [
       "<IPython.core.display.HTML object>"
      ]
     },
     "metadata": {},
     "output_type": "display_data"
    },
    {
     "name": "stderr",
     "output_type": "stream",
     "text": [
      "/opt/conda/lib/python3.7/site-packages/torch/nn/functional.py:1805: UserWarning: nn.functional.sigmoid is deprecated. Use torch.sigmoid instead.\n",
      "  warnings.warn(\"nn.functional.sigmoid is deprecated. Use torch.sigmoid instead.\")\n"
     ]
    },
    {
     "name": "stdout",
     "output_type": "stream",
     "text": [
      "Better model found at epoch 0 with petfinder_rmse value: 19.827852249145508.\n",
      "Better model found at epoch 1 with petfinder_rmse value: 18.659090042114258.\n",
      "Better model found at epoch 2 with petfinder_rmse value: 18.191482543945312.\n",
      "Better model found at epoch 3 with petfinder_rmse value: 17.677270889282227.\n",
      "Better model found at epoch 4 with petfinder_rmse value: 17.624279022216797.\n",
      "Better model found at epoch 6 with petfinder_rmse value: 17.560684204101562.\n",
      "Better model found at epoch 7 with petfinder_rmse value: 17.552461624145508.\n",
      "No improvement since epoch 7: early stopping\n"
     ]
    },
    {
     "data": {
      "text/html": [
       "\n",
       "    <div>\n",
       "        <style>\n",
       "            /* Turns off some styling */\n",
       "            progress {\n",
       "                /* gets rid of default border in Firefox and Opera. */\n",
       "                border: none;\n",
       "                /* Needs to be in here for Safari polyfill so background images work as expected. */\n",
       "                background-size: auto;\n",
       "            }\n",
       "            .progress-bar-interrupted, .progress-bar-interrupted::-webkit-progress-bar {\n",
       "                background: #F44336;\n",
       "            }\n",
       "        </style>\n",
       "      <progress value='0' class='' max='10' style='width:300px; height:20px; vertical-align: middle;'></progress>\n",
       "      \n",
       "    </div>\n",
       "    \n"
      ],
      "text/plain": [
       "<IPython.core.display.HTML object>"
      ]
     },
     "metadata": {},
     "output_type": "display_data"
    },
    {
     "data": {
      "text/html": [],
      "text/plain": [
       "<IPython.core.display.HTML object>"
      ]
     },
     "metadata": {},
     "output_type": "display_data"
    },
    {
     "name": "stdout",
     "output_type": "stream",
     "text": [
      "Fold 3 results\n"
     ]
    },
    {
     "data": {
      "text/html": [
       "<table border=\"1\" class=\"dataframe\">\n",
       "  <thead>\n",
       "    <tr style=\"text-align: left;\">\n",
       "      <th>epoch</th>\n",
       "      <th>train_loss</th>\n",
       "      <th>valid_loss</th>\n",
       "      <th>petfinder_rmse</th>\n",
       "      <th>time</th>\n",
       "    </tr>\n",
       "  </thead>\n",
       "  <tbody>\n",
       "    <tr>\n",
       "      <td>0</td>\n",
       "      <td>0.654551</td>\n",
       "      <td>0.657691</td>\n",
       "      <td>19.799442</td>\n",
       "      <td>12:56</td>\n",
       "    </tr>\n",
       "    <tr>\n",
       "      <td>1</td>\n",
       "      <td>0.646793</td>\n",
       "      <td>0.642798</td>\n",
       "      <td>17.899693</td>\n",
       "      <td>12:55</td>\n",
       "    </tr>\n",
       "    <tr>\n",
       "      <td>2</td>\n",
       "      <td>0.648923</td>\n",
       "      <td>0.640147</td>\n",
       "      <td>17.546637</td>\n",
       "      <td>12:57</td>\n",
       "    </tr>\n",
       "    <tr>\n",
       "      <td>3</td>\n",
       "      <td>0.637874</td>\n",
       "      <td>0.639947</td>\n",
       "      <td>17.526398</td>\n",
       "      <td>12:56</td>\n",
       "    </tr>\n",
       "    <tr>\n",
       "      <td>4</td>\n",
       "      <td>0.634558</td>\n",
       "      <td>0.639076</td>\n",
       "      <td>17.400976</td>\n",
       "      <td>12:56</td>\n",
       "    </tr>\n",
       "    <tr>\n",
       "      <td>5</td>\n",
       "      <td>0.631152</td>\n",
       "      <td>0.638287</td>\n",
       "      <td>17.267490</td>\n",
       "      <td>12:56</td>\n",
       "    </tr>\n",
       "    <tr>\n",
       "      <td>6</td>\n",
       "      <td>0.627275</td>\n",
       "      <td>0.638225</td>\n",
       "      <td>17.256161</td>\n",
       "      <td>12:58</td>\n",
       "    </tr>\n",
       "    <tr>\n",
       "      <td>7</td>\n",
       "      <td>0.630313</td>\n",
       "      <td>0.638585</td>\n",
       "      <td>17.322468</td>\n",
       "      <td>12:57</td>\n",
       "    </tr>\n",
       "    <tr>\n",
       "      <td>8</td>\n",
       "      <td>0.631724</td>\n",
       "      <td>0.638461</td>\n",
       "      <td>17.292969</td>\n",
       "      <td>12:59</td>\n",
       "    </tr>\n",
       "  </tbody>\n",
       "</table>"
      ],
      "text/plain": [
       "<IPython.core.display.HTML object>"
      ]
     },
     "metadata": {},
     "output_type": "display_data"
    },
    {
     "name": "stderr",
     "output_type": "stream",
     "text": [
      "/opt/conda/lib/python3.7/site-packages/torch/nn/functional.py:1805: UserWarning: nn.functional.sigmoid is deprecated. Use torch.sigmoid instead.\n",
      "  warnings.warn(\"nn.functional.sigmoid is deprecated. Use torch.sigmoid instead.\")\n"
     ]
    },
    {
     "name": "stdout",
     "output_type": "stream",
     "text": [
      "Better model found at epoch 0 with petfinder_rmse value: 19.799442291259766.\n",
      "Better model found at epoch 1 with petfinder_rmse value: 17.89969253540039.\n",
      "Better model found at epoch 2 with petfinder_rmse value: 17.5466365814209.\n",
      "Better model found at epoch 3 with petfinder_rmse value: 17.526397705078125.\n",
      "Better model found at epoch 4 with petfinder_rmse value: 17.400976181030273.\n",
      "Better model found at epoch 5 with petfinder_rmse value: 17.26749038696289.\n",
      "Better model found at epoch 6 with petfinder_rmse value: 17.256160736083984.\n",
      "No improvement since epoch 6: early stopping\n"
     ]
    },
    {
     "data": {
      "text/html": [
       "\n",
       "    <div>\n",
       "        <style>\n",
       "            /* Turns off some styling */\n",
       "            progress {\n",
       "                /* gets rid of default border in Firefox and Opera. */\n",
       "                border: none;\n",
       "                /* Needs to be in here for Safari polyfill so background images work as expected. */\n",
       "                background-size: auto;\n",
       "            }\n",
       "            .progress-bar-interrupted, .progress-bar-interrupted::-webkit-progress-bar {\n",
       "                background: #F44336;\n",
       "            }\n",
       "        </style>\n",
       "      <progress value='0' class='' max='10' style='width:300px; height:20px; vertical-align: middle;'></progress>\n",
       "      \n",
       "    </div>\n",
       "    \n"
      ],
      "text/plain": [
       "<IPython.core.display.HTML object>"
      ]
     },
     "metadata": {},
     "output_type": "display_data"
    },
    {
     "data": {
      "text/html": [],
      "text/plain": [
       "<IPython.core.display.HTML object>"
      ]
     },
     "metadata": {},
     "output_type": "display_data"
    },
    {
     "name": "stdout",
     "output_type": "stream",
     "text": [
      "Fold 4 results\n"
     ]
    },
    {
     "data": {
      "text/html": [
       "<table border=\"1\" class=\"dataframe\">\n",
       "  <thead>\n",
       "    <tr style=\"text-align: left;\">\n",
       "      <th>epoch</th>\n",
       "      <th>train_loss</th>\n",
       "      <th>valid_loss</th>\n",
       "      <th>petfinder_rmse</th>\n",
       "      <th>time</th>\n",
       "    </tr>\n",
       "  </thead>\n",
       "  <tbody>\n",
       "    <tr>\n",
       "      <td>0</td>\n",
       "      <td>0.662681</td>\n",
       "      <td>0.658340</td>\n",
       "      <td>19.900881</td>\n",
       "      <td>12:57</td>\n",
       "    </tr>\n",
       "    <tr>\n",
       "      <td>1</td>\n",
       "      <td>0.648018</td>\n",
       "      <td>0.646682</td>\n",
       "      <td>18.429850</td>\n",
       "      <td>12:58</td>\n",
       "    </tr>\n",
       "    <tr>\n",
       "      <td>2</td>\n",
       "      <td>0.644584</td>\n",
       "      <td>0.641837</td>\n",
       "      <td>17.815586</td>\n",
       "      <td>12:57</td>\n",
       "    </tr>\n",
       "    <tr>\n",
       "      <td>3</td>\n",
       "      <td>0.637648</td>\n",
       "      <td>0.639345</td>\n",
       "      <td>17.485249</td>\n",
       "      <td>12:57</td>\n",
       "    </tr>\n",
       "    <tr>\n",
       "      <td>4</td>\n",
       "      <td>0.632696</td>\n",
       "      <td>0.639973</td>\n",
       "      <td>17.550697</td>\n",
       "      <td>12:56</td>\n",
       "    </tr>\n",
       "    <tr>\n",
       "      <td>5</td>\n",
       "      <td>0.635538</td>\n",
       "      <td>0.639678</td>\n",
       "      <td>17.506968</td>\n",
       "      <td>12:57</td>\n",
       "    </tr>\n",
       "  </tbody>\n",
       "</table>"
      ],
      "text/plain": [
       "<IPython.core.display.HTML object>"
      ]
     },
     "metadata": {},
     "output_type": "display_data"
    },
    {
     "name": "stderr",
     "output_type": "stream",
     "text": [
      "/opt/conda/lib/python3.7/site-packages/torch/nn/functional.py:1805: UserWarning: nn.functional.sigmoid is deprecated. Use torch.sigmoid instead.\n",
      "  warnings.warn(\"nn.functional.sigmoid is deprecated. Use torch.sigmoid instead.\")\n"
     ]
    },
    {
     "name": "stdout",
     "output_type": "stream",
     "text": [
      "Better model found at epoch 0 with petfinder_rmse value: 19.900880813598633.\n",
      "Better model found at epoch 1 with petfinder_rmse value: 18.42984962463379.\n",
      "Better model found at epoch 2 with petfinder_rmse value: 17.81558609008789.\n",
      "Better model found at epoch 3 with petfinder_rmse value: 17.485248565673828.\n",
      "No improvement since epoch 3: early stopping\n"
     ]
    },
    {
     "data": {
      "text/html": [
       "\n",
       "    <div>\n",
       "        <style>\n",
       "            /* Turns off some styling */\n",
       "            progress {\n",
       "                /* gets rid of default border in Firefox and Opera. */\n",
       "                border: none;\n",
       "                /* Needs to be in here for Safari polyfill so background images work as expected. */\n",
       "                background-size: auto;\n",
       "            }\n",
       "            .progress-bar-interrupted, .progress-bar-interrupted::-webkit-progress-bar {\n",
       "                background: #F44336;\n",
       "            }\n",
       "        </style>\n",
       "      <progress value='0' class='' max='10' style='width:300px; height:20px; vertical-align: middle;'></progress>\n",
       "      \n",
       "    </div>\n",
       "    \n"
      ],
      "text/plain": [
       "<IPython.core.display.HTML object>"
      ]
     },
     "metadata": {},
     "output_type": "display_data"
    },
    {
     "data": {
      "text/html": [],
      "text/plain": [
       "<IPython.core.display.HTML object>"
      ]
     },
     "metadata": {},
     "output_type": "display_data"
    },
    {
     "data": {
      "image/png": "[encoded data removed]",
      "text/plain": [
       "<Figure size 432x288 with 1 Axes>"
      ]
     },
     "metadata": {
      "needs_background": "light"
     },
     "output_type": "display_data"
    }
   ],
   "source": [
    "all_preds = []\n",
    "\n",
    "for i in range(5):\n",
    "\n",
    "    print(f'Fold {i} results')\n",
    "#     i = 1\n",
    "    learn = get_learner(fold_num=i)\n",
    "\n",
    "    learn.fit_one_cycle(10, 3e-6, cbs=[SaveModelCallback('petfinder_rmse', comp=np.less), EarlyStoppingCallback(monitor='petfinder_rmse', comp=np.less, patience=2)]) \n",
    "    \n",
    "    learn.recorder.plot_loss()\n",
    "\n",
    "    learn = learn.to_fp32()\n",
    "    \n",
    "    learn.export(f'model_fold_{i}.pkl')\n",
    "    #learn.save(f'model_fold_{i}.pkl')\n",
    "    \n",
    "    dls = ImageDataLoaders.from_df(train_df, #pass in train DataFrame\n",
    "                               valid_pct=0.2, #80-20 train-validation random split\n",
    "                               seed=999, #seed\n",
    "                               fn_col='path', #filename/path is in the second column of the DataFrame\n",
    "                               label_col='norm_score', #label is in the first column of the DataFrame\n",
    "                               y_block=RegressionBlock, #The type of target\n",
    "                               bs=BATCH_SIZE, #pass in batch size\n",
    "                               num_workers=8,\n",
    "                               item_tfms=Resize(384), #pass in item_tfms\n",
    "                               batch_tfms=setup_aug_tfms([Brightness(), Contrast(), Hue(), Saturation()])) \n",
    "    \n",
    "    test_dl = dls.test_dl(test_df)\n",
    "    \n",
    "    preds, _ = learn.tta(dl=test_dl, n=5, beta=0)\n",
    "    \n",
    "    all_preds.append(preds)\n",
    "    \n",
    "    del learn\n",
    "\n",
    "    torch.cuda.empty_cache()\n",
    "\n",
    "    gc.collect()"
   ]
  },
  {
   "cell_type": "code",
   "execution_count": 30,
   "id": "adb4c190",
   "metadata": {
    "execution": {
     "iopub.execute_input": "2022-01-02T18:36:44.566492Z",
     "iopub.status.busy": "2022-01-02T18:36:44.565695Z",
     "iopub.status.idle": "2022-01-02T18:36:45.313040Z",
     "shell.execute_reply": "2022-01-02T18:36:45.312546Z",
     "shell.execute_reply.started": "2021-12-17T17:06:14.875864Z"
    },
    "papermill": {
     "duration": 0.799836,
     "end_time": "2022-01-02T18:36:45.313178",
     "exception": false,
     "start_time": "2022-01-02T18:36:44.513342",
     "status": "completed"
    },
    "tags": []
   },
   "outputs": [
    {
     "name": "stdout",
     "output_type": "stream",
     "text": [
      "input  lib  src  working\r\n"
     ]
    }
   ],
   "source": [
    "!ls .."
   ]
  },
  {
   "cell_type": "code",
   "execution_count": 31,
   "id": "16c46bfd",
   "metadata": {
    "execution": {
     "iopub.execute_input": "2022-01-02T18:36:45.414913Z",
     "iopub.status.busy": "2022-01-02T18:36:45.414288Z",
     "iopub.status.idle": "2022-01-02T18:36:45.429195Z",
     "shell.execute_reply": "2022-01-02T18:36:45.428657Z"
    },
    "papermill": {
     "duration": 0.067884,
     "end_time": "2022-01-02T18:36:45.429328",
     "exception": false,
     "start_time": "2022-01-02T18:36:45.361444",
     "status": "completed"
    },
    "tags": []
   },
   "outputs": [
    {
     "data": {
      "text/plain": [
       "[tensor([[0.4695],\n",
       "         [0.4766],\n",
       "         [0.4832],\n",
       "         [0.4851],\n",
       "         [0.4788],\n",
       "         [0.4794],\n",
       "         [0.4775],\n",
       "         [0.4786]]),\n",
       " tensor([[0.5550],\n",
       "         [0.5619],\n",
       "         [0.5527],\n",
       "         [0.5541],\n",
       "         [0.5642],\n",
       "         [0.5506],\n",
       "         [0.5692],\n",
       "         [0.5535]]),\n",
       " tensor([[0.5901],\n",
       "         [0.5956],\n",
       "         [0.5853],\n",
       "         [0.5866],\n",
       "         [0.5974],\n",
       "         [0.5816],\n",
       "         [0.6032],\n",
       "         [0.5854]]),\n",
       " tensor([[0.5809],\n",
       "         [0.5870],\n",
       "         [0.5722],\n",
       "         [0.5820],\n",
       "         [0.5832],\n",
       "         [0.5723],\n",
       "         [0.5901],\n",
       "         [0.5762]]),\n",
       " tensor([[0.5404],\n",
       "         [0.5459],\n",
       "         [0.5354],\n",
       "         [0.5407],\n",
       "         [0.5445],\n",
       "         [0.5333],\n",
       "         [0.5543],\n",
       "         [0.5358]])]"
      ]
     },
     "execution_count": 31,
     "metadata": {},
     "output_type": "execute_result"
    }
   ],
   "source": [
    "all_preds"
   ]
  },
  {
   "cell_type": "code",
   "execution_count": 32,
   "id": "afc3adad",
   "metadata": {
    "execution": {
     "iopub.execute_input": "2022-01-02T18:36:45.536452Z",
     "iopub.status.busy": "2022-01-02T18:36:45.535848Z",
     "iopub.status.idle": "2022-01-02T18:36:45.548356Z",
     "shell.execute_reply": "2022-01-02T18:36:45.547905Z"
    },
    "papermill": {
     "duration": 0.067271,
     "end_time": "2022-01-02T18:36:45.548475",
     "exception": false,
     "start_time": "2022-01-02T18:36:45.481204",
     "status": "completed"
    },
    "tags": []
   },
   "outputs": [],
   "source": [
    "sample_df = pd.read_csv(dataset_path/'sample_submission.csv')\n",
    "preds = np.mean(np.stack(all_preds), axis=0)\n",
    "sample_df['Pawpularity'] = preds*100\n",
    "sample_df.to_csv('submission.csv',index=False)"
   ]
  },
  {
   "cell_type": "code",
   "execution_count": 33,
   "id": "86e3c908",
   "metadata": {
    "execution": {
     "iopub.execute_input": "2022-01-02T18:36:45.652394Z",
     "iopub.status.busy": "2022-01-02T18:36:45.651662Z",
     "iopub.status.idle": "2022-01-02T18:36:45.662484Z",
     "shell.execute_reply": "2022-01-02T18:36:45.662855Z"
    },
    "papermill": {
     "duration": 0.064402,
     "end_time": "2022-01-02T18:36:45.663022",
     "exception": false,
     "start_time": "2022-01-02T18:36:45.598620",
     "status": "completed"
    },
    "tags": []
   },
   "outputs": [
    {
     "data": {
      "text/html": [
       "<div>\n",
       "<style scoped>\n",
       "    .dataframe tbody tr th:only-of-type {\n",
       "        vertical-align: middle;\n",
       "    }\n",
       "\n",
       "    .dataframe tbody tr th {\n",
       "        vertical-align: top;\n",
       "    }\n",
       "\n",
       "    .dataframe thead th {\n",
       "        text-align: right;\n",
       "    }\n",
       "</style>\n",
       "<table border=\"1\" class=\"dataframe\">\n",
       "  <thead>\n",
       "    <tr style=\"text-align: right;\">\n",
       "      <th></th>\n",
       "      <th>Id</th>\n",
       "      <th>Pawpularity</th>\n",
       "    </tr>\n",
       "  </thead>\n",
       "  <tbody>\n",
       "    <tr>\n",
       "      <th>0</th>\n",
       "      <td>4128bae22183829d2b5fea10effdb0c3</td>\n",
       "      <td>54.719986</td>\n",
       "    </tr>\n",
       "    <tr>\n",
       "      <th>1</th>\n",
       "      <td>43a2262d7738e3d420d453815151079e</td>\n",
       "      <td>55.340965</td>\n",
       "    </tr>\n",
       "    <tr>\n",
       "      <th>2</th>\n",
       "      <td>4e429cead1848a298432a0acad014c9d</td>\n",
       "      <td>54.576744</td>\n",
       "    </tr>\n",
       "    <tr>\n",
       "      <th>3</th>\n",
       "      <td>80bc3ccafcc51b66303c2c263aa38486</td>\n",
       "      <td>54.971092</td>\n",
       "    </tr>\n",
       "    <tr>\n",
       "      <th>4</th>\n",
       "      <td>8f49844c382931444e68dffbe20228f4</td>\n",
       "      <td>55.362003</td>\n",
       "    </tr>\n",
       "  </tbody>\n",
       "</table>\n",
       "</div>"
      ],
      "text/plain": [
       "                                 Id  Pawpularity\n",
       "0  4128bae22183829d2b5fea10effdb0c3    54.719986\n",
       "1  43a2262d7738e3d420d453815151079e    55.340965\n",
       "2  4e429cead1848a298432a0acad014c9d    54.576744\n",
       "3  80bc3ccafcc51b66303c2c263aa38486    54.971092\n",
       "4  8f49844c382931444e68dffbe20228f4    55.362003"
      ]
     },
     "execution_count": 33,
     "metadata": {},
     "output_type": "execute_result"
    }
   ],
   "source": [
    "pd.read_csv('submission.csv').head()"
   ]
  },
  {
   "cell_type": "code",
   "execution_count": null,
   "id": "5ae49574",
   "metadata": {
    "papermill": {
     "duration": 0.048873,
     "end_time": "2022-01-02T18:36:45.760708",
     "exception": false,
     "start_time": "2022-01-02T18:36:45.711835",
     "status": "completed"
    },
    "tags": []
   },
   "outputs": [],
   "source": []
  },
  {
   "cell_type": "code",
   "execution_count": null,
   "id": "7c2c21db",
   "metadata": {
    "papermill": {
     "duration": 0.048974,
     "end_time": "2022-01-02T18:36:45.858827",
     "exception": false,
     "start_time": "2022-01-02T18:36:45.809853",
     "status": "completed"
    },
    "tags": []
   },
   "outputs": [],
   "source": []
  }
 ],
 "metadata": {
  "kernelspec": {
   "display_name": "Python 3",
   "language": "python",
   "name": "python3"
  },
  "language_info": {
   "codemirror_mode": {
    "name": "ipython",
    "version": 3
   },
   "file_extension": ".py",
   "mimetype": "text/x-python",
   "name": "python",
   "nbconvert_exporter": "python",
   "pygments_lexer": "ipython3",
   "version": "3.9.2"
  },
  "papermill": {
   "default_parameters": {},
   "duration": 31243.865155,
   "end_time": "2022-01-02T18:36:47.878700",
   "environment_variables": {},
   "exception": null,
   "input_path": "__notebook__.ipynb",
   "output_path": "__notebook__.ipynb",
   "parameters": {},
   "start_time": "2022-01-02T09:56:04.013545",
   "version": "2.3.3"
  }
 },
 "nbformat": 4,
 "nbformat_minor": 5
}
