{
 "cells": [
  {
   "cell_type": "code",
   "execution_count": 2,
   "id": "a5dd0b28",
   "metadata": {
    "execution": {
     "iopub.execute_input": "2021-12-31T06:06:48.171268Z",
     "iopub.status.busy": "2021-12-31T06:06:48.170460Z",
     "iopub.status.idle": "2021-12-31T06:06:51.991994Z",
     "shell.execute_reply": "2021-12-31T06:06:51.991093Z",
     "shell.execute_reply.started": "2021-12-29T16:26:43.966778Z"
    },
    "papermill": {
     "duration": 3.86563,
     "end_time": "2021-12-31T06:06:51.992179",
     "exception": false,
     "start_time": "2021-12-31T06:06:48.126549",
     "status": "completed"
    },
    "tags": []
   },
   "outputs": [],
   "source": [
    "import sys\n",
    "sys.path.append('../input/timm-pytorch-image-models/pytorch-image-models-master')\n",
    "from timm import create_model\n",
    "import pandas as pd\n",
    "import numpy as np"
   ]
  },
  {
   "cell_type": "code",
   "execution_count": 3,
   "id": "a7dfd43a",
   "metadata": {
    "execution": {
     "iopub.execute_input": "2021-12-31T06:06:52.062149Z",
     "iopub.status.busy": "2021-12-31T06:06:52.061260Z",
     "iopub.status.idle": "2021-12-31T06:06:52.072384Z",
     "shell.execute_reply": "2021-12-31T06:06:52.072943Z",
     "shell.execute_reply.started": "2021-12-29T16:26:47.510644Z"
    },
    "papermill": {
     "duration": 0.04862,
     "end_time": "2021-12-31T06:06:52.073131",
     "exception": false,
     "start_time": "2021-12-31T06:06:52.024511",
     "status": "completed"
    },
    "tags": []
   },
   "outputs": [
    {
     "data": {
      "text/plain": [
       "'2.5.3'"
      ]
     },
     "execution_count": 3,
     "metadata": {},
     "output_type": "execute_result"
    }
   ],
   "source": [
    "import fastai\n",
    "fastai.__version__"
   ]
  },
  {
   "cell_type": "code",
   "execution_count": 4,
   "id": "8bd0468d",
   "metadata": {
    "execution": {
     "iopub.execute_input": "2021-12-31T06:06:52.148901Z",
     "iopub.status.busy": "2021-12-31T06:06:52.146470Z",
     "iopub.status.idle": "2021-12-31T06:06:52.151743Z",
     "shell.execute_reply": "2021-12-31T06:06:52.151146Z",
     "shell.execute_reply.started": "2021-12-29T16:26:47.523101Z"
    },
    "papermill": {
     "duration": 0.0453,
     "end_time": "2021-12-31T06:06:52.151883",
     "exception": false,
     "start_time": "2021-12-31T06:06:52.106583",
     "status": "completed"
    },
    "tags": []
   },
   "outputs": [
    {
     "data": {
      "text/plain": [
       "'1.9.1'"
      ]
     },
     "execution_count": 4,
     "metadata": {},
     "output_type": "execute_result"
    }
   ],
   "source": [
    "import torch\n",
    "import torch.nn as nn\n",
    "torch.__version__"
   ]
  },
  {
   "cell_type": "code",
   "execution_count": 5,
   "id": "dc8eb5c0",
   "metadata": {
    "execution": {
     "iopub.execute_input": "2021-12-31T06:06:52.223457Z",
     "iopub.status.busy": "2021-12-31T06:06:52.222752Z",
     "iopub.status.idle": "2021-12-31T06:06:53.420963Z",
     "shell.execute_reply": "2021-12-31T06:06:53.420328Z",
     "shell.execute_reply.started": "2021-12-29T16:26:47.533581Z"
    },
    "papermill": {
     "duration": 1.236226,
     "end_time": "2021-12-31T06:06:53.421122",
     "exception": false,
     "start_time": "2021-12-31T06:06:52.184896",
     "status": "completed"
    },
    "tags": []
   },
   "outputs": [],
   "source": [
    "from fastai.vision.all import *"
   ]
  },
  {
   "cell_type": "code",
   "execution_count": 6,
   "id": "01c8a8a8",
   "metadata": {
    "execution": {
     "iopub.execute_input": "2021-12-31T06:06:53.494651Z",
     "iopub.status.busy": "2021-12-31T06:06:53.493566Z",
     "iopub.status.idle": "2021-12-31T06:06:53.496773Z",
     "shell.execute_reply": "2021-12-31T06:06:53.496168Z",
     "shell.execute_reply.started": "2021-12-29T16:26:48.500136Z"
    },
    "papermill": {
     "duration": 0.041394,
     "end_time": "2021-12-31T06:06:53.496909",
     "exception": false,
     "start_time": "2021-12-31T06:06:53.455515",
     "status": "completed"
    },
    "tags": []
   },
   "outputs": [],
   "source": [
    "set_seed(999, reproducible=True)\n",
    "BATCH_SIZE = 8                       #was 32"
   ]
  },
  {
   "cell_type": "code",
   "execution_count": 7,
   "id": "3e9fdb48",
   "metadata": {
    "execution": {
     "iopub.execute_input": "2021-12-31T06:06:53.568362Z",
     "iopub.status.busy": "2021-12-31T06:06:53.566936Z",
     "iopub.status.idle": "2021-12-31T06:06:53.574409Z",
     "shell.execute_reply": "2021-12-31T06:06:53.573805Z",
     "shell.execute_reply.started": "2021-12-29T16:26:48.506622Z"
    },
    "papermill": {
     "duration": 0.044739,
     "end_time": "2021-12-31T06:06:53.574557",
     "exception": false,
     "start_time": "2021-12-31T06:06:53.529818",
     "status": "completed"
    },
    "tags": []
   },
   "outputs": [
    {
     "data": {
      "text/plain": [
       "(#5) [Path('../input/petfinder-pawpularity-score/sample_submission.csv'),Path('../input/petfinder-pawpularity-score/train.csv'),Path('../input/petfinder-pawpularity-score/test.csv'),Path('../input/petfinder-pawpularity-score/test'),Path('../input/petfinder-pawpularity-score/train')]"
      ]
     },
     "execution_count": 7,
     "metadata": {},
     "output_type": "execute_result"
    }
   ],
   "source": [
    "dataset_path = Path('../input/petfinder-pawpularity-score/')\n",
    "dataset_path.ls()"
   ]
  },
  {
   "cell_type": "code",
   "execution_count": 8,
   "id": "ec8fef5e",
   "metadata": {
    "execution": {
     "iopub.execute_input": "2021-12-31T06:06:53.647698Z",
     "iopub.status.busy": "2021-12-31T06:06:53.646779Z",
     "iopub.status.idle": "2021-12-31T06:06:53.699592Z",
     "shell.execute_reply": "2021-12-31T06:06:53.700133Z",
     "shell.execute_reply.started": "2021-12-29T16:26:48.518595Z"
    },
    "papermill": {
     "duration": 0.092543,
     "end_time": "2021-12-31T06:06:53.700346",
     "exception": false,
     "start_time": "2021-12-31T06:06:53.607803",
     "status": "completed"
    },
    "tags": []
   },
   "outputs": [
    {
     "data": {
      "text/html": [
       "<div>\n",
       "<style scoped>\n",
       "    .dataframe tbody tr th:only-of-type {\n",
       "        vertical-align: middle;\n",
       "    }\n",
       "\n",
       "    .dataframe tbody tr th {\n",
       "        vertical-align: top;\n",
       "    }\n",
       "\n",
       "    .dataframe thead th {\n",
       "        text-align: right;\n",
       "    }\n",
       "</style>\n",
       "<table border=\"1\" class=\"dataframe\">\n",
       "  <thead>\n",
       "    <tr style=\"text-align: right;\">\n",
       "      <th></th>\n",
       "      <th>Id</th>\n",
       "      <th>Subject Focus</th>\n",
       "      <th>Eyes</th>\n",
       "      <th>Face</th>\n",
       "      <th>Near</th>\n",
       "      <th>Action</th>\n",
       "      <th>Accessory</th>\n",
       "      <th>Group</th>\n",
       "      <th>Collage</th>\n",
       "      <th>Human</th>\n",
       "      <th>Occlusion</th>\n",
       "      <th>Info</th>\n",
       "      <th>Blur</th>\n",
       "      <th>Pawpularity</th>\n",
       "    </tr>\n",
       "  </thead>\n",
       "  <tbody>\n",
       "    <tr>\n",
       "      <th>0</th>\n",
       "      <td>0007de18844b0dbbb5e1f607da0606e0</td>\n",
       "      <td>0</td>\n",
       "      <td>1</td>\n",
       "      <td>1</td>\n",
       "      <td>1</td>\n",
       "      <td>0</td>\n",
       "      <td>0</td>\n",
       "      <td>1</td>\n",
       "      <td>0</td>\n",
       "      <td>0</td>\n",
       "      <td>0</td>\n",
       "      <td>0</td>\n",
       "      <td>0</td>\n",
       "      <td>63</td>\n",
       "    </tr>\n",
       "    <tr>\n",
       "      <th>1</th>\n",
       "      <td>0009c66b9439883ba2750fb825e1d7db</td>\n",
       "      <td>0</td>\n",
       "      <td>1</td>\n",
       "      <td>1</td>\n",
       "      <td>0</td>\n",
       "      <td>0</td>\n",
       "      <td>0</td>\n",
       "      <td>0</td>\n",
       "      <td>0</td>\n",
       "      <td>0</td>\n",
       "      <td>0</td>\n",
       "      <td>0</td>\n",
       "      <td>0</td>\n",
       "      <td>42</td>\n",
       "    </tr>\n",
       "    <tr>\n",
       "      <th>2</th>\n",
       "      <td>0013fd999caf9a3efe1352ca1b0d937e</td>\n",
       "      <td>0</td>\n",
       "      <td>1</td>\n",
       "      <td>1</td>\n",
       "      <td>1</td>\n",
       "      <td>0</td>\n",
       "      <td>0</td>\n",
       "      <td>0</td>\n",
       "      <td>0</td>\n",
       "      <td>1</td>\n",
       "      <td>1</td>\n",
       "      <td>0</td>\n",
       "      <td>0</td>\n",
       "      <td>28</td>\n",
       "    </tr>\n",
       "    <tr>\n",
       "      <th>3</th>\n",
       "      <td>0018df346ac9c1d8413cfcc888ca8246</td>\n",
       "      <td>0</td>\n",
       "      <td>1</td>\n",
       "      <td>1</td>\n",
       "      <td>1</td>\n",
       "      <td>0</td>\n",
       "      <td>0</td>\n",
       "      <td>0</td>\n",
       "      <td>0</td>\n",
       "      <td>0</td>\n",
       "      <td>0</td>\n",
       "      <td>0</td>\n",
       "      <td>0</td>\n",
       "      <td>15</td>\n",
       "    </tr>\n",
       "    <tr>\n",
       "      <th>4</th>\n",
       "      <td>001dc955e10590d3ca4673f034feeef2</td>\n",
       "      <td>0</td>\n",
       "      <td>0</td>\n",
       "      <td>0</td>\n",
       "      <td>1</td>\n",
       "      <td>0</td>\n",
       "      <td>0</td>\n",
       "      <td>1</td>\n",
       "      <td>0</td>\n",
       "      <td>0</td>\n",
       "      <td>0</td>\n",
       "      <td>0</td>\n",
       "      <td>0</td>\n",
       "      <td>72</td>\n",
       "    </tr>\n",
       "  </tbody>\n",
       "</table>\n",
       "</div>"
      ],
      "text/plain": [
       "                                 Id  Subject Focus  Eyes  Face  Near  Action  \\\n",
       "0  0007de18844b0dbbb5e1f607da0606e0              0     1     1     1       0   \n",
       "1  0009c66b9439883ba2750fb825e1d7db              0     1     1     0       0   \n",
       "2  0013fd999caf9a3efe1352ca1b0d937e              0     1     1     1       0   \n",
       "3  0018df346ac9c1d8413cfcc888ca8246              0     1     1     1       0   \n",
       "4  001dc955e10590d3ca4673f034feeef2              0     0     0     1       0   \n",
       "\n",
       "   Accessory  Group  Collage  Human  Occlusion  Info  Blur  Pawpularity  \n",
       "0          0      1        0      0          0     0     0           63  \n",
       "1          0      0        0      0          0     0     0           42  \n",
       "2          0      0        0      1          1     0     0           28  \n",
       "3          0      0        0      0          0     0     0           15  \n",
       "4          0      1        0      0          0     0     0           72  "
      ]
     },
     "execution_count": 8,
     "metadata": {},
     "output_type": "execute_result"
    }
   ],
   "source": [
    "train_df = pd.read_csv(dataset_path/'train.csv')\n",
    "train_df.head()"
   ]
  },
  {
   "cell_type": "code",
   "execution_count": 9,
   "id": "a53dbfdb",
   "metadata": {
    "execution": {
     "iopub.execute_input": "2021-12-31T06:06:53.778348Z",
     "iopub.status.busy": "2021-12-31T06:06:53.777270Z",
     "iopub.status.idle": "2021-12-31T06:06:53.939966Z",
     "shell.execute_reply": "2021-12-31T06:06:53.940524Z",
     "shell.execute_reply.started": "2021-12-29T16:26:48.564496Z"
    },
    "papermill": {
     "duration": 0.205998,
     "end_time": "2021-12-31T06:06:53.940722",
     "exception": false,
     "start_time": "2021-12-31T06:06:53.734724",
     "status": "completed"
    },
    "tags": []
   },
   "outputs": [
    {
     "data": {
      "text/html": [
       "<div>\n",
       "<style scoped>\n",
       "    .dataframe tbody tr th:only-of-type {\n",
       "        vertical-align: middle;\n",
       "    }\n",
       "\n",
       "    .dataframe tbody tr th {\n",
       "        vertical-align: top;\n",
       "    }\n",
       "\n",
       "    .dataframe thead th {\n",
       "        text-align: right;\n",
       "    }\n",
       "</style>\n",
       "<table border=\"1\" class=\"dataframe\">\n",
       "  <thead>\n",
       "    <tr style=\"text-align: right;\">\n",
       "      <th></th>\n",
       "      <th>Subject Focus</th>\n",
       "      <th>Eyes</th>\n",
       "      <th>Face</th>\n",
       "      <th>Near</th>\n",
       "      <th>Action</th>\n",
       "      <th>Accessory</th>\n",
       "      <th>Group</th>\n",
       "      <th>Collage</th>\n",
       "      <th>Human</th>\n",
       "      <th>Occlusion</th>\n",
       "      <th>Info</th>\n",
       "      <th>Blur</th>\n",
       "      <th>Pawpularity</th>\n",
       "      <th>path</th>\n",
       "    </tr>\n",
       "  </thead>\n",
       "  <tbody>\n",
       "    <tr>\n",
       "      <th>0</th>\n",
       "      <td>0</td>\n",
       "      <td>0</td>\n",
       "      <td>1</td>\n",
       "      <td>1</td>\n",
       "      <td>0</td>\n",
       "      <td>0</td>\n",
       "      <td>0</td>\n",
       "      <td>0</td>\n",
       "      <td>0</td>\n",
       "      <td>0</td>\n",
       "      <td>0</td>\n",
       "      <td>1</td>\n",
       "      <td>50</td>\n",
       "      <td>../input/petfinder-pawpularity-score/train/ebaaa8e384b3d2f0a56c7ff7675c154c.jpg</td>\n",
       "    </tr>\n",
       "    <tr>\n",
       "      <th>1</th>\n",
       "      <td>0</td>\n",
       "      <td>1</td>\n",
       "      <td>1</td>\n",
       "      <td>1</td>\n",
       "      <td>0</td>\n",
       "      <td>1</td>\n",
       "      <td>0</td>\n",
       "      <td>1</td>\n",
       "      <td>0</td>\n",
       "      <td>0</td>\n",
       "      <td>1</td>\n",
       "      <td>0</td>\n",
       "      <td>25</td>\n",
       "      <td>../input/petfinder-pawpularity-score/train/25e3bf4267c2dc3f579b779418221bb7.jpg</td>\n",
       "    </tr>\n",
       "    <tr>\n",
       "      <th>2</th>\n",
       "      <td>0</td>\n",
       "      <td>0</td>\n",
       "      <td>1</td>\n",
       "      <td>1</td>\n",
       "      <td>0</td>\n",
       "      <td>1</td>\n",
       "      <td>0</td>\n",
       "      <td>0</td>\n",
       "      <td>0</td>\n",
       "      <td>0</td>\n",
       "      <td>0</td>\n",
       "      <td>0</td>\n",
       "      <td>27</td>\n",
       "      <td>../input/petfinder-pawpularity-score/train/6548166fb3fda22b67881176397f0223.jpg</td>\n",
       "    </tr>\n",
       "    <tr>\n",
       "      <th>3</th>\n",
       "      <td>0</td>\n",
       "      <td>1</td>\n",
       "      <td>1</td>\n",
       "      <td>1</td>\n",
       "      <td>0</td>\n",
       "      <td>0</td>\n",
       "      <td>0</td>\n",
       "      <td>0</td>\n",
       "      <td>1</td>\n",
       "      <td>1</td>\n",
       "      <td>0</td>\n",
       "      <td>0</td>\n",
       "      <td>19</td>\n",
       "      <td>../input/petfinder-pawpularity-score/train/472c40116e1833555715e4774445ae5b.jpg</td>\n",
       "    </tr>\n",
       "    <tr>\n",
       "      <th>4</th>\n",
       "      <td>0</td>\n",
       "      <td>1</td>\n",
       "      <td>1</td>\n",
       "      <td>1</td>\n",
       "      <td>0</td>\n",
       "      <td>0</td>\n",
       "      <td>0</td>\n",
       "      <td>1</td>\n",
       "      <td>0</td>\n",
       "      <td>0</td>\n",
       "      <td>0</td>\n",
       "      <td>0</td>\n",
       "      <td>27</td>\n",
       "      <td>../input/petfinder-pawpularity-score/train/7b77e1a6d93667b575d57db83facd860.jpg</td>\n",
       "    </tr>\n",
       "  </tbody>\n",
       "</table>\n",
       "</div>"
      ],
      "text/plain": [
       "   Subject Focus  Eyes  Face  Near  Action  Accessory  Group  Collage  Human  \\\n",
       "0              0     0     1     1       0          0      0        0      0   \n",
       "1              0     1     1     1       0          1      0        1      0   \n",
       "2              0     0     1     1       0          1      0        0      0   \n",
       "3              0     1     1     1       0          0      0        0      1   \n",
       "4              0     1     1     1       0          0      0        1      0   \n",
       "\n",
       "   Occlusion  Info  Blur  Pawpularity  \\\n",
       "0          0     0     1           50   \n",
       "1          0     1     0           25   \n",
       "2          0     0     0           27   \n",
       "3          1     0     0           19   \n",
       "4          0     0     0           27   \n",
       "\n",
       "                                                                              path  \n",
       "0  ../input/petfinder-pawpularity-score/train/ebaaa8e384b3d2f0a56c7ff7675c154c.jpg  \n",
       "1  ../input/petfinder-pawpularity-score/train/25e3bf4267c2dc3f579b779418221bb7.jpg  \n",
       "2  ../input/petfinder-pawpularity-score/train/6548166fb3fda22b67881176397f0223.jpg  \n",
       "3  ../input/petfinder-pawpularity-score/train/472c40116e1833555715e4774445ae5b.jpg  \n",
       "4  ../input/petfinder-pawpularity-score/train/7b77e1a6d93667b575d57db83facd860.jpg  "
      ]
     },
     "execution_count": 9,
     "metadata": {},
     "output_type": "execute_result"
    }
   ],
   "source": [
    "train_df['path'] = train_df['Id'].map(lambda x:str(dataset_path/'train'/x)+'.jpg')\n",
    "train_df = train_df.drop(columns=['Id'])\n",
    "train_df = train_df.sample(frac=1).reset_index(drop=True) #shuffle dataframe\n",
    "train_df.head()"
   ]
  },
  {
   "cell_type": "code",
   "execution_count": 12,
   "id": "1a256e99",
   "metadata": {
    "execution": {
     "iopub.execute_input": "2021-12-31T06:06:54.549306Z",
     "iopub.status.busy": "2021-12-31T06:06:54.548188Z",
     "iopub.status.idle": "2021-12-31T06:07:02.473423Z",
     "shell.execute_reply": "2021-12-31T06:07:02.474226Z",
     "shell.execute_reply.started": "2021-12-29T16:26:48.960181Z"
    },
    "papermill": {
     "duration": 7.968187,
     "end_time": "2021-12-31T06:07:02.474443",
     "exception": false,
     "start_time": "2021-12-31T06:06:54.506256",
     "status": "completed"
    },
    "tags": []
   },
   "outputs": [],
   "source": [
    "if not os.path.exists('/root/.cache/torch/hub/checkpoints/'):\n",
    "    os.makedirs('/root/.cache/torch/hub/checkpoints/')\n",
    "!cp '../input/swin-transformer/swin_large_patch4_window7_224_22kto1k.pth' '/root/.cache/torch/hub/checkpoints/swin_large_patch4_window7_224_22kto1k.pth'\n"
   ]
  },
  {
   "cell_type": "code",
   "execution_count": 13,
   "id": "6740f12c",
   "metadata": {
    "execution": {
     "iopub.execute_input": "2021-12-31T06:07:02.555002Z",
     "iopub.status.busy": "2021-12-31T06:07:02.553996Z",
     "iopub.status.idle": "2021-12-31T06:07:02.556779Z",
     "shell.execute_reply": "2021-12-31T06:07:02.557319Z",
     "shell.execute_reply.started": "2021-12-29T16:26:57.236135Z"
    },
    "papermill": {
     "duration": 0.046711,
     "end_time": "2021-12-31T06:07:02.557505",
     "exception": false,
     "start_time": "2021-12-31T06:07:02.510794",
     "status": "completed"
    },
    "tags": []
   },
   "outputs": [],
   "source": [
    "seed=999\n",
    "set_seed(seed, reproducible=True)\n",
    "torch.manual_seed(seed)\n",
    "torch.cuda.manual_seed(seed)\n",
    "torch.backends.cudnn.deterministic = True\n",
    "torch.use_deterministic_algorithms = True"
   ]
  },
  {
   "cell_type": "code",
   "execution_count": 18,
   "id": "728de96f",
   "metadata": {
    "execution": {
     "iopub.execute_input": "2021-12-31T06:07:02.963139Z",
     "iopub.status.busy": "2021-12-31T06:07:02.961975Z",
     "iopub.status.idle": "2021-12-31T06:07:02.964341Z",
     "shell.execute_reply": "2021-12-31T06:07:02.964986Z",
     "shell.execute_reply.started": "2021-12-29T16:26:57.28199Z"
    },
    "papermill": {
     "duration": 0.045764,
     "end_time": "2021-12-31T06:07:02.965193",
     "exception": false,
     "start_time": "2021-12-31T06:07:02.919429",
     "status": "completed"
    },
    "tags": []
   },
   "outputs": [],
   "source": [
    "def petfinder_rmse(input,target):\n",
    "    return 100*torch.sqrt(F.mse_loss(F.sigmoid(input.flatten()), target))"
   ]
  },
  {
   "cell_type": "code",
   "execution_count": 19,
   "id": "9b5fb3df",
   "metadata": {
    "execution": {
     "iopub.execute_input": "2021-12-31T06:07:03.048687Z",
     "iopub.status.busy": "2021-12-31T06:07:03.047550Z",
     "iopub.status.idle": "2021-12-31T06:07:03.050143Z",
     "shell.execute_reply": "2021-12-31T06:07:03.050679Z",
     "shell.execute_reply.started": "2021-12-29T16:26:57.290939Z"
    },
    "papermill": {
     "duration": 0.049956,
     "end_time": "2021-12-31T06:07:03.050858",
     "exception": false,
     "start_time": "2021-12-31T06:07:03.000902",
     "status": "completed"
    },
    "tags": []
   },
   "outputs": [],
   "source": [
    "def get_data(fold):\n",
    "\n",
    "    train_df_f = pd.read_csv(f'../input/data-split-pawpularity/skf_split_train_5cv_fold{fold}.csv')\n",
    "    train_df_f['is_valid'] = False\n",
    "    valid_df_f = pd.read_csv(f'../input/data-split-pawpularity/skf_split_val_5cv_fold{fold}.csv')\n",
    "    valid_df_f['is_valid'] = True\n",
    "    \n",
    "    train_df_f = train_df_f.append(valid_df_f)\n",
    "    train_df_f['Id'] = train_df_f['img_path'].apply(lambda x: x.split('.')[-2].split('/')[-1])\n",
    "    train_df_f['img_path'] = train_df_f['Id'].map(lambda x:str(dataset_path/'train'/x)+'.jpg')\n",
    "    \n",
    "    dls = ImageDataLoaders.from_df(train_df_f, #pass in train DataFrame\n",
    "                               valid_col='is_valid', #\n",
    "                               seed=999, #seed\n",
    "                               fn_col='img_path', #filename/path is in the second column of the DataFrame\n",
    "                               label_col='Pawpularity', #label is in the first column of the DataFrame\n",
    "                               y_block=RegressionBlock, #The type of target\n",
    "                               bs=BATCH_SIZE, #pass in batch size\n",
    "                               num_workers=8,\n",
    "                               item_tfms=Resize(224), #pass in item_tfms\n",
    "                               batch_tfms=setup_aug_tfms([Brightness(), Contrast(), Hue(), Saturation()])) #pass in batch_tfms\n",
    "    return dls\n"
   ]
  },
  {
   "cell_type": "code",
   "execution_count": 20,
   "id": "b7b14e22",
   "metadata": {
    "execution": {
     "iopub.execute_input": "2021-12-31T06:07:03.129416Z",
     "iopub.status.busy": "2021-12-31T06:07:03.128591Z",
     "iopub.status.idle": "2021-12-31T06:07:07.435799Z",
     "shell.execute_reply": "2021-12-31T06:07:07.436382Z",
     "shell.execute_reply.started": "2021-12-29T16:26:57.303809Z"
    },
    "papermill": {
     "duration": 4.350696,
     "end_time": "2021-12-31T06:07:07.436620",
     "exception": false,
     "start_time": "2021-12-31T06:07:03.085924",
     "status": "completed"
    },
    "tags": []
   },
   "outputs": [],
   "source": [
    "#Valid Kfolder size\n",
    "the_data = get_data(0)\n",
    "assert (len(the_data.train) + len(the_data.valid)) == (len(train_df)//BATCH_SIZE)"
   ]
  },
  {
   "cell_type": "code",
   "execution_count": 21,
   "id": "b74ccdd7",
   "metadata": {
    "execution": {
     "iopub.execute_input": "2021-12-31T06:07:07.523612Z",
     "iopub.status.busy": "2021-12-31T06:07:07.522671Z",
     "iopub.status.idle": "2021-12-31T06:07:08.327029Z",
     "shell.execute_reply": "2021-12-31T06:07:08.326306Z",
     "shell.execute_reply.started": "2021-12-29T16:27:00.608978Z"
    },
    "papermill": {
     "duration": 0.854653,
     "end_time": "2021-12-31T06:07:08.327262",
     "exception": false,
     "start_time": "2021-12-31T06:07:07.472609",
     "status": "completed"
    },
    "tags": []
   },
   "outputs": [
    {
     "name": "stdout",
     "output_type": "stream",
     "text": [
      "__notebook__.ipynb\r\n"
     ]
    }
   ],
   "source": [
    "!ls"
   ]
  },
  {
   "cell_type": "code",
   "execution_count": 22,
   "id": "c4b59218",
   "metadata": {
    "execution": {
     "iopub.execute_input": "2021-12-31T06:07:08.714835Z",
     "iopub.status.busy": "2021-12-31T06:07:08.708829Z",
     "iopub.status.idle": "2021-12-31T06:07:08.724270Z",
     "shell.execute_reply": "2021-12-31T06:07:08.723428Z",
     "shell.execute_reply.started": "2021-12-29T16:27:01.327393Z"
    },
    "papermill": {
     "duration": 0.360602,
     "end_time": "2021-12-31T06:07:08.724430",
     "exception": false,
     "start_time": "2021-12-31T06:07:08.363828",
     "status": "completed"
    },
    "tags": []
   },
   "outputs": [],
   "source": [
    "class cust_fastai_model(nn.Module):      \n",
    "    def __init__(self, model_name='swin_large_patch4_window7_224'):\n",
    "        super().__init__()\n",
    "        self.swin = create_model(model_name, \n",
    "                           pretrained=True, num_classes=0)\n",
    "        self.custom_head = nn.Linear(1536, 256)\n",
    "        self.relu1 = nn.ReLU()\n",
    "        self.dropout1 = nn.Dropout(0.2)\n",
    "        \n",
    "        self.custom_head3 = nn.Linear(256, 128)\n",
    "        \n",
    "        self.custom_head4 = nn.Linear(128, 64)\n",
    "        \n",
    "        self.custom_head5 = nn.Linear(64, 1)\n",
    "        self.sigmoid = nn.Sigmoid()\n",
    "\n",
    "    def forward(self, image):\n",
    "        emb = self.swin(image).squeeze(-1).squeeze(-1)\n",
    "        x = self.custom_head(emb)\n",
    "        x = self.relu1(x)\n",
    "        x = self.dropout1(x)\n",
    "        \n",
    "        x = self.custom_head3(x)\n",
    "        x = self.relu1(x)\n",
    "        x = self.dropout1(x)\n",
    "        \n",
    "        x = self.custom_head4(x)\n",
    "        x = self.relu1(x)\n",
    "        x = self.dropout1(x)\n",
    "        \n",
    "        out = self.custom_head5(x)\n",
    "        return out"
   ]
  },
  {
   "cell_type": "code",
   "execution_count": 23,
   "id": "91c54298",
   "metadata": {
    "execution": {
     "iopub.execute_input": "2021-12-31T06:07:08.804801Z",
     "iopub.status.busy": "2021-12-31T06:07:08.803731Z",
     "iopub.status.idle": "2021-12-31T06:07:08.806013Z",
     "shell.execute_reply": "2021-12-31T06:07:08.806597Z",
     "shell.execute_reply.started": "2021-12-29T16:27:01.34065Z"
    },
    "papermill": {
     "duration": 0.045846,
     "end_time": "2021-12-31T06:07:08.806797",
     "exception": false,
     "start_time": "2021-12-31T06:07:08.760951",
     "status": "completed"
    },
    "tags": []
   },
   "outputs": [],
   "source": [
    "def get_learner(fold_num):\n",
    "    data = get_data(fold_num)\n",
    "\n",
    "    model = create_model('swin_large_patch4_window7_224', pretrained=True, num_classes=data.c)\n",
    "\n",
    "    learn = Learner(data, cust_fastai_model(), loss_func=BCEWithLogitsLossFlat(), metrics=AccumMetric(func=petfinder_rmse)).to_fp16()\n",
    "    \n",
    "    return learn"
   ]
  },
  {
   "cell_type": "code",
   "execution_count": 24,
   "id": "5385b9c3",
   "metadata": {
    "execution": {
     "iopub.execute_input": "2021-12-31T06:07:08.885266Z",
     "iopub.status.busy": "2021-12-31T06:07:08.884193Z",
     "iopub.status.idle": "2021-12-31T06:07:08.911469Z",
     "shell.execute_reply": "2021-12-31T06:07:08.912336Z",
     "shell.execute_reply.started": "2021-12-29T16:27:01.357551Z"
    },
    "papermill": {
     "duration": 0.068805,
     "end_time": "2021-12-31T06:07:08.912595",
     "exception": false,
     "start_time": "2021-12-31T06:07:08.843790",
     "status": "completed"
    },
    "tags": []
   },
   "outputs": [
    {
     "data": {
      "text/html": [
       "<div>\n",
       "<style scoped>\n",
       "    .dataframe tbody tr th:only-of-type {\n",
       "        vertical-align: middle;\n",
       "    }\n",
       "\n",
       "    .dataframe tbody tr th {\n",
       "        vertical-align: top;\n",
       "    }\n",
       "\n",
       "    .dataframe thead th {\n",
       "        text-align: right;\n",
       "    }\n",
       "</style>\n",
       "<table border=\"1\" class=\"dataframe\">\n",
       "  <thead>\n",
       "    <tr style=\"text-align: right;\">\n",
       "      <th></th>\n",
       "      <th>Id</th>\n",
       "      <th>Subject Focus</th>\n",
       "      <th>Eyes</th>\n",
       "      <th>Face</th>\n",
       "      <th>Near</th>\n",
       "      <th>Action</th>\n",
       "      <th>Accessory</th>\n",
       "      <th>Group</th>\n",
       "      <th>Collage</th>\n",
       "      <th>Human</th>\n",
       "      <th>Occlusion</th>\n",
       "      <th>Info</th>\n",
       "      <th>Blur</th>\n",
       "    </tr>\n",
       "  </thead>\n",
       "  <tbody>\n",
       "    <tr>\n",
       "      <th>0</th>\n",
       "      <td>4128bae22183829d2b5fea10effdb0c3</td>\n",
       "      <td>1</td>\n",
       "      <td>0</td>\n",
       "      <td>1</td>\n",
       "      <td>0</td>\n",
       "      <td>0</td>\n",
       "      <td>1</td>\n",
       "      <td>1</td>\n",
       "      <td>0</td>\n",
       "      <td>0</td>\n",
       "      <td>1</td>\n",
       "      <td>0</td>\n",
       "      <td>1</td>\n",
       "    </tr>\n",
       "    <tr>\n",
       "      <th>1</th>\n",
       "      <td>43a2262d7738e3d420d453815151079e</td>\n",
       "      <td>0</td>\n",
       "      <td>1</td>\n",
       "      <td>0</td>\n",
       "      <td>0</td>\n",
       "      <td>0</td>\n",
       "      <td>0</td>\n",
       "      <td>1</td>\n",
       "      <td>1</td>\n",
       "      <td>0</td>\n",
       "      <td>0</td>\n",
       "      <td>0</td>\n",
       "      <td>0</td>\n",
       "    </tr>\n",
       "    <tr>\n",
       "      <th>2</th>\n",
       "      <td>4e429cead1848a298432a0acad014c9d</td>\n",
       "      <td>0</td>\n",
       "      <td>0</td>\n",
       "      <td>0</td>\n",
       "      <td>1</td>\n",
       "      <td>0</td>\n",
       "      <td>1</td>\n",
       "      <td>1</td>\n",
       "      <td>1</td>\n",
       "      <td>0</td>\n",
       "      <td>1</td>\n",
       "      <td>1</td>\n",
       "      <td>1</td>\n",
       "    </tr>\n",
       "    <tr>\n",
       "      <th>3</th>\n",
       "      <td>80bc3ccafcc51b66303c2c263aa38486</td>\n",
       "      <td>1</td>\n",
       "      <td>0</td>\n",
       "      <td>1</td>\n",
       "      <td>0</td>\n",
       "      <td>0</td>\n",
       "      <td>0</td>\n",
       "      <td>0</td>\n",
       "      <td>0</td>\n",
       "      <td>0</td>\n",
       "      <td>0</td>\n",
       "      <td>1</td>\n",
       "      <td>0</td>\n",
       "    </tr>\n",
       "    <tr>\n",
       "      <th>4</th>\n",
       "      <td>8f49844c382931444e68dffbe20228f4</td>\n",
       "      <td>1</td>\n",
       "      <td>1</td>\n",
       "      <td>1</td>\n",
       "      <td>0</td>\n",
       "      <td>1</td>\n",
       "      <td>1</td>\n",
       "      <td>0</td>\n",
       "      <td>1</td>\n",
       "      <td>0</td>\n",
       "      <td>1</td>\n",
       "      <td>1</td>\n",
       "      <td>0</td>\n",
       "    </tr>\n",
       "  </tbody>\n",
       "</table>\n",
       "</div>"
      ],
      "text/plain": [
       "                                 Id  Subject Focus  Eyes  Face  Near  Action  \\\n",
       "0  4128bae22183829d2b5fea10effdb0c3              1     0     1     0       0   \n",
       "1  43a2262d7738e3d420d453815151079e              0     1     0     0       0   \n",
       "2  4e429cead1848a298432a0acad014c9d              0     0     0     1       0   \n",
       "3  80bc3ccafcc51b66303c2c263aa38486              1     0     1     0       0   \n",
       "4  8f49844c382931444e68dffbe20228f4              1     1     1     0       1   \n",
       "\n",
       "   Accessory  Group  Collage  Human  Occlusion  Info  Blur  \n",
       "0          1      1        0      0          1     0     1  \n",
       "1          0      1        1      0          0     0     0  \n",
       "2          1      1        1      0          1     1     1  \n",
       "3          0      0        0      0          0     1     0  \n",
       "4          1      0        1      0          1     1     0  "
      ]
     },
     "execution_count": 24,
     "metadata": {},
     "output_type": "execute_result"
    }
   ],
   "source": [
    "test_df = pd.read_csv(dataset_path/'test.csv')\n",
    "test_df.head()"
   ]
  },
  {
   "cell_type": "code",
   "execution_count": 25,
   "id": "aae7fe97",
   "metadata": {
    "execution": {
     "iopub.execute_input": "2021-12-31T06:07:08.997750Z",
     "iopub.status.busy": "2021-12-31T06:07:08.996426Z",
     "iopub.status.idle": "2021-12-31T06:07:09.002604Z",
     "shell.execute_reply": "2021-12-31T06:07:09.003137Z",
     "shell.execute_reply.started": "2021-12-29T16:27:01.380774Z"
    },
    "papermill": {
     "duration": 0.052342,
     "end_time": "2021-12-31T06:07:09.003351",
     "exception": false,
     "start_time": "2021-12-31T06:07:08.951009",
     "status": "completed"
    },
    "tags": []
   },
   "outputs": [],
   "source": [
    "test_df['Pawpularity'] = [1]*len(test_df)\n",
    "test_df['path'] = test_df['Id'].map(lambda x:str(dataset_path/'test'/x)+'.jpg')\n",
    "test_df = test_df.drop(columns=['Id'])\n",
    "train_df['norm_score'] = train_df['Pawpularity']/100"
   ]
  },
  {
   "cell_type": "code",
   "execution_count": 26,
   "id": "37dfba04",
   "metadata": {
    "execution": {
     "iopub.execute_input": "2021-12-31T06:07:09.084253Z",
     "iopub.status.busy": "2021-12-31T06:07:09.083116Z",
     "iopub.status.idle": "2021-12-31T06:08:21.814852Z",
     "shell.execute_reply": "2021-12-31T06:08:21.815430Z",
     "shell.execute_reply.started": "2021-12-29T16:27:01.395681Z"
    },
    "papermill": {
     "duration": 72.774696,
     "end_time": "2021-12-31T06:08:21.815619",
     "exception": false,
     "start_time": "2021-12-31T06:07:09.040923",
     "status": "completed"
    },
    "tags": []
   },
   "outputs": [
    {
     "data": {
      "text/html": [],
      "text/plain": [
       "<IPython.core.display.HTML object>"
      ]
     },
     "metadata": {},
     "output_type": "display_data"
    },
    {
     "data": {
      "text/plain": [
       "SuggestedLRs(valley=0.0008780662901699543)"
      ]
     },
     "execution_count": 26,
     "metadata": {},
     "output_type": "execute_result"
    },
    {
     "data": {
      "image/png": "[encoded data removed]",
      "text/plain": [
       "<Figure size 432x288 with 1 Axes>"
      ]
     },
     "metadata": {
      "needs_background": "light"
     },
     "output_type": "display_data"
    }
   ],
   "source": [
    "get_learner(fold_num=0).lr_find(end_lr=3e-2)             #was-2"
   ]
  },
  {
   "cell_type": "code",
   "execution_count": 27,
   "id": "24aa6c97",
   "metadata": {
    "execution": {
     "iopub.execute_input": "2021-12-31T06:08:21.907029Z",
     "iopub.status.busy": "2021-12-31T06:08:21.906015Z",
     "iopub.status.idle": "2021-12-31T06:08:21.909235Z",
     "shell.execute_reply": "2021-12-31T06:08:21.908680Z",
     "shell.execute_reply.started": "2021-12-29T16:28:06.160221Z"
    },
    "papermill": {
     "duration": 0.046206,
     "end_time": "2021-12-31T06:08:21.909386",
     "exception": false,
     "start_time": "2021-12-31T06:08:21.863180",
     "status": "completed"
    },
    "tags": []
   },
   "outputs": [],
   "source": [
    "import gc"
   ]
  },
  {
   "cell_type": "code",
   "execution_count": 29,
   "id": "b841f35b",
   "metadata": {
    "execution": {
     "iopub.execute_input": "2021-12-31T06:08:22.082551Z",
     "iopub.status.busy": "2021-12-31T06:08:22.081737Z",
     "iopub.status.idle": "2021-12-31T11:53:01.274880Z",
     "shell.execute_reply": "2021-12-31T11:53:01.275463Z"
    },
    "papermill": {
     "duration": 20679.24245,
     "end_time": "2021-12-31T11:53:01.275682",
     "exception": false,
     "start_time": "2021-12-31T06:08:22.033232",
     "status": "completed"
    },
    "tags": []
   },
   "outputs": [
    {
     "name": "stdout",
     "output_type": "stream",
     "text": [
      "Fold 0 results\n"
     ]
    },
    {
     "data": {
      "text/html": [
       "<table border=\"1\" class=\"dataframe\">\n",
       "  <thead>\n",
       "    <tr style=\"text-align: left;\">\n",
       "      <th>epoch</th>\n",
       "      <th>train_loss</th>\n",
       "      <th>valid_loss</th>\n",
       "      <th>petfinder_rmse</th>\n",
       "      <th>time</th>\n",
       "    </tr>\n",
       "  </thead>\n",
       "  <tbody>\n",
       "    <tr>\n",
       "      <td>0</td>\n",
       "      <td>0.664311</td>\n",
       "      <td>0.660825</td>\n",
       "      <td>20.224167</td>\n",
       "      <td>08:59</td>\n",
       "    </tr>\n",
       "    <tr>\n",
       "      <td>1</td>\n",
       "      <td>0.652318</td>\n",
       "      <td>0.644681</td>\n",
       "      <td>18.228909</td>\n",
       "      <td>09:01</td>\n",
       "    </tr>\n",
       "  </tbody>\n",
       "</table>"
      ],
      "text/plain": [
       "<IPython.core.display.HTML object>"
      ]
     },
     "metadata": {},
     "output_type": "display_data"
    },
    {
     "name": "stderr",
     "output_type": "stream",
     "text": [
      "/opt/conda/lib/python3.7/site-packages/torch/nn/functional.py:1805: UserWarning: nn.functional.sigmoid is deprecated. Use torch.sigmoid instead.\n",
      "  warnings.warn(\"nn.functional.sigmoid is deprecated. Use torch.sigmoid instead.\")\n"
     ]
    },
    {
     "name": "stdout",
     "output_type": "stream",
     "text": [
      "Better model found at epoch 0 with petfinder_rmse value: 20.224166870117188.\n",
      "Better model found at epoch 1 with petfinder_rmse value: 18.22890853881836.\n"
     ]
    },
    {
     "data": {
      "text/html": [
       "<table border=\"1\" class=\"dataframe\">\n",
       "  <thead>\n",
       "    <tr style=\"text-align: left;\">\n",
       "      <th>epoch</th>\n",
       "      <th>train_loss</th>\n",
       "      <th>valid_loss</th>\n",
       "      <th>petfinder_rmse</th>\n",
       "      <th>time</th>\n",
       "    </tr>\n",
       "  </thead>\n",
       "  <tbody>\n",
       "    <tr>\n",
       "      <td>0</td>\n",
       "      <td>0.642141</td>\n",
       "      <td>0.642880</td>\n",
       "      <td>17.986019</td>\n",
       "      <td>09:01</td>\n",
       "    </tr>\n",
       "    <tr>\n",
       "      <td>1</td>\n",
       "      <td>0.638753</td>\n",
       "      <td>0.641250</td>\n",
       "      <td>17.767292</td>\n",
       "      <td>08:58</td>\n",
       "    </tr>\n",
       "    <tr>\n",
       "      <td>2</td>\n",
       "      <td>0.634770</td>\n",
       "      <td>0.641328</td>\n",
       "      <td>17.775314</td>\n",
       "      <td>08:59</td>\n",
       "    </tr>\n",
       "    <tr>\n",
       "      <td>3</td>\n",
       "      <td>0.634433</td>\n",
       "      <td>0.640597</td>\n",
       "      <td>17.679216</td>\n",
       "      <td>08:59</td>\n",
       "    </tr>\n",
       "    <tr>\n",
       "      <td>4</td>\n",
       "      <td>0.638389</td>\n",
       "      <td>0.641352</td>\n",
       "      <td>17.772068</td>\n",
       "      <td>09:01</td>\n",
       "    </tr>\n",
       "    <tr>\n",
       "      <td>5</td>\n",
       "      <td>0.621246</td>\n",
       "      <td>0.642121</td>\n",
       "      <td>17.849476</td>\n",
       "      <td>08:59</td>\n",
       "    </tr>\n",
       "  </tbody>\n",
       "</table>"
      ],
      "text/plain": [
       "<IPython.core.display.HTML object>"
      ]
     },
     "metadata": {},
     "output_type": "display_data"
    },
    {
     "name": "stdout",
     "output_type": "stream",
     "text": [
      "Better model found at epoch 0 with petfinder_rmse value: 17.986019134521484.\n",
      "Better model found at epoch 1 with petfinder_rmse value: 17.767292022705078.\n",
      "Better model found at epoch 3 with petfinder_rmse value: 17.679216384887695.\n",
      "No improvement since epoch 3: early stopping\n"
     ]
    },
    {
     "data": {
      "text/html": [
       "\n",
       "    <div>\n",
       "        <style>\n",
       "            /* Turns off some styling */\n",
       "            progress {\n",
       "                /* gets rid of default border in Firefox and Opera. */\n",
       "                border: none;\n",
       "                /* Needs to be in here for Safari polyfill so background images work as expected. */\n",
       "                background-size: auto;\n",
       "            }\n",
       "            .progress-bar-interrupted, .progress-bar-interrupted::-webkit-progress-bar {\n",
       "                background: #F44336;\n",
       "            }\n",
       "        </style>\n",
       "      <progress value='0' class='' max='10' style='width:300px; height:20px; vertical-align: middle;'></progress>\n",
       "      \n",
       "    </div>\n",
       "    \n"
      ],
      "text/plain": [
       "<IPython.core.display.HTML object>"
      ]
     },
     "metadata": {},
     "output_type": "display_data"
    },
    {
     "data": {
      "text/html": [],
      "text/plain": [
       "<IPython.core.display.HTML object>"
      ]
     },
     "metadata": {},
     "output_type": "display_data"
    },
    {
     "name": "stdout",
     "output_type": "stream",
     "text": [
      "Fold 1 results\n"
     ]
    },
    {
     "data": {
      "text/html": [
       "<table border=\"1\" class=\"dataframe\">\n",
       "  <thead>\n",
       "    <tr style=\"text-align: left;\">\n",
       "      <th>epoch</th>\n",
       "      <th>train_loss</th>\n",
       "      <th>valid_loss</th>\n",
       "      <th>petfinder_rmse</th>\n",
       "      <th>time</th>\n",
       "    </tr>\n",
       "  </thead>\n",
       "  <tbody>\n",
       "    <tr>\n",
       "      <td>0</td>\n",
       "      <td>0.665564</td>\n",
       "      <td>0.660710</td>\n",
       "      <td>20.139837</td>\n",
       "      <td>09:01</td>\n",
       "    </tr>\n",
       "    <tr>\n",
       "      <td>1</td>\n",
       "      <td>0.650804</td>\n",
       "      <td>0.646709</td>\n",
       "      <td>18.409725</td>\n",
       "      <td>09:03</td>\n",
       "    </tr>\n",
       "  </tbody>\n",
       "</table>"
      ],
      "text/plain": [
       "<IPython.core.display.HTML object>"
      ]
     },
     "metadata": {},
     "output_type": "display_data"
    },
    {
     "name": "stderr",
     "output_type": "stream",
     "text": [
      "/opt/conda/lib/python3.7/site-packages/torch/nn/functional.py:1805: UserWarning: nn.functional.sigmoid is deprecated. Use torch.sigmoid instead.\n",
      "  warnings.warn(\"nn.functional.sigmoid is deprecated. Use torch.sigmoid instead.\")\n"
     ]
    },
    {
     "name": "stdout",
     "output_type": "stream",
     "text": [
      "Better model found at epoch 0 with petfinder_rmse value: 20.13983726501465.\n",
      "Better model found at epoch 1 with petfinder_rmse value: 18.409725189208984.\n"
     ]
    },
    {
     "data": {
      "text/html": [
       "<table border=\"1\" class=\"dataframe\">\n",
       "  <thead>\n",
       "    <tr style=\"text-align: left;\">\n",
       "      <th>epoch</th>\n",
       "      <th>train_loss</th>\n",
       "      <th>valid_loss</th>\n",
       "      <th>petfinder_rmse</th>\n",
       "      <th>time</th>\n",
       "    </tr>\n",
       "  </thead>\n",
       "  <tbody>\n",
       "    <tr>\n",
       "      <td>0</td>\n",
       "      <td>0.648359</td>\n",
       "      <td>0.644855</td>\n",
       "      <td>18.175611</td>\n",
       "      <td>08:57</td>\n",
       "    </tr>\n",
       "    <tr>\n",
       "      <td>1</td>\n",
       "      <td>0.640812</td>\n",
       "      <td>0.643453</td>\n",
       "      <td>17.983368</td>\n",
       "      <td>08:55</td>\n",
       "    </tr>\n",
       "    <tr>\n",
       "      <td>2</td>\n",
       "      <td>0.643799</td>\n",
       "      <td>0.643064</td>\n",
       "      <td>17.939632</td>\n",
       "      <td>08:59</td>\n",
       "    </tr>\n",
       "    <tr>\n",
       "      <td>3</td>\n",
       "      <td>0.631977</td>\n",
       "      <td>0.646186</td>\n",
       "      <td>18.304371</td>\n",
       "      <td>08:58</td>\n",
       "    </tr>\n",
       "    <tr>\n",
       "      <td>4</td>\n",
       "      <td>0.628117</td>\n",
       "      <td>0.647124</td>\n",
       "      <td>18.422661</td>\n",
       "      <td>08:57</td>\n",
       "    </tr>\n",
       "  </tbody>\n",
       "</table>"
      ],
      "text/plain": [
       "<IPython.core.display.HTML object>"
      ]
     },
     "metadata": {},
     "output_type": "display_data"
    },
    {
     "name": "stdout",
     "output_type": "stream",
     "text": [
      "Better model found at epoch 0 with petfinder_rmse value: 18.17561149597168.\n",
      "Better model found at epoch 1 with petfinder_rmse value: 17.983367919921875.\n",
      "Better model found at epoch 2 with petfinder_rmse value: 17.939632415771484.\n",
      "No improvement since epoch 2: early stopping\n"
     ]
    },
    {
     "data": {
      "text/html": [
       "\n",
       "    <div>\n",
       "        <style>\n",
       "            /* Turns off some styling */\n",
       "            progress {\n",
       "                /* gets rid of default border in Firefox and Opera. */\n",
       "                border: none;\n",
       "                /* Needs to be in here for Safari polyfill so background images work as expected. */\n",
       "                background-size: auto;\n",
       "            }\n",
       "            .progress-bar-interrupted, .progress-bar-interrupted::-webkit-progress-bar {\n",
       "                background: #F44336;\n",
       "            }\n",
       "        </style>\n",
       "      <progress value='0' class='' max='10' style='width:300px; height:20px; vertical-align: middle;'></progress>\n",
       "      \n",
       "    </div>\n",
       "    \n"
      ],
      "text/plain": [
       "<IPython.core.display.HTML object>"
      ]
     },
     "metadata": {},
     "output_type": "display_data"
    },
    {
     "data": {
      "text/html": [],
      "text/plain": [
       "<IPython.core.display.HTML object>"
      ]
     },
     "metadata": {},
     "output_type": "display_data"
    },
    {
     "name": "stdout",
     "output_type": "stream",
     "text": [
      "Fold 2 results\n"
     ]
    },
    {
     "data": {
      "text/html": [
       "<table border=\"1\" class=\"dataframe\">\n",
       "  <thead>\n",
       "    <tr style=\"text-align: left;\">\n",
       "      <th>epoch</th>\n",
       "      <th>train_loss</th>\n",
       "      <th>valid_loss</th>\n",
       "      <th>petfinder_rmse</th>\n",
       "      <th>time</th>\n",
       "    </tr>\n",
       "  </thead>\n",
       "  <tbody>\n",
       "    <tr>\n",
       "      <td>0</td>\n",
       "      <td>0.663935</td>\n",
       "      <td>0.661622</td>\n",
       "      <td>20.317421</td>\n",
       "      <td>08:55</td>\n",
       "    </tr>\n",
       "    <tr>\n",
       "      <td>1</td>\n",
       "      <td>0.652327</td>\n",
       "      <td>0.645800</td>\n",
       "      <td>18.385155</td>\n",
       "      <td>08:53</td>\n",
       "    </tr>\n",
       "  </tbody>\n",
       "</table>"
      ],
      "text/plain": [
       "<IPython.core.display.HTML object>"
      ]
     },
     "metadata": {},
     "output_type": "display_data"
    },
    {
     "name": "stderr",
     "output_type": "stream",
     "text": [
      "/opt/conda/lib/python3.7/site-packages/torch/nn/functional.py:1805: UserWarning: nn.functional.sigmoid is deprecated. Use torch.sigmoid instead.\n",
      "  warnings.warn(\"nn.functional.sigmoid is deprecated. Use torch.sigmoid instead.\")\n"
     ]
    },
    {
     "name": "stdout",
     "output_type": "stream",
     "text": [
      "Better model found at epoch 0 with petfinder_rmse value: 20.317420959472656.\n",
      "Better model found at epoch 1 with petfinder_rmse value: 18.385154724121094.\n"
     ]
    },
    {
     "data": {
      "text/html": [
       "<table border=\"1\" class=\"dataframe\">\n",
       "  <thead>\n",
       "    <tr style=\"text-align: left;\">\n",
       "      <th>epoch</th>\n",
       "      <th>train_loss</th>\n",
       "      <th>valid_loss</th>\n",
       "      <th>petfinder_rmse</th>\n",
       "      <th>time</th>\n",
       "    </tr>\n",
       "  </thead>\n",
       "  <tbody>\n",
       "    <tr>\n",
       "      <td>0</td>\n",
       "      <td>0.640421</td>\n",
       "      <td>0.644328</td>\n",
       "      <td>18.178125</td>\n",
       "      <td>08:54</td>\n",
       "    </tr>\n",
       "    <tr>\n",
       "      <td>1</td>\n",
       "      <td>0.639744</td>\n",
       "      <td>0.643205</td>\n",
       "      <td>18.017942</td>\n",
       "      <td>08:57</td>\n",
       "    </tr>\n",
       "    <tr>\n",
       "      <td>2</td>\n",
       "      <td>0.637828</td>\n",
       "      <td>0.641002</td>\n",
       "      <td>17.737951</td>\n",
       "      <td>08:57</td>\n",
       "    </tr>\n",
       "    <tr>\n",
       "      <td>3</td>\n",
       "      <td>0.635920</td>\n",
       "      <td>0.640833</td>\n",
       "      <td>17.706814</td>\n",
       "      <td>08:57</td>\n",
       "    </tr>\n",
       "    <tr>\n",
       "      <td>4</td>\n",
       "      <td>0.633248</td>\n",
       "      <td>0.640655</td>\n",
       "      <td>17.672276</td>\n",
       "      <td>08:59</td>\n",
       "    </tr>\n",
       "    <tr>\n",
       "      <td>5</td>\n",
       "      <td>0.621491</td>\n",
       "      <td>0.641677</td>\n",
       "      <td>17.794476</td>\n",
       "      <td>09:01</td>\n",
       "    </tr>\n",
       "    <tr>\n",
       "      <td>6</td>\n",
       "      <td>0.612800</td>\n",
       "      <td>0.644740</td>\n",
       "      <td>18.165138</td>\n",
       "      <td>08:58</td>\n",
       "    </tr>\n",
       "  </tbody>\n",
       "</table>"
      ],
      "text/plain": [
       "<IPython.core.display.HTML object>"
      ]
     },
     "metadata": {},
     "output_type": "display_data"
    },
    {
     "name": "stdout",
     "output_type": "stream",
     "text": [
      "Better model found at epoch 0 with petfinder_rmse value: 18.178125381469727.\n",
      "Better model found at epoch 1 with petfinder_rmse value: 18.017942428588867.\n",
      "Better model found at epoch 2 with petfinder_rmse value: 17.737951278686523.\n",
      "Better model found at epoch 3 with petfinder_rmse value: 17.70681381225586.\n",
      "Better model found at epoch 4 with petfinder_rmse value: 17.67227554321289.\n",
      "No improvement since epoch 4: early stopping\n"
     ]
    },
    {
     "data": {
      "text/html": [
       "\n",
       "    <div>\n",
       "        <style>\n",
       "            /* Turns off some styling */\n",
       "            progress {\n",
       "                /* gets rid of default border in Firefox and Opera. */\n",
       "                border: none;\n",
       "                /* Needs to be in here for Safari polyfill so background images work as expected. */\n",
       "                background-size: auto;\n",
       "            }\n",
       "            .progress-bar-interrupted, .progress-bar-interrupted::-webkit-progress-bar {\n",
       "                background: #F44336;\n",
       "            }\n",
       "        </style>\n",
       "      <progress value='0' class='' max='10' style='width:300px; height:20px; vertical-align: middle;'></progress>\n",
       "      \n",
       "    </div>\n",
       "    \n"
      ],
      "text/plain": [
       "<IPython.core.display.HTML object>"
      ]
     },
     "metadata": {},
     "output_type": "display_data"
    },
    {
     "data": {
      "text/html": [],
      "text/plain": [
       "<IPython.core.display.HTML object>"
      ]
     },
     "metadata": {},
     "output_type": "display_data"
    },
    {
     "name": "stdout",
     "output_type": "stream",
     "text": [
      "Fold 3 results\n"
     ]
    },
    {
     "data": {
      "text/html": [
       "<table border=\"1\" class=\"dataframe\">\n",
       "  <thead>\n",
       "    <tr style=\"text-align: left;\">\n",
       "      <th>epoch</th>\n",
       "      <th>train_loss</th>\n",
       "      <th>valid_loss</th>\n",
       "      <th>petfinder_rmse</th>\n",
       "      <th>time</th>\n",
       "    </tr>\n",
       "  </thead>\n",
       "  <tbody>\n",
       "    <tr>\n",
       "      <td>0</td>\n",
       "      <td>0.662836</td>\n",
       "      <td>0.661792</td>\n",
       "      <td>20.286760</td>\n",
       "      <td>08:59</td>\n",
       "    </tr>\n",
       "    <tr>\n",
       "      <td>1</td>\n",
       "      <td>0.648474</td>\n",
       "      <td>0.644268</td>\n",
       "      <td>18.106632</td>\n",
       "      <td>09:05</td>\n",
       "    </tr>\n",
       "  </tbody>\n",
       "</table>"
      ],
      "text/plain": [
       "<IPython.core.display.HTML object>"
      ]
     },
     "metadata": {},
     "output_type": "display_data"
    },
    {
     "name": "stderr",
     "output_type": "stream",
     "text": [
      "/opt/conda/lib/python3.7/site-packages/torch/nn/functional.py:1805: UserWarning: nn.functional.sigmoid is deprecated. Use torch.sigmoid instead.\n",
      "  warnings.warn(\"nn.functional.sigmoid is deprecated. Use torch.sigmoid instead.\")\n"
     ]
    },
    {
     "name": "stdout",
     "output_type": "stream",
     "text": [
      "Better model found at epoch 0 with petfinder_rmse value: 20.286760330200195.\n",
      "Better model found at epoch 1 with petfinder_rmse value: 18.106632232666016.\n"
     ]
    },
    {
     "data": {
      "text/html": [
       "<table border=\"1\" class=\"dataframe\">\n",
       "  <thead>\n",
       "    <tr style=\"text-align: left;\">\n",
       "      <th>epoch</th>\n",
       "      <th>train_loss</th>\n",
       "      <th>valid_loss</th>\n",
       "      <th>petfinder_rmse</th>\n",
       "      <th>time</th>\n",
       "    </tr>\n",
       "  </thead>\n",
       "  <tbody>\n",
       "    <tr>\n",
       "      <td>0</td>\n",
       "      <td>0.640314</td>\n",
       "      <td>0.641759</td>\n",
       "      <td>17.768244</td>\n",
       "      <td>09:04</td>\n",
       "    </tr>\n",
       "    <tr>\n",
       "      <td>1</td>\n",
       "      <td>0.643823</td>\n",
       "      <td>0.640578</td>\n",
       "      <td>17.608200</td>\n",
       "      <td>09:03</td>\n",
       "    </tr>\n",
       "    <tr>\n",
       "      <td>2</td>\n",
       "      <td>0.643878</td>\n",
       "      <td>0.638734</td>\n",
       "      <td>17.370472</td>\n",
       "      <td>09:02</td>\n",
       "    </tr>\n",
       "    <tr>\n",
       "      <td>3</td>\n",
       "      <td>0.636493</td>\n",
       "      <td>0.640138</td>\n",
       "      <td>17.573002</td>\n",
       "      <td>09:03</td>\n",
       "    </tr>\n",
       "    <tr>\n",
       "      <td>4</td>\n",
       "      <td>0.631641</td>\n",
       "      <td>0.639992</td>\n",
       "      <td>17.539946</td>\n",
       "      <td>09:02</td>\n",
       "    </tr>\n",
       "  </tbody>\n",
       "</table>"
      ],
      "text/plain": [
       "<IPython.core.display.HTML object>"
      ]
     },
     "metadata": {},
     "output_type": "display_data"
    },
    {
     "name": "stdout",
     "output_type": "stream",
     "text": [
      "Better model found at epoch 0 with petfinder_rmse value: 17.76824378967285.\n",
      "Better model found at epoch 1 with petfinder_rmse value: 17.608200073242188.\n",
      "Better model found at epoch 2 with petfinder_rmse value: 17.370471954345703.\n",
      "No improvement since epoch 2: early stopping\n"
     ]
    },
    {
     "data": {
      "text/html": [
       "\n",
       "    <div>\n",
       "        <style>\n",
       "            /* Turns off some styling */\n",
       "            progress {\n",
       "                /* gets rid of default border in Firefox and Opera. */\n",
       "                border: none;\n",
       "                /* Needs to be in here for Safari polyfill so background images work as expected. */\n",
       "                background-size: auto;\n",
       "            }\n",
       "            .progress-bar-interrupted, .progress-bar-interrupted::-webkit-progress-bar {\n",
       "                background: #F44336;\n",
       "            }\n",
       "        </style>\n",
       "      <progress value='0' class='' max='10' style='width:300px; height:20px; vertical-align: middle;'></progress>\n",
       "      \n",
       "    </div>\n",
       "    \n"
      ],
      "text/plain": [
       "<IPython.core.display.HTML object>"
      ]
     },
     "metadata": {},
     "output_type": "display_data"
    },
    {
     "data": {
      "text/html": [],
      "text/plain": [
       "<IPython.core.display.HTML object>"
      ]
     },
     "metadata": {},
     "output_type": "display_data"
    },
    {
     "name": "stdout",
     "output_type": "stream",
     "text": [
      "Fold 4 results\n"
     ]
    },
    {
     "data": {
      "text/html": [
       "<table border=\"1\" class=\"dataframe\">\n",
       "  <thead>\n",
       "    <tr style=\"text-align: left;\">\n",
       "      <th>epoch</th>\n",
       "      <th>train_loss</th>\n",
       "      <th>valid_loss</th>\n",
       "      <th>petfinder_rmse</th>\n",
       "      <th>time</th>\n",
       "    </tr>\n",
       "  </thead>\n",
       "  <tbody>\n",
       "    <tr>\n",
       "      <td>0</td>\n",
       "      <td>0.662411</td>\n",
       "      <td>0.661703</td>\n",
       "      <td>20.304022</td>\n",
       "      <td>09:02</td>\n",
       "    </tr>\n",
       "    <tr>\n",
       "      <td>1</td>\n",
       "      <td>0.655888</td>\n",
       "      <td>0.647123</td>\n",
       "      <td>18.513840</td>\n",
       "      <td>09:00</td>\n",
       "    </tr>\n",
       "  </tbody>\n",
       "</table>"
      ],
      "text/plain": [
       "<IPython.core.display.HTML object>"
      ]
     },
     "metadata": {},
     "output_type": "display_data"
    },
    {
     "name": "stderr",
     "output_type": "stream",
     "text": [
      "/opt/conda/lib/python3.7/site-packages/torch/nn/functional.py:1805: UserWarning: nn.functional.sigmoid is deprecated. Use torch.sigmoid instead.\n",
      "  warnings.warn(\"nn.functional.sigmoid is deprecated. Use torch.sigmoid instead.\")\n"
     ]
    },
    {
     "name": "stdout",
     "output_type": "stream",
     "text": [
      "Better model found at epoch 0 with petfinder_rmse value: 20.30402183532715.\n",
      "Better model found at epoch 1 with petfinder_rmse value: 18.513839721679688.\n"
     ]
    },
    {
     "data": {
      "text/html": [
       "<table border=\"1\" class=\"dataframe\">\n",
       "  <thead>\n",
       "    <tr style=\"text-align: left;\">\n",
       "      <th>epoch</th>\n",
       "      <th>train_loss</th>\n",
       "      <th>valid_loss</th>\n",
       "      <th>petfinder_rmse</th>\n",
       "      <th>time</th>\n",
       "    </tr>\n",
       "  </thead>\n",
       "  <tbody>\n",
       "    <tr>\n",
       "      <td>0</td>\n",
       "      <td>0.647412</td>\n",
       "      <td>0.643594</td>\n",
       "      <td>18.063009</td>\n",
       "      <td>08:59</td>\n",
       "    </tr>\n",
       "    <tr>\n",
       "      <td>1</td>\n",
       "      <td>0.643814</td>\n",
       "      <td>0.643537</td>\n",
       "      <td>18.038511</td>\n",
       "      <td>09:01</td>\n",
       "    </tr>\n",
       "    <tr>\n",
       "      <td>2</td>\n",
       "      <td>0.642195</td>\n",
       "      <td>0.641918</td>\n",
       "      <td>17.828156</td>\n",
       "      <td>09:00</td>\n",
       "    </tr>\n",
       "    <tr>\n",
       "      <td>3</td>\n",
       "      <td>0.632648</td>\n",
       "      <td>0.642622</td>\n",
       "      <td>17.930416</td>\n",
       "      <td>08:56</td>\n",
       "    </tr>\n",
       "    <tr>\n",
       "      <td>4</td>\n",
       "      <td>0.627430</td>\n",
       "      <td>0.644432</td>\n",
       "      <td>18.145807</td>\n",
       "      <td>08:55</td>\n",
       "    </tr>\n",
       "  </tbody>\n",
       "</table>"
      ],
      "text/plain": [
       "<IPython.core.display.HTML object>"
      ]
     },
     "metadata": {},
     "output_type": "display_data"
    },
    {
     "name": "stdout",
     "output_type": "stream",
     "text": [
      "Better model found at epoch 0 with petfinder_rmse value: 18.06300926208496.\n",
      "Better model found at epoch 1 with petfinder_rmse value: 18.038511276245117.\n",
      "Better model found at epoch 2 with petfinder_rmse value: 17.828155517578125.\n",
      "No improvement since epoch 2: early stopping\n"
     ]
    },
    {
     "data": {
      "text/html": [
       "\n",
       "    <div>\n",
       "        <style>\n",
       "            /* Turns off some styling */\n",
       "            progress {\n",
       "                /* gets rid of default border in Firefox and Opera. */\n",
       "                border: none;\n",
       "                /* Needs to be in here for Safari polyfill so background images work as expected. */\n",
       "                background-size: auto;\n",
       "            }\n",
       "            .progress-bar-interrupted, .progress-bar-interrupted::-webkit-progress-bar {\n",
       "                background: #F44336;\n",
       "            }\n",
       "        </style>\n",
       "      <progress value='0' class='' max='10' style='width:300px; height:20px; vertical-align: middle;'></progress>\n",
       "      \n",
       "    </div>\n",
       "    \n"
      ],
      "text/plain": [
       "<IPython.core.display.HTML object>"
      ]
     },
     "metadata": {},
     "output_type": "display_data"
    },
    {
     "data": {
      "text/html": [],
      "text/plain": [
       "<IPython.core.display.HTML object>"
      ]
     },
     "metadata": {},
     "output_type": "display_data"
    },
    {
     "data": {
      "image/png": "[encoded data removed]",
      "text/plain": [
       "<Figure size 432x288 with 1 Axes>"
      ]
     },
     "metadata": {
      "needs_background": "light"
     },
     "output_type": "display_data"
    }
   ],
   "source": [
    "all_preds = []\n",
    "\n",
    "for i in range(5):\n",
    "\n",
    "    print(f'Fold {i} results')\n",
    "    \n",
    "    learn = get_learner(fold_num=i)\n",
    "    \n",
    "    learn.fine_tune(10,  2e-5, freeze_epochs=2, cbs=[SaveModelCallback('petfinder_rmse', comp=np.less), EarlyStoppingCallback(monitor='petfinder_rmse', comp=np.less, patience=2)] )\n",
    "#   \n",
    "    learn.recorder.plot_loss()\n",
    "\n",
    "    learn = learn.to_fp32()\n",
    "    \n",
    "    learn.export(f'model_fold_{i}.pkl')\n",
    "    \n",
    "    dls = ImageDataLoaders.from_df(train_df, #pass in train DataFrame\n",
    "                               valid_pct=0.2, #80-20 train-validation random split\n",
    "                               seed=999, #seed\n",
    "                               fn_col='path', #filename/path is in the second column of the DataFrame\n",
    "                               label_col='norm_score', #label is in the first column of the DataFrame\n",
    "                               y_block=RegressionBlock, #The type of target\n",
    "                               bs=BATCH_SIZE, #pass in batch size\n",
    "                               num_workers=8,\n",
    "                               item_tfms=Resize(224), #pass in item_tfms\n",
    "                               batch_tfms=setup_aug_tfms([Brightness(), Contrast(), Hue(), Saturation()])) \n",
    "    \n",
    "    test_dl = dls.test_dl(test_df)\n",
    "    \n",
    "    preds, _ = learn.tta(dl=test_dl, n=5, beta=0)\n",
    "    \n",
    "    all_preds.append(preds)\n",
    "    \n",
    "    learn.export(f'model_fold_{i}_aftertest.pkl')\n",
    "    \n",
    "    del learn\n",
    "\n",
    "    torch.cuda.empty_cache()\n",
    "\n",
    "    gc.collect()"
   ]
  },
  {
   "cell_type": "code",
   "execution_count": 30,
   "id": "224ca94e",
   "metadata": {
    "execution": {
     "iopub.execute_input": "2021-12-31T11:53:01.415437Z",
     "iopub.status.busy": "2021-12-31T11:53:01.414445Z",
     "iopub.status.idle": "2021-12-31T11:53:02.318202Z",
     "shell.execute_reply": "2021-12-31T11:53:02.317362Z",
     "shell.execute_reply.started": "2021-12-29T16:45:02.753002Z"
    },
    "papermill": {
     "duration": 0.976463,
     "end_time": "2021-12-31T11:53:02.318379",
     "exception": false,
     "start_time": "2021-12-31T11:53:01.341916",
     "status": "completed"
    },
    "tags": []
   },
   "outputs": [
    {
     "name": "stdout",
     "output_type": "stream",
     "text": [
      "input  lib  src  working\r\n"
     ]
    }
   ],
   "source": [
    "!ls .."
   ]
  },
  {
   "cell_type": "code",
   "execution_count": 31,
   "id": "cf00f23e",
   "metadata": {
    "execution": {
     "iopub.execute_input": "2021-12-31T11:53:02.458436Z",
     "iopub.status.busy": "2021-12-31T11:53:02.457634Z",
     "iopub.status.idle": "2021-12-31T11:53:02.473400Z",
     "shell.execute_reply": "2021-12-31T11:53:02.473995Z",
     "shell.execute_reply.started": "2021-12-29T16:45:02.754842Z"
    },
    "papermill": {
     "duration": 0.088846,
     "end_time": "2021-12-31T11:53:02.474171",
     "exception": false,
     "start_time": "2021-12-31T11:53:02.385325",
     "status": "completed"
    },
    "tags": []
   },
   "outputs": [
    {
     "data": {
      "text/plain": [
       "[tensor([[0.4140],\n",
       "         [0.4172],\n",
       "         [0.4127],\n",
       "         [0.4144],\n",
       "         [0.4132],\n",
       "         [0.4118],\n",
       "         [0.4176],\n",
       "         [0.4172]]),\n",
       " tensor([[0.3396],\n",
       "         [0.3388],\n",
       "         [0.3329],\n",
       "         [0.3390],\n",
       "         [0.3359],\n",
       "         [0.3392],\n",
       "         [0.3446],\n",
       "         [0.3380]]),\n",
       " tensor([[0.4112],\n",
       "         [0.4104],\n",
       "         [0.4124],\n",
       "         [0.4136],\n",
       "         [0.4089],\n",
       "         [0.4114],\n",
       "         [0.4125],\n",
       "         [0.4086]]),\n",
       " tensor([[0.4172],\n",
       "         [0.4209],\n",
       "         [0.4168],\n",
       "         [0.4173],\n",
       "         [0.4199],\n",
       "         [0.4104],\n",
       "         [0.4163],\n",
       "         [0.4237]]),\n",
       " tensor([[0.3822],\n",
       "         [0.3939],\n",
       "         [0.3782],\n",
       "         [0.3797],\n",
       "         [0.3851],\n",
       "         [0.3797],\n",
       "         [0.3983],\n",
       "         [0.3849]])]"
      ]
     },
     "execution_count": 31,
     "metadata": {},
     "output_type": "execute_result"
    }
   ],
   "source": [
    "all_preds"
   ]
  },
  {
   "cell_type": "code",
   "execution_count": 32,
   "id": "03a863d5",
   "metadata": {
    "execution": {
     "iopub.execute_input": "2021-12-31T11:53:02.615480Z",
     "iopub.status.busy": "2021-12-31T11:53:02.614655Z",
     "iopub.status.idle": "2021-12-31T11:53:02.633876Z",
     "shell.execute_reply": "2021-12-31T11:53:02.634472Z",
     "shell.execute_reply.started": "2021-12-29T16:45:02.756622Z"
    },
    "papermill": {
     "duration": 0.093945,
     "end_time": "2021-12-31T11:53:02.634665",
     "exception": false,
     "start_time": "2021-12-31T11:53:02.540720",
     "status": "completed"
    },
    "tags": []
   },
   "outputs": [],
   "source": [
    "sample_df = pd.read_csv(dataset_path/'sample_submission.csv')\n",
    "preds = np.mean(np.stack(all_preds), axis=0)\n",
    "sample_df['Pawpularity'] = preds*100\n",
    "sample_df.to_csv('submission.csv',index=False)"
   ]
  },
  {
   "cell_type": "code",
   "execution_count": 33,
   "id": "d07d5041",
   "metadata": {
    "execution": {
     "iopub.execute_input": "2021-12-31T11:53:02.781655Z",
     "iopub.status.busy": "2021-12-31T11:53:02.772614Z",
     "iopub.status.idle": "2021-12-31T11:53:02.784624Z",
     "shell.execute_reply": "2021-12-31T11:53:02.785168Z",
     "shell.execute_reply.started": "2021-12-29T16:45:02.75851Z"
    },
    "papermill": {
     "duration": 0.083573,
     "end_time": "2021-12-31T11:53:02.785370",
     "exception": false,
     "start_time": "2021-12-31T11:53:02.701797",
     "status": "completed"
    },
    "tags": []
   },
   "outputs": [
    {
     "data": {
      "text/html": [
       "<div>\n",
       "<style scoped>\n",
       "    .dataframe tbody tr th:only-of-type {\n",
       "        vertical-align: middle;\n",
       "    }\n",
       "\n",
       "    .dataframe tbody tr th {\n",
       "        vertical-align: top;\n",
       "    }\n",
       "\n",
       "    .dataframe thead th {\n",
       "        text-align: right;\n",
       "    }\n",
       "</style>\n",
       "<table border=\"1\" class=\"dataframe\">\n",
       "  <thead>\n",
       "    <tr style=\"text-align: right;\">\n",
       "      <th></th>\n",
       "      <th>Id</th>\n",
       "      <th>Pawpularity</th>\n",
       "    </tr>\n",
       "  </thead>\n",
       "  <tbody>\n",
       "    <tr>\n",
       "      <th>0</th>\n",
       "      <td>4128bae22183829d2b5fea10effdb0c3</td>\n",
       "      <td>39.282590</td>\n",
       "    </tr>\n",
       "    <tr>\n",
       "      <th>1</th>\n",
       "      <td>43a2262d7738e3d420d453815151079e</td>\n",
       "      <td>39.622967</td>\n",
       "    </tr>\n",
       "    <tr>\n",
       "      <th>2</th>\n",
       "      <td>4e429cead1848a298432a0acad014c9d</td>\n",
       "      <td>39.060920</td>\n",
       "    </tr>\n",
       "    <tr>\n",
       "      <th>3</th>\n",
       "      <td>80bc3ccafcc51b66303c2c263aa38486</td>\n",
       "      <td>39.280884</td>\n",
       "    </tr>\n",
       "    <tr>\n",
       "      <th>4</th>\n",
       "      <td>8f49844c382931444e68dffbe20228f4</td>\n",
       "      <td>39.258236</td>\n",
       "    </tr>\n",
       "  </tbody>\n",
       "</table>\n",
       "</div>"
      ],
      "text/plain": [
       "                                 Id  Pawpularity\n",
       "0  4128bae22183829d2b5fea10effdb0c3    39.282590\n",
       "1  43a2262d7738e3d420d453815151079e    39.622967\n",
       "2  4e429cead1848a298432a0acad014c9d    39.060920\n",
       "3  80bc3ccafcc51b66303c2c263aa38486    39.280884\n",
       "4  8f49844c382931444e68dffbe20228f4    39.258236"
      ]
     },
     "execution_count": 33,
     "metadata": {},
     "output_type": "execute_result"
    }
   ],
   "source": [
    "pd.read_csv('submission.csv').head()"
   ]
  },
  {
   "cell_type": "code",
   "execution_count": null,
   "id": "0295dd4e",
   "metadata": {
    "papermill": {
     "duration": 0.066977,
     "end_time": "2021-12-31T11:53:02.917809",
     "exception": false,
     "start_time": "2021-12-31T11:53:02.850832",
     "status": "completed"
    },
    "tags": []
   },
   "outputs": [],
   "source": []
  },
  {
   "cell_type": "code",
   "execution_count": null,
   "id": "cde0e1ae",
   "metadata": {
    "papermill": {
     "duration": 0.068067,
     "end_time": "2021-12-31T11:53:03.052854",
     "exception": false,
     "start_time": "2021-12-31T11:53:02.984787",
     "status": "completed"
    },
    "tags": []
   },
   "outputs": [],
   "source": []
  }
 ],
 "metadata": {
  "kernelspec": {
   "display_name": "Python 3",
   "language": "python",
   "name": "python3"
  },
  "language_info": {
   "codemirror_mode": {
    "name": "ipython",
    "version": 3
   },
   "file_extension": ".py",
   "mimetype": "text/x-python",
   "name": "python",
   "nbconvert_exporter": "python",
   "pygments_lexer": "ipython3",
   "version": "3.9.2"
  },
  "papermill": {
   "default_parameters": {},
   "duration": 20788.195189,
   "end_time": "2021-12-31T11:53:05.567618",
   "environment_variables": {},
   "exception": null,
   "input_path": "__notebook__.ipynb",
   "output_path": "__notebook__.ipynb",
   "parameters": {},
   "start_time": "2021-12-31T06:06:37.372429",
   "version": "2.3.3"
  }
 },
 "nbformat": 4,
 "nbformat_minor": 5
}
