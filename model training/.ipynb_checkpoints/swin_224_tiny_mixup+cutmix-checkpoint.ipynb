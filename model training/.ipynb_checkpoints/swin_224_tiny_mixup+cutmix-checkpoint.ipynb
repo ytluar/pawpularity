{
 "cells": [
  {
   "cell_type": "code",
   "execution_count": 2,
   "id": "c759a13a",
   "metadata": {
    "execution": {
     "iopub.execute_input": "2022-01-03T16:48:47.835483Z",
     "iopub.status.busy": "2022-01-03T16:48:47.834747Z",
     "iopub.status.idle": "2022-01-03T16:48:51.510435Z",
     "shell.execute_reply": "2022-01-03T16:48:51.510847Z",
     "shell.execute_reply.started": "2021-12-21T02:59:42.701688Z"
    },
    "papermill": {
     "duration": 3.728504,
     "end_time": "2022-01-03T16:48:51.511054",
     "exception": false,
     "start_time": "2022-01-03T16:48:47.782550",
     "status": "completed"
    },
    "tags": []
   },
   "outputs": [],
   "source": [
    "import sys\n",
    "sys.path.append('../input/timm-pytorch-image-models/pytorch-image-models-master')\n",
    "from timm import create_model\n",
    "import pandas as pd\n",
    "import numpy as np"
   ]
  },
  {
   "cell_type": "code",
   "execution_count": 3,
   "id": "0da87ffe",
   "metadata": {
    "execution": {
     "iopub.execute_input": "2022-01-03T16:48:51.562215Z",
     "iopub.status.busy": "2022-01-03T16:48:51.561488Z",
     "iopub.status.idle": "2022-01-03T16:48:51.569431Z",
     "shell.execute_reply": "2022-01-03T16:48:51.569828Z",
     "shell.execute_reply.started": "2021-12-21T02:59:46.275098Z"
    },
    "papermill": {
     "duration": 0.035319,
     "end_time": "2022-01-03T16:48:51.570002",
     "exception": false,
     "start_time": "2022-01-03T16:48:51.534683",
     "status": "completed"
    },
    "tags": []
   },
   "outputs": [
    {
     "data": {
      "text/plain": [
       "'2.5.3'"
      ]
     },
     "execution_count": 3,
     "metadata": {},
     "output_type": "execute_result"
    }
   ],
   "source": [
    "import fastai\n",
    "fastai.__version__"
   ]
  },
  {
   "cell_type": "code",
   "execution_count": 4,
   "id": "b842c2d8",
   "metadata": {
    "execution": {
     "iopub.execute_input": "2022-01-03T16:48:51.622291Z",
     "iopub.status.busy": "2022-01-03T16:48:51.621596Z",
     "iopub.status.idle": "2022-01-03T16:48:51.625733Z",
     "shell.execute_reply": "2022-01-03T16:48:51.625314Z",
     "shell.execute_reply.started": "2021-12-21T02:59:46.290225Z"
    },
    "papermill": {
     "duration": 0.032533,
     "end_time": "2022-01-03T16:48:51.625846",
     "exception": false,
     "start_time": "2022-01-03T16:48:51.593313",
     "status": "completed"
    },
    "tags": []
   },
   "outputs": [
    {
     "data": {
      "text/plain": [
       "'1.9.1'"
      ]
     },
     "execution_count": 4,
     "metadata": {},
     "output_type": "execute_result"
    }
   ],
   "source": [
    "import torch\n",
    "torch.__version__"
   ]
  },
  {
   "cell_type": "code",
   "execution_count": 5,
   "id": "7f49961b",
   "metadata": {
    "execution": {
     "iopub.execute_input": "2022-01-03T16:48:51.677772Z",
     "iopub.status.busy": "2022-01-03T16:48:51.677104Z",
     "iopub.status.idle": "2022-01-03T16:48:52.647736Z",
     "shell.execute_reply": "2022-01-03T16:48:52.647266Z",
     "shell.execute_reply.started": "2021-12-20T18:55:04.159219Z"
    },
    "papermill": {
     "duration": 0.998705,
     "end_time": "2022-01-03T16:48:52.647865",
     "exception": false,
     "start_time": "2022-01-03T16:48:51.649160",
     "status": "completed"
    },
    "tags": []
   },
   "outputs": [],
   "source": [
    "from fastai.vision.all import *"
   ]
  },
  {
   "cell_type": "code",
   "execution_count": 6,
   "id": "88725559",
   "metadata": {
    "execution": {
     "iopub.execute_input": "2022-01-03T16:48:52.708379Z",
     "iopub.status.busy": "2022-01-03T16:48:52.706619Z",
     "iopub.status.idle": "2022-01-03T16:48:52.709053Z",
     "shell.execute_reply": "2022-01-03T16:48:52.709509Z",
     "shell.execute_reply.started": "2021-12-20T18:55:05.076366Z"
    },
    "papermill": {
     "duration": 0.037111,
     "end_time": "2022-01-03T16:48:52.709653",
     "exception": false,
     "start_time": "2022-01-03T16:48:52.672542",
     "status": "completed"
    },
    "tags": []
   },
   "outputs": [],
   "source": [
    "set_seed(999, reproducible=True)\n",
    "BATCH_SIZE = 8                       #was 32"
   ]
  },
  {
   "cell_type": "code",
   "execution_count": 7,
   "id": "906965c5",
   "metadata": {
    "execution": {
     "iopub.execute_input": "2022-01-03T16:48:52.769722Z",
     "iopub.status.busy": "2022-01-03T16:48:52.768708Z",
     "iopub.status.idle": "2022-01-03T16:48:52.774894Z",
     "shell.execute_reply": "2022-01-03T16:48:52.774441Z",
     "shell.execute_reply.started": "2021-12-20T18:55:05.085443Z"
    },
    "papermill": {
     "duration": 0.038305,
     "end_time": "2022-01-03T16:48:52.775049",
     "exception": false,
     "start_time": "2022-01-03T16:48:52.736744",
     "status": "completed"
    },
    "tags": []
   },
   "outputs": [
    {
     "data": {
      "text/plain": [
       "(#5) [Path('../input/petfinder-pawpularity-score/sample_submission.csv'),Path('../input/petfinder-pawpularity-score/train.csv'),Path('../input/petfinder-pawpularity-score/test.csv'),Path('../input/petfinder-pawpularity-score/test'),Path('../input/petfinder-pawpularity-score/train')]"
      ]
     },
     "execution_count": 7,
     "metadata": {},
     "output_type": "execute_result"
    }
   ],
   "source": [
    "dataset_path = Path('../input/petfinder-pawpularity-score/')\n",
    "dataset_path.ls()"
   ]
  },
  {
   "cell_type": "code",
   "execution_count": 8,
   "id": "95a01287",
   "metadata": {
    "execution": {
     "iopub.execute_input": "2022-01-03T16:48:52.835105Z",
     "iopub.status.busy": "2022-01-03T16:48:52.834411Z",
     "iopub.status.idle": "2022-01-03T16:48:52.887844Z",
     "shell.execute_reply": "2022-01-03T16:48:52.887135Z",
     "shell.execute_reply.started": "2021-12-20T18:55:05.097674Z"
    },
    "papermill": {
     "duration": 0.085648,
     "end_time": "2022-01-03T16:48:52.888019",
     "exception": false,
     "start_time": "2022-01-03T16:48:52.802371",
     "status": "completed"
    },
    "tags": []
   },
   "outputs": [
    {
     "data": {
      "text/html": [
       "<div>\n",
       "<style scoped>\n",
       "    .dataframe tbody tr th:only-of-type {\n",
       "        vertical-align: middle;\n",
       "    }\n",
       "\n",
       "    .dataframe tbody tr th {\n",
       "        vertical-align: top;\n",
       "    }\n",
       "\n",
       "    .dataframe thead th {\n",
       "        text-align: right;\n",
       "    }\n",
       "</style>\n",
       "<table border=\"1\" class=\"dataframe\">\n",
       "  <thead>\n",
       "    <tr style=\"text-align: right;\">\n",
       "      <th></th>\n",
       "      <th>Id</th>\n",
       "      <th>Subject Focus</th>\n",
       "      <th>Eyes</th>\n",
       "      <th>Face</th>\n",
       "      <th>Near</th>\n",
       "      <th>Action</th>\n",
       "      <th>Accessory</th>\n",
       "      <th>Group</th>\n",
       "      <th>Collage</th>\n",
       "      <th>Human</th>\n",
       "      <th>Occlusion</th>\n",
       "      <th>Info</th>\n",
       "      <th>Blur</th>\n",
       "      <th>Pawpularity</th>\n",
       "    </tr>\n",
       "  </thead>\n",
       "  <tbody>\n",
       "    <tr>\n",
       "      <th>0</th>\n",
       "      <td>0007de18844b0dbbb5e1f607da0606e0</td>\n",
       "      <td>0</td>\n",
       "      <td>1</td>\n",
       "      <td>1</td>\n",
       "      <td>1</td>\n",
       "      <td>0</td>\n",
       "      <td>0</td>\n",
       "      <td>1</td>\n",
       "      <td>0</td>\n",
       "      <td>0</td>\n",
       "      <td>0</td>\n",
       "      <td>0</td>\n",
       "      <td>0</td>\n",
       "      <td>63</td>\n",
       "    </tr>\n",
       "    <tr>\n",
       "      <th>1</th>\n",
       "      <td>0009c66b9439883ba2750fb825e1d7db</td>\n",
       "      <td>0</td>\n",
       "      <td>1</td>\n",
       "      <td>1</td>\n",
       "      <td>0</td>\n",
       "      <td>0</td>\n",
       "      <td>0</td>\n",
       "      <td>0</td>\n",
       "      <td>0</td>\n",
       "      <td>0</td>\n",
       "      <td>0</td>\n",
       "      <td>0</td>\n",
       "      <td>0</td>\n",
       "      <td>42</td>\n",
       "    </tr>\n",
       "    <tr>\n",
       "      <th>2</th>\n",
       "      <td>0013fd999caf9a3efe1352ca1b0d937e</td>\n",
       "      <td>0</td>\n",
       "      <td>1</td>\n",
       "      <td>1</td>\n",
       "      <td>1</td>\n",
       "      <td>0</td>\n",
       "      <td>0</td>\n",
       "      <td>0</td>\n",
       "      <td>0</td>\n",
       "      <td>1</td>\n",
       "      <td>1</td>\n",
       "      <td>0</td>\n",
       "      <td>0</td>\n",
       "      <td>28</td>\n",
       "    </tr>\n",
       "    <tr>\n",
       "      <th>3</th>\n",
       "      <td>0018df346ac9c1d8413cfcc888ca8246</td>\n",
       "      <td>0</td>\n",
       "      <td>1</td>\n",
       "      <td>1</td>\n",
       "      <td>1</td>\n",
       "      <td>0</td>\n",
       "      <td>0</td>\n",
       "      <td>0</td>\n",
       "      <td>0</td>\n",
       "      <td>0</td>\n",
       "      <td>0</td>\n",
       "      <td>0</td>\n",
       "      <td>0</td>\n",
       "      <td>15</td>\n",
       "    </tr>\n",
       "    <tr>\n",
       "      <th>4</th>\n",
       "      <td>001dc955e10590d3ca4673f034feeef2</td>\n",
       "      <td>0</td>\n",
       "      <td>0</td>\n",
       "      <td>0</td>\n",
       "      <td>1</td>\n",
       "      <td>0</td>\n",
       "      <td>0</td>\n",
       "      <td>1</td>\n",
       "      <td>0</td>\n",
       "      <td>0</td>\n",
       "      <td>0</td>\n",
       "      <td>0</td>\n",
       "      <td>0</td>\n",
       "      <td>72</td>\n",
       "    </tr>\n",
       "  </tbody>\n",
       "</table>\n",
       "</div>"
      ],
      "text/plain": [
       "                                 Id  Subject Focus  Eyes  Face  Near  Action  \\\n",
       "0  0007de18844b0dbbb5e1f607da0606e0              0     1     1     1       0   \n",
       "1  0009c66b9439883ba2750fb825e1d7db              0     1     1     0       0   \n",
       "2  0013fd999caf9a3efe1352ca1b0d937e              0     1     1     1       0   \n",
       "3  0018df346ac9c1d8413cfcc888ca8246              0     1     1     1       0   \n",
       "4  001dc955e10590d3ca4673f034feeef2              0     0     0     1       0   \n",
       "\n",
       "   Accessory  Group  Collage  Human  Occlusion  Info  Blur  Pawpularity  \n",
       "0          0      1        0      0          0     0     0           63  \n",
       "1          0      0        0      0          0     0     0           42  \n",
       "2          0      0        0      1          1     0     0           28  \n",
       "3          0      0        0      0          0     0     0           15  \n",
       "4          0      1        0      0          0     0     0           72  "
      ]
     },
     "execution_count": 8,
     "metadata": {},
     "output_type": "execute_result"
    }
   ],
   "source": [
    "train_df = pd.read_csv(dataset_path/'train.csv')\n",
    "train_df.head()"
   ]
  },
  {
   "cell_type": "code",
   "execution_count": 9,
   "id": "b22138de",
   "metadata": {
    "execution": {
     "iopub.execute_input": "2022-01-03T16:48:52.951007Z",
     "iopub.status.busy": "2022-01-03T16:48:52.950113Z",
     "iopub.status.idle": "2022-01-03T16:48:53.090509Z",
     "shell.execute_reply": "2022-01-03T16:48:53.090952Z",
     "shell.execute_reply.started": "2021-12-20T18:55:05.145921Z"
    },
    "papermill": {
     "duration": 0.174996,
     "end_time": "2022-01-03T16:48:53.091110",
     "exception": false,
     "start_time": "2022-01-03T16:48:52.916114",
     "status": "completed"
    },
    "tags": []
   },
   "outputs": [
    {
     "data": {
      "text/html": [
       "<div>\n",
       "<style scoped>\n",
       "    .dataframe tbody tr th:only-of-type {\n",
       "        vertical-align: middle;\n",
       "    }\n",
       "\n",
       "    .dataframe tbody tr th {\n",
       "        vertical-align: top;\n",
       "    }\n",
       "\n",
       "    .dataframe thead th {\n",
       "        text-align: right;\n",
       "    }\n",
       "</style>\n",
       "<table border=\"1\" class=\"dataframe\">\n",
       "  <thead>\n",
       "    <tr style=\"text-align: right;\">\n",
       "      <th></th>\n",
       "      <th>Subject Focus</th>\n",
       "      <th>Eyes</th>\n",
       "      <th>Face</th>\n",
       "      <th>Near</th>\n",
       "      <th>Action</th>\n",
       "      <th>Accessory</th>\n",
       "      <th>Group</th>\n",
       "      <th>Collage</th>\n",
       "      <th>Human</th>\n",
       "      <th>Occlusion</th>\n",
       "      <th>Info</th>\n",
       "      <th>Blur</th>\n",
       "      <th>Pawpularity</th>\n",
       "      <th>path</th>\n",
       "    </tr>\n",
       "  </thead>\n",
       "  <tbody>\n",
       "    <tr>\n",
       "      <th>0</th>\n",
       "      <td>0</td>\n",
       "      <td>0</td>\n",
       "      <td>1</td>\n",
       "      <td>1</td>\n",
       "      <td>0</td>\n",
       "      <td>0</td>\n",
       "      <td>0</td>\n",
       "      <td>0</td>\n",
       "      <td>0</td>\n",
       "      <td>0</td>\n",
       "      <td>0</td>\n",
       "      <td>1</td>\n",
       "      <td>50</td>\n",
       "      <td>../input/petfinder-pawpularity-score/train/ebaaa8e384b3d2f0a56c7ff7675c154c.jpg</td>\n",
       "    </tr>\n",
       "    <tr>\n",
       "      <th>1</th>\n",
       "      <td>0</td>\n",
       "      <td>1</td>\n",
       "      <td>1</td>\n",
       "      <td>1</td>\n",
       "      <td>0</td>\n",
       "      <td>1</td>\n",
       "      <td>0</td>\n",
       "      <td>1</td>\n",
       "      <td>0</td>\n",
       "      <td>0</td>\n",
       "      <td>1</td>\n",
       "      <td>0</td>\n",
       "      <td>25</td>\n",
       "      <td>../input/petfinder-pawpularity-score/train/25e3bf4267c2dc3f579b779418221bb7.jpg</td>\n",
       "    </tr>\n",
       "    <tr>\n",
       "      <th>2</th>\n",
       "      <td>0</td>\n",
       "      <td>0</td>\n",
       "      <td>1</td>\n",
       "      <td>1</td>\n",
       "      <td>0</td>\n",
       "      <td>1</td>\n",
       "      <td>0</td>\n",
       "      <td>0</td>\n",
       "      <td>0</td>\n",
       "      <td>0</td>\n",
       "      <td>0</td>\n",
       "      <td>0</td>\n",
       "      <td>27</td>\n",
       "      <td>../input/petfinder-pawpularity-score/train/6548166fb3fda22b67881176397f0223.jpg</td>\n",
       "    </tr>\n",
       "    <tr>\n",
       "      <th>3</th>\n",
       "      <td>0</td>\n",
       "      <td>1</td>\n",
       "      <td>1</td>\n",
       "      <td>1</td>\n",
       "      <td>0</td>\n",
       "      <td>0</td>\n",
       "      <td>0</td>\n",
       "      <td>0</td>\n",
       "      <td>1</td>\n",
       "      <td>1</td>\n",
       "      <td>0</td>\n",
       "      <td>0</td>\n",
       "      <td>19</td>\n",
       "      <td>../input/petfinder-pawpularity-score/train/472c40116e1833555715e4774445ae5b.jpg</td>\n",
       "    </tr>\n",
       "    <tr>\n",
       "      <th>4</th>\n",
       "      <td>0</td>\n",
       "      <td>1</td>\n",
       "      <td>1</td>\n",
       "      <td>1</td>\n",
       "      <td>0</td>\n",
       "      <td>0</td>\n",
       "      <td>0</td>\n",
       "      <td>1</td>\n",
       "      <td>0</td>\n",
       "      <td>0</td>\n",
       "      <td>0</td>\n",
       "      <td>0</td>\n",
       "      <td>27</td>\n",
       "      <td>../input/petfinder-pawpularity-score/train/7b77e1a6d93667b575d57db83facd860.jpg</td>\n",
       "    </tr>\n",
       "  </tbody>\n",
       "</table>\n",
       "</div>"
      ],
      "text/plain": [
       "   Subject Focus  Eyes  Face  Near  Action  Accessory  Group  Collage  Human  \\\n",
       "0              0     0     1     1       0          0      0        0      0   \n",
       "1              0     1     1     1       0          1      0        1      0   \n",
       "2              0     0     1     1       0          1      0        0      0   \n",
       "3              0     1     1     1       0          0      0        0      1   \n",
       "4              0     1     1     1       0          0      0        1      0   \n",
       "\n",
       "   Occlusion  Info  Blur  Pawpularity  \\\n",
       "0          0     0     1           50   \n",
       "1          0     1     0           25   \n",
       "2          0     0     0           27   \n",
       "3          1     0     0           19   \n",
       "4          0     0     0           27   \n",
       "\n",
       "                                                                              path  \n",
       "0  ../input/petfinder-pawpularity-score/train/ebaaa8e384b3d2f0a56c7ff7675c154c.jpg  \n",
       "1  ../input/petfinder-pawpularity-score/train/25e3bf4267c2dc3f579b779418221bb7.jpg  \n",
       "2  ../input/petfinder-pawpularity-score/train/6548166fb3fda22b67881176397f0223.jpg  \n",
       "3  ../input/petfinder-pawpularity-score/train/472c40116e1833555715e4774445ae5b.jpg  \n",
       "4  ../input/petfinder-pawpularity-score/train/7b77e1a6d93667b575d57db83facd860.jpg  "
      ]
     },
     "execution_count": 9,
     "metadata": {},
     "output_type": "execute_result"
    }
   ],
   "source": [
    "train_df['path'] = train_df['Id'].map(lambda x:str(dataset_path/'train'/x)+'.jpg')\n",
    "train_df = train_df.drop(columns=['Id'])\n",
    "train_df = train_df.sample(frac=1).reset_index(drop=True) #shuffle dataframe\n",
    "train_df.head()"
   ]
  },
  {
   "cell_type": "code",
   "execution_count": 12,
   "id": "4f8d3ed5",
   "metadata": {
    "execution": {
     "iopub.execute_input": "2022-01-03T16:48:53.552379Z",
     "iopub.status.busy": "2022-01-03T16:48:53.550855Z",
     "iopub.status.idle": "2022-01-03T16:49:02.979870Z",
     "shell.execute_reply": "2022-01-03T16:49:02.979345Z",
     "shell.execute_reply.started": "2021-12-20T18:55:05.517665Z"
    },
    "papermill": {
     "duration": 9.458421,
     "end_time": "2022-01-03T16:49:02.980054",
     "exception": false,
     "start_time": "2022-01-03T16:48:53.521633",
     "status": "completed"
    },
    "tags": []
   },
   "outputs": [],
   "source": [
    "if not os.path.exists('/root/.cache/torch/hub/checkpoints/'):\n",
    "    os.makedirs('/root/.cache/torch/hub/checkpoints/')\n",
    "!cp '../input/swin-transformer/swin_large_patch4_window7_224_22kto1k.pth' '/root/.cache/torch/hub/checkpoints/swin_large_patch4_window7_224_22kto1k.pth'\n"
   ]
  },
  {
   "cell_type": "code",
   "execution_count": 13,
   "id": "3e9eae04",
   "metadata": {
    "execution": {
     "iopub.execute_input": "2022-01-03T16:49:03.042142Z",
     "iopub.status.busy": "2022-01-03T16:49:03.041275Z",
     "iopub.status.idle": "2022-01-03T16:49:03.043071Z",
     "shell.execute_reply": "2022-01-03T16:49:03.043561Z",
     "shell.execute_reply.started": "2021-12-20T18:55:14.671099Z"
    },
    "papermill": {
     "duration": 0.035199,
     "end_time": "2022-01-03T16:49:03.043691",
     "exception": false,
     "start_time": "2022-01-03T16:49:03.008492",
     "status": "completed"
    },
    "tags": []
   },
   "outputs": [],
   "source": [
    "seed=999\n",
    "set_seed(seed, reproducible=True)\n",
    "torch.manual_seed(seed)\n",
    "torch.cuda.manual_seed(seed)\n",
    "torch.backends.cudnn.deterministic = True\n",
    "torch.use_deterministic_algorithms = True"
   ]
  },
  {
   "cell_type": "code",
   "execution_count": 17,
   "id": "8cd5d698",
   "metadata": {
    "execution": {
     "iopub.execute_input": "2022-01-03T16:49:03.276948Z",
     "iopub.status.busy": "2022-01-03T16:49:03.276074Z",
     "iopub.status.idle": "2022-01-03T16:49:03.277891Z",
     "shell.execute_reply": "2022-01-03T16:49:03.278373Z",
     "shell.execute_reply.started": "2021-12-20T18:55:14.706514Z"
    },
    "papermill": {
     "duration": 0.033041,
     "end_time": "2022-01-03T16:49:03.278517",
     "exception": false,
     "start_time": "2022-01-03T16:49:03.245476",
     "status": "completed"
    },
    "tags": []
   },
   "outputs": [],
   "source": [
    "# train_df[train_df['fold']==0].head()"
   ]
  },
  {
   "cell_type": "code",
   "execution_count": 18,
   "id": "3f75f749",
   "metadata": {
    "execution": {
     "iopub.execute_input": "2022-01-03T16:49:03.334585Z",
     "iopub.status.busy": "2022-01-03T16:49:03.333786Z",
     "iopub.status.idle": "2022-01-03T16:49:03.335848Z",
     "shell.execute_reply": "2022-01-03T16:49:03.336323Z",
     "shell.execute_reply.started": "2021-12-20T18:55:14.714217Z"
    },
    "papermill": {
     "duration": 0.032499,
     "end_time": "2022-01-03T16:49:03.336465",
     "exception": false,
     "start_time": "2022-01-03T16:49:03.303966",
     "status": "completed"
    },
    "tags": []
   },
   "outputs": [],
   "source": [
    "def petfinder_rmse(input,target):\n",
    "    return 100*torch.sqrt(F.mse_loss(F.sigmoid(input.flatten()), target))"
   ]
  },
  {
   "cell_type": "code",
   "execution_count": 19,
   "id": "611df6dd",
   "metadata": {
    "execution": {
     "iopub.execute_input": "2022-01-03T16:49:03.397132Z",
     "iopub.status.busy": "2022-01-03T16:49:03.396233Z",
     "iopub.status.idle": "2022-01-03T16:49:03.398161Z",
     "shell.execute_reply": "2022-01-03T16:49:03.398552Z",
     "shell.execute_reply.started": "2021-12-20T18:55:14.722649Z"
    },
    "papermill": {
     "duration": 0.036649,
     "end_time": "2022-01-03T16:49:03.398690",
     "exception": false,
     "start_time": "2022-01-03T16:49:03.362041",
     "status": "completed"
    },
    "tags": []
   },
   "outputs": [],
   "source": [
    "def get_data(fold):\n",
    "    train_df_f = pd.read_csv(f'../input/data-split-pawpularity/skf_split_train_5cv_fold{fold}.csv')\n",
    "    train_df_f['is_valid'] = False\n",
    "    valid_df_f = pd.read_csv(f'../input/data-split-pawpularity/skf_split_val_5cv_fold{fold}.csv')\n",
    "    valid_df_f['is_valid'] = True\n",
    "    \n",
    "    train_df_f = train_df_f.append(valid_df_f)\n",
    "    train_df_f['Id'] = train_df_f['img_path'].apply(lambda x: x.split('.')[-2].split('/')[-1])\n",
    "    train_df_f['img_path'] = train_df_f['Id'].map(lambda x:str(dataset_path/'train'/x)+'.jpg')\n",
    "    \n",
    "    dls = ImageDataLoaders.from_df(train_df_f, #pass in train DataFrame\n",
    "                               valid_col='is_valid', #\n",
    "                               seed=999, #seed\n",
    "                               fn_col='img_path', #filename/path is in the second column of the DataFrame\n",
    "                               label_col='Pawpularity', #label is in the first column of the DataFrame\n",
    "                               y_block=RegressionBlock, #The type of target\n",
    "                               bs=BATCH_SIZE, #pass in batch size\n",
    "                               num_workers=8,\n",
    "                               item_tfms=Resize(224), #pass in item_tfms\n",
    "                               batch_tfms=setup_aug_tfms([Brightness(), Contrast(), Hue(), Saturation()])) #pass in batch_tfms\n",
    "    return dls\n"
   ]
  },
  {
   "cell_type": "code",
   "execution_count": 20,
   "id": "d39ab66b",
   "metadata": {
    "execution": {
     "iopub.execute_input": "2022-01-03T16:49:03.455193Z",
     "iopub.status.busy": "2022-01-03T16:49:03.454637Z",
     "iopub.status.idle": "2022-01-03T16:49:06.885981Z",
     "shell.execute_reply": "2022-01-03T16:49:06.885406Z",
     "shell.execute_reply.started": "2021-12-20T18:55:14.734524Z"
    },
    "papermill": {
     "duration": 3.46134,
     "end_time": "2022-01-03T16:49:06.886127",
     "exception": false,
     "start_time": "2022-01-03T16:49:03.424787",
     "status": "completed"
    },
    "tags": []
   },
   "outputs": [],
   "source": [
    "#Valid Kfolder size\n",
    "the_data = get_data(0)\n",
    "assert (len(the_data.train) + len(the_data.valid)) == (len(train_df)//BATCH_SIZE)"
   ]
  },
  {
   "cell_type": "code",
   "execution_count": 21,
   "id": "0eb379b1",
   "metadata": {
    "execution": {
     "iopub.execute_input": "2022-01-03T16:49:06.949128Z",
     "iopub.status.busy": "2022-01-03T16:49:06.948202Z",
     "iopub.status.idle": "2022-01-03T16:49:07.630725Z",
     "shell.execute_reply": "2022-01-03T16:49:07.630228Z",
     "shell.execute_reply.started": "2021-12-20T18:55:18.018587Z"
    },
    "papermill": {
     "duration": 0.715604,
     "end_time": "2022-01-03T16:49:07.630850",
     "exception": false,
     "start_time": "2022-01-03T16:49:06.915246",
     "status": "completed"
    },
    "tags": []
   },
   "outputs": [
    {
     "name": "stdout",
     "output_type": "stream",
     "text": [
      "__notebook__.ipynb\r\n"
     ]
    }
   ],
   "source": [
    "!ls"
   ]
  },
  {
   "cell_type": "code",
   "execution_count": 22,
   "id": "01722a52",
   "metadata": {
    "execution": {
     "iopub.execute_input": "2022-01-03T16:49:07.694273Z",
     "iopub.status.busy": "2022-01-03T16:49:07.693473Z",
     "iopub.status.idle": "2022-01-03T16:49:07.696932Z",
     "shell.execute_reply": "2022-01-03T16:49:07.696478Z",
     "shell.execute_reply.started": "2021-12-20T18:55:18.703491Z"
    },
    "papermill": {
     "duration": 0.039722,
     "end_time": "2022-01-03T16:49:07.697057",
     "exception": false,
     "start_time": "2022-01-03T16:49:07.657335",
     "status": "completed"
    },
    "tags": []
   },
   "outputs": [],
   "source": [
    "def get_learner(fold_num):\n",
    "    data = get_data(fold_num)\n",
    "    \n",
    "    model = create_model('swin_large_patch4_window7_224', pretrained=True, num_classes=data.c)\n",
    "\n",
    "    learn = Learner(data, model, loss_func=BCEWithLogitsLossFlat(), metrics=AccumMetric(func=petfinder_rmse), cbs=[MixUp(), CutMix()]).to_fp16()\n",
    "    \n",
    "    return learn"
   ]
  },
  {
   "cell_type": "code",
   "execution_count": 23,
   "id": "d3021a4f",
   "metadata": {
    "execution": {
     "iopub.execute_input": "2022-01-03T16:49:07.769094Z",
     "iopub.status.busy": "2022-01-03T16:49:07.768285Z",
     "iopub.status.idle": "2022-01-03T16:49:07.787966Z",
     "shell.execute_reply": "2022-01-03T16:49:07.788540Z",
     "shell.execute_reply.started": "2021-12-20T18:55:18.712051Z"
    },
    "papermill": {
     "duration": 0.064678,
     "end_time": "2022-01-03T16:49:07.788687",
     "exception": false,
     "start_time": "2022-01-03T16:49:07.724009",
     "status": "completed"
    },
    "tags": []
   },
   "outputs": [
    {
     "data": {
      "text/html": [
       "<div>\n",
       "<style scoped>\n",
       "    .dataframe tbody tr th:only-of-type {\n",
       "        vertical-align: middle;\n",
       "    }\n",
       "\n",
       "    .dataframe tbody tr th {\n",
       "        vertical-align: top;\n",
       "    }\n",
       "\n",
       "    .dataframe thead th {\n",
       "        text-align: right;\n",
       "    }\n",
       "</style>\n",
       "<table border=\"1\" class=\"dataframe\">\n",
       "  <thead>\n",
       "    <tr style=\"text-align: right;\">\n",
       "      <th></th>\n",
       "      <th>Id</th>\n",
       "      <th>Subject Focus</th>\n",
       "      <th>Eyes</th>\n",
       "      <th>Face</th>\n",
       "      <th>Near</th>\n",
       "      <th>Action</th>\n",
       "      <th>Accessory</th>\n",
       "      <th>Group</th>\n",
       "      <th>Collage</th>\n",
       "      <th>Human</th>\n",
       "      <th>Occlusion</th>\n",
       "      <th>Info</th>\n",
       "      <th>Blur</th>\n",
       "    </tr>\n",
       "  </thead>\n",
       "  <tbody>\n",
       "    <tr>\n",
       "      <th>0</th>\n",
       "      <td>4128bae22183829d2b5fea10effdb0c3</td>\n",
       "      <td>1</td>\n",
       "      <td>0</td>\n",
       "      <td>1</td>\n",
       "      <td>0</td>\n",
       "      <td>0</td>\n",
       "      <td>1</td>\n",
       "      <td>1</td>\n",
       "      <td>0</td>\n",
       "      <td>0</td>\n",
       "      <td>1</td>\n",
       "      <td>0</td>\n",
       "      <td>1</td>\n",
       "    </tr>\n",
       "    <tr>\n",
       "      <th>1</th>\n",
       "      <td>43a2262d7738e3d420d453815151079e</td>\n",
       "      <td>0</td>\n",
       "      <td>1</td>\n",
       "      <td>0</td>\n",
       "      <td>0</td>\n",
       "      <td>0</td>\n",
       "      <td>0</td>\n",
       "      <td>1</td>\n",
       "      <td>1</td>\n",
       "      <td>0</td>\n",
       "      <td>0</td>\n",
       "      <td>0</td>\n",
       "      <td>0</td>\n",
       "    </tr>\n",
       "    <tr>\n",
       "      <th>2</th>\n",
       "      <td>4e429cead1848a298432a0acad014c9d</td>\n",
       "      <td>0</td>\n",
       "      <td>0</td>\n",
       "      <td>0</td>\n",
       "      <td>1</td>\n",
       "      <td>0</td>\n",
       "      <td>1</td>\n",
       "      <td>1</td>\n",
       "      <td>1</td>\n",
       "      <td>0</td>\n",
       "      <td>1</td>\n",
       "      <td>1</td>\n",
       "      <td>1</td>\n",
       "    </tr>\n",
       "    <tr>\n",
       "      <th>3</th>\n",
       "      <td>80bc3ccafcc51b66303c2c263aa38486</td>\n",
       "      <td>1</td>\n",
       "      <td>0</td>\n",
       "      <td>1</td>\n",
       "      <td>0</td>\n",
       "      <td>0</td>\n",
       "      <td>0</td>\n",
       "      <td>0</td>\n",
       "      <td>0</td>\n",
       "      <td>0</td>\n",
       "      <td>0</td>\n",
       "      <td>1</td>\n",
       "      <td>0</td>\n",
       "    </tr>\n",
       "    <tr>\n",
       "      <th>4</th>\n",
       "      <td>8f49844c382931444e68dffbe20228f4</td>\n",
       "      <td>1</td>\n",
       "      <td>1</td>\n",
       "      <td>1</td>\n",
       "      <td>0</td>\n",
       "      <td>1</td>\n",
       "      <td>1</td>\n",
       "      <td>0</td>\n",
       "      <td>1</td>\n",
       "      <td>0</td>\n",
       "      <td>1</td>\n",
       "      <td>1</td>\n",
       "      <td>0</td>\n",
       "    </tr>\n",
       "  </tbody>\n",
       "</table>\n",
       "</div>"
      ],
      "text/plain": [
       "                                 Id  Subject Focus  Eyes  Face  Near  Action  \\\n",
       "0  4128bae22183829d2b5fea10effdb0c3              1     0     1     0       0   \n",
       "1  43a2262d7738e3d420d453815151079e              0     1     0     0       0   \n",
       "2  4e429cead1848a298432a0acad014c9d              0     0     0     1       0   \n",
       "3  80bc3ccafcc51b66303c2c263aa38486              1     0     1     0       0   \n",
       "4  8f49844c382931444e68dffbe20228f4              1     1     1     0       1   \n",
       "\n",
       "   Accessory  Group  Collage  Human  Occlusion  Info  Blur  \n",
       "0          1      1        0      0          1     0     1  \n",
       "1          0      1        1      0          0     0     0  \n",
       "2          1      1        1      0          1     1     1  \n",
       "3          0      0        0      0          0     1     0  \n",
       "4          1      0        1      0          1     1     0  "
      ]
     },
     "execution_count": 23,
     "metadata": {},
     "output_type": "execute_result"
    }
   ],
   "source": [
    "test_df = pd.read_csv(dataset_path/'test.csv')\n",
    "test_df.head()"
   ]
  },
  {
   "cell_type": "code",
   "execution_count": 24,
   "id": "49478dc1",
   "metadata": {
    "execution": {
     "iopub.execute_input": "2022-01-03T16:49:07.863204Z",
     "iopub.status.busy": "2022-01-03T16:49:07.858979Z",
     "iopub.status.idle": "2022-01-03T16:49:07.867950Z",
     "shell.execute_reply": "2022-01-03T16:49:07.867464Z",
     "shell.execute_reply.started": "2021-12-20T18:55:18.735407Z"
    },
    "papermill": {
     "duration": 0.048973,
     "end_time": "2022-01-03T16:49:07.868122",
     "exception": false,
     "start_time": "2022-01-03T16:49:07.819149",
     "status": "completed"
    },
    "tags": []
   },
   "outputs": [],
   "source": [
    "test_df['Pawpularity'] = [1]*len(test_df)\n",
    "test_df['path'] = test_df['Id'].map(lambda x:str(dataset_path/'test'/x)+'.jpg')\n",
    "test_df = test_df.drop(columns=['Id'])\n",
    "train_df['norm_score'] = train_df['Pawpularity']/100"
   ]
  },
  {
   "cell_type": "code",
   "execution_count": 25,
   "id": "c7b4419d",
   "metadata": {
    "execution": {
     "iopub.execute_input": "2022-01-03T16:49:07.938784Z",
     "iopub.status.busy": "2022-01-03T16:49:07.935980Z",
     "iopub.status.idle": "2022-01-03T16:50:09.119826Z",
     "shell.execute_reply": "2022-01-03T16:50:09.120279Z",
     "shell.execute_reply.started": "2021-12-20T14:25:55.161658Z"
    },
    "papermill": {
     "duration": 61.219857,
     "end_time": "2022-01-03T16:50:09.120446",
     "exception": false,
     "start_time": "2022-01-03T16:49:07.900589",
     "status": "completed"
    },
    "tags": []
   },
   "outputs": [
    {
     "data": {
      "text/html": [],
      "text/plain": [
       "<IPython.core.display.HTML object>"
      ]
     },
     "metadata": {},
     "output_type": "display_data"
    },
    {
     "name": "stderr",
     "output_type": "stream",
     "text": [
      "/opt/conda/lib/python3.7/site-packages/torch/_tensor.py:575: UserWarning: floor_divide is deprecated, and will be removed in a future version of pytorch. It currently rounds toward 0 (like the 'trunc' function NOT 'floor'). This results in incorrect rounding for negative values.\n",
      "To keep the current behavior, use torch.div(a, b, rounding_mode='trunc'), or for actual floor division, use torch.div(a, b, rounding_mode='floor'). (Triggered internally at  /usr/local/src/pytorch/aten/src/ATen/native/BinaryOps.cpp:461.)\n",
      "  return torch.floor_divide(self, other)\n"
     ]
    },
    {
     "data": {
      "text/plain": [
       "SuggestedLRs(valley=5.477225568029098e-05)"
      ]
     },
     "execution_count": 25,
     "metadata": {},
     "output_type": "execute_result"
    },
    {
     "data": {
      "image/png": "[encoded data removed]",
      "text/plain": [
       "<Figure size 432x288 with 1 Axes>"
      ]
     },
     "metadata": {
      "needs_background": "light"
     },
     "output_type": "display_data"
    }
   ],
   "source": [
    "get_learner(fold_num=0).lr_find(end_lr=3e-2)             #was-2"
   ]
  },
  {
   "cell_type": "code",
   "execution_count": 26,
   "id": "08559b75",
   "metadata": {
    "execution": {
     "iopub.execute_input": "2022-01-03T16:50:09.182061Z",
     "iopub.status.busy": "2022-01-03T16:50:09.180543Z",
     "iopub.status.idle": "2022-01-03T16:50:09.182665Z",
     "shell.execute_reply": "2022-01-03T16:50:09.183100Z",
     "shell.execute_reply.started": "2021-12-20T18:55:18.74658Z"
    },
    "papermill": {
     "duration": 0.034609,
     "end_time": "2022-01-03T16:50:09.183225",
     "exception": false,
     "start_time": "2022-01-03T16:50:09.148616",
     "status": "completed"
    },
    "tags": []
   },
   "outputs": [],
   "source": [
    "import gc"
   ]
  },
  {
   "cell_type": "code",
   "execution_count": 28,
   "id": "52015b95",
   "metadata": {
    "execution": {
     "iopub.execute_input": "2022-01-03T16:50:09.310515Z",
     "iopub.status.busy": "2022-01-03T16:50:09.310005Z",
     "iopub.status.idle": "2022-01-03T21:47:58.608698Z",
     "shell.execute_reply": "2022-01-03T21:47:58.608274Z",
     "shell.execute_reply.started": "2021-12-18T17:35:38.090491Z"
    },
    "papermill": {
     "duration": 17869.334793,
     "end_time": "2022-01-03T21:47:58.608827",
     "exception": false,
     "start_time": "2022-01-03T16:50:09.274034",
     "status": "completed"
    },
    "tags": []
   },
   "outputs": [
    {
     "name": "stdout",
     "output_type": "stream",
     "text": [
      "Fold 0 results\n"
     ]
    },
    {
     "data": {
      "text/html": [
       "<table border=\"1\" class=\"dataframe\">\n",
       "  <thead>\n",
       "    <tr style=\"text-align: left;\">\n",
       "      <th>epoch</th>\n",
       "      <th>train_loss</th>\n",
       "      <th>valid_loss</th>\n",
       "      <th>petfinder_rmse</th>\n",
       "      <th>time</th>\n",
       "    </tr>\n",
       "  </thead>\n",
       "  <tbody>\n",
       "    <tr>\n",
       "      <td>0</td>\n",
       "      <td>0.658192</td>\n",
       "      <td>0.649789</td>\n",
       "      <td>18.878809</td>\n",
       "      <td>08:12</td>\n",
       "    </tr>\n",
       "    <tr>\n",
       "      <td>1</td>\n",
       "      <td>0.661245</td>\n",
       "      <td>0.647796</td>\n",
       "      <td>18.610010</td>\n",
       "      <td>08:12</td>\n",
       "    </tr>\n",
       "    <tr>\n",
       "      <td>2</td>\n",
       "      <td>0.653240</td>\n",
       "      <td>0.645461</td>\n",
       "      <td>18.336548</td>\n",
       "      <td>08:13</td>\n",
       "    </tr>\n",
       "    <tr>\n",
       "      <td>3</td>\n",
       "      <td>0.654602</td>\n",
       "      <td>0.644908</td>\n",
       "      <td>18.242933</td>\n",
       "      <td>08:14</td>\n",
       "    </tr>\n",
       "    <tr>\n",
       "      <td>4</td>\n",
       "      <td>0.648443</td>\n",
       "      <td>0.642645</td>\n",
       "      <td>17.954874</td>\n",
       "      <td>08:14</td>\n",
       "    </tr>\n",
       "    <tr>\n",
       "      <td>5</td>\n",
       "      <td>0.650265</td>\n",
       "      <td>0.641249</td>\n",
       "      <td>17.764912</td>\n",
       "      <td>08:13</td>\n",
       "    </tr>\n",
       "    <tr>\n",
       "      <td>6</td>\n",
       "      <td>0.653544</td>\n",
       "      <td>0.640784</td>\n",
       "      <td>17.711262</td>\n",
       "      <td>08:12</td>\n",
       "    </tr>\n",
       "    <tr>\n",
       "      <td>7</td>\n",
       "      <td>0.644817</td>\n",
       "      <td>0.640715</td>\n",
       "      <td>17.704906</td>\n",
       "      <td>08:13</td>\n",
       "    </tr>\n",
       "    <tr>\n",
       "      <td>8</td>\n",
       "      <td>0.649204</td>\n",
       "      <td>0.640891</td>\n",
       "      <td>17.725225</td>\n",
       "      <td>08:14</td>\n",
       "    </tr>\n",
       "    <tr>\n",
       "      <td>9</td>\n",
       "      <td>0.639525</td>\n",
       "      <td>0.641100</td>\n",
       "      <td>17.749430</td>\n",
       "      <td>08:13</td>\n",
       "    </tr>\n",
       "  </tbody>\n",
       "</table>"
      ],
      "text/plain": [
       "<IPython.core.display.HTML object>"
      ]
     },
     "metadata": {},
     "output_type": "display_data"
    },
    {
     "name": "stderr",
     "output_type": "stream",
     "text": [
      "/opt/conda/lib/python3.7/site-packages/torch/nn/functional.py:1805: UserWarning: nn.functional.sigmoid is deprecated. Use torch.sigmoid instead.\n",
      "  warnings.warn(\"nn.functional.sigmoid is deprecated. Use torch.sigmoid instead.\")\n"
     ]
    },
    {
     "name": "stdout",
     "output_type": "stream",
     "text": [
      "Better model found at epoch 0 with petfinder_rmse value: 18.878808975219727.\n",
      "Better model found at epoch 1 with petfinder_rmse value: 18.610010147094727.\n",
      "Better model found at epoch 2 with petfinder_rmse value: 18.3365478515625.\n",
      "Better model found at epoch 3 with petfinder_rmse value: 18.24293327331543.\n",
      "Better model found at epoch 4 with petfinder_rmse value: 17.95487403869629.\n",
      "Better model found at epoch 5 with petfinder_rmse value: 17.764911651611328.\n",
      "Better model found at epoch 6 with petfinder_rmse value: 17.711261749267578.\n",
      "Better model found at epoch 7 with petfinder_rmse value: 17.704906463623047.\n",
      "No improvement since epoch 7: early stopping\n"
     ]
    },
    {
     "data": {
      "text/html": [
       "\n",
       "    <div>\n",
       "        <style>\n",
       "            /* Turns off some styling */\n",
       "            progress {\n",
       "                /* gets rid of default border in Firefox and Opera. */\n",
       "                border: none;\n",
       "                /* Needs to be in here for Safari polyfill so background images work as expected. */\n",
       "                background-size: auto;\n",
       "            }\n",
       "            .progress-bar-interrupted, .progress-bar-interrupted::-webkit-progress-bar {\n",
       "                background: #F44336;\n",
       "            }\n",
       "        </style>\n",
       "      <progress value='0' class='' max='10' style='width:300px; height:20px; vertical-align: middle;'></progress>\n",
       "      \n",
       "    </div>\n",
       "    \n"
      ],
      "text/plain": [
       "<IPython.core.display.HTML object>"
      ]
     },
     "metadata": {},
     "output_type": "display_data"
    },
    {
     "data": {
      "text/html": [],
      "text/plain": [
       "<IPython.core.display.HTML object>"
      ]
     },
     "metadata": {},
     "output_type": "display_data"
    },
    {
     "name": "stdout",
     "output_type": "stream",
     "text": [
      "Fold 1 results\n"
     ]
    },
    {
     "data": {
      "text/html": [
       "<table border=\"1\" class=\"dataframe\">\n",
       "  <thead>\n",
       "    <tr style=\"text-align: left;\">\n",
       "      <th>epoch</th>\n",
       "      <th>train_loss</th>\n",
       "      <th>valid_loss</th>\n",
       "      <th>petfinder_rmse</th>\n",
       "      <th>time</th>\n",
       "    </tr>\n",
       "  </thead>\n",
       "  <tbody>\n",
       "    <tr>\n",
       "      <td>0</td>\n",
       "      <td>0.658740</td>\n",
       "      <td>0.653286</td>\n",
       "      <td>19.225868</td>\n",
       "      <td>08:13</td>\n",
       "    </tr>\n",
       "    <tr>\n",
       "      <td>1</td>\n",
       "      <td>0.655724</td>\n",
       "      <td>0.648813</td>\n",
       "      <td>18.674910</td>\n",
       "      <td>08:12</td>\n",
       "    </tr>\n",
       "    <tr>\n",
       "      <td>2</td>\n",
       "      <td>0.658447</td>\n",
       "      <td>0.645457</td>\n",
       "      <td>18.246838</td>\n",
       "      <td>08:13</td>\n",
       "    </tr>\n",
       "    <tr>\n",
       "      <td>3</td>\n",
       "      <td>0.656652</td>\n",
       "      <td>0.644331</td>\n",
       "      <td>18.104671</td>\n",
       "      <td>08:14</td>\n",
       "    </tr>\n",
       "    <tr>\n",
       "      <td>4</td>\n",
       "      <td>0.649930</td>\n",
       "      <td>0.645253</td>\n",
       "      <td>18.205477</td>\n",
       "      <td>08:13</td>\n",
       "    </tr>\n",
       "    <tr>\n",
       "      <td>5</td>\n",
       "      <td>0.649868</td>\n",
       "      <td>0.646646</td>\n",
       "      <td>18.383347</td>\n",
       "      <td>08:13</td>\n",
       "    </tr>\n",
       "  </tbody>\n",
       "</table>"
      ],
      "text/plain": [
       "<IPython.core.display.HTML object>"
      ]
     },
     "metadata": {},
     "output_type": "display_data"
    },
    {
     "name": "stderr",
     "output_type": "stream",
     "text": [
      "/opt/conda/lib/python3.7/site-packages/torch/nn/functional.py:1805: UserWarning: nn.functional.sigmoid is deprecated. Use torch.sigmoid instead.\n",
      "  warnings.warn(\"nn.functional.sigmoid is deprecated. Use torch.sigmoid instead.\")\n"
     ]
    },
    {
     "name": "stdout",
     "output_type": "stream",
     "text": [
      "Better model found at epoch 0 with petfinder_rmse value: 19.225868225097656.\n",
      "Better model found at epoch 1 with petfinder_rmse value: 18.674909591674805.\n",
      "Better model found at epoch 2 with petfinder_rmse value: 18.246837615966797.\n",
      "Better model found at epoch 3 with petfinder_rmse value: 18.104671478271484.\n",
      "No improvement since epoch 3: early stopping\n"
     ]
    },
    {
     "data": {
      "text/html": [
       "\n",
       "    <div>\n",
       "        <style>\n",
       "            /* Turns off some styling */\n",
       "            progress {\n",
       "                /* gets rid of default border in Firefox and Opera. */\n",
       "                border: none;\n",
       "                /* Needs to be in here for Safari polyfill so background images work as expected. */\n",
       "                background-size: auto;\n",
       "            }\n",
       "            .progress-bar-interrupted, .progress-bar-interrupted::-webkit-progress-bar {\n",
       "                background: #F44336;\n",
       "            }\n",
       "        </style>\n",
       "      <progress value='0' class='' max='10' style='width:300px; height:20px; vertical-align: middle;'></progress>\n",
       "      \n",
       "    </div>\n",
       "    \n"
      ],
      "text/plain": [
       "<IPython.core.display.HTML object>"
      ]
     },
     "metadata": {},
     "output_type": "display_data"
    },
    {
     "data": {
      "text/html": [],
      "text/plain": [
       "<IPython.core.display.HTML object>"
      ]
     },
     "metadata": {},
     "output_type": "display_data"
    },
    {
     "name": "stdout",
     "output_type": "stream",
     "text": [
      "Fold 2 results\n"
     ]
    },
    {
     "data": {
      "text/html": [
       "<table border=\"1\" class=\"dataframe\">\n",
       "  <thead>\n",
       "    <tr style=\"text-align: left;\">\n",
       "      <th>epoch</th>\n",
       "      <th>train_loss</th>\n",
       "      <th>valid_loss</th>\n",
       "      <th>petfinder_rmse</th>\n",
       "      <th>time</th>\n",
       "    </tr>\n",
       "  </thead>\n",
       "  <tbody>\n",
       "    <tr>\n",
       "      <td>0</td>\n",
       "      <td>0.652524</td>\n",
       "      <td>0.650289</td>\n",
       "      <td>18.948400</td>\n",
       "      <td>08:13</td>\n",
       "    </tr>\n",
       "    <tr>\n",
       "      <td>1</td>\n",
       "      <td>0.652723</td>\n",
       "      <td>0.645831</td>\n",
       "      <td>18.380856</td>\n",
       "      <td>08:13</td>\n",
       "    </tr>\n",
       "    <tr>\n",
       "      <td>2</td>\n",
       "      <td>0.657450</td>\n",
       "      <td>0.652431</td>\n",
       "      <td>19.186207</td>\n",
       "      <td>08:13</td>\n",
       "    </tr>\n",
       "    <tr>\n",
       "      <td>3</td>\n",
       "      <td>0.653306</td>\n",
       "      <td>0.641675</td>\n",
       "      <td>17.818998</td>\n",
       "      <td>08:13</td>\n",
       "    </tr>\n",
       "    <tr>\n",
       "      <td>4</td>\n",
       "      <td>0.645616</td>\n",
       "      <td>0.641433</td>\n",
       "      <td>17.741625</td>\n",
       "      <td>08:13</td>\n",
       "    </tr>\n",
       "    <tr>\n",
       "      <td>5</td>\n",
       "      <td>0.647811</td>\n",
       "      <td>0.641791</td>\n",
       "      <td>17.801397</td>\n",
       "      <td>08:13</td>\n",
       "    </tr>\n",
       "    <tr>\n",
       "      <td>6</td>\n",
       "      <td>0.643034</td>\n",
       "      <td>0.640461</td>\n",
       "      <td>17.617331</td>\n",
       "      <td>08:14</td>\n",
       "    </tr>\n",
       "    <tr>\n",
       "      <td>7</td>\n",
       "      <td>0.644027</td>\n",
       "      <td>0.641204</td>\n",
       "      <td>17.675362</td>\n",
       "      <td>08:14</td>\n",
       "    </tr>\n",
       "    <tr>\n",
       "      <td>8</td>\n",
       "      <td>0.643975</td>\n",
       "      <td>0.640908</td>\n",
       "      <td>17.645004</td>\n",
       "      <td>08:13</td>\n",
       "    </tr>\n",
       "  </tbody>\n",
       "</table>"
      ],
      "text/plain": [
       "<IPython.core.display.HTML object>"
      ]
     },
     "metadata": {},
     "output_type": "display_data"
    },
    {
     "name": "stderr",
     "output_type": "stream",
     "text": [
      "/opt/conda/lib/python3.7/site-packages/torch/nn/functional.py:1805: UserWarning: nn.functional.sigmoid is deprecated. Use torch.sigmoid instead.\n",
      "  warnings.warn(\"nn.functional.sigmoid is deprecated. Use torch.sigmoid instead.\")\n"
     ]
    },
    {
     "name": "stdout",
     "output_type": "stream",
     "text": [
      "Better model found at epoch 0 with petfinder_rmse value: 18.948400497436523.\n",
      "Better model found at epoch 1 with petfinder_rmse value: 18.380855560302734.\n",
      "Better model found at epoch 3 with petfinder_rmse value: 17.818998336791992.\n",
      "Better model found at epoch 4 with petfinder_rmse value: 17.74162483215332.\n",
      "Better model found at epoch 6 with petfinder_rmse value: 17.61733055114746.\n",
      "No improvement since epoch 6: early stopping\n"
     ]
    },
    {
     "data": {
      "text/html": [
       "\n",
       "    <div>\n",
       "        <style>\n",
       "            /* Turns off some styling */\n",
       "            progress {\n",
       "                /* gets rid of default border in Firefox and Opera. */\n",
       "                border: none;\n",
       "                /* Needs to be in here for Safari polyfill so background images work as expected. */\n",
       "                background-size: auto;\n",
       "            }\n",
       "            .progress-bar-interrupted, .progress-bar-interrupted::-webkit-progress-bar {\n",
       "                background: #F44336;\n",
       "            }\n",
       "        </style>\n",
       "      <progress value='0' class='' max='10' style='width:300px; height:20px; vertical-align: middle;'></progress>\n",
       "      \n",
       "    </div>\n",
       "    \n"
      ],
      "text/plain": [
       "<IPython.core.display.HTML object>"
      ]
     },
     "metadata": {},
     "output_type": "display_data"
    },
    {
     "data": {
      "text/html": [],
      "text/plain": [
       "<IPython.core.display.HTML object>"
      ]
     },
     "metadata": {},
     "output_type": "display_data"
    },
    {
     "name": "stdout",
     "output_type": "stream",
     "text": [
      "Fold 3 results\n"
     ]
    },
    {
     "data": {
      "text/html": [
       "<table border=\"1\" class=\"dataframe\">\n",
       "  <thead>\n",
       "    <tr style=\"text-align: left;\">\n",
       "      <th>epoch</th>\n",
       "      <th>train_loss</th>\n",
       "      <th>valid_loss</th>\n",
       "      <th>petfinder_rmse</th>\n",
       "      <th>time</th>\n",
       "    </tr>\n",
       "  </thead>\n",
       "  <tbody>\n",
       "    <tr>\n",
       "      <td>0</td>\n",
       "      <td>0.654275</td>\n",
       "      <td>0.649077</td>\n",
       "      <td>18.733215</td>\n",
       "      <td>08:13</td>\n",
       "    </tr>\n",
       "    <tr>\n",
       "      <td>1</td>\n",
       "      <td>0.658729</td>\n",
       "      <td>0.647378</td>\n",
       "      <td>18.490763</td>\n",
       "      <td>08:13</td>\n",
       "    </tr>\n",
       "    <tr>\n",
       "      <td>2</td>\n",
       "      <td>0.659422</td>\n",
       "      <td>0.642385</td>\n",
       "      <td>17.862597</td>\n",
       "      <td>08:13</td>\n",
       "    </tr>\n",
       "    <tr>\n",
       "      <td>3</td>\n",
       "      <td>0.658367</td>\n",
       "      <td>0.642469</td>\n",
       "      <td>17.873877</td>\n",
       "      <td>08:12</td>\n",
       "    </tr>\n",
       "    <tr>\n",
       "      <td>4</td>\n",
       "      <td>0.649072</td>\n",
       "      <td>0.645063</td>\n",
       "      <td>18.171707</td>\n",
       "      <td>08:12</td>\n",
       "    </tr>\n",
       "  </tbody>\n",
       "</table>"
      ],
      "text/plain": [
       "<IPython.core.display.HTML object>"
      ]
     },
     "metadata": {},
     "output_type": "display_data"
    },
    {
     "name": "stderr",
     "output_type": "stream",
     "text": [
      "/opt/conda/lib/python3.7/site-packages/torch/nn/functional.py:1805: UserWarning: nn.functional.sigmoid is deprecated. Use torch.sigmoid instead.\n",
      "  warnings.warn(\"nn.functional.sigmoid is deprecated. Use torch.sigmoid instead.\")\n"
     ]
    },
    {
     "name": "stdout",
     "output_type": "stream",
     "text": [
      "Better model found at epoch 0 with petfinder_rmse value: 18.73321533203125.\n",
      "Better model found at epoch 1 with petfinder_rmse value: 18.49076271057129.\n",
      "Better model found at epoch 2 with petfinder_rmse value: 17.86259651184082.\n",
      "No improvement since epoch 2: early stopping\n"
     ]
    },
    {
     "data": {
      "text/html": [
       "\n",
       "    <div>\n",
       "        <style>\n",
       "            /* Turns off some styling */\n",
       "            progress {\n",
       "                /* gets rid of default border in Firefox and Opera. */\n",
       "                border: none;\n",
       "                /* Needs to be in here for Safari polyfill so background images work as expected. */\n",
       "                background-size: auto;\n",
       "            }\n",
       "            .progress-bar-interrupted, .progress-bar-interrupted::-webkit-progress-bar {\n",
       "                background: #F44336;\n",
       "            }\n",
       "        </style>\n",
       "      <progress value='0' class='' max='10' style='width:300px; height:20px; vertical-align: middle;'></progress>\n",
       "      \n",
       "    </div>\n",
       "    \n"
      ],
      "text/plain": [
       "<IPython.core.display.HTML object>"
      ]
     },
     "metadata": {},
     "output_type": "display_data"
    },
    {
     "data": {
      "text/html": [],
      "text/plain": [
       "<IPython.core.display.HTML object>"
      ]
     },
     "metadata": {},
     "output_type": "display_data"
    },
    {
     "name": "stdout",
     "output_type": "stream",
     "text": [
      "Fold 4 results\n"
     ]
    },
    {
     "data": {
      "text/html": [
       "<table border=\"1\" class=\"dataframe\">\n",
       "  <thead>\n",
       "    <tr style=\"text-align: left;\">\n",
       "      <th>epoch</th>\n",
       "      <th>train_loss</th>\n",
       "      <th>valid_loss</th>\n",
       "      <th>petfinder_rmse</th>\n",
       "      <th>time</th>\n",
       "    </tr>\n",
       "  </thead>\n",
       "  <tbody>\n",
       "    <tr>\n",
       "      <td>0</td>\n",
       "      <td>0.664116</td>\n",
       "      <td>0.650837</td>\n",
       "      <td>18.965929</td>\n",
       "      <td>08:11</td>\n",
       "    </tr>\n",
       "    <tr>\n",
       "      <td>1</td>\n",
       "      <td>0.658998</td>\n",
       "      <td>0.648306</td>\n",
       "      <td>18.666958</td>\n",
       "      <td>08:12</td>\n",
       "    </tr>\n",
       "    <tr>\n",
       "      <td>2</td>\n",
       "      <td>0.656292</td>\n",
       "      <td>0.645486</td>\n",
       "      <td>18.274536</td>\n",
       "      <td>08:11</td>\n",
       "    </tr>\n",
       "    <tr>\n",
       "      <td>3</td>\n",
       "      <td>0.651597</td>\n",
       "      <td>0.639825</td>\n",
       "      <td>17.552721</td>\n",
       "      <td>08:12</td>\n",
       "    </tr>\n",
       "    <tr>\n",
       "      <td>4</td>\n",
       "      <td>0.649714</td>\n",
       "      <td>0.643359</td>\n",
       "      <td>17.994625</td>\n",
       "      <td>08:13</td>\n",
       "    </tr>\n",
       "    <tr>\n",
       "      <td>5</td>\n",
       "      <td>0.645693</td>\n",
       "      <td>0.640866</td>\n",
       "      <td>17.682608</td>\n",
       "      <td>08:12</td>\n",
       "    </tr>\n",
       "  </tbody>\n",
       "</table>"
      ],
      "text/plain": [
       "<IPython.core.display.HTML object>"
      ]
     },
     "metadata": {},
     "output_type": "display_data"
    },
    {
     "name": "stderr",
     "output_type": "stream",
     "text": [
      "/opt/conda/lib/python3.7/site-packages/torch/nn/functional.py:1805: UserWarning: nn.functional.sigmoid is deprecated. Use torch.sigmoid instead.\n",
      "  warnings.warn(\"nn.functional.sigmoid is deprecated. Use torch.sigmoid instead.\")\n"
     ]
    },
    {
     "name": "stdout",
     "output_type": "stream",
     "text": [
      "Better model found at epoch 0 with petfinder_rmse value: 18.96592903137207.\n",
      "Better model found at epoch 1 with petfinder_rmse value: 18.66695785522461.\n",
      "Better model found at epoch 2 with petfinder_rmse value: 18.2745361328125.\n",
      "Better model found at epoch 3 with petfinder_rmse value: 17.55272102355957.\n",
      "No improvement since epoch 3: early stopping\n"
     ]
    },
    {
     "data": {
      "text/html": [
       "\n",
       "    <div>\n",
       "        <style>\n",
       "            /* Turns off some styling */\n",
       "            progress {\n",
       "                /* gets rid of default border in Firefox and Opera. */\n",
       "                border: none;\n",
       "                /* Needs to be in here for Safari polyfill so background images work as expected. */\n",
       "                background-size: auto;\n",
       "            }\n",
       "            .progress-bar-interrupted, .progress-bar-interrupted::-webkit-progress-bar {\n",
       "                background: #F44336;\n",
       "            }\n",
       "        </style>\n",
       "      <progress value='0' class='' max='10' style='width:300px; height:20px; vertical-align: middle;'></progress>\n",
       "      \n",
       "    </div>\n",
       "    \n"
      ],
      "text/plain": [
       "<IPython.core.display.HTML object>"
      ]
     },
     "metadata": {},
     "output_type": "display_data"
    },
    {
     "data": {
      "text/html": [],
      "text/plain": [
       "<IPython.core.display.HTML object>"
      ]
     },
     "metadata": {},
     "output_type": "display_data"
    },
    {
     "data": {
      "image/png": "[encoded data removed]",
      "text/plain": [
       "<Figure size 432x288 with 1 Axes>"
      ]
     },
     "metadata": {
      "needs_background": "light"
     },
     "output_type": "display_data"
    }
   ],
   "source": [
    "all_preds = []\n",
    "\n",
    "for i in range(5):\n",
    "\n",
    "    print(f'Fold {i} results')\n",
    "    \n",
    "    learn = get_learner(fold_num=i)\n",
    "\n",
    "    learn.fit_one_cycle(10, 2e-5, cbs=[SaveModelCallback('petfinder_rmse', comp=np.less), EarlyStoppingCallback(monitor='petfinder_rmse', comp=np.less, patience=2)]) \n",
    "    \n",
    "    learn.recorder.plot_loss()\n",
    "\n",
    "    learn = learn.to_fp32()\n",
    "    \n",
    "    learn.export(f'model_fold_{i}.pkl')\n",
    "    #learn.save(f'model_fold_{i}.pkl')\n",
    "    \n",
    "    dls = ImageDataLoaders.from_df(train_df, #pass in train DataFrame\n",
    "                               valid_pct=0.2, #80-20 train-validation random split\n",
    "                               seed=999, #seed\n",
    "                               fn_col='path', #filename/path is in the second column of the DataFrame\n",
    "                               label_col='norm_score', #label is in the first column of the DataFrame\n",
    "                               y_block=RegressionBlock, #The type of target\n",
    "                               bs=BATCH_SIZE, #pass in batch size\n",
    "                               num_workers=8,\n",
    "                               item_tfms=Resize(224), #pass in item_tfms\n",
    "                               batch_tfms=setup_aug_tfms([Brightness(), Contrast(), Hue(), Saturation()])) \n",
    "    \n",
    "    test_dl = dls.test_dl(test_df)\n",
    "    \n",
    "    preds, _ = learn.tta(dl=test_dl, n=5, beta=0)\n",
    "    \n",
    "    all_preds.append(preds)\n",
    "    \n",
    "    \n",
    "    del learn\n",
    "\n",
    "    torch.cuda.empty_cache()\n",
    "\n",
    "    gc.collect()"
   ]
  },
  {
   "cell_type": "code",
   "execution_count": 29,
   "id": "dda66b10",
   "metadata": {
    "execution": {
     "iopub.execute_input": "2022-01-03T21:47:58.705802Z",
     "iopub.status.busy": "2022-01-03T21:47:58.705279Z",
     "iopub.status.idle": "2022-01-03T21:47:59.490296Z",
     "shell.execute_reply": "2022-01-03T21:47:59.489672Z",
     "shell.execute_reply.started": "2021-12-17T17:06:14.875864Z"
    },
    "papermill": {
     "duration": 0.835783,
     "end_time": "2022-01-03T21:47:59.490450",
     "exception": false,
     "start_time": "2022-01-03T21:47:58.654667",
     "status": "completed"
    },
    "tags": []
   },
   "outputs": [
    {
     "name": "stdout",
     "output_type": "stream",
     "text": [
      "input  lib  src  working\r\n"
     ]
    }
   ],
   "source": [
    "!ls .."
   ]
  },
  {
   "cell_type": "code",
   "execution_count": 30,
   "id": "f2f0055c",
   "metadata": {
    "execution": {
     "iopub.execute_input": "2022-01-03T21:47:59.592355Z",
     "iopub.status.busy": "2022-01-03T21:47:59.591670Z",
     "iopub.status.idle": "2022-01-03T21:47:59.606450Z",
     "shell.execute_reply": "2022-01-03T21:47:59.606850Z"
    },
    "papermill": {
     "duration": 0.06904,
     "end_time": "2022-01-03T21:47:59.607027",
     "exception": false,
     "start_time": "2022-01-03T21:47:59.537987",
     "status": "completed"
    },
    "tags": []
   },
   "outputs": [
    {
     "data": {
      "text/plain": [
       "[tensor([[0.4114],\n",
       "         [0.4146],\n",
       "         [0.4097],\n",
       "         [0.4161],\n",
       "         [0.4027],\n",
       "         [0.4129],\n",
       "         [0.4156],\n",
       "         [0.4131]]),\n",
       " tensor([[0.3950],\n",
       "         [0.3999],\n",
       "         [0.3922],\n",
       "         [0.4063],\n",
       "         [0.3940],\n",
       "         [0.3998],\n",
       "         [0.3930],\n",
       "         [0.3957]]),\n",
       " tensor([[0.3927],\n",
       "         [0.3991],\n",
       "         [0.3949],\n",
       "         [0.4037],\n",
       "         [0.3933],\n",
       "         [0.3965],\n",
       "         [0.3978],\n",
       "         [0.3971]]),\n",
       " tensor([[0.3866],\n",
       "         [0.4028],\n",
       "         [0.3923],\n",
       "         [0.4006],\n",
       "         [0.3903],\n",
       "         [0.3906],\n",
       "         [0.3834],\n",
       "         [0.3882]]),\n",
       " tensor([[0.3827],\n",
       "         [0.3911],\n",
       "         [0.3860],\n",
       "         [0.3990],\n",
       "         [0.3820],\n",
       "         [0.3858],\n",
       "         [0.3772],\n",
       "         [0.3944]])]"
      ]
     },
     "execution_count": 30,
     "metadata": {},
     "output_type": "execute_result"
    }
   ],
   "source": [
    "all_preds"
   ]
  },
  {
   "cell_type": "code",
   "execution_count": 31,
   "id": "480ebab4",
   "metadata": {
    "execution": {
     "iopub.execute_input": "2022-01-03T21:47:59.706327Z",
     "iopub.status.busy": "2022-01-03T21:47:59.705754Z",
     "iopub.status.idle": "2022-01-03T21:47:59.721342Z",
     "shell.execute_reply": "2022-01-03T21:47:59.720810Z"
    },
    "papermill": {
     "duration": 0.067786,
     "end_time": "2022-01-03T21:47:59.721466",
     "exception": false,
     "start_time": "2022-01-03T21:47:59.653680",
     "status": "completed"
    },
    "tags": []
   },
   "outputs": [],
   "source": [
    "sample_df = pd.read_csv(dataset_path/'sample_submission.csv')\n",
    "preds = np.mean(np.stack(all_preds), axis=0)\n",
    "sample_df['Pawpularity'] = preds*100\n",
    "sample_df.to_csv('submission.csv',index=False)"
   ]
  },
  {
   "cell_type": "code",
   "execution_count": 32,
   "id": "1e0ecc30",
   "metadata": {
    "execution": {
     "iopub.execute_input": "2022-01-03T21:47:59.821502Z",
     "iopub.status.busy": "2022-01-03T21:47:59.820675Z",
     "iopub.status.idle": "2022-01-03T21:47:59.830528Z",
     "shell.execute_reply": "2022-01-03T21:47:59.830102Z"
    },
    "papermill": {
     "duration": 0.06182,
     "end_time": "2022-01-03T21:47:59.830646",
     "exception": false,
     "start_time": "2022-01-03T21:47:59.768826",
     "status": "completed"
    },
    "tags": []
   },
   "outputs": [
    {
     "data": {
      "text/html": [
       "<div>\n",
       "<style scoped>\n",
       "    .dataframe tbody tr th:only-of-type {\n",
       "        vertical-align: middle;\n",
       "    }\n",
       "\n",
       "    .dataframe tbody tr th {\n",
       "        vertical-align: top;\n",
       "    }\n",
       "\n",
       "    .dataframe thead th {\n",
       "        text-align: right;\n",
       "    }\n",
       "</style>\n",
       "<table border=\"1\" class=\"dataframe\">\n",
       "  <thead>\n",
       "    <tr style=\"text-align: right;\">\n",
       "      <th></th>\n",
       "      <th>Id</th>\n",
       "      <th>Pawpularity</th>\n",
       "    </tr>\n",
       "  </thead>\n",
       "  <tbody>\n",
       "    <tr>\n",
       "      <th>0</th>\n",
       "      <td>4128bae22183829d2b5fea10effdb0c3</td>\n",
       "      <td>39.368500</td>\n",
       "    </tr>\n",
       "    <tr>\n",
       "      <th>1</th>\n",
       "      <td>43a2262d7738e3d420d453815151079e</td>\n",
       "      <td>40.149372</td>\n",
       "    </tr>\n",
       "    <tr>\n",
       "      <th>2</th>\n",
       "      <td>4e429cead1848a298432a0acad014c9d</td>\n",
       "      <td>39.502876</td>\n",
       "    </tr>\n",
       "    <tr>\n",
       "      <th>3</th>\n",
       "      <td>80bc3ccafcc51b66303c2c263aa38486</td>\n",
       "      <td>40.514540</td>\n",
       "    </tr>\n",
       "    <tr>\n",
       "      <th>4</th>\n",
       "      <td>8f49844c382931444e68dffbe20228f4</td>\n",
       "      <td>39.243473</td>\n",
       "    </tr>\n",
       "  </tbody>\n",
       "</table>\n",
       "</div>"
      ],
      "text/plain": [
       "                                 Id  Pawpularity\n",
       "0  4128bae22183829d2b5fea10effdb0c3    39.368500\n",
       "1  43a2262d7738e3d420d453815151079e    40.149372\n",
       "2  4e429cead1848a298432a0acad014c9d    39.502876\n",
       "3  80bc3ccafcc51b66303c2c263aa38486    40.514540\n",
       "4  8f49844c382931444e68dffbe20228f4    39.243473"
      ]
     },
     "execution_count": 32,
     "metadata": {},
     "output_type": "execute_result"
    }
   ],
   "source": [
    "pd.read_csv('submission.csv').head()"
   ]
  },
  {
   "cell_type": "code",
   "execution_count": null,
   "id": "552dcc0b",
   "metadata": {
    "papermill": {
     "duration": 0.047636,
     "end_time": "2022-01-03T21:47:59.925532",
     "exception": false,
     "start_time": "2022-01-03T21:47:59.877896",
     "status": "completed"
    },
    "tags": []
   },
   "outputs": [],
   "source": []
  },
  {
   "cell_type": "code",
   "execution_count": null,
   "id": "24956c4a",
   "metadata": {
    "papermill": {
     "duration": 0.047632,
     "end_time": "2022-01-03T21:48:00.020522",
     "exception": false,
     "start_time": "2022-01-03T21:47:59.972890",
     "status": "completed"
    },
    "tags": []
   },
   "outputs": [],
   "source": []
  }
 ],
 "metadata": {
  "kernelspec": {
   "display_name": "Python 3",
   "language": "python",
   "name": "python3"
  },
  "language_info": {
   "codemirror_mode": {
    "name": "ipython",
    "version": 3
   },
   "file_extension": ".py",
   "mimetype": "text/x-python",
   "name": "python",
   "nbconvert_exporter": "python",
   "pygments_lexer": "ipython3",
   "version": "3.9.2"
  },
  "papermill": {
   "default_parameters": {},
   "duration": 17963.230886,
   "end_time": "2022-01-03T21:48:02.462614",
   "environment_variables": {},
   "exception": null,
   "input_path": "__notebook__.ipynb",
   "output_path": "__notebook__.ipynb",
   "parameters": {},
   "start_time": "2022-01-03T16:48:39.231728",
   "version": "2.3.3"
  }
 },
 "nbformat": 4,
 "nbformat_minor": 5
}
