{
 "cells": [
  {
   "cell_type": "code",
   "execution_count": 1,
   "id": "d8ece4b9",
   "metadata": {
    "_cell_guid": "b1076dfc-b9ad-4769-8c92-a6c4dae69d19",
    "_uuid": "8f2839f25d086af736a60e9eeb907d3b93b6e0e5",
    "execution": {
     "iopub.execute_input": "2021-10-06T04:01:38.156557Z",
     "iopub.status.busy": "2021-10-06T04:01:38.155419Z",
     "iopub.status.idle": "2021-10-06T04:01:43.719314Z",
     "shell.execute_reply": "2021-10-06T04:01:43.718520Z",
     "shell.execute_reply.started": "2021-10-06T03:59:19.417508Z"
    },
    "papermill": {
     "duration": 5.574155,
     "end_time": "2021-10-06T04:01:43.719460",
     "exception": false,
     "start_time": "2021-10-06T04:01:38.145305",
     "status": "completed"
    },
    "tags": []
   },
   "outputs": [
    {
     "name": "stderr",
     "output_type": "stream",
     "text": [
      "2021-10-06 04:01:39.604378: W tensorflow/stream_executor/platform/default/dso_loader.cc:60] Could not load dynamic library 'libcudart.so.11.0'; dlerror: libcudart.so.11.0: cannot open shared object file: No such file or directory; LD_LIBRARY_PATH: /opt/conda/lib\n",
      "2021-10-06 04:01:39.604485: I tensorflow/stream_executor/cuda/cudart_stub.cc:29] Ignore above cudart dlerror if you do not have a GPU set up on your machine.\n"
     ]
    }
   ],
   "source": [
    "# This Python 3 environment comes with many helpful analytics libraries installed\n",
    "# It is defined by the kaggle/python Docker image: https://github.com/kaggle/docker-python\n",
    "# For example, here's several helpful packages to load\n",
    "\n",
    "import numpy as np # linear algebra\n",
    "import pandas as pd # data processing, CSV file I/O (e.g. pd.read_csv)\n",
    "import matplotlib.pyplot as plt\n",
    "import os\n",
    "from sklearn.model_selection import StratifiedKFold\n",
    "from sklearn.model_selection import train_test_split\n",
    "\n",
    "import tensorflow as tf\n",
    "import tensorflow.keras.layers as tfl\n",
    "from tensorflow.keras.preprocessing import image_dataset_from_directory\n",
    "from tensorflow.keras.layers.experimental.preprocessing import RandomFlip, RandomRotation\n",
    "\n",
    "# Input data files are available in the read-only \"../input/\" directory\n",
    "# For example, running this (by clicking run or pressing Shift+Enter) will list all files under the input directory\n",
    "\n",
    "import os\n",
    "# for dirname, _, filenames in os.walk('/kaggle/input'):\n",
    "#     for filename in filenames:\n",
    "#         print(os.path.join(dirname, filename))\n",
    "\n",
    "# You can write up to 20GB to the current directory (/kaggle/working/) that gets preserved as output when you create a version using \"Save & Run All\" \n",
    "# You can also write temporary files to /kaggle/temp/, but they won't be saved outside of the current session"
   ]
  },
  {
   "cell_type": "code",
   "execution_count": 2,
   "id": "9aeb0e7e",
   "metadata": {
    "execution": {
     "iopub.execute_input": "2021-10-06T04:01:43.735883Z",
     "iopub.status.busy": "2021-10-06T04:01:43.735265Z",
     "iopub.status.idle": "2021-10-06T04:01:43.737688Z",
     "shell.execute_reply": "2021-10-06T04:01:43.737243Z",
     "shell.execute_reply.started": "2021-10-06T03:59:19.674759Z"
    },
    "papermill": {
     "duration": 0.011872,
     "end_time": "2021-10-06T04:01:43.737822",
     "exception": false,
     "start_time": "2021-10-06T04:01:43.725950",
     "status": "completed"
    },
    "tags": []
   },
   "outputs": [],
   "source": [
    "directory = '/kaggle/input/petfinder-pawpularity-score/train/'\n",
    "seed = 42\n",
    "folds = 5"
   ]
  },
  {
   "cell_type": "code",
   "execution_count": 3,
   "id": "52f91a74",
   "metadata": {
    "execution": {
     "iopub.execute_input": "2021-10-06T04:01:43.752517Z",
     "iopub.status.busy": "2021-10-06T04:01:43.751935Z",
     "iopub.status.idle": "2021-10-06T04:01:43.829641Z",
     "shell.execute_reply": "2021-10-06T04:01:43.830122Z",
     "shell.execute_reply.started": "2021-10-06T03:59:19.962234Z"
    },
    "papermill": {
     "duration": 0.087342,
     "end_time": "2021-10-06T04:01:43.830299",
     "exception": false,
     "start_time": "2021-10-06T04:01:43.742957",
     "status": "completed"
    },
    "tags": []
   },
   "outputs": [
    {
     "data": {
      "text/plain": [
       "'/kaggle/input/petfinder-pawpularity-score/train/0007de18844b0dbbb5e1f607da0606e0.jpg'"
      ]
     },
     "execution_count": 3,
     "metadata": {},
     "output_type": "execute_result"
    }
   ],
   "source": [
    "train_df = pd.read_csv('/kaggle/input/petfinder-pawpularity-score/train.csv')\n",
    "train_df['img_path'] = directory + train_df['Id'] + '.jpg'\n",
    "train_df['img_path'].iloc[0]"
   ]
  },
  {
   "cell_type": "code",
   "execution_count": 4,
   "id": "21b1a81c",
   "metadata": {
    "execution": {
     "iopub.execute_input": "2021-10-06T04:01:43.852881Z",
     "iopub.status.busy": "2021-10-06T04:01:43.852282Z",
     "iopub.status.idle": "2021-10-06T04:01:44.205975Z",
     "shell.execute_reply": "2021-10-06T04:01:44.206437Z",
     "shell.execute_reply.started": "2021-10-06T03:59:29.985304Z"
    },
    "papermill": {
     "duration": 0.371006,
     "end_time": "2021-10-06T04:01:44.206606",
     "exception": false,
     "start_time": "2021-10-06T04:01:43.835600",
     "status": "completed"
    },
    "tags": []
   },
   "outputs": [
    {
     "name": "stdout",
     "output_type": "stream",
     "text": [
      "0 [   1    3    4 ... 9909 9910 9911] [   0    2   12 ... 9876 9881 9884]\n",
      "1 [   0    1    2 ... 9908 9909 9911] [   5    6    8 ... 9902 9907 9910]\n",
      "2 [   0    2    3 ... 9908 9909 9910] [   1   11   21 ... 9905 9906 9911]\n",
      "3 [   0    1    2 ... 9909 9910 9911] [   3    9   10 ... 9900 9901 9908]\n",
      "4 [   0    1    2 ... 9908 9910 9911] [   4    7   14 ... 9903 9904 9909]\n"
     ]
    }
   ],
   "source": [
    "def split_dataset(train_df, folds = folds, seed = seed):\n",
    "    x = train_df['img_path']\n",
    "    y = train_df['Pawpularity']/100.00\n",
    "\n",
    "    num_bins = int(np.floor(1 + np.log2(len(y))))\n",
    "    skf = StratifiedKFold(n_splits=folds, shuffle= True, random_state = seed)\n",
    "    bins = pd.cut(y, bins=num_bins, labels=False)\n",
    "    \n",
    "    for fold, (train_idx, val_idx) in enumerate(skf.split(x, bins)):\n",
    "        print(fold, train_idx, val_idx)\n",
    "        X_train, X_val = x.iloc[train_idx], x.iloc[val_idx]\n",
    "        y_train, y_val = y.iloc[train_idx], y.iloc[val_idx]\n",
    "        \n",
    "        train_concat = pd.concat((X_train, y_train), axis=1)\n",
    "        train_concat.to_csv(f'skf_split_train_5cv_fold{fold}.csv')\n",
    "        val_concat = pd.concat((X_val, y_val), axis = 1)\n",
    "        val_concat.to_csv(f'skf_split_val_5cv_fold{fold}.csv')\n",
    "\n",
    "split_dataset(train_df)"
   ]
  },
  {
   "cell_type": "code",
   "execution_count": null,
   "id": "467a9e39",
   "metadata": {
    "papermill": {
     "duration": 0.006257,
     "end_time": "2021-10-06T04:01:44.219461",
     "exception": false,
     "start_time": "2021-10-06T04:01:44.213204",
     "status": "completed"
    },
    "tags": []
   },
   "outputs": [],
   "source": []
  }
 ],
 "metadata": {
  "kernelspec": {
   "display_name": "Python 3",
   "language": "python",
   "name": "python3"
  },
  "language_info": {
   "codemirror_mode": {
    "name": "ipython",
    "version": 3
   },
   "file_extension": ".py",
   "mimetype": "text/x-python",
   "name": "python",
   "nbconvert_exporter": "python",
   "pygments_lexer": "ipython3",
   "version": "3.7.10"
  },
  "papermill": {
   "default_parameters": {},
   "duration": 16.670064,
   "end_time": "2021-10-06T04:01:47.192909",
   "environment_variables": {},
   "exception": null,
   "input_path": "__notebook__.ipynb",
   "output_path": "__notebook__.ipynb",
   "parameters": {},
   "start_time": "2021-10-06T04:01:30.522845",
   "version": "2.3.3"
  }
 },
 "nbformat": 4,
 "nbformat_minor": 5
}
